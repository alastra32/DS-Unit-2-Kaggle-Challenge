{
  "nbformat": 4,
  "nbformat_minor": 0,
  "metadata": {
    "colab": {
      "name": "assignment_kaggle_challenge_1.ipynb",
      "provenance": [],
      "collapsed_sections": [],
      "toc_visible": true,
      "machine_shape": "hm",
      "include_colab_link": true
    },
    "kernelspec": {
      "name": "python3",
      "display_name": "Python 3"
    }
  },
  "cells": [
    {
      "cell_type": "markdown",
      "metadata": {
        "id": "view-in-github",
        "colab_type": "text"
      },
      "source": [
        "<a href=\"https://colab.research.google.com/github/alastra32/DS-Unit-2-Kaggle-Challenge/blob/master/module1/assignment_kaggle_challenge_1.ipynb\" target=\"_parent\"><img src=\"https://colab.research.google.com/assets/colab-badge.svg\" alt=\"Open In Colab\"/></a>"
      ]
    },
    {
      "cell_type": "markdown",
      "metadata": {
        "id": "7IXUfiQ2UKj6",
        "colab_type": "text"
      },
      "source": [
        "Lambda School Data Science, Unit 2: Predictive Modeling\n",
        "\n",
        "# Kaggle Challenge, Module 1\n",
        "\n",
        "## Assignment\n",
        "- [ ] Do train/validate/test split with the Tanzania Waterpumps data.\n",
        "- [ ] Define a function to wrangle train, validate, and test sets in the same way. Clean outliers and engineer features. (For example, [what other columns have zeros and shouldn't?](https://github.com/Quartz/bad-data-guide#zeros-replace-missing-values) What other columns are duplicates, or nearly duplicates? Can you extract the year from date_recorded? Can you engineer new features, such as the number of years from waterpump construction to waterpump inspection?)\n",
        "- [ ] Select features. Use a scikit-learn pipeline to encode categoricals, impute missing values, and fit a decision tree classifier.\n",
        "- [ ] Get your validation accuracy score.\n",
        "- [ ] Get and plot your feature importances.\n",
        "- [ ] Submit your predictions to our Kaggle competition. (Go to our Kaggle InClass competition webpage. Use the blue **Submit Predictions** button to upload your CSV file. Or you can use the Kaggle API to submit your predictions.)\n",
        "- [ ] Commit your notebook to your fork of the GitHub repo.\n",
        "\n",
        "\n",
        "## Stretch Goals\n",
        "\n",
        "### Reading\n",
        "\n",
        "- A Visual Introduction to Machine Learning\n",
        "  - [Part 1: A Decision Tree](http://www.r2d3.us/visual-intro-to-machine-learning-part-1/)\n",
        "  - [Part 2: Bias and Variance](http://www.r2d3.us/visual-intro-to-machine-learning-part-2/)\n",
        "- [Decision Trees: Advantages & Disadvantages](https://christophm.github.io/interpretable-ml-book/tree.html#advantages-2)\n",
        "- [How a Russian mathematician constructed a decision tree — by hand — to solve a medical problem](http://fastml.com/how-a-russian-mathematician-constructed-a-decision-tree-by-hand-to-solve-a-medical-problem/)\n",
        "- [How decision trees work](https://brohrer.github.io/how_decision_trees_work.html)\n",
        "- [Let’s Write a Decision Tree Classifier from Scratch](https://www.youtube.com/watch?v=LDRbO9a6XPU) — _Don’t worry about understanding the code, just get introduced to the concepts. This 10 minute video has excellent diagrams and explanations._\n",
        "- [Random Forests for Complete Beginners: The definitive guide to Random Forests and Decision Trees](https://victorzhou.com/blog/intro-to-random-forests/)\n",
        "\n",
        "\n",
        "### Doing\n",
        "- [ ] Add your own stretch goal(s) !\n",
        "- [ ] Try other [scikit-learn imputers](https://scikit-learn.org/stable/modules/impute.html).\n",
        "- [ ] Try other [scikit-learn scalers](https://scikit-learn.org/stable/modules/preprocessing.html).\n",
        "- [ ] Make exploratory visualizations and share on Slack.\n",
        "\n",
        "\n",
        "#### Exploratory visualizations\n",
        "\n",
        "Visualize the relationships between feature(s) and target. I recommend you do this with your training set, after splitting your data. \n",
        "\n",
        "For this problem, you may want to create a new column to represent the target as a number, 0 or 1. For example:\n",
        "\n",
        "```python\n",
        "train['functional'] = (train['status_group']=='functional').astype(int)\n",
        "```\n",
        "\n",
        "\n",
        "\n",
        "You can try [Seaborn \"Categorical estimate\" plots](https://seaborn.pydata.org/tutorial/categorical.html) for features with reasonably few unique values. (With too many unique values, the plot is unreadable.)\n",
        "\n",
        "- Categorical features. (If there are too many unique values, you can replace less frequent values with \"OTHER.\")\n",
        "- Numeric features. (If there are too many unique values, you can [bin with pandas cut / qcut functions](https://pandas.pydata.org/pandas-docs/stable/getting_started/basics.html?highlight=qcut#discretization-and-quantiling).)\n",
        "\n",
        "You can try [Seaborn linear model plots](https://seaborn.pydata.org/tutorial/regression.html) with numeric features. For this problem, you may want to use the parameter `logistic=True`\n",
        "\n",
        "You do _not_ need to use Seaborn, but it's nice because it includes confidence intervals to visualize uncertainty.\n",
        "\n",
        "#### High-cardinality categoricals\n",
        "\n",
        "This code from a previous assignment demonstrates how to replace less frequent values with 'OTHER'\n",
        "\n",
        "```python\n",
        "# Reduce cardinality for NEIGHBORHOOD feature ...\n",
        "\n",
        "# Get a list of the top 10 neighborhoods\n",
        "top10 = train['NEIGHBORHOOD'].value_counts()[:10].index\n",
        "\n",
        "# At locations where the neighborhood is NOT in the top 10,\n",
        "# replace the neighborhood with 'OTHER'\n",
        "train.loc[~train['NEIGHBORHOOD'].isin(top10), 'NEIGHBORHOOD'] = 'OTHER'\n",
        "test.loc[~test['NEIGHBORHOOD'].isin(top10), 'NEIGHBORHOOD'] = 'OTHER'\n",
        "```\n",
        "\n"
      ]
    },
    {
      "cell_type": "code",
      "metadata": {
        "id": "o9eSnDYhUGD7",
        "colab_type": "code",
        "colab": {
          "base_uri": "https://localhost:8080/",
          "height": 1000
        },
        "outputId": "32eb7e15-94dc-455b-fbb9-e3f0e6618908"
      },
      "source": [
        "# If you're in Colab...\n",
        "import os, sys\n",
        "in_colab = 'google.colab' in sys.modules\n",
        "\n",
        "if in_colab:\n",
        "    # Install required python packages:\n",
        "    # category_encoders, version >= 2.0\n",
        "    # pandas-profiling, version >= 2.0\n",
        "    # plotly, version >= 4.0\n",
        "    !pip install --upgrade category_encoders pandas-profiling plotly\n",
        "    \n",
        "    # Pull files from Github repo\n",
        "    os.chdir('/content')\n",
        "    !git init .\n",
        "    !git remote add origin https://github.com/LambdaSchool/DS-Unit-2-Kaggle-Challenge.git\n",
        "    !git pull origin master\n",
        "    \n",
        "    # Change into directory for module\n",
        "    os.chdir('module1')"
      ],
      "execution_count": 1,
      "outputs": [
        {
          "output_type": "stream",
          "text": [
            "Collecting category_encoders\n",
            "\u001b[?25l  Downloading https://files.pythonhosted.org/packages/6e/a1/f7a22f144f33be78afeb06bfa78478e8284a64263a3c09b1ef54e673841e/category_encoders-2.0.0-py2.py3-none-any.whl (87kB)\n",
            "\u001b[K     |████████████████████████████████| 92kB 3.4MB/s \n",
            "\u001b[?25hCollecting pandas-profiling\n",
            "\u001b[?25l  Downloading https://files.pythonhosted.org/packages/2c/2f/aae19e2173c10a9bb7fee5f5cad35dbe53a393960fc91abc477dcc4661e8/pandas-profiling-2.3.0.tar.gz (127kB)\n",
            "\u001b[K     |████████████████████████████████| 133kB 8.8MB/s \n",
            "\u001b[?25hRequirement already up-to-date: plotly in /usr/local/lib/python3.6/dist-packages (4.1.1)\n",
            "Requirement already satisfied, skipping upgrade: statsmodels>=0.6.1 in /usr/local/lib/python3.6/dist-packages (from category_encoders) (0.10.1)\n",
            "Requirement already satisfied, skipping upgrade: pandas>=0.21.1 in /usr/local/lib/python3.6/dist-packages (from category_encoders) (0.24.2)\n",
            "Requirement already satisfied, skipping upgrade: patsy>=0.4.1 in /usr/local/lib/python3.6/dist-packages (from category_encoders) (0.5.1)\n",
            "Requirement already satisfied, skipping upgrade: scikit-learn>=0.20.0 in /usr/local/lib/python3.6/dist-packages (from category_encoders) (0.21.3)\n",
            "Requirement already satisfied, skipping upgrade: scipy>=0.19.0 in /usr/local/lib/python3.6/dist-packages (from category_encoders) (1.3.1)\n",
            "Requirement already satisfied, skipping upgrade: numpy>=1.11.3 in /usr/local/lib/python3.6/dist-packages (from category_encoders) (1.16.5)\n",
            "Requirement already satisfied, skipping upgrade: matplotlib>=1.4 in /usr/local/lib/python3.6/dist-packages (from pandas-profiling) (3.0.3)\n",
            "Requirement already satisfied, skipping upgrade: jinja2>=2.8 in /usr/local/lib/python3.6/dist-packages (from pandas-profiling) (2.10.1)\n",
            "Requirement already satisfied, skipping upgrade: missingno>=0.4.2 in /usr/local/lib/python3.6/dist-packages (from pandas-profiling) (0.4.2)\n",
            "Collecting htmlmin>=0.1.12 (from pandas-profiling)\n",
            "  Downloading https://files.pythonhosted.org/packages/b3/e7/fcd59e12169de19f0131ff2812077f964c6b960e7c09804d30a7bf2ab461/htmlmin-0.1.12.tar.gz\n",
            "Collecting phik>=0.9.8 (from pandas-profiling)\n",
            "\u001b[?25l  Downloading https://files.pythonhosted.org/packages/45/ad/24a16fa4ba612fb96a3c4bb115a5b9741483f53b66d3d3afd987f20fa227/phik-0.9.8-py3-none-any.whl (606kB)\n",
            "\u001b[K     |████████████████████████████████| 614kB 41.4MB/s \n",
            "\u001b[?25hCollecting confuse>=1.0.0 (from pandas-profiling)\n",
            "  Downloading https://files.pythonhosted.org/packages/4c/6f/90e860cba937c174d8b3775729ccc6377eb91f52ad4eeb008e7252a3646d/confuse-1.0.0.tar.gz\n",
            "Requirement already satisfied, skipping upgrade: astropy in /usr/local/lib/python3.6/dist-packages (from pandas-profiling) (3.0.5)\n",
            "Requirement already satisfied, skipping upgrade: six in /usr/local/lib/python3.6/dist-packages (from plotly) (1.12.0)\n",
            "Requirement already satisfied, skipping upgrade: retrying>=1.3.3 in /usr/local/lib/python3.6/dist-packages (from plotly) (1.3.3)\n",
            "Requirement already satisfied, skipping upgrade: pytz>=2011k in /usr/local/lib/python3.6/dist-packages (from pandas>=0.21.1->category_encoders) (2018.9)\n",
            "Requirement already satisfied, skipping upgrade: python-dateutil>=2.5.0 in /usr/local/lib/python3.6/dist-packages (from pandas>=0.21.1->category_encoders) (2.5.3)\n",
            "Requirement already satisfied, skipping upgrade: joblib>=0.11 in /usr/local/lib/python3.6/dist-packages (from scikit-learn>=0.20.0->category_encoders) (0.13.2)\n",
            "Requirement already satisfied, skipping upgrade: cycler>=0.10 in /usr/local/lib/python3.6/dist-packages (from matplotlib>=1.4->pandas-profiling) (0.10.0)\n",
            "Requirement already satisfied, skipping upgrade: pyparsing!=2.0.4,!=2.1.2,!=2.1.6,>=2.0.1 in /usr/local/lib/python3.6/dist-packages (from matplotlib>=1.4->pandas-profiling) (2.4.2)\n",
            "Requirement already satisfied, skipping upgrade: kiwisolver>=1.0.1 in /usr/local/lib/python3.6/dist-packages (from matplotlib>=1.4->pandas-profiling) (1.1.0)\n",
            "Requirement already satisfied, skipping upgrade: MarkupSafe>=0.23 in /usr/local/lib/python3.6/dist-packages (from jinja2>=2.8->pandas-profiling) (1.1.1)\n",
            "Requirement already satisfied, skipping upgrade: seaborn in /usr/local/lib/python3.6/dist-packages (from missingno>=0.4.2->pandas-profiling) (0.9.0)\n",
            "Collecting pytest-pylint>=0.13.0 (from phik>=0.9.8->pandas-profiling)\n",
            "  Downloading https://files.pythonhosted.org/packages/64/dc/6f35f114844fb12e38d60c4f3d2441a55baff7043ad4e013777dff55746c/pytest_pylint-0.14.1-py3-none-any.whl\n",
            "Requirement already satisfied, skipping upgrade: nbconvert>=5.3.1 in /usr/local/lib/python3.6/dist-packages (from phik>=0.9.8->pandas-profiling) (5.6.0)\n",
            "Requirement already satisfied, skipping upgrade: numba>=0.38.1 in /usr/local/lib/python3.6/dist-packages (from phik>=0.9.8->pandas-profiling) (0.40.1)\n",
            "Collecting pytest>=4.0.2 (from phik>=0.9.8->pandas-profiling)\n",
            "\u001b[?25l  Downloading https://files.pythonhosted.org/packages/2f/19/d5f71752f71451ccc5ed5f6739e9da4a235f38783fdaf3629cae41b2ca7b/pytest-5.1.2-py3-none-any.whl (224kB)\n",
            "\u001b[K     |████████████████████████████████| 225kB 39.1MB/s \n",
            "\u001b[?25hRequirement already satisfied, skipping upgrade: jupyter-client>=5.2.3 in /usr/local/lib/python3.6/dist-packages (from phik>=0.9.8->pandas-profiling) (5.3.1)\n",
            "Requirement already satisfied, skipping upgrade: pyyaml in /usr/local/lib/python3.6/dist-packages (from confuse>=1.0.0->pandas-profiling) (3.13)\n",
            "Requirement already satisfied, skipping upgrade: setuptools in /usr/local/lib/python3.6/dist-packages (from kiwisolver>=1.0.1->matplotlib>=1.4->pandas-profiling) (41.2.0)\n",
            "Collecting pylint>=1.4.5 (from pytest-pylint>=0.13.0->phik>=0.9.8->pandas-profiling)\n",
            "\u001b[?25l  Downloading https://files.pythonhosted.org/packages/60/c2/b3f73f4ac008bef6e75bca4992f3963b3f85942e0277237721ef1c151f0d/pylint-2.3.1-py3-none-any.whl (765kB)\n",
            "\u001b[K     |████████████████████████████████| 768kB 36.1MB/s \n",
            "\u001b[?25hRequirement already satisfied, skipping upgrade: pandocfilters>=1.4.1 in /usr/local/lib/python3.6/dist-packages (from nbconvert>=5.3.1->phik>=0.9.8->pandas-profiling) (1.4.2)\n",
            "Requirement already satisfied, skipping upgrade: testpath in /usr/local/lib/python3.6/dist-packages (from nbconvert>=5.3.1->phik>=0.9.8->pandas-profiling) (0.4.2)\n",
            "Requirement already satisfied, skipping upgrade: bleach in /usr/local/lib/python3.6/dist-packages (from nbconvert>=5.3.1->phik>=0.9.8->pandas-profiling) (3.1.0)\n",
            "Requirement already satisfied, skipping upgrade: pygments in /usr/local/lib/python3.6/dist-packages (from nbconvert>=5.3.1->phik>=0.9.8->pandas-profiling) (2.1.3)\n",
            "Requirement already satisfied, skipping upgrade: mistune<2,>=0.8.1 in /usr/local/lib/python3.6/dist-packages (from nbconvert>=5.3.1->phik>=0.9.8->pandas-profiling) (0.8.4)\n",
            "Requirement already satisfied, skipping upgrade: traitlets>=4.2 in /usr/local/lib/python3.6/dist-packages (from nbconvert>=5.3.1->phik>=0.9.8->pandas-profiling) (4.3.2)\n",
            "Requirement already satisfied, skipping upgrade: entrypoints>=0.2.2 in /usr/local/lib/python3.6/dist-packages (from nbconvert>=5.3.1->phik>=0.9.8->pandas-profiling) (0.3)\n",
            "Requirement already satisfied, skipping upgrade: jupyter-core in /usr/local/lib/python3.6/dist-packages (from nbconvert>=5.3.1->phik>=0.9.8->pandas-profiling) (4.5.0)\n",
            "Requirement already satisfied, skipping upgrade: nbformat>=4.4 in /usr/local/lib/python3.6/dist-packages (from nbconvert>=5.3.1->phik>=0.9.8->pandas-profiling) (4.4.0)\n",
            "Requirement already satisfied, skipping upgrade: defusedxml in /usr/local/lib/python3.6/dist-packages (from nbconvert>=5.3.1->phik>=0.9.8->pandas-profiling) (0.6.0)\n",
            "Requirement already satisfied, skipping upgrade: llvmlite>=0.25.0dev0 in /usr/local/lib/python3.6/dist-packages (from numba>=0.38.1->phik>=0.9.8->pandas-profiling) (0.29.0)\n",
            "Requirement already satisfied, skipping upgrade: py>=1.5.0 in /usr/local/lib/python3.6/dist-packages (from pytest>=4.0.2->phik>=0.9.8->pandas-profiling) (1.8.0)\n",
            "Requirement already satisfied, skipping upgrade: atomicwrites>=1.0 in /usr/local/lib/python3.6/dist-packages (from pytest>=4.0.2->phik>=0.9.8->pandas-profiling) (1.3.0)\n",
            "Requirement already satisfied, skipping upgrade: more-itertools>=4.0.0 in /usr/local/lib/python3.6/dist-packages (from pytest>=4.0.2->phik>=0.9.8->pandas-profiling) (7.2.0)\n",
            "Collecting pluggy<1.0,>=0.12 (from pytest>=4.0.2->phik>=0.9.8->pandas-profiling)\n",
            "  Downloading https://files.pythonhosted.org/packages/92/c7/48439f7d5fd6bddb4c04b850bb862b42e3e2b98570040dfaf68aedd8114b/pluggy-0.13.0-py2.py3-none-any.whl\n",
            "Requirement already satisfied, skipping upgrade: wcwidth in /usr/local/lib/python3.6/dist-packages (from pytest>=4.0.2->phik>=0.9.8->pandas-profiling) (0.1.7)\n",
            "Requirement already satisfied, skipping upgrade: importlib-metadata>=0.12; python_version < \"3.8\" in /usr/local/lib/python3.6/dist-packages (from pytest>=4.0.2->phik>=0.9.8->pandas-profiling) (0.23)\n",
            "Requirement already satisfied, skipping upgrade: packaging in /usr/local/lib/python3.6/dist-packages (from pytest>=4.0.2->phik>=0.9.8->pandas-profiling) (19.1)\n",
            "Requirement already satisfied, skipping upgrade: attrs>=17.4.0 in /usr/local/lib/python3.6/dist-packages (from pytest>=4.0.2->phik>=0.9.8->pandas-profiling) (19.1.0)\n",
            "Requirement already satisfied, skipping upgrade: tornado>=4.1 in /usr/local/lib/python3.6/dist-packages (from jupyter-client>=5.2.3->phik>=0.9.8->pandas-profiling) (4.5.3)\n",
            "Requirement already satisfied, skipping upgrade: pyzmq>=13 in /usr/local/lib/python3.6/dist-packages (from jupyter-client>=5.2.3->phik>=0.9.8->pandas-profiling) (17.0.0)\n",
            "Collecting isort<5,>=4.2.5 (from pylint>=1.4.5->pytest-pylint>=0.13.0->phik>=0.9.8->pandas-profiling)\n",
            "\u001b[?25l  Downloading https://files.pythonhosted.org/packages/e5/b0/c121fd1fa3419ea9bfd55c7f9c4fedfec5143208d8c7ad3ce3db6c623c21/isort-4.3.21-py2.py3-none-any.whl (42kB)\n",
            "\u001b[K     |████████████████████████████████| 51kB 20.7MB/s \n",
            "\u001b[?25hCollecting astroid<3,>=2.2.0 (from pylint>=1.4.5->pytest-pylint>=0.13.0->phik>=0.9.8->pandas-profiling)\n",
            "\u001b[?25l  Downloading https://files.pythonhosted.org/packages/d5/ad/7221a62a2dbce5c3b8c57fd18e1052c7331adc19b3f27f1561aa6e620db2/astroid-2.2.5-py3-none-any.whl (193kB)\n",
            "\u001b[K     |████████████████████████████████| 194kB 44.2MB/s \n",
            "\u001b[?25hCollecting mccabe<0.7,>=0.6 (from pylint>=1.4.5->pytest-pylint>=0.13.0->phik>=0.9.8->pandas-profiling)\n",
            "  Downloading https://files.pythonhosted.org/packages/87/89/479dc97e18549e21354893e4ee4ef36db1d237534982482c3681ee6e7b57/mccabe-0.6.1-py2.py3-none-any.whl\n",
            "Requirement already satisfied, skipping upgrade: webencodings in /usr/local/lib/python3.6/dist-packages (from bleach->nbconvert>=5.3.1->phik>=0.9.8->pandas-profiling) (0.5.1)\n",
            "Requirement already satisfied, skipping upgrade: decorator in /usr/local/lib/python3.6/dist-packages (from traitlets>=4.2->nbconvert>=5.3.1->phik>=0.9.8->pandas-profiling) (4.4.0)\n",
            "Requirement already satisfied, skipping upgrade: ipython-genutils in /usr/local/lib/python3.6/dist-packages (from traitlets>=4.2->nbconvert>=5.3.1->phik>=0.9.8->pandas-profiling) (0.2.0)\n",
            "Requirement already satisfied, skipping upgrade: jsonschema!=2.5.0,>=2.4 in /usr/local/lib/python3.6/dist-packages (from nbformat>=4.4->nbconvert>=5.3.1->phik>=0.9.8->pandas-profiling) (2.6.0)\n",
            "Requirement already satisfied, skipping upgrade: zipp>=0.5 in /usr/local/lib/python3.6/dist-packages (from importlib-metadata>=0.12; python_version < \"3.8\"->pytest>=4.0.2->phik>=0.9.8->pandas-profiling) (0.6.0)\n",
            "Collecting typed-ast>=1.3.0; implementation_name == \"cpython\" (from astroid<3,>=2.2.0->pylint>=1.4.5->pytest-pylint>=0.13.0->phik>=0.9.8->pandas-profiling)\n",
            "\u001b[?25l  Downloading https://files.pythonhosted.org/packages/31/d3/9d1802c161626d0278bafb1ffb32f76b9d01e123881bbf9d91e8ccf28e18/typed_ast-1.4.0-cp36-cp36m-manylinux1_x86_64.whl (736kB)\n",
            "\u001b[K     |████████████████████████████████| 737kB 40.9MB/s \n",
            "\u001b[?25hCollecting lazy-object-proxy (from astroid<3,>=2.2.0->pylint>=1.4.5->pytest-pylint>=0.13.0->phik>=0.9.8->pandas-profiling)\n",
            "\u001b[?25l  Downloading https://files.pythonhosted.org/packages/0e/26/534a6d32572a9dbca11619321535c0a7ab34688545d9d67c2c204b9e3a3d/lazy_object_proxy-1.4.2-cp36-cp36m-manylinux1_x86_64.whl (49kB)\n",
            "\u001b[K     |████████████████████████████████| 51kB 19.1MB/s \n",
            "\u001b[?25hRequirement already satisfied, skipping upgrade: wrapt in /usr/local/lib/python3.6/dist-packages (from astroid<3,>=2.2.0->pylint>=1.4.5->pytest-pylint>=0.13.0->phik>=0.9.8->pandas-profiling) (1.11.2)\n",
            "Building wheels for collected packages: pandas-profiling, htmlmin, confuse\n",
            "  Building wheel for pandas-profiling (setup.py) ... \u001b[?25l\u001b[?25hdone\n",
            "  Created wheel for pandas-profiling: filename=pandas_profiling-2.3.0-py2.py3-none-any.whl size=145035 sha256=5079cc31309c82c2e3ecaadd6117396bf833595374907a6f1c218dad5dab18b3\n",
            "  Stored in directory: /root/.cache/pip/wheels/ce/c7/f1/dbfef4848ebb048cb1d4a22d1ed0c62d8ff2523747235e19fe\n",
            "  Building wheel for htmlmin (setup.py) ... \u001b[?25l\u001b[?25hdone\n",
            "  Created wheel for htmlmin: filename=htmlmin-0.1.12-cp36-none-any.whl size=27084 sha256=465383db6ee4d1cb008dabb9d439f4dab76fec43f6b5f184d9a2fccf0246cb01\n",
            "  Stored in directory: /root/.cache/pip/wheels/43/07/ac/7c5a9d708d65247ac1f94066cf1db075540b85716c30255459\n",
            "  Building wheel for confuse (setup.py) ... \u001b[?25l\u001b[?25hdone\n",
            "  Created wheel for confuse: filename=confuse-1.0.0-cp36-none-any.whl size=17486 sha256=f6c31a2d37cf003157e34e8c55ea6c295f1701b92f59c2a818ffbd5d0aead7f7\n",
            "  Stored in directory: /root/.cache/pip/wheels/b0/b2/96/2074eee7dbf7b7df69d004c9b6ac4e32dad04fb7666cf943bd\n",
            "Successfully built pandas-profiling htmlmin confuse\n",
            "\u001b[31mERROR: datascience 0.10.6 has requirement folium==0.2.1, but you'll have folium 0.8.3 which is incompatible.\u001b[0m\n",
            "Installing collected packages: category-encoders, htmlmin, isort, typed-ast, lazy-object-proxy, astroid, mccabe, pylint, pluggy, pytest, pytest-pylint, phik, confuse, pandas-profiling\n",
            "  Found existing installation: pluggy 0.7.1\n",
            "    Uninstalling pluggy-0.7.1:\n",
            "      Successfully uninstalled pluggy-0.7.1\n",
            "  Found existing installation: pytest 3.6.4\n",
            "    Uninstalling pytest-3.6.4:\n",
            "      Successfully uninstalled pytest-3.6.4\n",
            "  Found existing installation: pandas-profiling 1.4.1\n",
            "    Uninstalling pandas-profiling-1.4.1:\n",
            "      Successfully uninstalled pandas-profiling-1.4.1\n",
            "Successfully installed astroid-2.2.5 category-encoders-2.0.0 confuse-1.0.0 htmlmin-0.1.12 isort-4.3.21 lazy-object-proxy-1.4.2 mccabe-0.6.1 pandas-profiling-2.3.0 phik-0.9.8 pluggy-0.13.0 pylint-2.3.1 pytest-5.1.2 pytest-pylint-0.14.1 typed-ast-1.4.0\n",
            "Initialized empty Git repository in /content/.git/\n",
            "remote: Enumerating objects: 85, done.\u001b[K\n",
            "remote: Total 85 (delta 0), reused 0 (delta 0), pack-reused 85\u001b[K\n",
            "Unpacking objects: 100% (85/85), done.\n",
            "From https://github.com/LambdaSchool/DS-Unit-2-Kaggle-Challenge\n",
            " * branch            master     -> FETCH_HEAD\n",
            " * [new branch]      master     -> origin/master\n"
          ],
          "name": "stdout"
        }
      ]
    },
    {
      "cell_type": "code",
      "metadata": {
        "id": "QJBD4ruICm1m",
        "colab_type": "code",
        "colab": {
          "base_uri": "https://localhost:8080/",
          "height": 34
        },
        "outputId": "4f1c9246-9bd6-42a3-b780-fd3361a4d82f"
      },
      "source": [
        "import pandas as pd\n",
        "from sklearn.model_selection import train_test_split\n",
        "\n",
        "train = pd.merge(pd.read_csv('../data/tanzania/train_features.csv'), \n",
        "                 pd.read_csv('../data/tanzania/train_labels.csv'))\n",
        "test = pd.read_csv('../data/tanzania/test_features.csv')\n",
        "sample_submission = pd.read_csv('../data/tanzania/sample_submission.csv')\n",
        "\n",
        "train.shape, test.shape"
      ],
      "execution_count": 78,
      "outputs": [
        {
          "output_type": "execute_result",
          "data": {
            "text/plain": [
              "((59400, 41), (14358, 40))"
            ]
          },
          "metadata": {
            "tags": []
          },
          "execution_count": 78
        }
      ]
    },
    {
      "cell_type": "code",
      "metadata": {
        "id": "WzJhF0ngZHgS",
        "colab_type": "code",
        "colab": {
          "base_uri": "https://localhost:8080/",
          "height": 731
        },
        "outputId": "491a38b2-4e30-4068-8d8c-301f2d7be826"
      },
      "source": [
        "train.dtypes"
      ],
      "execution_count": 76,
      "outputs": [
        {
          "output_type": "execute_result",
          "data": {
            "text/plain": [
              "id                         int64\n",
              "amount_tsh               float64\n",
              "date_recorded             object\n",
              "funder                    object\n",
              "gps_height                 int64\n",
              "installer                 object\n",
              "longitude                float64\n",
              "latitude                 float64\n",
              "wpt_name                  object\n",
              "num_private                int64\n",
              "basin                     object\n",
              "subvillage                object\n",
              "region                    object\n",
              "region_code                int64\n",
              "district_code              int64\n",
              "lga                       object\n",
              "ward                      object\n",
              "population                 int64\n",
              "public_meeting            object\n",
              "recorded_by               object\n",
              "scheme_management         object\n",
              "scheme_name               object\n",
              "permit                    object\n",
              "construction_year          int64\n",
              "extraction_type           object\n",
              "extraction_type_group     object\n",
              "extraction_type_class     object\n",
              "management                object\n",
              "management_group          object\n",
              "payment                   object\n",
              "payment_type              object\n",
              "water_quality             object\n",
              "quality_group             object\n",
              "quantity                  object\n",
              "quantity_group            object\n",
              "source                    object\n",
              "source_type               object\n",
              "source_class              object\n",
              "waterpoint_type           object\n",
              "waterpoint_type_group     object\n",
              "status_group              object\n",
              "dtype: object"
            ]
          },
          "metadata": {
            "tags": []
          },
          "execution_count": 76
        }
      ]
    },
    {
      "cell_type": "markdown",
      "metadata": {
        "id": "xcJYndprSnpe",
        "colab_type": "text"
      },
      "source": [
        " Do train/validate/test split with the Tanzania Waterpumps data."
      ]
    },
    {
      "cell_type": "code",
      "metadata": {
        "id": "Jx-yP-fpSoNu",
        "colab_type": "code",
        "colab": {
          "base_uri": "https://localhost:8080/",
          "height": 34
        },
        "outputId": "e5979950-40b8-4fc3-f1b7-de965c1905d1"
      },
      "source": [
        "# Split train into train & val\n",
        "train, val = train_test_split(train, train_size=0.80, test_size=0.20, \n",
        "                              stratify=train['status_group'], random_state=32)\n",
        "\n",
        "train.shape, val.shape, test.shape"
      ],
      "execution_count": 79,
      "outputs": [
        {
          "output_type": "execute_result",
          "data": {
            "text/plain": [
              "((47520, 41), (11880, 41), (14358, 40))"
            ]
          },
          "metadata": {
            "tags": []
          },
          "execution_count": 79
        }
      ]
    },
    {
      "cell_type": "markdown",
      "metadata": {
        "id": "GWaDpe0xTLgd",
        "colab_type": "text"
      },
      "source": [
        "Define a function to wrangle train, validate, and test sets in the same way. Clean outliers and engineer features. (For example, what other columns have zeros and shouldn't? What other columns are duplicates, or nearly duplicates? Can you extract the year from date_recorded? Can you engineer new features, such as the number of years from waterpump construction to waterpump inspection?)"
      ]
    },
    {
      "cell_type": "code",
      "metadata": {
        "id": "TRt6ZXkhS4A1",
        "colab_type": "code",
        "colab": {}
      },
      "source": [
        "import numpy as np\n",
        "\n",
        "def wrangle(X):\n",
        "    \"\"\"Wrangle train, validate, and test sets in the same way\"\"\"\n",
        "    \n",
        "    # Creating a new instance\n",
        "    X = X.copy()\n",
        "    \n",
        "#dealing with the latitude \n",
        "    X['latitude'] = X['latitude'].replace(-2e-08, 0)\n",
        "    \n",
        "    #cleaning zeros with null values\n",
        "    cols_with_zeros = ['longitude', 'latitude']\n",
        "    for col in cols_with_zeros:\n",
        "        X[col] = X[col].replace(0, np.nan)\n",
        "            \n",
        "    # dropping duplicate\n",
        "    X = X.drop(columns='quantity_group')\n",
        "    #engineering new feature\n",
        "    X['date_recorded_1']=pd.to_datetime(X['date_recorded'], infer_datetime_format = True)\n",
        "    X['num_years_to_inspection']=X['construction_year']-X['date_recorded_1'].dt.year \n",
        "    \n",
        "    # Reduce cardinality for Installer feature ...\n",
        "    top = X['funder'].value_counts()[:110].index\n",
        "    X.loc[~X['funder'].isin(top), 'funder'] = 'OTHER'\n",
        "   \n",
        "   \n",
        "   \n",
        "    # Reduce cardinality for Installer feature ...\n",
        "    top = X['installer'].value_counts()[:125].index\n",
        "    X.loc[~X['installer'].isin(top), 'installer'] = 'OTHER'\n",
        "\n",
        "    return X\n",
        "\n",
        "\n",
        "train = wrangle(train)\n",
        "val = wrangle(val)\n",
        "test = wrangle(test)"
      ],
      "execution_count": 0,
      "outputs": []
    },
    {
      "cell_type": "code",
      "metadata": {
        "id": "TQh9ekpDrWTe",
        "colab_type": "code",
        "colab": {}
      },
      "source": [
        ""
      ],
      "execution_count": 0,
      "outputs": []
    },
    {
      "cell_type": "markdown",
      "metadata": {
        "id": "dnVT0BTEaJuV",
        "colab_type": "text"
      },
      "source": [
        "Select features. Use a scikit-learn pipeline to encode categoricals, impute missing values, and fit a decision tree classifier."
      ]
    },
    {
      "cell_type": "code",
      "metadata": {
        "id": "zx0pb2UUaaSL",
        "colab_type": "code",
        "colab": {
          "base_uri": "https://localhost:8080/",
          "height": 1000
        },
        "outputId": "543a81fc-b95e-4558-ccd8-e04df409ede9"
      },
      "source": [
        "train.describe(exclude = 'number').T.sort_values(by = 'unique')"
      ],
      "execution_count": 81,
      "outputs": [
        {
          "output_type": "execute_result",
          "data": {
            "text/html": [
              "<div>\n",
              "<style scoped>\n",
              "    .dataframe tbody tr th:only-of-type {\n",
              "        vertical-align: middle;\n",
              "    }\n",
              "\n",
              "    .dataframe tbody tr th {\n",
              "        vertical-align: top;\n",
              "    }\n",
              "\n",
              "    .dataframe thead th {\n",
              "        text-align: right;\n",
              "    }\n",
              "</style>\n",
              "<table border=\"1\" class=\"dataframe\">\n",
              "  <thead>\n",
              "    <tr style=\"text-align: right;\">\n",
              "      <th></th>\n",
              "      <th>count</th>\n",
              "      <th>unique</th>\n",
              "      <th>top</th>\n",
              "      <th>freq</th>\n",
              "      <th>first</th>\n",
              "      <th>last</th>\n",
              "    </tr>\n",
              "  </thead>\n",
              "  <tbody>\n",
              "    <tr>\n",
              "      <th>recorded_by</th>\n",
              "      <td>47520</td>\n",
              "      <td>1</td>\n",
              "      <td>GeoData Consultants Ltd</td>\n",
              "      <td>47520</td>\n",
              "      <td>NaN</td>\n",
              "      <td>NaN</td>\n",
              "    </tr>\n",
              "    <tr>\n",
              "      <th>public_meeting</th>\n",
              "      <td>44859</td>\n",
              "      <td>2</td>\n",
              "      <td>True</td>\n",
              "      <td>40815</td>\n",
              "      <td>NaN</td>\n",
              "      <td>NaN</td>\n",
              "    </tr>\n",
              "    <tr>\n",
              "      <th>permit</th>\n",
              "      <td>45062</td>\n",
              "      <td>2</td>\n",
              "      <td>True</td>\n",
              "      <td>31070</td>\n",
              "      <td>NaN</td>\n",
              "      <td>NaN</td>\n",
              "    </tr>\n",
              "    <tr>\n",
              "      <th>source_class</th>\n",
              "      <td>47520</td>\n",
              "      <td>3</td>\n",
              "      <td>groundwater</td>\n",
              "      <td>36651</td>\n",
              "      <td>NaN</td>\n",
              "      <td>NaN</td>\n",
              "    </tr>\n",
              "    <tr>\n",
              "      <th>status_group</th>\n",
              "      <td>47520</td>\n",
              "      <td>3</td>\n",
              "      <td>functional</td>\n",
              "      <td>25807</td>\n",
              "      <td>NaN</td>\n",
              "      <td>NaN</td>\n",
              "    </tr>\n",
              "    <tr>\n",
              "      <th>management_group</th>\n",
              "      <td>47520</td>\n",
              "      <td>5</td>\n",
              "      <td>user-group</td>\n",
              "      <td>41984</td>\n",
              "      <td>NaN</td>\n",
              "      <td>NaN</td>\n",
              "    </tr>\n",
              "    <tr>\n",
              "      <th>quantity</th>\n",
              "      <td>47520</td>\n",
              "      <td>5</td>\n",
              "      <td>enough</td>\n",
              "      <td>26507</td>\n",
              "      <td>NaN</td>\n",
              "      <td>NaN</td>\n",
              "    </tr>\n",
              "    <tr>\n",
              "      <th>quality_group</th>\n",
              "      <td>47520</td>\n",
              "      <td>6</td>\n",
              "      <td>good</td>\n",
              "      <td>40630</td>\n",
              "      <td>NaN</td>\n",
              "      <td>NaN</td>\n",
              "    </tr>\n",
              "    <tr>\n",
              "      <th>waterpoint_type_group</th>\n",
              "      <td>47520</td>\n",
              "      <td>6</td>\n",
              "      <td>communal standpipe</td>\n",
              "      <td>27695</td>\n",
              "      <td>NaN</td>\n",
              "      <td>NaN</td>\n",
              "    </tr>\n",
              "    <tr>\n",
              "      <th>source_type</th>\n",
              "      <td>47520</td>\n",
              "      <td>7</td>\n",
              "      <td>spring</td>\n",
              "      <td>13625</td>\n",
              "      <td>NaN</td>\n",
              "      <td>NaN</td>\n",
              "    </tr>\n",
              "    <tr>\n",
              "      <th>waterpoint_type</th>\n",
              "      <td>47520</td>\n",
              "      <td>7</td>\n",
              "      <td>communal standpipe</td>\n",
              "      <td>22824</td>\n",
              "      <td>NaN</td>\n",
              "      <td>NaN</td>\n",
              "    </tr>\n",
              "    <tr>\n",
              "      <th>payment_type</th>\n",
              "      <td>47520</td>\n",
              "      <td>7</td>\n",
              "      <td>never pay</td>\n",
              "      <td>20224</td>\n",
              "      <td>NaN</td>\n",
              "      <td>NaN</td>\n",
              "    </tr>\n",
              "    <tr>\n",
              "      <th>payment</th>\n",
              "      <td>47520</td>\n",
              "      <td>7</td>\n",
              "      <td>never pay</td>\n",
              "      <td>20224</td>\n",
              "      <td>NaN</td>\n",
              "      <td>NaN</td>\n",
              "    </tr>\n",
              "    <tr>\n",
              "      <th>extraction_type_class</th>\n",
              "      <td>47520</td>\n",
              "      <td>7</td>\n",
              "      <td>gravity</td>\n",
              "      <td>21437</td>\n",
              "      <td>NaN</td>\n",
              "      <td>NaN</td>\n",
              "    </tr>\n",
              "    <tr>\n",
              "      <th>water_quality</th>\n",
              "      <td>47520</td>\n",
              "      <td>8</td>\n",
              "      <td>soft</td>\n",
              "      <td>40630</td>\n",
              "      <td>NaN</td>\n",
              "      <td>NaN</td>\n",
              "    </tr>\n",
              "    <tr>\n",
              "      <th>basin</th>\n",
              "      <td>47520</td>\n",
              "      <td>9</td>\n",
              "      <td>Lake Victoria</td>\n",
              "      <td>8126</td>\n",
              "      <td>NaN</td>\n",
              "      <td>NaN</td>\n",
              "    </tr>\n",
              "    <tr>\n",
              "      <th>source</th>\n",
              "      <td>47520</td>\n",
              "      <td>10</td>\n",
              "      <td>spring</td>\n",
              "      <td>13625</td>\n",
              "      <td>NaN</td>\n",
              "      <td>NaN</td>\n",
              "    </tr>\n",
              "    <tr>\n",
              "      <th>management</th>\n",
              "      <td>47520</td>\n",
              "      <td>12</td>\n",
              "      <td>vwc</td>\n",
              "      <td>32345</td>\n",
              "      <td>NaN</td>\n",
              "      <td>NaN</td>\n",
              "    </tr>\n",
              "    <tr>\n",
              "      <th>scheme_management</th>\n",
              "      <td>44432</td>\n",
              "      <td>12</td>\n",
              "      <td>VWC</td>\n",
              "      <td>29397</td>\n",
              "      <td>NaN</td>\n",
              "      <td>NaN</td>\n",
              "    </tr>\n",
              "    <tr>\n",
              "      <th>extraction_type_group</th>\n",
              "      <td>47520</td>\n",
              "      <td>13</td>\n",
              "      <td>gravity</td>\n",
              "      <td>21437</td>\n",
              "      <td>NaN</td>\n",
              "      <td>NaN</td>\n",
              "    </tr>\n",
              "    <tr>\n",
              "      <th>extraction_type</th>\n",
              "      <td>47520</td>\n",
              "      <td>18</td>\n",
              "      <td>gravity</td>\n",
              "      <td>21437</td>\n",
              "      <td>NaN</td>\n",
              "      <td>NaN</td>\n",
              "    </tr>\n",
              "    <tr>\n",
              "      <th>region</th>\n",
              "      <td>47520</td>\n",
              "      <td>21</td>\n",
              "      <td>Iringa</td>\n",
              "      <td>4278</td>\n",
              "      <td>NaN</td>\n",
              "      <td>NaN</td>\n",
              "    </tr>\n",
              "    <tr>\n",
              "      <th>funder</th>\n",
              "      <td>47520</td>\n",
              "      <td>111</td>\n",
              "      <td>OTHER</td>\n",
              "      <td>11632</td>\n",
              "      <td>NaN</td>\n",
              "      <td>NaN</td>\n",
              "    </tr>\n",
              "    <tr>\n",
              "      <th>lga</th>\n",
              "      <td>47520</td>\n",
              "      <td>125</td>\n",
              "      <td>Njombe</td>\n",
              "      <td>2062</td>\n",
              "      <td>NaN</td>\n",
              "      <td>NaN</td>\n",
              "    </tr>\n",
              "    <tr>\n",
              "      <th>installer</th>\n",
              "      <td>47520</td>\n",
              "      <td>126</td>\n",
              "      <td>DWE</td>\n",
              "      <td>13949</td>\n",
              "      <td>NaN</td>\n",
              "      <td>NaN</td>\n",
              "    </tr>\n",
              "    <tr>\n",
              "      <th>date_recorded</th>\n",
              "      <td>47520</td>\n",
              "      <td>345</td>\n",
              "      <td>2011-03-15</td>\n",
              "      <td>463</td>\n",
              "      <td>NaN</td>\n",
              "      <td>NaN</td>\n",
              "    </tr>\n",
              "    <tr>\n",
              "      <th>date_recorded_1</th>\n",
              "      <td>47520</td>\n",
              "      <td>345</td>\n",
              "      <td>2011-03-15 00:00:00</td>\n",
              "      <td>463</td>\n",
              "      <td>2002-10-14 00:00:00</td>\n",
              "      <td>2013-12-03 00:00:00</td>\n",
              "    </tr>\n",
              "    <tr>\n",
              "      <th>ward</th>\n",
              "      <td>47520</td>\n",
              "      <td>2082</td>\n",
              "      <td>Igosi</td>\n",
              "      <td>247</td>\n",
              "      <td>NaN</td>\n",
              "      <td>NaN</td>\n",
              "    </tr>\n",
              "    <tr>\n",
              "      <th>scheme_name</th>\n",
              "      <td>24999</td>\n",
              "      <td>2550</td>\n",
              "      <td>K</td>\n",
              "      <td>530</td>\n",
              "      <td>NaN</td>\n",
              "      <td>NaN</td>\n",
              "    </tr>\n",
              "    <tr>\n",
              "      <th>subvillage</th>\n",
              "      <td>47234</td>\n",
              "      <td>17210</td>\n",
              "      <td>Madukani</td>\n",
              "      <td>419</td>\n",
              "      <td>NaN</td>\n",
              "      <td>NaN</td>\n",
              "    </tr>\n",
              "    <tr>\n",
              "      <th>wpt_name</th>\n",
              "      <td>47520</td>\n",
              "      <td>30715</td>\n",
              "      <td>none</td>\n",
              "      <td>2853</td>\n",
              "      <td>NaN</td>\n",
              "      <td>NaN</td>\n",
              "    </tr>\n",
              "  </tbody>\n",
              "</table>\n",
              "</div>"
            ],
            "text/plain": [
              "                       count unique  ...                first                 last\n",
              "recorded_by            47520      1  ...                  NaN                  NaN\n",
              "public_meeting         44859      2  ...                  NaN                  NaN\n",
              "permit                 45062      2  ...                  NaN                  NaN\n",
              "source_class           47520      3  ...                  NaN                  NaN\n",
              "status_group           47520      3  ...                  NaN                  NaN\n",
              "management_group       47520      5  ...                  NaN                  NaN\n",
              "quantity               47520      5  ...                  NaN                  NaN\n",
              "quality_group          47520      6  ...                  NaN                  NaN\n",
              "waterpoint_type_group  47520      6  ...                  NaN                  NaN\n",
              "source_type            47520      7  ...                  NaN                  NaN\n",
              "waterpoint_type        47520      7  ...                  NaN                  NaN\n",
              "payment_type           47520      7  ...                  NaN                  NaN\n",
              "payment                47520      7  ...                  NaN                  NaN\n",
              "extraction_type_class  47520      7  ...                  NaN                  NaN\n",
              "water_quality          47520      8  ...                  NaN                  NaN\n",
              "basin                  47520      9  ...                  NaN                  NaN\n",
              "source                 47520     10  ...                  NaN                  NaN\n",
              "management             47520     12  ...                  NaN                  NaN\n",
              "scheme_management      44432     12  ...                  NaN                  NaN\n",
              "extraction_type_group  47520     13  ...                  NaN                  NaN\n",
              "extraction_type        47520     18  ...                  NaN                  NaN\n",
              "region                 47520     21  ...                  NaN                  NaN\n",
              "funder                 47520    111  ...                  NaN                  NaN\n",
              "lga                    47520    125  ...                  NaN                  NaN\n",
              "installer              47520    126  ...                  NaN                  NaN\n",
              "date_recorded          47520    345  ...                  NaN                  NaN\n",
              "date_recorded_1        47520    345  ...  2002-10-14 00:00:00  2013-12-03 00:00:00\n",
              "ward                   47520   2082  ...                  NaN                  NaN\n",
              "scheme_name            24999   2550  ...                  NaN                  NaN\n",
              "subvillage             47234  17210  ...                  NaN                  NaN\n",
              "wpt_name               47520  30715  ...                  NaN                  NaN\n",
              "\n",
              "[31 rows x 6 columns]"
            ]
          },
          "metadata": {
            "tags": []
          },
          "execution_count": 81
        }
      ]
    },
    {
      "cell_type": "code",
      "metadata": {
        "id": "ogiWKrntZwI5",
        "colab_type": "code",
        "colab": {
          "base_uri": "https://localhost:8080/",
          "height": 54
        },
        "outputId": "06d254c6-e285-4a8d-8f24-3cbefc93dd49"
      },
      "source": [
        "# The status_group column is the target\n",
        "target = 'status_group'\n",
        "\n",
        "# Get a dataframe with all train columns except the columns we don't need\n",
        "train_features = train.drop(columns=[target, 'date_recorded_1','recorded_by','id'])\n",
        "\n",
        "# Get a list of the numeric features\n",
        "numeric_features = train_features.select_dtypes(include='number').columns.tolist()\n",
        "\n",
        "# Get a series with the cardinality of the nonnumeric features\n",
        "cardinality = train_features.select_dtypes(exclude='number').nunique()\n",
        "\n",
        "# Get a list of all categorical features with cardinality <= 350\n",
        "categorical_features = cardinality[cardinality <= 350].index.tolist()\n",
        "\n",
        "# Combine the lists \n",
        "features = numeric_features + categorical_features\n",
        "print(features)"
      ],
      "execution_count": 82,
      "outputs": [
        {
          "output_type": "stream",
          "text": [
            "['amount_tsh', 'gps_height', 'longitude', 'latitude', 'num_private', 'region_code', 'district_code', 'population', 'construction_year', 'num_years_to_inspection', 'date_recorded', 'funder', 'installer', 'basin', 'region', 'lga', 'public_meeting', 'scheme_management', 'permit', 'extraction_type', 'extraction_type_group', 'extraction_type_class', 'management', 'management_group', 'payment', 'payment_type', 'water_quality', 'quality_group', 'quantity', 'source', 'source_type', 'source_class', 'waterpoint_type', 'waterpoint_type_group']\n"
          ],
          "name": "stdout"
        }
      ]
    },
    {
      "cell_type": "code",
      "metadata": {
        "id": "YETIL-WXaPkn",
        "colab_type": "code",
        "colab": {}
      },
      "source": [
        "# Arrange data into X features matrix and y target vector \n",
        "X_train = train[features]\n",
        "y_train = train[target]\n",
        "X_val = val[features]\n",
        "y_val = val[target]\n",
        "X_test = test[features]"
      ],
      "execution_count": 0,
      "outputs": []
    },
    {
      "cell_type": "code",
      "metadata": {
        "id": "_rWs5Q1HbHOk",
        "colab_type": "code",
        "colab": {
          "base_uri": "https://localhost:8080/",
          "height": 68
        },
        "outputId": "c74870b7-a837-4e7d-e53c-c3f113580961"
      },
      "source": [
        "import category_encoders as ce\n",
        "from sklearn.impute import SimpleImputer\n",
        "from sklearn.tree import DecisionTreeClassifier\n",
        "from sklearn.pipeline import make_pipeline\n",
        "\n",
        "pipeline = make_pipeline (\n",
        "    ce.OneHotEncoder(use_cat_names=True),\n",
        "    SimpleImputer(),\n",
        "    DecisionTreeClassifier(max_depth=24,min_samples_leaf=6, random_state=32)\n",
        ")\n",
        "\n",
        "pipeline.fit(X_train, y_train)\n",
        "print ('Training Accuracy', pipeline.score(X_train, y_train))\n",
        "print ('Validation Accuracy', pipeline.score(X_val, y_val))\n",
        "print('Vs Baseline',pipeline.score(X_val, y_val)- 0.7827441077441077)\n",
        "y_pred = pipeline.predict(X_test)"
      ],
      "execution_count": 92,
      "outputs": [
        {
          "output_type": "stream",
          "text": [
            "Training Accuracy 0.853577441077441\n",
            "Validation Accuracy 0.7827441077441077\n",
            "Vs Baseline 0.0\n"
          ],
          "name": "stdout"
        }
      ]
    },
    {
      "cell_type": "code",
      "metadata": {
        "id": "UJFRWc9GmWrE",
        "colab_type": "code",
        "colab": {
          "base_uri": "https://localhost:8080/",
          "height": 34
        },
        "outputId": "15afa816-17dc-4d49-f95d-5ae0cb7e3f94"
      },
      "source": [
        "0.7827441077441077"
      ],
      "execution_count": 89,
      "outputs": [
        {
          "output_type": "execute_result",
          "data": {
            "text/plain": [
              "0.7827441077441077"
            ]
          },
          "metadata": {
            "tags": []
          },
          "execution_count": 89
        }
      ]
    },
    {
      "cell_type": "markdown",
      "metadata": {
        "id": "e8fB6lXzmQxQ",
        "colab_type": "text"
      },
      "source": [
        "Get and plot your feature importances."
      ]
    },
    {
      "cell_type": "code",
      "metadata": {
        "id": "tX-QMPjPhR3G",
        "colab_type": "code",
        "colab": {
          "base_uri": "https://localhost:8080/",
          "height": 323
        },
        "outputId": "09bec9a5-d850-44bd-a841-4d5efa7643d5"
      },
      "source": [
        "pipeline.named_steps"
      ],
      "execution_count": 30,
      "outputs": [
        {
          "output_type": "execute_result",
          "data": {
            "text/plain": [
              "{'decisiontreeclassifier': DecisionTreeClassifier(class_weight=None, criterion='gini', max_depth=24,\n",
              "                        max_features=None, max_leaf_nodes=None,\n",
              "                        min_impurity_decrease=0.0, min_impurity_split=None,\n",
              "                        min_samples_leaf=5, min_samples_split=2,\n",
              "                        min_weight_fraction_leaf=0.0, presort=False,\n",
              "                        random_state=32, splitter='best'),\n",
              " 'onehotencoder': OneHotEncoder(cols=['date_recorded', 'basin', 'region', 'lga', 'public_meeting',\n",
              "                     'recorded_by', 'scheme_management', 'permit',\n",
              "                     'extraction_type', 'extraction_type_group',\n",
              "                     'extraction_type_class', 'management', 'management_group',\n",
              "                     'payment', 'payment_type', 'water_quality', 'quality_group',\n",
              "                     'quantity', 'source', 'source_type', 'source_class',\n",
              "                     'waterpoint_type', 'waterpoint_type_group'],\n",
              "               drop_invariant=False, handle_missing='value',\n",
              "               handle_unknown='value', return_df=True, use_cat_names=True,\n",
              "               verbose=0),\n",
              " 'simpleimputer': SimpleImputer(add_indicator=False, copy=True, fill_value=None,\n",
              "               missing_values=nan, strategy='mean', verbose=0)}"
            ]
          },
          "metadata": {
            "tags": []
          },
          "execution_count": 30
        }
      ]
    },
    {
      "cell_type": "code",
      "metadata": {
        "id": "6by_1zLCnJvi",
        "colab_type": "code",
        "colab": {
          "base_uri": "https://localhost:8080/",
          "height": 654
        },
        "outputId": "d8c8f04a-296b-42e4-b46d-a0bfeabba23a"
      },
      "source": [
        "# Plot tree\n",
        "# https://scikit-learn.org/stable/modules/generated/sklearn.tree.export_graphviz.html\n",
        "# Plot tree\n",
        "# https://scikit-learn.org/stable/modules/generated/sklearn.tree.export_graphviz.html\n",
        "import graphviz\n",
        "from sklearn.tree import export_graphviz\n",
        "\n",
        "pipeline = make_pipeline(\n",
        "    \n",
        "    ce.OneHotEncoder(use_cat_names=True),\n",
        "    SimpleImputer(),\n",
        "    DecisionTreeClassifier(max_depth=15, random_state=42)\n",
        "\n",
        ")\n",
        "pipeline.fit(X_train, y_train)\n",
        "\n",
        "\n",
        "model = pipeline.named_steps['decisiontreeclassifier']\n",
        "encoder = pipeline.named_steps['onehotencoder']\n",
        "encoded_columns = encoder.transform(X_val).columns\n",
        "\n",
        "dot_data = export_graphviz(model, \n",
        "                           out_file=None, \n",
        "                           max_depth=3, \n",
        "                           feature_names=encoded_columns,\n",
        "                           class_names=model.classes_, \n",
        "                           impurity=False, \n",
        "                           filled=True, \n",
        "                           proportion=True, \n",
        "                           rounded=True)   \n",
        "display(graphviz.Source(dot_data))"
      ],
      "execution_count": 93,
      "outputs": [
        {
          "output_type": "display_data",
          "data": {
            "text/plain": [
              "<graphviz.files.Source at 0x7f0825ba9080>"
            ],
            "image/svg+xml": "<?xml version=\"1.0\" encoding=\"UTF-8\" standalone=\"no\"?>\n<!DOCTYPE svg PUBLIC \"-//W3C//DTD SVG 1.1//EN\"\n \"http://www.w3.org/Graphics/SVG/1.1/DTD/svg11.dtd\">\n<!-- Generated by graphviz version 2.40.1 (20161225.0304)\n -->\n<!-- Title: Tree Pages: 1 -->\n<svg width=\"1829pt\" height=\"460pt\"\n viewBox=\"0.00 0.00 1829.00 460.00\" xmlns=\"http://www.w3.org/2000/svg\" xmlns:xlink=\"http://www.w3.org/1999/xlink\">\n<g id=\"graph0\" class=\"graph\" transform=\"scale(1 1) rotate(0) translate(4 456)\">\n<title>Tree</title>\n<polygon fill=\"#ffffff\" stroke=\"transparent\" points=\"-4,4 -4,-456 1825,-456 1825,4 -4,4\"/>\n<!-- 0 -->\n<g id=\"node1\" class=\"node\">\n<title>0</title>\n<path fill=\"#f8decc\" stroke=\"#000000\" d=\"M996,-452C996,-452 820,-452 820,-452 814,-452 808,-446 808,-440 808,-440 808,-396 808,-396 808,-390 814,-384 820,-384 820,-384 996,-384 996,-384 1002,-384 1008,-390 1008,-396 1008,-396 1008,-440 1008,-440 1008,-446 1002,-452 996,-452\"/>\n<text text-anchor=\"middle\" x=\"908\" y=\"-436.8\" font-family=\"Helvetica,sans-Serif\" font-size=\"14.00\" fill=\"#000000\">quantity_dry &lt;= 0.5</text>\n<text text-anchor=\"middle\" x=\"908\" y=\"-421.8\" font-family=\"Helvetica,sans-Serif\" font-size=\"14.00\" fill=\"#000000\">samples = 100.0%</text>\n<text text-anchor=\"middle\" x=\"908\" y=\"-406.8\" font-family=\"Helvetica,sans-Serif\" font-size=\"14.00\" fill=\"#000000\">value = [0.543, 0.073, 0.384]</text>\n<text text-anchor=\"middle\" x=\"908\" y=\"-391.8\" font-family=\"Helvetica,sans-Serif\" font-size=\"14.00\" fill=\"#000000\">class = functional</text>\n</g>\n<!-- 1 -->\n<g id=\"node2\" class=\"node\">\n<title>1</title>\n<path fill=\"#f4caab\" stroke=\"#000000\" d=\"M785.5,-348C785.5,-348 604.5,-348 604.5,-348 598.5,-348 592.5,-342 592.5,-336 592.5,-336 592.5,-292 592.5,-292 592.5,-286 598.5,-280 604.5,-280 604.5,-280 785.5,-280 785.5,-280 791.5,-280 797.5,-286 797.5,-292 797.5,-292 797.5,-336 797.5,-336 797.5,-342 791.5,-348 785.5,-348\"/>\n<text text-anchor=\"middle\" x=\"695\" y=\"-332.8\" font-family=\"Helvetica,sans-Serif\" font-size=\"14.00\" fill=\"#000000\">waterpoint_type_other &lt;= 0.5</text>\n<text text-anchor=\"middle\" x=\"695\" y=\"-317.8\" font-family=\"Helvetica,sans-Serif\" font-size=\"14.00\" fill=\"#000000\">samples = 89.5%</text>\n<text text-anchor=\"middle\" x=\"695\" y=\"-302.8\" font-family=\"Helvetica,sans-Serif\" font-size=\"14.00\" fill=\"#000000\">value = [0.604, 0.081, 0.315]</text>\n<text text-anchor=\"middle\" x=\"695\" y=\"-287.8\" font-family=\"Helvetica,sans-Serif\" font-size=\"14.00\" fill=\"#000000\">class = functional</text>\n</g>\n<!-- 0&#45;&gt;1 -->\n<g id=\"edge1\" class=\"edge\">\n<title>0&#45;&gt;1</title>\n<path fill=\"none\" stroke=\"#000000\" d=\"M838.2558,-383.9465C817.7524,-373.9354 795.1773,-362.9129 774.1318,-352.6371\"/>\n<polygon fill=\"#000000\" stroke=\"#000000\" points=\"775.4226,-349.3725 764.9009,-348.13 772.3513,-355.6627 775.4226,-349.3725\"/>\n<text text-anchor=\"middle\" x=\"773.0299\" y=\"-368.0714\" font-family=\"Helvetica,sans-Serif\" font-size=\"14.00\" fill=\"#000000\">True</text>\n</g>\n<!-- 2826 -->\n<g id=\"node17\" class=\"node\">\n<title>2826</title>\n<path fill=\"#853fe6\" stroke=\"#000000\" d=\"M1240,-348C1240,-348 1064,-348 1064,-348 1058,-348 1052,-342 1052,-336 1052,-336 1052,-292 1052,-292 1052,-286 1058,-280 1064,-280 1064,-280 1240,-280 1240,-280 1246,-280 1252,-286 1252,-292 1252,-292 1252,-336 1252,-336 1252,-342 1246,-348 1240,-348\"/>\n<text text-anchor=\"middle\" x=\"1152\" y=\"-332.8\" font-family=\"Helvetica,sans-Serif\" font-size=\"14.00\" fill=\"#000000\">lga_Shinyanga Rural &lt;= 0.5</text>\n<text text-anchor=\"middle\" x=\"1152\" y=\"-317.8\" font-family=\"Helvetica,sans-Serif\" font-size=\"14.00\" fill=\"#000000\">samples = 10.5%</text>\n<text text-anchor=\"middle\" x=\"1152\" y=\"-302.8\" font-family=\"Helvetica,sans-Serif\" font-size=\"14.00\" fill=\"#000000\">value = [0.025, 0.006, 0.969]</text>\n<text text-anchor=\"middle\" x=\"1152\" y=\"-287.8\" font-family=\"Helvetica,sans-Serif\" font-size=\"14.00\" fill=\"#000000\">class = non functional</text>\n</g>\n<!-- 0&#45;&gt;2826 -->\n<g id=\"edge16\" class=\"edge\">\n<title>0&#45;&gt;2826</title>\n<path fill=\"none\" stroke=\"#000000\" d=\"M987.8947,-383.9465C1011.8035,-373.7559 1038.1714,-362.5171 1062.647,-352.0849\"/>\n<polygon fill=\"#000000\" stroke=\"#000000\" points=\"1064.0989,-355.2708 1071.9258,-348.13 1061.3542,-348.8313 1064.0989,-355.2708\"/>\n<text text-anchor=\"middle\" x=\"1062.5951\" y=\"-367.6235\" font-family=\"Helvetica,sans-Serif\" font-size=\"14.00\" fill=\"#000000\">False</text>\n</g>\n<!-- 2 -->\n<g id=\"node3\" class=\"node\">\n<title>2</title>\n<path fill=\"#f1bd98\" stroke=\"#000000\" d=\"M486,-244C486,-244 150,-244 150,-244 144,-244 138,-238 138,-232 138,-232 138,-188 138,-188 138,-182 144,-176 150,-176 150,-176 486,-176 486,-176 492,-176 498,-182 498,-188 498,-188 498,-232 498,-232 498,-238 492,-244 486,-244\"/>\n<text text-anchor=\"middle\" x=\"318\" y=\"-228.8\" font-family=\"Helvetica,sans-Serif\" font-size=\"14.00\" fill=\"#000000\">waterpoint_type_communal standpipe multiple &lt;= 0.5</text>\n<text text-anchor=\"middle\" x=\"318\" y=\"-213.8\" font-family=\"Helvetica,sans-Serif\" font-size=\"14.00\" fill=\"#000000\">samples = 81.1%</text>\n<text text-anchor=\"middle\" x=\"318\" y=\"-198.8\" font-family=\"Helvetica,sans-Serif\" font-size=\"14.00\" fill=\"#000000\">value = [0.65, 0.083, 0.268]</text>\n<text text-anchor=\"middle\" x=\"318\" y=\"-183.8\" font-family=\"Helvetica,sans-Serif\" font-size=\"14.00\" fill=\"#000000\">class = functional</text>\n</g>\n<!-- 1&#45;&gt;2 -->\n<g id=\"edge2\" class=\"edge\">\n<title>1&#45;&gt;2</title>\n<path fill=\"none\" stroke=\"#000000\" d=\"M592.4811,-285.7189C548.9188,-273.7017 497.5595,-259.5336 451.1212,-246.7231\"/>\n<polygon fill=\"#000000\" stroke=\"#000000\" points=\"451.8617,-243.2967 441.291,-244.0113 450.0002,-250.0447 451.8617,-243.2967\"/>\n</g>\n<!-- 2351 -->\n<g id=\"node10\" class=\"node\">\n<title>2351</title>\n<path fill=\"#a26dec\" stroke=\"#000000\" d=\"M779,-244C779,-244 611,-244 611,-244 605,-244 599,-238 599,-232 599,-232 599,-188 599,-188 599,-182 605,-176 611,-176 611,-176 779,-176 779,-176 785,-176 791,-182 791,-188 791,-188 791,-232 791,-232 791,-238 785,-244 779,-244\"/>\n<text text-anchor=\"middle\" x=\"695\" y=\"-228.8\" font-family=\"Helvetica,sans-Serif\" font-size=\"14.00\" fill=\"#000000\">lga_Ngara &lt;= 0.5</text>\n<text text-anchor=\"middle\" x=\"695\" y=\"-213.8\" font-family=\"Helvetica,sans-Serif\" font-size=\"14.00\" fill=\"#000000\">samples = 8.3%</text>\n<text text-anchor=\"middle\" x=\"695\" y=\"-198.8\" font-family=\"Helvetica,sans-Serif\" font-size=\"14.00\" fill=\"#000000\">value = [0.161, 0.059, 0.78]</text>\n<text text-anchor=\"middle\" x=\"695\" y=\"-183.8\" font-family=\"Helvetica,sans-Serif\" font-size=\"14.00\" fill=\"#000000\">class = non functional</text>\n</g>\n<!-- 1&#45;&gt;2351 -->\n<g id=\"edge9\" class=\"edge\">\n<title>1&#45;&gt;2351</title>\n<path fill=\"none\" stroke=\"#000000\" d=\"M695,-279.9465C695,-271.776 695,-262.9318 695,-254.3697\"/>\n<polygon fill=\"#000000\" stroke=\"#000000\" points=\"698.5001,-254.13 695,-244.13 691.5001,-254.13 698.5001,-254.13\"/>\n</g>\n<!-- 3 -->\n<g id=\"node4\" class=\"node\">\n<title>3</title>\n<path fill=\"#f0b78d\" stroke=\"#000000\" d=\"M188,-140C188,-140 12,-140 12,-140 6,-140 0,-134 0,-128 0,-128 0,-84 0,-84 0,-78 6,-72 12,-72 12,-72 188,-72 188,-72 194,-72 200,-78 200,-84 200,-84 200,-128 200,-128 200,-134 194,-140 188,-140\"/>\n<text text-anchor=\"middle\" x=\"100\" y=\"-124.8\" font-family=\"Helvetica,sans-Serif\" font-size=\"14.00\" fill=\"#000000\">amount_tsh &lt;= 1.5</text>\n<text text-anchor=\"middle\" x=\"100\" y=\"-109.8\" font-family=\"Helvetica,sans-Serif\" font-size=\"14.00\" fill=\"#000000\">samples = 72.3%</text>\n<text text-anchor=\"middle\" x=\"100\" y=\"-94.8\" font-family=\"Helvetica,sans-Serif\" font-size=\"14.00\" fill=\"#000000\">value = [0.678, 0.078, 0.244]</text>\n<text text-anchor=\"middle\" x=\"100\" y=\"-79.8\" font-family=\"Helvetica,sans-Serif\" font-size=\"14.00\" fill=\"#000000\">class = functional</text>\n</g>\n<!-- 2&#45;&gt;3 -->\n<g id=\"edge3\" class=\"edge\">\n<title>2&#45;&gt;3</title>\n<path fill=\"none\" stroke=\"#000000\" d=\"M246.6186,-175.9465C225.5398,-165.8906 202.3216,-154.814 180.6997,-144.4989\"/>\n<polygon fill=\"#000000\" stroke=\"#000000\" points=\"182.0743,-141.2769 171.5417,-140.13 179.0602,-147.5948 182.0743,-141.2769\"/>\n</g>\n<!-- 1672 -->\n<g id=\"node7\" class=\"node\">\n<title>1672</title>\n<path fill=\"#f7f2fd\" stroke=\"#000000\" d=\"M406,-140C406,-140 230,-140 230,-140 224,-140 218,-134 218,-128 218,-128 218,-84 218,-84 218,-78 224,-72 230,-72 230,-72 406,-72 406,-72 412,-72 418,-78 418,-84 418,-84 418,-128 418,-128 418,-134 412,-140 406,-140\"/>\n<text text-anchor=\"middle\" x=\"318\" y=\"-124.8\" font-family=\"Helvetica,sans-Serif\" font-size=\"14.00\" fill=\"#000000\">longitude &lt;= 30.463</text>\n<text text-anchor=\"middle\" x=\"318\" y=\"-109.8\" font-family=\"Helvetica,sans-Serif\" font-size=\"14.00\" fill=\"#000000\">samples = 8.8%</text>\n<text text-anchor=\"middle\" x=\"318\" y=\"-94.8\" font-family=\"Helvetica,sans-Serif\" font-size=\"14.00\" fill=\"#000000\">value = [0.419, 0.124, 0.457]</text>\n<text text-anchor=\"middle\" x=\"318\" y=\"-79.8\" font-family=\"Helvetica,sans-Serif\" font-size=\"14.00\" fill=\"#000000\">class = non functional</text>\n</g>\n<!-- 2&#45;&gt;1672 -->\n<g id=\"edge6\" class=\"edge\">\n<title>2&#45;&gt;1672</title>\n<path fill=\"none\" stroke=\"#000000\" d=\"M318,-175.9465C318,-167.776 318,-158.9318 318,-150.3697\"/>\n<polygon fill=\"#000000\" stroke=\"#000000\" points=\"321.5001,-150.13 318,-140.13 314.5001,-150.13 321.5001,-150.13\"/>\n</g>\n<!-- 4 -->\n<g id=\"node5\" class=\"node\">\n<title>4</title>\n<path fill=\"#c0c0c0\" stroke=\"#000000\" d=\"M79,-36C79,-36 49,-36 49,-36 43,-36 37,-30 37,-24 37,-24 37,-12 37,-12 37,-6 43,0 49,0 49,0 79,0 79,0 85,0 91,-6 91,-12 91,-12 91,-24 91,-24 91,-30 85,-36 79,-36\"/>\n<text text-anchor=\"middle\" x=\"64\" y=\"-14.3\" font-family=\"Helvetica,sans-Serif\" font-size=\"14.00\" fill=\"#000000\">(...)</text>\n</g>\n<!-- 3&#45;&gt;4 -->\n<g id=\"edge4\" class=\"edge\">\n<title>3&#45;&gt;4</title>\n<path fill=\"none\" stroke=\"#000000\" d=\"M86.0815,-71.9769C82.4977,-63.2167 78.6862,-53.8995 75.2564,-45.5157\"/>\n<polygon fill=\"#000000\" stroke=\"#000000\" points=\"78.468,-44.1222 71.4422,-36.192 71.9891,-46.7727 78.468,-44.1222\"/>\n</g>\n<!-- 1079 -->\n<g id=\"node6\" class=\"node\">\n<title>1079</title>\n<path fill=\"#c0c0c0\" stroke=\"#000000\" d=\"M151,-36C151,-36 121,-36 121,-36 115,-36 109,-30 109,-24 109,-24 109,-12 109,-12 109,-6 115,0 121,0 121,0 151,0 151,0 157,0 163,-6 163,-12 163,-12 163,-24 163,-24 163,-30 157,-36 151,-36\"/>\n<text text-anchor=\"middle\" x=\"136\" y=\"-14.3\" font-family=\"Helvetica,sans-Serif\" font-size=\"14.00\" fill=\"#000000\">(...)</text>\n</g>\n<!-- 3&#45;&gt;1079 -->\n<g id=\"edge5\" class=\"edge\">\n<title>3&#45;&gt;1079</title>\n<path fill=\"none\" stroke=\"#000000\" d=\"M113.9185,-71.9769C117.5023,-63.2167 121.3138,-53.8995 124.7436,-45.5157\"/>\n<polygon fill=\"#000000\" stroke=\"#000000\" points=\"128.0109,-46.7727 128.5578,-36.192 121.532,-44.1222 128.0109,-46.7727\"/>\n</g>\n<!-- 1673 -->\n<g id=\"node8\" class=\"node\">\n<title>1673</title>\n<path fill=\"#c0c0c0\" stroke=\"#000000\" d=\"M297,-36C297,-36 267,-36 267,-36 261,-36 255,-30 255,-24 255,-24 255,-12 255,-12 255,-6 261,0 267,0 267,0 297,0 297,0 303,0 309,-6 309,-12 309,-12 309,-24 309,-24 309,-30 303,-36 297,-36\"/>\n<text text-anchor=\"middle\" x=\"282\" y=\"-14.3\" font-family=\"Helvetica,sans-Serif\" font-size=\"14.00\" fill=\"#000000\">(...)</text>\n</g>\n<!-- 1672&#45;&gt;1673 -->\n<g id=\"edge7\" class=\"edge\">\n<title>1672&#45;&gt;1673</title>\n<path fill=\"none\" stroke=\"#000000\" d=\"M304.0815,-71.9769C300.4977,-63.2167 296.6862,-53.8995 293.2564,-45.5157\"/>\n<polygon fill=\"#000000\" stroke=\"#000000\" points=\"296.468,-44.1222 289.4422,-36.192 289.9891,-46.7727 296.468,-44.1222\"/>\n</g>\n<!-- 1908 -->\n<g id=\"node9\" class=\"node\">\n<title>1908</title>\n<path fill=\"#c0c0c0\" stroke=\"#000000\" d=\"M369,-36C369,-36 339,-36 339,-36 333,-36 327,-30 327,-24 327,-24 327,-12 327,-12 327,-6 333,0 339,0 339,0 369,0 369,0 375,0 381,-6 381,-12 381,-12 381,-24 381,-24 381,-30 375,-36 369,-36\"/>\n<text text-anchor=\"middle\" x=\"354\" y=\"-14.3\" font-family=\"Helvetica,sans-Serif\" font-size=\"14.00\" fill=\"#000000\">(...)</text>\n</g>\n<!-- 1672&#45;&gt;1908 -->\n<g id=\"edge8\" class=\"edge\">\n<title>1672&#45;&gt;1908</title>\n<path fill=\"none\" stroke=\"#000000\" d=\"M331.9185,-71.9769C335.5023,-63.2167 339.3138,-53.8995 342.7436,-45.5157\"/>\n<polygon fill=\"#000000\" stroke=\"#000000\" points=\"346.0109,-46.7727 346.5578,-36.192 339.532,-44.1222 346.0109,-46.7727\"/>\n</g>\n<!-- 2352 -->\n<g id=\"node11\" class=\"node\">\n<title>2352</title>\n<path fill=\"#9e67eb\" stroke=\"#000000\" d=\"M624,-140C624,-140 448,-140 448,-140 442,-140 436,-134 436,-128 436,-128 436,-84 436,-84 436,-78 442,-72 448,-72 448,-72 624,-72 624,-72 630,-72 636,-78 636,-84 636,-84 636,-128 636,-128 636,-134 630,-140 624,-140\"/>\n<text text-anchor=\"middle\" x=\"536\" y=\"-124.8\" font-family=\"Helvetica,sans-Serif\" font-size=\"14.00\" fill=\"#000000\">lga_Kahama &lt;= 0.5</text>\n<text text-anchor=\"middle\" x=\"536\" y=\"-109.8\" font-family=\"Helvetica,sans-Serif\" font-size=\"14.00\" fill=\"#000000\">samples = 8.1%</text>\n<text text-anchor=\"middle\" x=\"536\" y=\"-94.8\" font-family=\"Helvetica,sans-Serif\" font-size=\"14.00\" fill=\"#000000\">value = [0.144, 0.054, 0.802]</text>\n<text text-anchor=\"middle\" x=\"536\" y=\"-79.8\" font-family=\"Helvetica,sans-Serif\" font-size=\"14.00\" fill=\"#000000\">class = non functional</text>\n</g>\n<!-- 2351&#45;&gt;2352 -->\n<g id=\"edge10\" class=\"edge\">\n<title>2351&#45;&gt;2352</title>\n<path fill=\"none\" stroke=\"#000000\" d=\"M642.9375,-175.9465C628.1125,-166.2497 611.8367,-155.6039 596.5529,-145.6069\"/>\n<polygon fill=\"#000000\" stroke=\"#000000\" points=\"598.4642,-142.6749 588.1795,-140.13 594.6324,-148.533 598.4642,-142.6749\"/>\n</g>\n<!-- 2767 -->\n<g id=\"node14\" class=\"node\">\n<title>2767</title>\n<path fill=\"#efb185\" stroke=\"#000000\" d=\"M889.5,-140C889.5,-140 666.5,-140 666.5,-140 660.5,-140 654.5,-134 654.5,-128 654.5,-128 654.5,-84 654.5,-84 654.5,-78 660.5,-72 666.5,-72 666.5,-72 889.5,-72 889.5,-72 895.5,-72 901.5,-78 901.5,-84 901.5,-84 901.5,-128 901.5,-128 901.5,-134 895.5,-140 889.5,-140\"/>\n<text text-anchor=\"middle\" x=\"778\" y=\"-124.8\" font-family=\"Helvetica,sans-Serif\" font-size=\"14.00\" fill=\"#000000\">extraction_type_group_other &lt;= 0.5</text>\n<text text-anchor=\"middle\" x=\"778\" y=\"-109.8\" font-family=\"Helvetica,sans-Serif\" font-size=\"14.00\" fill=\"#000000\">samples = 0.3%</text>\n<text text-anchor=\"middle\" x=\"778\" y=\"-94.8\" font-family=\"Helvetica,sans-Serif\" font-size=\"14.00\" fill=\"#000000\">value = [0.69, 0.19, 0.119]</text>\n<text text-anchor=\"middle\" x=\"778\" y=\"-79.8\" font-family=\"Helvetica,sans-Serif\" font-size=\"14.00\" fill=\"#000000\">class = functional</text>\n</g>\n<!-- 2351&#45;&gt;2767 -->\n<g id=\"edge13\" class=\"edge\">\n<title>2351&#45;&gt;2767</title>\n<path fill=\"none\" stroke=\"#000000\" d=\"M722.1773,-175.9465C729.2712,-167.0578 737.0015,-157.3716 744.386,-148.1188\"/>\n<polygon fill=\"#000000\" stroke=\"#000000\" points=\"747.2594,-150.1293 750.7616,-140.13 741.7882,-145.7628 747.2594,-150.1293\"/>\n</g>\n<!-- 2353 -->\n<g id=\"node12\" class=\"node\">\n<title>2353</title>\n<path fill=\"#c0c0c0\" stroke=\"#000000\" d=\"M515,-36C515,-36 485,-36 485,-36 479,-36 473,-30 473,-24 473,-24 473,-12 473,-12 473,-6 479,0 485,0 485,0 515,0 515,0 521,0 527,-6 527,-12 527,-12 527,-24 527,-24 527,-30 521,-36 515,-36\"/>\n<text text-anchor=\"middle\" x=\"500\" y=\"-14.3\" font-family=\"Helvetica,sans-Serif\" font-size=\"14.00\" fill=\"#000000\">(...)</text>\n</g>\n<!-- 2352&#45;&gt;2353 -->\n<g id=\"edge11\" class=\"edge\">\n<title>2352&#45;&gt;2353</title>\n<path fill=\"none\" stroke=\"#000000\" d=\"M522.0815,-71.9769C518.4977,-63.2167 514.6862,-53.8995 511.2564,-45.5157\"/>\n<polygon fill=\"#000000\" stroke=\"#000000\" points=\"514.468,-44.1222 507.4422,-36.192 507.9891,-46.7727 514.468,-44.1222\"/>\n</g>\n<!-- 2656 -->\n<g id=\"node13\" class=\"node\">\n<title>2656</title>\n<path fill=\"#c0c0c0\" stroke=\"#000000\" d=\"M587,-36C587,-36 557,-36 557,-36 551,-36 545,-30 545,-24 545,-24 545,-12 545,-12 545,-6 551,0 557,0 557,0 587,0 587,0 593,0 599,-6 599,-12 599,-12 599,-24 599,-24 599,-30 593,-36 587,-36\"/>\n<text text-anchor=\"middle\" x=\"572\" y=\"-14.3\" font-family=\"Helvetica,sans-Serif\" font-size=\"14.00\" fill=\"#000000\">(...)</text>\n</g>\n<!-- 2352&#45;&gt;2656 -->\n<g id=\"edge12\" class=\"edge\">\n<title>2352&#45;&gt;2656</title>\n<path fill=\"none\" stroke=\"#000000\" d=\"M549.9185,-71.9769C553.5023,-63.2167 557.3138,-53.8995 560.7436,-45.5157\"/>\n<polygon fill=\"#000000\" stroke=\"#000000\" points=\"564.0109,-46.7727 564.5578,-36.192 557.532,-44.1222 564.0109,-46.7727\"/>\n</g>\n<!-- 2768 -->\n<g id=\"node15\" class=\"node\">\n<title>2768</title>\n<path fill=\"#c0c0c0\" stroke=\"#000000\" d=\"M757,-36C757,-36 727,-36 727,-36 721,-36 715,-30 715,-24 715,-24 715,-12 715,-12 715,-6 721,0 727,0 727,0 757,0 757,0 763,0 769,-6 769,-12 769,-12 769,-24 769,-24 769,-30 763,-36 757,-36\"/>\n<text text-anchor=\"middle\" x=\"742\" y=\"-14.3\" font-family=\"Helvetica,sans-Serif\" font-size=\"14.00\" fill=\"#000000\">(...)</text>\n</g>\n<!-- 2767&#45;&gt;2768 -->\n<g id=\"edge14\" class=\"edge\">\n<title>2767&#45;&gt;2768</title>\n<path fill=\"none\" stroke=\"#000000\" d=\"M764.0815,-71.9769C760.4977,-63.2167 756.6862,-53.8995 753.2564,-45.5157\"/>\n<polygon fill=\"#000000\" stroke=\"#000000\" points=\"756.468,-44.1222 749.4422,-36.192 749.9891,-46.7727 756.468,-44.1222\"/>\n</g>\n<!-- 2823 -->\n<g id=\"node16\" class=\"node\">\n<title>2823</title>\n<path fill=\"#c0c0c0\" stroke=\"#000000\" d=\"M829,-36C829,-36 799,-36 799,-36 793,-36 787,-30 787,-24 787,-24 787,-12 787,-12 787,-6 793,0 799,0 799,0 829,0 829,0 835,0 841,-6 841,-12 841,-12 841,-24 841,-24 841,-30 835,-36 829,-36\"/>\n<text text-anchor=\"middle\" x=\"814\" y=\"-14.3\" font-family=\"Helvetica,sans-Serif\" font-size=\"14.00\" fill=\"#000000\">(...)</text>\n</g>\n<!-- 2767&#45;&gt;2823 -->\n<g id=\"edge15\" class=\"edge\">\n<title>2767&#45;&gt;2823</title>\n<path fill=\"none\" stroke=\"#000000\" d=\"M791.9185,-71.9769C795.5023,-63.2167 799.3138,-53.8995 802.7436,-45.5157\"/>\n<polygon fill=\"#000000\" stroke=\"#000000\" points=\"806.0109,-46.7727 806.5578,-36.192 799.532,-44.1222 806.0109,-46.7727\"/>\n</g>\n<!-- 2827 -->\n<g id=\"node18\" class=\"node\">\n<title>2827</title>\n<path fill=\"#853fe6\" stroke=\"#000000\" d=\"M1240,-244C1240,-244 1064,-244 1064,-244 1058,-244 1052,-238 1052,-232 1052,-232 1052,-188 1052,-188 1052,-182 1058,-176 1064,-176 1064,-176 1240,-176 1240,-176 1246,-176 1252,-182 1252,-188 1252,-188 1252,-232 1252,-232 1252,-238 1246,-244 1240,-244\"/>\n<text text-anchor=\"middle\" x=\"1152\" y=\"-228.8\" font-family=\"Helvetica,sans-Serif\" font-size=\"14.00\" fill=\"#000000\">lga_Sengerema &lt;= 0.5</text>\n<text text-anchor=\"middle\" x=\"1152\" y=\"-213.8\" font-family=\"Helvetica,sans-Serif\" font-size=\"14.00\" fill=\"#000000\">samples = 10.5%</text>\n<text text-anchor=\"middle\" x=\"1152\" y=\"-198.8\" font-family=\"Helvetica,sans-Serif\" font-size=\"14.00\" fill=\"#000000\">value = [0.021, 0.006, 0.973]</text>\n<text text-anchor=\"middle\" x=\"1152\" y=\"-183.8\" font-family=\"Helvetica,sans-Serif\" font-size=\"14.00\" fill=\"#000000\">class = non functional</text>\n</g>\n<!-- 2826&#45;&gt;2827 -->\n<g id=\"edge17\" class=\"edge\">\n<title>2826&#45;&gt;2827</title>\n<path fill=\"none\" stroke=\"#000000\" d=\"M1152,-279.9465C1152,-271.776 1152,-262.9318 1152,-254.3697\"/>\n<polygon fill=\"#000000\" stroke=\"#000000\" points=\"1155.5001,-254.13 1152,-244.13 1148.5001,-254.13 1155.5001,-254.13\"/>\n</g>\n<!-- 2974 -->\n<g id=\"node25\" class=\"node\">\n<title>2974</title>\n<path fill=\"#f3c7a7\" stroke=\"#000000\" d=\"M1603,-244C1603,-244 1395,-244 1395,-244 1389,-244 1383,-238 1383,-232 1383,-232 1383,-188 1383,-188 1383,-182 1389,-176 1395,-176 1395,-176 1603,-176 1603,-176 1609,-176 1615,-182 1615,-188 1615,-188 1615,-232 1615,-232 1615,-238 1609,-244 1603,-244\"/>\n<text text-anchor=\"middle\" x=\"1499\" y=\"-228.8\" font-family=\"Helvetica,sans-Serif\" font-size=\"14.00\" fill=\"#000000\">extraction_type_nira/tanira &lt;= 0.5</text>\n<text text-anchor=\"middle\" x=\"1499\" y=\"-213.8\" font-family=\"Helvetica,sans-Serif\" font-size=\"14.00\" fill=\"#000000\">samples = 0.1%</text>\n<text text-anchor=\"middle\" x=\"1499\" y=\"-198.8\" font-family=\"Helvetica,sans-Serif\" font-size=\"14.00\" fill=\"#000000\">value = [0.643, 0.0, 0.357]</text>\n<text text-anchor=\"middle\" x=\"1499\" y=\"-183.8\" font-family=\"Helvetica,sans-Serif\" font-size=\"14.00\" fill=\"#000000\">class = functional</text>\n</g>\n<!-- 2826&#45;&gt;2974 -->\n<g id=\"edge24\" class=\"edge\">\n<title>2826&#45;&gt;2974</title>\n<path fill=\"none\" stroke=\"#000000\" d=\"M1252.3668,-283.9189C1290.9102,-272.367 1335.3477,-259.0485 1375.7938,-246.9264\"/>\n<polygon fill=\"#000000\" stroke=\"#000000\" points=\"1376.8651,-250.2592 1385.4393,-244.0355 1374.8554,-243.5539 1376.8651,-250.2592\"/>\n</g>\n<!-- 2828 -->\n<g id=\"node19\" class=\"node\">\n<title>2828</title>\n<path fill=\"#843ee6\" stroke=\"#000000\" d=\"M1146.5,-140C1146.5,-140 931.5,-140 931.5,-140 925.5,-140 919.5,-134 919.5,-128 919.5,-128 919.5,-84 919.5,-84 919.5,-78 925.5,-72 931.5,-72 931.5,-72 1146.5,-72 1146.5,-72 1152.5,-72 1158.5,-78 1158.5,-84 1158.5,-84 1158.5,-128 1158.5,-128 1158.5,-134 1152.5,-140 1146.5,-140\"/>\n<text text-anchor=\"middle\" x=\"1039\" y=\"-124.8\" font-family=\"Helvetica,sans-Serif\" font-size=\"14.00\" fill=\"#000000\">date_recorded_2013&#45;01&#45;16 &lt;= 0.5</text>\n<text text-anchor=\"middle\" x=\"1039\" y=\"-109.8\" font-family=\"Helvetica,sans-Serif\" font-size=\"14.00\" fill=\"#000000\">samples = 10.4%</text>\n<text text-anchor=\"middle\" x=\"1039\" y=\"-94.8\" font-family=\"Helvetica,sans-Serif\" font-size=\"14.00\" fill=\"#000000\">value = [0.017, 0.006, 0.977]</text>\n<text text-anchor=\"middle\" x=\"1039\" y=\"-79.8\" font-family=\"Helvetica,sans-Serif\" font-size=\"14.00\" fill=\"#000000\">class = non functional</text>\n</g>\n<!-- 2827&#45;&gt;2828 -->\n<g id=\"edge18\" class=\"edge\">\n<title>2827&#45;&gt;2828</title>\n<path fill=\"none\" stroke=\"#000000\" d=\"M1114.9996,-175.9465C1104.9514,-166.6986 1093.9653,-156.5876 1083.5474,-146.9994\"/>\n<polygon fill=\"#000000\" stroke=\"#000000\" points=\"1085.8118,-144.3267 1076.0836,-140.13 1081.0714,-149.4773 1085.8118,-144.3267\"/>\n</g>\n<!-- 2937 -->\n<g id=\"node22\" class=\"node\">\n<title>2937</title>\n<path fill=\"#e0cef8\" stroke=\"#000000\" d=\"M1349,-140C1349,-140 1189,-140 1189,-140 1183,-140 1177,-134 1177,-128 1177,-128 1177,-84 1177,-84 1177,-78 1183,-72 1189,-72 1189,-72 1349,-72 1349,-72 1355,-72 1361,-78 1361,-84 1361,-84 1361,-128 1361,-128 1361,-134 1355,-140 1349,-140\"/>\n<text text-anchor=\"middle\" x=\"1269\" y=\"-124.8\" font-family=\"Helvetica,sans-Serif\" font-size=\"14.00\" fill=\"#000000\">installer_Villagers &lt;= 0.5</text>\n<text text-anchor=\"middle\" x=\"1269\" y=\"-109.8\" font-family=\"Helvetica,sans-Serif\" font-size=\"14.00\" fill=\"#000000\">samples = 0.1%</text>\n<text text-anchor=\"middle\" x=\"1269\" y=\"-94.8\" font-family=\"Helvetica,sans-Serif\" font-size=\"14.00\" fill=\"#000000\">value = [0.429, 0.0, 0.571]</text>\n<text text-anchor=\"middle\" x=\"1269\" y=\"-79.8\" font-family=\"Helvetica,sans-Serif\" font-size=\"14.00\" fill=\"#000000\">class = non functional</text>\n</g>\n<!-- 2827&#45;&gt;2937 -->\n<g id=\"edge21\" class=\"edge\">\n<title>2827&#45;&gt;2937</title>\n<path fill=\"none\" stroke=\"#000000\" d=\"M1190.3102,-175.9465C1200.7141,-166.6986 1212.089,-156.5876 1222.8757,-146.9994\"/>\n<polygon fill=\"#000000\" stroke=\"#000000\" points=\"1225.4549,-149.3896 1230.6038,-140.13 1220.8044,-144.1577 1225.4549,-149.3896\"/>\n</g>\n<!-- 2829 -->\n<g id=\"node20\" class=\"node\">\n<title>2829</title>\n<path fill=\"#c0c0c0\" stroke=\"#000000\" d=\"M1018,-36C1018,-36 988,-36 988,-36 982,-36 976,-30 976,-24 976,-24 976,-12 976,-12 976,-6 982,0 988,0 988,0 1018,0 1018,0 1024,0 1030,-6 1030,-12 1030,-12 1030,-24 1030,-24 1030,-30 1024,-36 1018,-36\"/>\n<text text-anchor=\"middle\" x=\"1003\" y=\"-14.3\" font-family=\"Helvetica,sans-Serif\" font-size=\"14.00\" fill=\"#000000\">(...)</text>\n</g>\n<!-- 2828&#45;&gt;2829 -->\n<g id=\"edge19\" class=\"edge\">\n<title>2828&#45;&gt;2829</title>\n<path fill=\"none\" stroke=\"#000000\" d=\"M1025.0815,-71.9769C1021.4977,-63.2167 1017.6862,-53.8995 1014.2564,-45.5157\"/>\n<polygon fill=\"#000000\" stroke=\"#000000\" points=\"1017.468,-44.1222 1010.4422,-36.192 1010.9891,-46.7727 1017.468,-44.1222\"/>\n</g>\n<!-- 2930 -->\n<g id=\"node21\" class=\"node\">\n<title>2930</title>\n<path fill=\"#c0c0c0\" stroke=\"#000000\" d=\"M1090,-36C1090,-36 1060,-36 1060,-36 1054,-36 1048,-30 1048,-24 1048,-24 1048,-12 1048,-12 1048,-6 1054,0 1060,0 1060,0 1090,0 1090,0 1096,0 1102,-6 1102,-12 1102,-12 1102,-24 1102,-24 1102,-30 1096,-36 1090,-36\"/>\n<text text-anchor=\"middle\" x=\"1075\" y=\"-14.3\" font-family=\"Helvetica,sans-Serif\" font-size=\"14.00\" fill=\"#000000\">(...)</text>\n</g>\n<!-- 2828&#45;&gt;2930 -->\n<g id=\"edge20\" class=\"edge\">\n<title>2828&#45;&gt;2930</title>\n<path fill=\"none\" stroke=\"#000000\" d=\"M1052.9185,-71.9769C1056.5023,-63.2167 1060.3138,-53.8995 1063.7436,-45.5157\"/>\n<polygon fill=\"#000000\" stroke=\"#000000\" points=\"1067.0109,-46.7727 1067.5578,-36.192 1060.532,-44.1222 1067.0109,-46.7727\"/>\n</g>\n<!-- 2938 -->\n<g id=\"node23\" class=\"node\">\n<title>2938</title>\n<path fill=\"#c0c0c0\" stroke=\"#000000\" d=\"M1248,-36C1248,-36 1218,-36 1218,-36 1212,-36 1206,-30 1206,-24 1206,-24 1206,-12 1206,-12 1206,-6 1212,0 1218,0 1218,0 1248,0 1248,0 1254,0 1260,-6 1260,-12 1260,-12 1260,-24 1260,-24 1260,-30 1254,-36 1248,-36\"/>\n<text text-anchor=\"middle\" x=\"1233\" y=\"-14.3\" font-family=\"Helvetica,sans-Serif\" font-size=\"14.00\" fill=\"#000000\">(...)</text>\n</g>\n<!-- 2937&#45;&gt;2938 -->\n<g id=\"edge22\" class=\"edge\">\n<title>2937&#45;&gt;2938</title>\n<path fill=\"none\" stroke=\"#000000\" d=\"M1255.0815,-71.9769C1251.4977,-63.2167 1247.6862,-53.8995 1244.2564,-45.5157\"/>\n<polygon fill=\"#000000\" stroke=\"#000000\" points=\"1247.468,-44.1222 1240.4422,-36.192 1240.9891,-46.7727 1247.468,-44.1222\"/>\n</g>\n<!-- 2971 -->\n<g id=\"node24\" class=\"node\">\n<title>2971</title>\n<path fill=\"#c0c0c0\" stroke=\"#000000\" d=\"M1320,-36C1320,-36 1290,-36 1290,-36 1284,-36 1278,-30 1278,-24 1278,-24 1278,-12 1278,-12 1278,-6 1284,0 1290,0 1290,0 1320,0 1320,0 1326,0 1332,-6 1332,-12 1332,-12 1332,-24 1332,-24 1332,-30 1326,-36 1320,-36\"/>\n<text text-anchor=\"middle\" x=\"1305\" y=\"-14.3\" font-family=\"Helvetica,sans-Serif\" font-size=\"14.00\" fill=\"#000000\">(...)</text>\n</g>\n<!-- 2937&#45;&gt;2971 -->\n<g id=\"edge23\" class=\"edge\">\n<title>2937&#45;&gt;2971</title>\n<path fill=\"none\" stroke=\"#000000\" d=\"M1282.9185,-71.9769C1286.5023,-63.2167 1290.3138,-53.8995 1293.7436,-45.5157\"/>\n<polygon fill=\"#000000\" stroke=\"#000000\" points=\"1297.0109,-46.7727 1297.5578,-36.192 1290.532,-44.1222 1297.0109,-46.7727\"/>\n</g>\n<!-- 2975 -->\n<g id=\"node26\" class=\"node\">\n<title>2975</title>\n<path fill=\"#e3d3f9\" stroke=\"#000000\" d=\"M1606.5,-140C1606.5,-140 1391.5,-140 1391.5,-140 1385.5,-140 1379.5,-134 1379.5,-128 1379.5,-128 1379.5,-84 1379.5,-84 1379.5,-78 1385.5,-72 1391.5,-72 1391.5,-72 1606.5,-72 1606.5,-72 1612.5,-72 1618.5,-78 1618.5,-84 1618.5,-84 1618.5,-128 1618.5,-128 1618.5,-134 1612.5,-140 1606.5,-140\"/>\n<text text-anchor=\"middle\" x=\"1499\" y=\"-124.8\" font-family=\"Helvetica,sans-Serif\" font-size=\"14.00\" fill=\"#000000\">date_recorded_2012&#45;10&#45;02 &lt;= 0.5</text>\n<text text-anchor=\"middle\" x=\"1499\" y=\"-109.8\" font-family=\"Helvetica,sans-Serif\" font-size=\"14.00\" fill=\"#000000\">samples = 0.0%</text>\n<text text-anchor=\"middle\" x=\"1499\" y=\"-94.8\" font-family=\"Helvetica,sans-Serif\" font-size=\"14.00\" fill=\"#000000\">value = [0.438, 0.0, 0.562]</text>\n<text text-anchor=\"middle\" x=\"1499\" y=\"-79.8\" font-family=\"Helvetica,sans-Serif\" font-size=\"14.00\" fill=\"#000000\">class = non functional</text>\n</g>\n<!-- 2974&#45;&gt;2975 -->\n<g id=\"edge25\" class=\"edge\">\n<title>2974&#45;&gt;2975</title>\n<path fill=\"none\" stroke=\"#000000\" d=\"M1499,-175.9465C1499,-167.776 1499,-158.9318 1499,-150.3697\"/>\n<polygon fill=\"#000000\" stroke=\"#000000\" points=\"1502.5001,-150.13 1499,-140.13 1495.5001,-150.13 1502.5001,-150.13\"/>\n</g>\n<!-- 2986 -->\n<g id=\"node29\" class=\"node\">\n<title>2986</title>\n<path fill=\"#e78c4b\" stroke=\"#000000\" d=\"M1809,-140C1809,-140 1649,-140 1649,-140 1643,-140 1637,-134 1637,-128 1637,-128 1637,-84 1637,-84 1637,-78 1643,-72 1649,-72 1649,-72 1809,-72 1809,-72 1815,-72 1821,-78 1821,-84 1821,-84 1821,-128 1821,-128 1821,-134 1815,-140 1809,-140\"/>\n<text text-anchor=\"middle\" x=\"1729\" y=\"-124.8\" font-family=\"Helvetica,sans-Serif\" font-size=\"14.00\" fill=\"#000000\">longitude &lt;= 33.244</text>\n<text text-anchor=\"middle\" x=\"1729\" y=\"-109.8\" font-family=\"Helvetica,sans-Serif\" font-size=\"14.00\" fill=\"#000000\">samples = 0.0%</text>\n<text text-anchor=\"middle\" x=\"1729\" y=\"-94.8\" font-family=\"Helvetica,sans-Serif\" font-size=\"14.00\" fill=\"#000000\">value = [0.917, 0.0, 0.083]</text>\n<text text-anchor=\"middle\" x=\"1729\" y=\"-79.8\" font-family=\"Helvetica,sans-Serif\" font-size=\"14.00\" fill=\"#000000\">class = functional</text>\n</g>\n<!-- 2974&#45;&gt;2986 -->\n<g id=\"edge28\" class=\"edge\">\n<title>2974&#45;&gt;2986</title>\n<path fill=\"none\" stroke=\"#000000\" d=\"M1574.3106,-175.9465C1596.649,-165.8457 1621.2648,-154.7151 1644.1636,-144.3608\"/>\n<polygon fill=\"#000000\" stroke=\"#000000\" points=\"1645.8505,-147.4393 1653.5202,-140.13 1642.9663,-141.061 1645.8505,-147.4393\"/>\n</g>\n<!-- 2976 -->\n<g id=\"node27\" class=\"node\">\n<title>2976</title>\n<path fill=\"#c0c0c0\" stroke=\"#000000\" d=\"M1478,-36C1478,-36 1448,-36 1448,-36 1442,-36 1436,-30 1436,-24 1436,-24 1436,-12 1436,-12 1436,-6 1442,0 1448,0 1448,0 1478,0 1478,0 1484,0 1490,-6 1490,-12 1490,-12 1490,-24 1490,-24 1490,-30 1484,-36 1478,-36\"/>\n<text text-anchor=\"middle\" x=\"1463\" y=\"-14.3\" font-family=\"Helvetica,sans-Serif\" font-size=\"14.00\" fill=\"#000000\">(...)</text>\n</g>\n<!-- 2975&#45;&gt;2976 -->\n<g id=\"edge26\" class=\"edge\">\n<title>2975&#45;&gt;2976</title>\n<path fill=\"none\" stroke=\"#000000\" d=\"M1485.0815,-71.9769C1481.4977,-63.2167 1477.6862,-53.8995 1474.2564,-45.5157\"/>\n<polygon fill=\"#000000\" stroke=\"#000000\" points=\"1477.468,-44.1222 1470.4422,-36.192 1470.9891,-46.7727 1477.468,-44.1222\"/>\n</g>\n<!-- 2985 -->\n<g id=\"node28\" class=\"node\">\n<title>2985</title>\n<path fill=\"#c0c0c0\" stroke=\"#000000\" d=\"M1550,-36C1550,-36 1520,-36 1520,-36 1514,-36 1508,-30 1508,-24 1508,-24 1508,-12 1508,-12 1508,-6 1514,0 1520,0 1520,0 1550,0 1550,0 1556,0 1562,-6 1562,-12 1562,-12 1562,-24 1562,-24 1562,-30 1556,-36 1550,-36\"/>\n<text text-anchor=\"middle\" x=\"1535\" y=\"-14.3\" font-family=\"Helvetica,sans-Serif\" font-size=\"14.00\" fill=\"#000000\">(...)</text>\n</g>\n<!-- 2975&#45;&gt;2985 -->\n<g id=\"edge27\" class=\"edge\">\n<title>2975&#45;&gt;2985</title>\n<path fill=\"none\" stroke=\"#000000\" d=\"M1512.9185,-71.9769C1516.5023,-63.2167 1520.3138,-53.8995 1523.7436,-45.5157\"/>\n<polygon fill=\"#000000\" stroke=\"#000000\" points=\"1527.0109,-46.7727 1527.5578,-36.192 1520.532,-44.1222 1527.0109,-46.7727\"/>\n</g>\n<!-- 2987 -->\n<g id=\"node30\" class=\"node\">\n<title>2987</title>\n<path fill=\"#c0c0c0\" stroke=\"#000000\" d=\"M1708,-36C1708,-36 1678,-36 1678,-36 1672,-36 1666,-30 1666,-24 1666,-24 1666,-12 1666,-12 1666,-6 1672,0 1678,0 1678,0 1708,0 1708,0 1714,0 1720,-6 1720,-12 1720,-12 1720,-24 1720,-24 1720,-30 1714,-36 1708,-36\"/>\n<text text-anchor=\"middle\" x=\"1693\" y=\"-14.3\" font-family=\"Helvetica,sans-Serif\" font-size=\"14.00\" fill=\"#000000\">(...)</text>\n</g>\n<!-- 2986&#45;&gt;2987 -->\n<g id=\"edge29\" class=\"edge\">\n<title>2986&#45;&gt;2987</title>\n<path fill=\"none\" stroke=\"#000000\" d=\"M1715.0815,-71.9769C1711.4977,-63.2167 1707.6862,-53.8995 1704.2564,-45.5157\"/>\n<polygon fill=\"#000000\" stroke=\"#000000\" points=\"1707.468,-44.1222 1700.4422,-36.192 1700.9891,-46.7727 1707.468,-44.1222\"/>\n</g>\n<!-- 2988 -->\n<g id=\"node31\" class=\"node\">\n<title>2988</title>\n<path fill=\"#c0c0c0\" stroke=\"#000000\" d=\"M1780,-36C1780,-36 1750,-36 1750,-36 1744,-36 1738,-30 1738,-24 1738,-24 1738,-12 1738,-12 1738,-6 1744,0 1750,0 1750,0 1780,0 1780,0 1786,0 1792,-6 1792,-12 1792,-12 1792,-24 1792,-24 1792,-30 1786,-36 1780,-36\"/>\n<text text-anchor=\"middle\" x=\"1765\" y=\"-14.3\" font-family=\"Helvetica,sans-Serif\" font-size=\"14.00\" fill=\"#000000\">(...)</text>\n</g>\n<!-- 2986&#45;&gt;2988 -->\n<g id=\"edge30\" class=\"edge\">\n<title>2986&#45;&gt;2988</title>\n<path fill=\"none\" stroke=\"#000000\" d=\"M1742.9185,-71.9769C1746.5023,-63.2167 1750.3138,-53.8995 1753.7436,-45.5157\"/>\n<polygon fill=\"#000000\" stroke=\"#000000\" points=\"1757.0109,-46.7727 1757.5578,-36.192 1750.532,-44.1222 1757.0109,-46.7727\"/>\n</g>\n</g>\n</svg>\n"
          },
          "metadata": {
            "tags": []
          }
        }
      ]
    },
    {
      "cell_type": "code",
      "metadata": {
        "id": "AKFJwM3PnNTF",
        "colab_type": "code",
        "colab": {}
      },
      "source": [
        "submission = sample_submission.copy()\n",
        "submission['status_group'] = y_pred\n",
        "submission.to_csv('submission-1.csv', index=False)"
      ],
      "execution_count": 0,
      "outputs": []
    },
    {
      "cell_type": "code",
      "metadata": {
        "id": "QHXRSzy6qIMB",
        "colab_type": "code",
        "colab": {
          "base_uri": "https://localhost:8080/",
          "height": 187
        },
        "outputId": "7c46e6a8-2f7b-4691-e7b4-7234a4c1deca"
      },
      "source": [
        "!head submission-1.csv"
      ],
      "execution_count": 97,
      "outputs": [
        {
          "output_type": "stream",
          "text": [
            "id,status_group\n",
            "50785,non functional\n",
            "51630,functional\n",
            "17168,functional\n",
            "45559,non functional\n",
            "49871,functional\n",
            "52449,functional\n",
            "24806,functional\n",
            "28965,non functional\n",
            "36301,non functional\n"
          ],
          "name": "stdout"
        }
      ]
    },
    {
      "cell_type": "code",
      "metadata": {
        "id": "6U9MvxAtyOXE",
        "colab_type": "code",
        "colab": {}
      },
      "source": [
        "if in_colab:\n",
        "  from google.colab import files\n",
        "  files.download('submission-1.csv')"
      ],
      "execution_count": 0,
      "outputs": []
    },
    {
      "cell_type": "markdown",
      "metadata": {
        "id": "LRdKCdp2wb0J",
        "colab_type": "text"
      },
      "source": [
        "Further Feature Research"
      ]
    },
    {
      "cell_type": "markdown",
      "metadata": {
        "id": "R411LI7xtPZy",
        "colab_type": "text"
      },
      "source": [
        "funder\t44616\t1716\t\n",
        "installer\t44603\t1929\t\n",
        "ward\t47520\t2082\t\n",
        "scheme_name\t24988\t2563\t\n",
        "subvillage\t47234\t17231\t\n",
        "wpt_name\t47520\t30661"
      ]
    },
    {
      "cell_type": "code",
      "metadata": {
        "id": "Z0IwKkEgtt9c",
        "colab_type": "code",
        "colab": {
          "base_uri": "https://localhost:8080/",
          "height": 34
        },
        "outputId": "9f959dba-f093-4a95-9427-6807f44a878a"
      },
      "source": [
        "#looking for top 80% of funder\n",
        "train.funder.value_counts(normalize=True)[:110].sum()"
      ],
      "execution_count": 62,
      "outputs": [
        {
          "output_type": "execute_result",
          "data": {
            "text/plain": [
              "0.805002689618074"
            ]
          },
          "metadata": {
            "tags": []
          },
          "execution_count": 62
        }
      ]
    },
    {
      "cell_type": "code",
      "metadata": {
        "id": "Yvid4fNgqJnI",
        "colab_type": "code",
        "colab": {
          "base_uri": "https://localhost:8080/",
          "height": 34
        },
        "outputId": "df986433-101d-4f36-f614-76055ede3610"
      },
      "source": [
        "#looking for top 80% of installer\n",
        "train.installer.value_counts(normalize=True)[:125].sum()"
      ],
      "execution_count": 59,
      "outputs": [
        {
          "output_type": "execute_result",
          "data": {
            "text/plain": [
              "0.814272582561711"
            ]
          },
          "metadata": {
            "tags": []
          },
          "execution_count": 59
        }
      ]
    },
    {
      "cell_type": "code",
      "metadata": {
        "id": "ZwEaG4VIuAan",
        "colab_type": "code",
        "colab": {
          "base_uri": "https://localhost:8080/",
          "height": 34
        },
        "outputId": "92d38a26-3c7d-4392-ff2a-d5f373e9a4ea"
      },
      "source": [
        "#looking for top 80% of ward\n",
        "train.ward.value_counts(normalize=True)[:150].sum()"
      ],
      "execution_count": 65,
      "outputs": [
        {
          "output_type": "execute_result",
          "data": {
            "text/plain": [
              "0.26140572390572386"
            ]
          },
          "metadata": {
            "tags": []
          },
          "execution_count": 65
        }
      ]
    },
    {
      "cell_type": "code",
      "metadata": {
        "id": "xJL6VYsKuKak",
        "colab_type": "code",
        "colab": {
          "base_uri": "https://localhost:8080/",
          "height": 34
        },
        "outputId": "b015f8e6-cd5d-4f7f-ce77-7b05d66432f3"
      },
      "source": [
        "#looking for top 80% of scheme_name\n",
        "train.scheme_name.value_counts(normalize=True)[:350].sum()"
      ],
      "execution_count": 68,
      "outputs": [
        {
          "output_type": "execute_result",
          "data": {
            "text/plain": [
              "0.6100528253561709"
            ]
          },
          "metadata": {
            "tags": []
          },
          "execution_count": 68
        }
      ]
    },
    {
      "cell_type": "code",
      "metadata": {
        "id": "oerxzWa_uVEd",
        "colab_type": "code",
        "colab": {
          "base_uri": "https://localhost:8080/",
          "height": 34
        },
        "outputId": "6ba33490-8bb1-4a83-fa2e-1c9d0cfbdc23"
      },
      "source": [
        "#looking for top 80% of subvillage\n",
        "train.subvillage.value_counts(normalize=True)[:350].sum()"
      ],
      "execution_count": 69,
      "outputs": [
        {
          "output_type": "execute_result",
          "data": {
            "text/plain": [
              "0.23701147478511242"
            ]
          },
          "metadata": {
            "tags": []
          },
          "execution_count": 69
        }
      ]
    },
    {
      "cell_type": "code",
      "metadata": {
        "id": "9Je3Dj7TucJp",
        "colab_type": "code",
        "colab": {
          "base_uri": "https://localhost:8080/",
          "height": 34
        },
        "outputId": "ab72b4b2-c688-43aa-ba5c-9543b918ed31"
      },
      "source": [
        "#looking for top 80% of wpt_name\n",
        "train.wpt_name.value_counts(normalize=True)[:350].sum()"
      ],
      "execution_count": 70,
      "outputs": [
        {
          "output_type": "execute_result",
          "data": {
            "text/plain": [
              "0.26140572390572386"
            ]
          },
          "metadata": {
            "tags": []
          },
          "execution_count": 70
        }
      ]
    },
    {
      "cell_type": "code",
      "metadata": {
        "id": "ZDr8yk-Uq1mV",
        "colab_type": "code",
        "colab": {}
      },
      "source": [
        "  # Reduce cardinality for Installer feature ...\n",
        "# Get a list of the top 50 feature\n",
        "    top50 = X['installer'].value_counts()[:50].index\n",
        "# At locations where the neighborhood is NOT in the top 10,\n",
        "# replace the neighborhood with 'OTHER'\n",
        "    X.loc[~X['installer'].isin(top50), 'installer'] = 'OTHER'\n",
        "    \n",
        "     # Reduce cardinality for funder feature ...\n",
        "    # Get a list of the top 50 variable\n",
        "    top50 = X['funder'].value_counts()[:50].index\n",
        "    # At locations where the variable is NOT in the top 10,\n",
        "    # replace the variable with 'OTHER'\n",
        "    X.loc[~X['funder'].isin(top50), 'funder'] = 'OTHER'\n",
        "\n",
        "    # return the wrangled dataframe"
      ],
      "execution_count": 0,
      "outputs": []
    }
  ]
}