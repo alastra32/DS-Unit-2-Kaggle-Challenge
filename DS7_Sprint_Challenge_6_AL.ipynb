{
  "nbformat": 4,
  "nbformat_minor": 0,
  "metadata": {
    "colab": {
      "name": " DS7_Sprint_Challenge_6_AL.ipynb",
      "provenance": [],
      "collapsed_sections": []
    },
    "kernelspec": {
      "display_name": "Python 3",
      "language": "python",
      "name": "python3"
    },
    "language_info": {
      "codemirror_mode": {
        "name": "ipython",
        "version": 3
      },
      "file_extension": ".py",
      "mimetype": "text/x-python",
      "name": "python",
      "nbconvert_exporter": "python",
      "pygments_lexer": "ipython3",
      "version": "3.7.3"
    }
  },
  "cells": [
    {
      "cell_type": "markdown",
      "metadata": {
        "colab_type": "text",
        "id": "M3XH_XLsy_Bn"
      },
      "source": [
        "_Lambda School Data Science, Unit 2_\n",
        " \n",
        "# Sprint Challenge: Predict Steph Curry's shots 🏀\n",
        "\n",
        "For your Sprint Challenge, you'll use a dataset with all Steph Curry's NBA field goal attempts. (Regular season and playoff games, from October 28, 2009, through June 5, 2019.) \n",
        "\n",
        "You'll predict whether each shot was made, using information about the shot and the game. This is hard to predict! Try to get above 60% accuracy. The dataset was collected with the [nba_api](https://github.com/swar/nba_api) Python library."
      ]
    },
    {
      "cell_type": "code",
      "metadata": {
        "colab_type": "code",
        "id": "Nw3CL7TE7tNq",
        "colab": {
          "base_uri": "https://localhost:8080/",
          "height": 1000
        },
        "outputId": "188247cd-f9ce-4f5f-cf75-7851c46f777e"
      },
      "source": [
        "import sys\n",
        "in_colab = 'google.colab' in sys.modules\n",
        "\n",
        "if in_colab:\n",
        "    # Install packages in Colab\n",
        "    !pip install category_encoders==2.0.0\n",
        "    !pip install pandas-profiling==2.3.0\n",
        "    !pip install plotly==4.1.1"
      ],
      "execution_count": 1,
      "outputs": [
        {
          "output_type": "stream",
          "text": [
            "Requirement already satisfied: category_encoders==2.0.0 in /usr/local/lib/python3.6/dist-packages (2.0.0)\n",
            "Requirement already satisfied: patsy>=0.4.1 in /usr/local/lib/python3.6/dist-packages (from category_encoders==2.0.0) (0.5.1)\n",
            "Requirement already satisfied: statsmodels>=0.6.1 in /usr/local/lib/python3.6/dist-packages (from category_encoders==2.0.0) (0.10.1)\n",
            "Requirement already satisfied: pandas>=0.21.1 in /usr/local/lib/python3.6/dist-packages (from category_encoders==2.0.0) (0.24.2)\n",
            "Requirement already satisfied: scipy>=0.19.0 in /usr/local/lib/python3.6/dist-packages (from category_encoders==2.0.0) (1.3.1)\n",
            "Requirement already satisfied: scikit-learn>=0.20.0 in /usr/local/lib/python3.6/dist-packages (from category_encoders==2.0.0) (0.21.3)\n",
            "Requirement already satisfied: numpy>=1.11.3 in /usr/local/lib/python3.6/dist-packages (from category_encoders==2.0.0) (1.16.5)\n",
            "Requirement already satisfied: six in /usr/local/lib/python3.6/dist-packages (from patsy>=0.4.1->category_encoders==2.0.0) (1.12.0)\n",
            "Requirement already satisfied: pytz>=2011k in /usr/local/lib/python3.6/dist-packages (from pandas>=0.21.1->category_encoders==2.0.0) (2018.9)\n",
            "Requirement already satisfied: python-dateutil>=2.5.0 in /usr/local/lib/python3.6/dist-packages (from pandas>=0.21.1->category_encoders==2.0.0) (2.5.3)\n",
            "Requirement already satisfied: joblib>=0.11 in /usr/local/lib/python3.6/dist-packages (from scikit-learn>=0.20.0->category_encoders==2.0.0) (0.13.2)\n",
            "Requirement already satisfied: pandas-profiling==2.3.0 in /usr/local/lib/python3.6/dist-packages (2.3.0)\n",
            "Requirement already satisfied: matplotlib>=1.4 in /usr/local/lib/python3.6/dist-packages (from pandas-profiling==2.3.0) (3.0.3)\n",
            "Requirement already satisfied: astropy in /usr/local/lib/python3.6/dist-packages (from pandas-profiling==2.3.0) (3.0.5)\n",
            "Requirement already satisfied: jinja2>=2.8 in /usr/local/lib/python3.6/dist-packages (from pandas-profiling==2.3.0) (2.10.1)\n",
            "Requirement already satisfied: missingno>=0.4.2 in /usr/local/lib/python3.6/dist-packages (from pandas-profiling==2.3.0) (0.4.2)\n",
            "Requirement already satisfied: phik>=0.9.8 in /usr/local/lib/python3.6/dist-packages (from pandas-profiling==2.3.0) (0.9.8)\n",
            "Requirement already satisfied: htmlmin>=0.1.12 in /usr/local/lib/python3.6/dist-packages (from pandas-profiling==2.3.0) (0.1.12)\n",
            "Requirement already satisfied: pandas>=0.19 in /usr/local/lib/python3.6/dist-packages (from pandas-profiling==2.3.0) (0.24.2)\n",
            "Requirement already satisfied: confuse>=1.0.0 in /usr/local/lib/python3.6/dist-packages (from pandas-profiling==2.3.0) (1.0.0)\n",
            "Requirement already satisfied: kiwisolver>=1.0.1 in /usr/local/lib/python3.6/dist-packages (from matplotlib>=1.4->pandas-profiling==2.3.0) (1.1.0)\n",
            "Requirement already satisfied: pyparsing!=2.0.4,!=2.1.2,!=2.1.6,>=2.0.1 in /usr/local/lib/python3.6/dist-packages (from matplotlib>=1.4->pandas-profiling==2.3.0) (2.4.2)\n",
            "Requirement already satisfied: cycler>=0.10 in /usr/local/lib/python3.6/dist-packages (from matplotlib>=1.4->pandas-profiling==2.3.0) (0.10.0)\n",
            "Requirement already satisfied: numpy>=1.10.0 in /usr/local/lib/python3.6/dist-packages (from matplotlib>=1.4->pandas-profiling==2.3.0) (1.16.5)\n",
            "Requirement already satisfied: python-dateutil>=2.1 in /usr/local/lib/python3.6/dist-packages (from matplotlib>=1.4->pandas-profiling==2.3.0) (2.5.3)\n",
            "Requirement already satisfied: MarkupSafe>=0.23 in /usr/local/lib/python3.6/dist-packages (from jinja2>=2.8->pandas-profiling==2.3.0) (1.1.1)\n",
            "Requirement already satisfied: scipy in /usr/local/lib/python3.6/dist-packages (from missingno>=0.4.2->pandas-profiling==2.3.0) (1.3.1)\n",
            "Requirement already satisfied: seaborn in /usr/local/lib/python3.6/dist-packages (from missingno>=0.4.2->pandas-profiling==2.3.0) (0.9.0)\n",
            "Requirement already satisfied: nbconvert>=5.3.1 in /usr/local/lib/python3.6/dist-packages (from phik>=0.9.8->pandas-profiling==2.3.0) (5.6.0)\n",
            "Requirement already satisfied: numba>=0.38.1 in /usr/local/lib/python3.6/dist-packages (from phik>=0.9.8->pandas-profiling==2.3.0) (0.40.1)\n",
            "Requirement already satisfied: pytest-pylint>=0.13.0 in /usr/local/lib/python3.6/dist-packages (from phik>=0.9.8->pandas-profiling==2.3.0) (0.14.1)\n",
            "Requirement already satisfied: jupyter-client>=5.2.3 in /usr/local/lib/python3.6/dist-packages (from phik>=0.9.8->pandas-profiling==2.3.0) (5.3.1)\n",
            "Requirement already satisfied: pytest>=4.0.2 in /usr/local/lib/python3.6/dist-packages (from phik>=0.9.8->pandas-profiling==2.3.0) (5.1.3)\n",
            "Requirement already satisfied: pytz>=2011k in /usr/local/lib/python3.6/dist-packages (from pandas>=0.19->pandas-profiling==2.3.0) (2018.9)\n",
            "Requirement already satisfied: pyyaml in /usr/local/lib/python3.6/dist-packages (from confuse>=1.0.0->pandas-profiling==2.3.0) (3.13)\n",
            "Requirement already satisfied: setuptools in /usr/local/lib/python3.6/dist-packages (from kiwisolver>=1.0.1->matplotlib>=1.4->pandas-profiling==2.3.0) (41.2.0)\n",
            "Requirement already satisfied: six in /usr/local/lib/python3.6/dist-packages (from cycler>=0.10->matplotlib>=1.4->pandas-profiling==2.3.0) (1.12.0)\n",
            "Requirement already satisfied: entrypoints>=0.2.2 in /usr/local/lib/python3.6/dist-packages (from nbconvert>=5.3.1->phik>=0.9.8->pandas-profiling==2.3.0) (0.3)\n",
            "Requirement already satisfied: defusedxml in /usr/local/lib/python3.6/dist-packages (from nbconvert>=5.3.1->phik>=0.9.8->pandas-profiling==2.3.0) (0.6.0)\n",
            "Requirement already satisfied: testpath in /usr/local/lib/python3.6/dist-packages (from nbconvert>=5.3.1->phik>=0.9.8->pandas-profiling==2.3.0) (0.4.2)\n",
            "Requirement already satisfied: bleach in /usr/local/lib/python3.6/dist-packages (from nbconvert>=5.3.1->phik>=0.9.8->pandas-profiling==2.3.0) (3.1.0)\n",
            "Requirement already satisfied: pandocfilters>=1.4.1 in /usr/local/lib/python3.6/dist-packages (from nbconvert>=5.3.1->phik>=0.9.8->pandas-profiling==2.3.0) (1.4.2)\n",
            "Requirement already satisfied: pygments in /usr/local/lib/python3.6/dist-packages (from nbconvert>=5.3.1->phik>=0.9.8->pandas-profiling==2.3.0) (2.1.3)\n",
            "Requirement already satisfied: traitlets>=4.2 in /usr/local/lib/python3.6/dist-packages (from nbconvert>=5.3.1->phik>=0.9.8->pandas-profiling==2.3.0) (4.3.2)\n",
            "Requirement already satisfied: mistune<2,>=0.8.1 in /usr/local/lib/python3.6/dist-packages (from nbconvert>=5.3.1->phik>=0.9.8->pandas-profiling==2.3.0) (0.8.4)\n",
            "Requirement already satisfied: jupyter-core in /usr/local/lib/python3.6/dist-packages (from nbconvert>=5.3.1->phik>=0.9.8->pandas-profiling==2.3.0) (4.5.0)\n",
            "Requirement already satisfied: nbformat>=4.4 in /usr/local/lib/python3.6/dist-packages (from nbconvert>=5.3.1->phik>=0.9.8->pandas-profiling==2.3.0) (4.4.0)\n",
            "Requirement already satisfied: llvmlite>=0.25.0dev0 in /usr/local/lib/python3.6/dist-packages (from numba>=0.38.1->phik>=0.9.8->pandas-profiling==2.3.0) (0.29.0)\n",
            "Requirement already satisfied: pylint>=1.4.5 in /usr/local/lib/python3.6/dist-packages (from pytest-pylint>=0.13.0->phik>=0.9.8->pandas-profiling==2.3.0) (2.4.1)\n",
            "Requirement already satisfied: pyzmq>=13 in /usr/local/lib/python3.6/dist-packages (from jupyter-client>=5.2.3->phik>=0.9.8->pandas-profiling==2.3.0) (17.0.0)\n",
            "Requirement already satisfied: tornado>=4.1 in /usr/local/lib/python3.6/dist-packages (from jupyter-client>=5.2.3->phik>=0.9.8->pandas-profiling==2.3.0) (4.5.3)\n",
            "Requirement already satisfied: atomicwrites>=1.0 in /usr/local/lib/python3.6/dist-packages (from pytest>=4.0.2->phik>=0.9.8->pandas-profiling==2.3.0) (1.3.0)\n",
            "Requirement already satisfied: attrs>=17.4.0 in /usr/local/lib/python3.6/dist-packages (from pytest>=4.0.2->phik>=0.9.8->pandas-profiling==2.3.0) (19.1.0)\n",
            "Requirement already satisfied: importlib-metadata>=0.12; python_version < \"3.8\" in /usr/local/lib/python3.6/dist-packages (from pytest>=4.0.2->phik>=0.9.8->pandas-profiling==2.3.0) (0.23)\n",
            "Requirement already satisfied: py>=1.5.0 in /usr/local/lib/python3.6/dist-packages (from pytest>=4.0.2->phik>=0.9.8->pandas-profiling==2.3.0) (1.8.0)\n",
            "Requirement already satisfied: packaging in /usr/local/lib/python3.6/dist-packages (from pytest>=4.0.2->phik>=0.9.8->pandas-profiling==2.3.0) (19.1)\n",
            "Requirement already satisfied: more-itertools>=4.0.0 in /usr/local/lib/python3.6/dist-packages (from pytest>=4.0.2->phik>=0.9.8->pandas-profiling==2.3.0) (7.2.0)\n",
            "Requirement already satisfied: wcwidth in /usr/local/lib/python3.6/dist-packages (from pytest>=4.0.2->phik>=0.9.8->pandas-profiling==2.3.0) (0.1.7)\n",
            "Requirement already satisfied: pluggy<1.0,>=0.12 in /usr/local/lib/python3.6/dist-packages (from pytest>=4.0.2->phik>=0.9.8->pandas-profiling==2.3.0) (0.13.0)\n",
            "Requirement already satisfied: webencodings in /usr/local/lib/python3.6/dist-packages (from bleach->nbconvert>=5.3.1->phik>=0.9.8->pandas-profiling==2.3.0) (0.5.1)\n",
            "Requirement already satisfied: decorator in /usr/local/lib/python3.6/dist-packages (from traitlets>=4.2->nbconvert>=5.3.1->phik>=0.9.8->pandas-profiling==2.3.0) (4.4.0)\n",
            "Requirement already satisfied: ipython-genutils in /usr/local/lib/python3.6/dist-packages (from traitlets>=4.2->nbconvert>=5.3.1->phik>=0.9.8->pandas-profiling==2.3.0) (0.2.0)\n",
            "Requirement already satisfied: jsonschema!=2.5.0,>=2.4 in /usr/local/lib/python3.6/dist-packages (from nbformat>=4.4->nbconvert>=5.3.1->phik>=0.9.8->pandas-profiling==2.3.0) (2.6.0)\n",
            "Requirement already satisfied: isort<5,>=4.2.5 in /usr/local/lib/python3.6/dist-packages (from pylint>=1.4.5->pytest-pylint>=0.13.0->phik>=0.9.8->pandas-profiling==2.3.0) (4.3.21)\n",
            "Requirement already satisfied: mccabe<0.7,>=0.6 in /usr/local/lib/python3.6/dist-packages (from pylint>=1.4.5->pytest-pylint>=0.13.0->phik>=0.9.8->pandas-profiling==2.3.0) (0.6.1)\n",
            "Requirement already satisfied: astroid<3,>=2.3.0 in /usr/local/lib/python3.6/dist-packages (from pylint>=1.4.5->pytest-pylint>=0.13.0->phik>=0.9.8->pandas-profiling==2.3.0) (2.3.0)\n",
            "Requirement already satisfied: zipp>=0.5 in /usr/local/lib/python3.6/dist-packages (from importlib-metadata>=0.12; python_version < \"3.8\"->pytest>=4.0.2->phik>=0.9.8->pandas-profiling==2.3.0) (0.6.0)\n",
            "Requirement already satisfied: lazy-object-proxy in /usr/local/lib/python3.6/dist-packages (from astroid<3,>=2.3.0->pylint>=1.4.5->pytest-pylint>=0.13.0->phik>=0.9.8->pandas-profiling==2.3.0) (1.4.2)\n",
            "Requirement already satisfied: wrapt in /usr/local/lib/python3.6/dist-packages (from astroid<3,>=2.3.0->pylint>=1.4.5->pytest-pylint>=0.13.0->phik>=0.9.8->pandas-profiling==2.3.0) (1.11.2)\n",
            "Requirement already satisfied: typed-ast<1.3.0; implementation_name == \"cpython\" and python_version < \"3.7\" in /usr/local/lib/python3.6/dist-packages (from astroid<3,>=2.3.0->pylint>=1.4.5->pytest-pylint>=0.13.0->phik>=0.9.8->pandas-profiling==2.3.0) (1.2.0)\n",
            "Requirement already satisfied: plotly==4.1.1 in /usr/local/lib/python3.6/dist-packages (4.1.1)\n",
            "Requirement already satisfied: retrying>=1.3.3 in /usr/local/lib/python3.6/dist-packages (from plotly==4.1.1) (1.3.3)\n",
            "Requirement already satisfied: six in /usr/local/lib/python3.6/dist-packages (from plotly==4.1.1) (1.12.0)\n"
          ],
          "name": "stdout"
        }
      ]
    },
    {
      "cell_type": "code",
      "metadata": {
        "colab_type": "code",
        "id": "-Nm24pCHy_Bo",
        "colab": {}
      },
      "source": [
        "import pandas as pd\n",
        "\n",
        "# Read data\n",
        "url = 'https://drive.google.com/uc?export=download&id=1fL7KPyxgGYfQDsuJoBWHIWwCAf-HTFpX'\n",
        "df = pd.read_csv(url)\n",
        "\n",
        "# Check data shape\n",
        "assert df.shape == (13958, 20)"
      ],
      "execution_count": 0,
      "outputs": []
    },
    {
      "cell_type": "code",
      "metadata": {
        "id": "AWhUAiZ-s2oX",
        "colab_type": "code",
        "colab": {}
      },
      "source": [
        "#Libraries\n",
        "import category_encoders as ce\n",
        "import matplotlib.pyplot as plt\n",
        "import numpy as np\n",
        "import pandas as pd\n",
        "import seaborn as sns\n",
        "from sklearn.metrics import accuracy_score\n",
        "from sklearn.pipeline import make_pipeline\n",
        "from sklearn.ensemble import RandomForestClassifier\n",
        "from sklearn.metrics import confusion_matrix\n",
        "from sklearn.utils.multiclass import unique_labels\n",
        "from sklearn.model_selection import GridSearchCV, RandomizedSearchCV\n",
        "from scipy.stats import randint, uniform"
      ],
      "execution_count": 0,
      "outputs": []
    },
    {
      "cell_type": "markdown",
      "metadata": {
        "colab_type": "text",
        "id": "B8BvDKLFy_Bq"
      },
      "source": [
        "To demonstrate mastery on your Sprint Challenge, do all the required, numbered instructions in this notebook.\n",
        "\n",
        "To earn a score of \"3\", also do all the stretch goals.\n",
        "\n",
        "You are permitted and encouraged to do as much data exploration as you want.\n",
        "\n",
        "**1. Begin with baselines for classification.** Your target to predict is `shot_made_flag`. What is your baseline accuracy, if you guessed the majority class for every prediction?\n",
        "\n",
        "**2. Hold out your test set.** Use the 2018-19 season to test. NBA seasons begin in October and end in June. You'll know you've split the data correctly when your test set has 1,709 observations.\n",
        "\n",
        "**3. Engineer new feature.** Engineer at least **1** new feature, from this list, or your own idea.\n",
        "- **Homecourt Advantage**: Is the home team (`htm`) the Golden State Warriors (`GSW`) ?\n",
        "- **Opponent**: Who is the other team playing the Golden State Warriors?\n",
        "- **Seconds remaining in the period**: Combine minutes remaining with seconds remaining, to get the total number of seconds remaining in the period.\n",
        "- **Seconds remaining in the game**: Combine period, and seconds remaining in the period, to get the total number of seconds remaining in the game. A basketball game has 4 periods, each 12 minutes long.\n",
        "- **Made previous shot**: Was Steph Curry's previous shot successful?\n",
        "\n",
        "**4. Decide how to validate** your model. Choose one of the following options. Any of these options are good. You are not graded on which you choose.\n",
        "- **Train/validate/test split: train on the 2009-10 season through 2016-17 season, validate with the 2017-18 season.** You'll know you've split the data correctly when your train set has 11,081 observations, and your validation set has 1,168 observations.\n",
        "- **Train/validate/test split: random 80/20%** train/validate split.\n",
        "- **Cross-validation** with independent test set. You may use any scikit-learn cross-validation method.\n",
        "\n",
        "**5.** Use a scikit-learn **pipeline** to **encode categoricals** and fit a **Decision Tree** or **Random Forest** model.\n",
        "\n",
        "**6.** Get your model's **validation accuracy.** (Multiple times if you try multiple iterations.) \n",
        "\n",
        "**7.** Get your model's **test accuracy.** (One time, at the end.)\n",
        "\n",
        "\n",
        "**8.** Given a **confusion matrix** for a hypothetical binary classification model, **calculate accuracy, precision, and recall.**\n",
        "\n",
        "### Stretch Goals\n",
        "- Engineer 4+ new features total, either from the list above, or your own ideas.\n",
        "- Make 2+ visualizations to explore relationships between features and target.\n",
        "- Optimize 3+ hyperparameters by trying 10+ \"candidates\" (possible combinations of hyperparameters). You can use `RandomizedSearchCV` or do it manually.\n",
        "- Get and plot your model's feature importances.\n",
        "\n"
      ]
    },
    {
      "cell_type": "markdown",
      "metadata": {
        "colab_type": "text",
        "id": "t6Jt3qjQ-zig"
      },
      "source": [
        "## 1. Begin with baselines for classification. \n",
        "\n",
        ">Your target to predict is `shot_made_flag`. What would your baseline accuracy be, if you guessed the majority class for every prediction?"
      ]
    },
    {
      "cell_type": "code",
      "metadata": {
        "colab_type": "code",
        "id": "I0BDeNFG_Kee",
        "colab": {}
      },
      "source": [
        "df['shot_made_flag'].value_counts()/len(df['shot_made_flag'])\n",
        "baseline=0.527081"
      ],
      "execution_count": 0,
      "outputs": []
    },
    {
      "cell_type": "markdown",
      "metadata": {
        "id": "cpbrW3pzqZPv",
        "colab_type": "text"
      },
      "source": [
        "If we guessed the majority class for every prediction, we would have a baseline accuracy of 0.527081 by guessing that we'll miss all shots."
      ]
    },
    {
      "cell_type": "markdown",
      "metadata": {
        "colab_type": "text",
        "id": "Dz2QHBiVy_Br"
      },
      "source": [
        "## 2. Hold out your test set.\n",
        "\n",
        ">Use the 2018-19 season to test. NBA seasons begin in October and end in June. You'll know you've split the data correctly when your test set has 1,709 observations."
      ]
    },
    {
      "cell_type": "code",
      "metadata": {
        "colab_type": "code",
        "id": "OPod6lBG_wTT",
        "colab": {
          "base_uri": "https://localhost:8080/",
          "height": 35
        },
        "outputId": "e6d10928-da6c-4444-b0f6-7c8d43442c51"
      },
      "source": [
        "df['game_date'] = pd.to_datetime(df['game_date'], infer_datetime_format=True)\n",
        "cutoff = pd.to_datetime('2018-10-01')\n",
        "train_all = df[df['game_date'] < cutoff]\n",
        "test  = df[df['game_date'] >= cutoff]\n",
        "train_all.shape, test.shape\n",
        "\n",
        "# Check test data shape\n",
        "assert test.shape == (1709, 20)\n",
        "\n",
        "train_all.shape, test.shape"
      ],
      "execution_count": 5,
      "outputs": [
        {
          "output_type": "execute_result",
          "data": {
            "text/plain": [
              "((12249, 20), (1709, 20))"
            ]
          },
          "metadata": {
            "tags": []
          },
          "execution_count": 5
        }
      ]
    },
    {
      "cell_type": "markdown",
      "metadata": {
        "colab_type": "text",
        "id": "P9Nihzk6y_CF"
      },
      "source": [
        "## 3. Engineer new feature.\n",
        "\n",
        ">Engineer at least **1** new feature, from this list, or your own idea.\n",
        ">\n",
        ">- **Homecourt Advantage**: Is the home team (`htm`) the Golden State Warriors (`GSW`) ?\n",
        ">- **Opponent**: Who is the other team playing the Golden State Warriors?\n",
        ">- **Seconds remaining in the period**: Combine minutes remaining with seconds remaining, to get the total number of seconds remaining in the period.\n",
        ">- **Seconds remaining in the game**: Combine period, and seconds remaining in the period, to get the total number of seconds remaining in the game. A basketball game has 4 periods, each 12 minutes long.\n",
        ">- **Made previous shot**: Was Steph Curry's previous shot successful?\n",
        "\n",
        "    "
      ]
    },
    {
      "cell_type": "code",
      "metadata": {
        "id": "xfJyfpVmnnDD",
        "colab_type": "code",
        "colab": {
          "base_uri": "https://localhost:8080/",
          "height": 305
        },
        "outputId": "5f691f90-3b37-4727-e5a1-1668629df4c8"
      },
      "source": [
        "df.head()"
      ],
      "execution_count": 6,
      "outputs": [
        {
          "output_type": "execute_result",
          "data": {
            "text/html": [
              "<div>\n",
              "<style scoped>\n",
              "    .dataframe tbody tr th:only-of-type {\n",
              "        vertical-align: middle;\n",
              "    }\n",
              "\n",
              "    .dataframe tbody tr th {\n",
              "        vertical-align: top;\n",
              "    }\n",
              "\n",
              "    .dataframe thead th {\n",
              "        text-align: right;\n",
              "    }\n",
              "</style>\n",
              "<table border=\"1\" class=\"dataframe\">\n",
              "  <thead>\n",
              "    <tr style=\"text-align: right;\">\n",
              "      <th></th>\n",
              "      <th>game_id</th>\n",
              "      <th>game_event_id</th>\n",
              "      <th>player_name</th>\n",
              "      <th>period</th>\n",
              "      <th>minutes_remaining</th>\n",
              "      <th>seconds_remaining</th>\n",
              "      <th>action_type</th>\n",
              "      <th>shot_type</th>\n",
              "      <th>shot_zone_basic</th>\n",
              "      <th>shot_zone_area</th>\n",
              "      <th>shot_zone_range</th>\n",
              "      <th>shot_distance</th>\n",
              "      <th>loc_x</th>\n",
              "      <th>loc_y</th>\n",
              "      <th>shot_made_flag</th>\n",
              "      <th>game_date</th>\n",
              "      <th>htm</th>\n",
              "      <th>vtm</th>\n",
              "      <th>season_type</th>\n",
              "      <th>scoremargin_before_shot</th>\n",
              "    </tr>\n",
              "  </thead>\n",
              "  <tbody>\n",
              "    <tr>\n",
              "      <th>0</th>\n",
              "      <td>20900015</td>\n",
              "      <td>4</td>\n",
              "      <td>Stephen Curry</td>\n",
              "      <td>1</td>\n",
              "      <td>11</td>\n",
              "      <td>25</td>\n",
              "      <td>Jump Shot</td>\n",
              "      <td>3PT Field Goal</td>\n",
              "      <td>Above the Break 3</td>\n",
              "      <td>Right Side Center(RC)</td>\n",
              "      <td>24+ ft.</td>\n",
              "      <td>26</td>\n",
              "      <td>99</td>\n",
              "      <td>249</td>\n",
              "      <td>0</td>\n",
              "      <td>2009-10-28</td>\n",
              "      <td>GSW</td>\n",
              "      <td>HOU</td>\n",
              "      <td>Regular Season</td>\n",
              "      <td>2.0</td>\n",
              "    </tr>\n",
              "    <tr>\n",
              "      <th>1</th>\n",
              "      <td>20900015</td>\n",
              "      <td>17</td>\n",
              "      <td>Stephen Curry</td>\n",
              "      <td>1</td>\n",
              "      <td>9</td>\n",
              "      <td>31</td>\n",
              "      <td>Step Back Jump shot</td>\n",
              "      <td>2PT Field Goal</td>\n",
              "      <td>Mid-Range</td>\n",
              "      <td>Left Side Center(LC)</td>\n",
              "      <td>16-24 ft.</td>\n",
              "      <td>18</td>\n",
              "      <td>-122</td>\n",
              "      <td>145</td>\n",
              "      <td>1</td>\n",
              "      <td>2009-10-28</td>\n",
              "      <td>GSW</td>\n",
              "      <td>HOU</td>\n",
              "      <td>Regular Season</td>\n",
              "      <td>0.0</td>\n",
              "    </tr>\n",
              "    <tr>\n",
              "      <th>2</th>\n",
              "      <td>20900015</td>\n",
              "      <td>53</td>\n",
              "      <td>Stephen Curry</td>\n",
              "      <td>1</td>\n",
              "      <td>6</td>\n",
              "      <td>2</td>\n",
              "      <td>Jump Shot</td>\n",
              "      <td>2PT Field Goal</td>\n",
              "      <td>In The Paint (Non-RA)</td>\n",
              "      <td>Center(C)</td>\n",
              "      <td>8-16 ft.</td>\n",
              "      <td>14</td>\n",
              "      <td>-60</td>\n",
              "      <td>129</td>\n",
              "      <td>0</td>\n",
              "      <td>2009-10-28</td>\n",
              "      <td>GSW</td>\n",
              "      <td>HOU</td>\n",
              "      <td>Regular Season</td>\n",
              "      <td>-4.0</td>\n",
              "    </tr>\n",
              "    <tr>\n",
              "      <th>3</th>\n",
              "      <td>20900015</td>\n",
              "      <td>141</td>\n",
              "      <td>Stephen Curry</td>\n",
              "      <td>2</td>\n",
              "      <td>9</td>\n",
              "      <td>49</td>\n",
              "      <td>Jump Shot</td>\n",
              "      <td>2PT Field Goal</td>\n",
              "      <td>Mid-Range</td>\n",
              "      <td>Left Side(L)</td>\n",
              "      <td>16-24 ft.</td>\n",
              "      <td>19</td>\n",
              "      <td>-172</td>\n",
              "      <td>82</td>\n",
              "      <td>0</td>\n",
              "      <td>2009-10-28</td>\n",
              "      <td>GSW</td>\n",
              "      <td>HOU</td>\n",
              "      <td>Regular Season</td>\n",
              "      <td>-4.0</td>\n",
              "    </tr>\n",
              "    <tr>\n",
              "      <th>4</th>\n",
              "      <td>20900015</td>\n",
              "      <td>249</td>\n",
              "      <td>Stephen Curry</td>\n",
              "      <td>2</td>\n",
              "      <td>2</td>\n",
              "      <td>19</td>\n",
              "      <td>Jump Shot</td>\n",
              "      <td>2PT Field Goal</td>\n",
              "      <td>Mid-Range</td>\n",
              "      <td>Left Side Center(LC)</td>\n",
              "      <td>16-24 ft.</td>\n",
              "      <td>16</td>\n",
              "      <td>-68</td>\n",
              "      <td>148</td>\n",
              "      <td>0</td>\n",
              "      <td>2009-10-28</td>\n",
              "      <td>GSW</td>\n",
              "      <td>HOU</td>\n",
              "      <td>Regular Season</td>\n",
              "      <td>0.0</td>\n",
              "    </tr>\n",
              "  </tbody>\n",
              "</table>\n",
              "</div>"
            ],
            "text/plain": [
              "    game_id  game_event_id  ...     season_type  scoremargin_before_shot\n",
              "0  20900015              4  ...  Regular Season                      2.0\n",
              "1  20900015             17  ...  Regular Season                      0.0\n",
              "2  20900015             53  ...  Regular Season                     -4.0\n",
              "3  20900015            141  ...  Regular Season                     -4.0\n",
              "4  20900015            249  ...  Regular Season                      0.0\n",
              "\n",
              "[5 rows x 20 columns]"
            ]
          },
          "metadata": {
            "tags": []
          },
          "execution_count": 6
        }
      ]
    },
    {
      "cell_type": "code",
      "metadata": {
        "id": "4BQDsTOxx-NS",
        "colab_type": "code",
        "colab": {}
      },
      "source": [
        ""
      ],
      "execution_count": 0,
      "outputs": []
    },
    {
      "cell_type": "code",
      "metadata": {
        "id": "mf2Q9YEx31ZA",
        "colab_type": "code",
        "colab": {
          "base_uri": "https://localhost:8080/",
          "height": 390
        },
        "outputId": "87d1faf0-91ac-4355-b024-26ef918f66d7"
      },
      "source": [
        "\n",
        "#double checking for missing values\n",
        "df.isna().sum()"
      ],
      "execution_count": 7,
      "outputs": [
        {
          "output_type": "execute_result",
          "data": {
            "text/plain": [
              "game_id                    0\n",
              "game_event_id              0\n",
              "player_name                0\n",
              "period                     0\n",
              "minutes_remaining          0\n",
              "seconds_remaining          0\n",
              "action_type                0\n",
              "shot_type                  0\n",
              "shot_zone_basic            0\n",
              "shot_zone_area             0\n",
              "shot_zone_range            0\n",
              "shot_distance              0\n",
              "loc_x                      0\n",
              "loc_y                      0\n",
              "shot_made_flag             0\n",
              "game_date                  0\n",
              "htm                        0\n",
              "vtm                        0\n",
              "season_type                0\n",
              "scoremargin_before_shot    0\n",
              "dtype: int64"
            ]
          },
          "metadata": {
            "tags": []
          },
          "execution_count": 7
        }
      ]
    },
    {
      "cell_type": "code",
      "metadata": {
        "id": "F2iFHfDvrloa",
        "colab_type": "code",
        "colab": {
          "base_uri": "https://localhost:8080/",
          "height": 750
        },
        "outputId": "3051d299-3a90-47e3-da1a-62b27346d886"
      },
      "source": [
        "def engineer_features(df):\n",
        "  \n",
        "  #Homecourt Advantage: Is the home team (htm) the Golden State Warriors (GSW) ?\n",
        "  df['homecourt_adv']= np.where(df['htm'] =='GSW',1,0)\n",
        "  \n",
        "  #Opponent: Who is the other team playing the Golden State Warriors?\n",
        "  df['opponent']=np.where(df['htm'] !='GSW',df['htm'],df['vtm'])\n",
        "  \n",
        "  #Seconds remaining in the period: Combine minutes remaining with seconds remaining, to get the total number of seconds remaining in the period.\n",
        "  df['secs_in_period']=df['minutes_remaining']*60+df['seconds_remaining']\n",
        "  \n",
        "  #Seconds remaining in the game: Combine period, and seconds remaining in the period, to get the total number of seconds remaining in the game. A basketball game has 4 periods, each 12 minutes long.\n",
        "  df['secs_in_game']=np.where(df['period']>=4,df['secs_in_period'],(4-df['period'])*(12*60)+df['secs_in_period'])\n",
        "  \n",
        "    \n",
        "  return df\n",
        "\n",
        "train_all=engineer_features(train_all)\n",
        "test =engineer_features(test)\n",
        "\n",
        "print(train_all.shape, test.shape)\n",
        "train_all.head()"
      ],
      "execution_count": 8,
      "outputs": [
        {
          "output_type": "stream",
          "text": [
            "/usr/local/lib/python3.6/dist-packages/ipykernel_launcher.py:4: SettingWithCopyWarning: \n",
            "A value is trying to be set on a copy of a slice from a DataFrame.\n",
            "Try using .loc[row_indexer,col_indexer] = value instead\n",
            "\n",
            "See the caveats in the documentation: http://pandas.pydata.org/pandas-docs/stable/indexing.html#indexing-view-versus-copy\n",
            "  after removing the cwd from sys.path.\n",
            "/usr/local/lib/python3.6/dist-packages/ipykernel_launcher.py:7: SettingWithCopyWarning: \n",
            "A value is trying to be set on a copy of a slice from a DataFrame.\n",
            "Try using .loc[row_indexer,col_indexer] = value instead\n",
            "\n",
            "See the caveats in the documentation: http://pandas.pydata.org/pandas-docs/stable/indexing.html#indexing-view-versus-copy\n",
            "  import sys\n",
            "/usr/local/lib/python3.6/dist-packages/ipykernel_launcher.py:10: SettingWithCopyWarning: \n",
            "A value is trying to be set on a copy of a slice from a DataFrame.\n",
            "Try using .loc[row_indexer,col_indexer] = value instead\n",
            "\n",
            "See the caveats in the documentation: http://pandas.pydata.org/pandas-docs/stable/indexing.html#indexing-view-versus-copy\n",
            "  # Remove the CWD from sys.path while we load stuff.\n",
            "/usr/local/lib/python3.6/dist-packages/ipykernel_launcher.py:13: SettingWithCopyWarning: \n",
            "A value is trying to be set on a copy of a slice from a DataFrame.\n",
            "Try using .loc[row_indexer,col_indexer] = value instead\n",
            "\n",
            "See the caveats in the documentation: http://pandas.pydata.org/pandas-docs/stable/indexing.html#indexing-view-versus-copy\n",
            "  del sys.path[0]\n"
          ],
          "name": "stderr"
        },
        {
          "output_type": "stream",
          "text": [
            "(12249, 24) (1709, 24)\n"
          ],
          "name": "stdout"
        },
        {
          "output_type": "execute_result",
          "data": {
            "text/html": [
              "<div>\n",
              "<style scoped>\n",
              "    .dataframe tbody tr th:only-of-type {\n",
              "        vertical-align: middle;\n",
              "    }\n",
              "\n",
              "    .dataframe tbody tr th {\n",
              "        vertical-align: top;\n",
              "    }\n",
              "\n",
              "    .dataframe thead th {\n",
              "        text-align: right;\n",
              "    }\n",
              "</style>\n",
              "<table border=\"1\" class=\"dataframe\">\n",
              "  <thead>\n",
              "    <tr style=\"text-align: right;\">\n",
              "      <th></th>\n",
              "      <th>game_id</th>\n",
              "      <th>game_event_id</th>\n",
              "      <th>player_name</th>\n",
              "      <th>period</th>\n",
              "      <th>minutes_remaining</th>\n",
              "      <th>seconds_remaining</th>\n",
              "      <th>action_type</th>\n",
              "      <th>shot_type</th>\n",
              "      <th>shot_zone_basic</th>\n",
              "      <th>shot_zone_area</th>\n",
              "      <th>shot_zone_range</th>\n",
              "      <th>shot_distance</th>\n",
              "      <th>loc_x</th>\n",
              "      <th>loc_y</th>\n",
              "      <th>shot_made_flag</th>\n",
              "      <th>game_date</th>\n",
              "      <th>htm</th>\n",
              "      <th>vtm</th>\n",
              "      <th>season_type</th>\n",
              "      <th>scoremargin_before_shot</th>\n",
              "      <th>homecourt_adv</th>\n",
              "      <th>opponent</th>\n",
              "      <th>secs_in_period</th>\n",
              "      <th>secs_in_game</th>\n",
              "    </tr>\n",
              "  </thead>\n",
              "  <tbody>\n",
              "    <tr>\n",
              "      <th>0</th>\n",
              "      <td>20900015</td>\n",
              "      <td>4</td>\n",
              "      <td>Stephen Curry</td>\n",
              "      <td>1</td>\n",
              "      <td>11</td>\n",
              "      <td>25</td>\n",
              "      <td>Jump Shot</td>\n",
              "      <td>3PT Field Goal</td>\n",
              "      <td>Above the Break 3</td>\n",
              "      <td>Right Side Center(RC)</td>\n",
              "      <td>24+ ft.</td>\n",
              "      <td>26</td>\n",
              "      <td>99</td>\n",
              "      <td>249</td>\n",
              "      <td>0</td>\n",
              "      <td>2009-10-28</td>\n",
              "      <td>GSW</td>\n",
              "      <td>HOU</td>\n",
              "      <td>Regular Season</td>\n",
              "      <td>2.0</td>\n",
              "      <td>1</td>\n",
              "      <td>HOU</td>\n",
              "      <td>685</td>\n",
              "      <td>2845</td>\n",
              "    </tr>\n",
              "    <tr>\n",
              "      <th>1</th>\n",
              "      <td>20900015</td>\n",
              "      <td>17</td>\n",
              "      <td>Stephen Curry</td>\n",
              "      <td>1</td>\n",
              "      <td>9</td>\n",
              "      <td>31</td>\n",
              "      <td>Step Back Jump shot</td>\n",
              "      <td>2PT Field Goal</td>\n",
              "      <td>Mid-Range</td>\n",
              "      <td>Left Side Center(LC)</td>\n",
              "      <td>16-24 ft.</td>\n",
              "      <td>18</td>\n",
              "      <td>-122</td>\n",
              "      <td>145</td>\n",
              "      <td>1</td>\n",
              "      <td>2009-10-28</td>\n",
              "      <td>GSW</td>\n",
              "      <td>HOU</td>\n",
              "      <td>Regular Season</td>\n",
              "      <td>0.0</td>\n",
              "      <td>1</td>\n",
              "      <td>HOU</td>\n",
              "      <td>571</td>\n",
              "      <td>2731</td>\n",
              "    </tr>\n",
              "    <tr>\n",
              "      <th>2</th>\n",
              "      <td>20900015</td>\n",
              "      <td>53</td>\n",
              "      <td>Stephen Curry</td>\n",
              "      <td>1</td>\n",
              "      <td>6</td>\n",
              "      <td>2</td>\n",
              "      <td>Jump Shot</td>\n",
              "      <td>2PT Field Goal</td>\n",
              "      <td>In The Paint (Non-RA)</td>\n",
              "      <td>Center(C)</td>\n",
              "      <td>8-16 ft.</td>\n",
              "      <td>14</td>\n",
              "      <td>-60</td>\n",
              "      <td>129</td>\n",
              "      <td>0</td>\n",
              "      <td>2009-10-28</td>\n",
              "      <td>GSW</td>\n",
              "      <td>HOU</td>\n",
              "      <td>Regular Season</td>\n",
              "      <td>-4.0</td>\n",
              "      <td>1</td>\n",
              "      <td>HOU</td>\n",
              "      <td>362</td>\n",
              "      <td>2522</td>\n",
              "    </tr>\n",
              "    <tr>\n",
              "      <th>3</th>\n",
              "      <td>20900015</td>\n",
              "      <td>141</td>\n",
              "      <td>Stephen Curry</td>\n",
              "      <td>2</td>\n",
              "      <td>9</td>\n",
              "      <td>49</td>\n",
              "      <td>Jump Shot</td>\n",
              "      <td>2PT Field Goal</td>\n",
              "      <td>Mid-Range</td>\n",
              "      <td>Left Side(L)</td>\n",
              "      <td>16-24 ft.</td>\n",
              "      <td>19</td>\n",
              "      <td>-172</td>\n",
              "      <td>82</td>\n",
              "      <td>0</td>\n",
              "      <td>2009-10-28</td>\n",
              "      <td>GSW</td>\n",
              "      <td>HOU</td>\n",
              "      <td>Regular Season</td>\n",
              "      <td>-4.0</td>\n",
              "      <td>1</td>\n",
              "      <td>HOU</td>\n",
              "      <td>589</td>\n",
              "      <td>2029</td>\n",
              "    </tr>\n",
              "    <tr>\n",
              "      <th>4</th>\n",
              "      <td>20900015</td>\n",
              "      <td>249</td>\n",
              "      <td>Stephen Curry</td>\n",
              "      <td>2</td>\n",
              "      <td>2</td>\n",
              "      <td>19</td>\n",
              "      <td>Jump Shot</td>\n",
              "      <td>2PT Field Goal</td>\n",
              "      <td>Mid-Range</td>\n",
              "      <td>Left Side Center(LC)</td>\n",
              "      <td>16-24 ft.</td>\n",
              "      <td>16</td>\n",
              "      <td>-68</td>\n",
              "      <td>148</td>\n",
              "      <td>0</td>\n",
              "      <td>2009-10-28</td>\n",
              "      <td>GSW</td>\n",
              "      <td>HOU</td>\n",
              "      <td>Regular Season</td>\n",
              "      <td>0.0</td>\n",
              "      <td>1</td>\n",
              "      <td>HOU</td>\n",
              "      <td>139</td>\n",
              "      <td>1579</td>\n",
              "    </tr>\n",
              "  </tbody>\n",
              "</table>\n",
              "</div>"
            ],
            "text/plain": [
              "    game_id  game_event_id  ... secs_in_period  secs_in_game\n",
              "0  20900015              4  ...            685          2845\n",
              "1  20900015             17  ...            571          2731\n",
              "2  20900015             53  ...            362          2522\n",
              "3  20900015            141  ...            589          2029\n",
              "4  20900015            249  ...            139          1579\n",
              "\n",
              "[5 rows x 24 columns]"
            ]
          },
          "metadata": {
            "tags": []
          },
          "execution_count": 8
        }
      ]
    },
    {
      "cell_type": "code",
      "metadata": {
        "id": "o1TQwppxvENH",
        "colab_type": "code",
        "colab": {
          "base_uri": "https://localhost:8080/",
          "height": 35
        },
        "outputId": "d181c504-b03b-42e4-901b-fa9975bbb12d"
      },
      "source": [
        "#how many periods do we have in the data\n",
        "df.period.unique()"
      ],
      "execution_count": 9,
      "outputs": [
        {
          "output_type": "execute_result",
          "data": {
            "text/plain": [
              "array([1, 2, 4, 3, 5, 6])"
            ]
          },
          "metadata": {
            "tags": []
          },
          "execution_count": 9
        }
      ]
    },
    {
      "cell_type": "markdown",
      "metadata": {
        "colab_type": "text",
        "id": "eLs7pt7NFJLF"
      },
      "source": [
        "## **4. Decide how to validate** your model. \n",
        "\n",
        ">Choose one of the following options. Any of these options are good. You are not graded on which you choose.\n",
        ">\n",
        ">- **Train/validate/test split: train on the 2009-10 season through 2016-17 season, validate with the 2017-18 season.** You'll know you've split the data correctly when your train set has 11,081 observations, and your validation set has 1,168 observations.\n",
        ">- **Train/validate/test split: random 80/20%** train/validate split.\n",
        ">- **Cross-validation** with independent test set. You may use any scikit-learn cross-validation method."
      ]
    },
    {
      "cell_type": "code",
      "metadata": {
        "id": "WaWyzsCLozME",
        "colab_type": "code",
        "colab": {
          "base_uri": "https://localhost:8080/",
          "height": 35
        },
        "outputId": "796613fa-bc83-420f-8dc9-4c262ab27f4a"
      },
      "source": [
        "cutoff = pd.to_datetime('2017-10-01')\n",
        "train= train_all[train_all['game_date'] < cutoff]\n",
        "val = train_all[train_all['game_date'] >= cutoff]\n",
        "\n",
        "# Check test data shape\n",
        "assert val.shape == (1168, 24)\n",
        "\n",
        "\n",
        "train.shape, val.shape\n"
      ],
      "execution_count": 10,
      "outputs": [
        {
          "output_type": "execute_result",
          "data": {
            "text/plain": [
              "((11081, 24), (1168, 24))"
            ]
          },
          "metadata": {
            "tags": []
          },
          "execution_count": 10
        }
      ]
    },
    {
      "cell_type": "markdown",
      "metadata": {
        "colab_type": "text",
        "id": "oQ2lWlu7JPRt"
      },
      "source": [
        "## 5. Use a scikit-learn pipeline to encode categoricals and fit a Decision Tree or Random Forest model."
      ]
    },
    {
      "cell_type": "code",
      "metadata": {
        "id": "AvH1f-Cd1SYI",
        "colab_type": "code",
        "colab": {
          "base_uri": "https://localhost:8080/",
          "height": 352
        },
        "outputId": "0f46f2db-d18e-47c6-fd7c-3328a90cb1a5"
      },
      "source": [
        "#looking at categorical variables for cardinality\n",
        "df.describe(exclude = 'number').T.sort_values(by = 'unique')"
      ],
      "execution_count": 11,
      "outputs": [
        {
          "output_type": "execute_result",
          "data": {
            "text/html": [
              "<div>\n",
              "<style scoped>\n",
              "    .dataframe tbody tr th:only-of-type {\n",
              "        vertical-align: middle;\n",
              "    }\n",
              "\n",
              "    .dataframe tbody tr th {\n",
              "        vertical-align: top;\n",
              "    }\n",
              "\n",
              "    .dataframe thead th {\n",
              "        text-align: right;\n",
              "    }\n",
              "</style>\n",
              "<table border=\"1\" class=\"dataframe\">\n",
              "  <thead>\n",
              "    <tr style=\"text-align: right;\">\n",
              "      <th></th>\n",
              "      <th>count</th>\n",
              "      <th>unique</th>\n",
              "      <th>top</th>\n",
              "      <th>freq</th>\n",
              "      <th>first</th>\n",
              "      <th>last</th>\n",
              "    </tr>\n",
              "  </thead>\n",
              "  <tbody>\n",
              "    <tr>\n",
              "      <th>player_name</th>\n",
              "      <td>13958</td>\n",
              "      <td>1</td>\n",
              "      <td>Stephen Curry</td>\n",
              "      <td>13958</td>\n",
              "      <td>NaN</td>\n",
              "      <td>NaN</td>\n",
              "    </tr>\n",
              "    <tr>\n",
              "      <th>shot_type</th>\n",
              "      <td>13958</td>\n",
              "      <td>2</td>\n",
              "      <td>2PT Field Goal</td>\n",
              "      <td>7135</td>\n",
              "      <td>NaN</td>\n",
              "      <td>NaN</td>\n",
              "    </tr>\n",
              "    <tr>\n",
              "      <th>season_type</th>\n",
              "      <td>13958</td>\n",
              "      <td>2</td>\n",
              "      <td>Regular Season</td>\n",
              "      <td>11846</td>\n",
              "      <td>NaN</td>\n",
              "      <td>NaN</td>\n",
              "    </tr>\n",
              "    <tr>\n",
              "      <th>shot_zone_range</th>\n",
              "      <td>13958</td>\n",
              "      <td>5</td>\n",
              "      <td>24+ ft.</td>\n",
              "      <td>6721</td>\n",
              "      <td>NaN</td>\n",
              "      <td>NaN</td>\n",
              "    </tr>\n",
              "    <tr>\n",
              "      <th>shot_zone_area</th>\n",
              "      <td>13958</td>\n",
              "      <td>6</td>\n",
              "      <td>Center(C)</td>\n",
              "      <td>5987</td>\n",
              "      <td>NaN</td>\n",
              "      <td>NaN</td>\n",
              "    </tr>\n",
              "    <tr>\n",
              "      <th>shot_zone_basic</th>\n",
              "      <td>13958</td>\n",
              "      <td>7</td>\n",
              "      <td>Above the Break 3</td>\n",
              "      <td>5695</td>\n",
              "      <td>NaN</td>\n",
              "      <td>NaN</td>\n",
              "    </tr>\n",
              "    <tr>\n",
              "      <th>htm</th>\n",
              "      <td>13958</td>\n",
              "      <td>32</td>\n",
              "      <td>GSW</td>\n",
              "      <td>6871</td>\n",
              "      <td>NaN</td>\n",
              "      <td>NaN</td>\n",
              "    </tr>\n",
              "    <tr>\n",
              "      <th>vtm</th>\n",
              "      <td>13958</td>\n",
              "      <td>32</td>\n",
              "      <td>GSW</td>\n",
              "      <td>7087</td>\n",
              "      <td>NaN</td>\n",
              "      <td>NaN</td>\n",
              "    </tr>\n",
              "    <tr>\n",
              "      <th>action_type</th>\n",
              "      <td>13958</td>\n",
              "      <td>53</td>\n",
              "      <td>Jump Shot</td>\n",
              "      <td>6657</td>\n",
              "      <td>NaN</td>\n",
              "      <td>NaN</td>\n",
              "    </tr>\n",
              "    <tr>\n",
              "      <th>game_date</th>\n",
              "      <td>13958</td>\n",
              "      <td>801</td>\n",
              "      <td>2013-05-06 00:00:00</td>\n",
              "      <td>35</td>\n",
              "      <td>2009-10-28 00:00:00</td>\n",
              "      <td>2019-06-05 00:00:00</td>\n",
              "    </tr>\n",
              "  </tbody>\n",
              "</table>\n",
              "</div>"
            ],
            "text/plain": [
              "                 count unique  ...                first                 last\n",
              "player_name      13958      1  ...                  NaN                  NaN\n",
              "shot_type        13958      2  ...                  NaN                  NaN\n",
              "season_type      13958      2  ...                  NaN                  NaN\n",
              "shot_zone_range  13958      5  ...                  NaN                  NaN\n",
              "shot_zone_area   13958      6  ...                  NaN                  NaN\n",
              "shot_zone_basic  13958      7  ...                  NaN                  NaN\n",
              "htm              13958     32  ...                  NaN                  NaN\n",
              "vtm              13958     32  ...                  NaN                  NaN\n",
              "action_type      13958     53  ...                  NaN                  NaN\n",
              "game_date        13958    801  ...  2009-10-28 00:00:00  2019-06-05 00:00:00\n",
              "\n",
              "[10 rows x 6 columns]"
            ]
          },
          "metadata": {
            "tags": []
          },
          "execution_count": 11
        }
      ]
    },
    {
      "cell_type": "code",
      "metadata": {
        "id": "UIp14tqT_mRc",
        "colab_type": "code",
        "colab": {
          "base_uri": "https://localhost:8080/",
          "height": 311
        },
        "outputId": "9b180d16-4eb5-445f-cc9d-1c730b04593f"
      },
      "source": [
        "df.describe()"
      ],
      "execution_count": 12,
      "outputs": [
        {
          "output_type": "execute_result",
          "data": {
            "text/html": [
              "<div>\n",
              "<style scoped>\n",
              "    .dataframe tbody tr th:only-of-type {\n",
              "        vertical-align: middle;\n",
              "    }\n",
              "\n",
              "    .dataframe tbody tr th {\n",
              "        vertical-align: top;\n",
              "    }\n",
              "\n",
              "    .dataframe thead th {\n",
              "        text-align: right;\n",
              "    }\n",
              "</style>\n",
              "<table border=\"1\" class=\"dataframe\">\n",
              "  <thead>\n",
              "    <tr style=\"text-align: right;\">\n",
              "      <th></th>\n",
              "      <th>game_id</th>\n",
              "      <th>game_event_id</th>\n",
              "      <th>period</th>\n",
              "      <th>minutes_remaining</th>\n",
              "      <th>seconds_remaining</th>\n",
              "      <th>shot_distance</th>\n",
              "      <th>loc_x</th>\n",
              "      <th>loc_y</th>\n",
              "      <th>shot_made_flag</th>\n",
              "      <th>scoremargin_before_shot</th>\n",
              "    </tr>\n",
              "  </thead>\n",
              "  <tbody>\n",
              "    <tr>\n",
              "      <th>count</th>\n",
              "      <td>1.395800e+04</td>\n",
              "      <td>13958.000000</td>\n",
              "      <td>13958.000000</td>\n",
              "      <td>13958.000000</td>\n",
              "      <td>13958.000000</td>\n",
              "      <td>13958.000000</td>\n",
              "      <td>13958.000000</td>\n",
              "      <td>13958.000000</td>\n",
              "      <td>13958.000000</td>\n",
              "      <td>13958.000000</td>\n",
              "    </tr>\n",
              "    <tr>\n",
              "      <th>mean</th>\n",
              "      <td>2.442837e+07</td>\n",
              "      <td>270.438458</td>\n",
              "      <td>2.412380</td>\n",
              "      <td>4.727540</td>\n",
              "      <td>28.506376</td>\n",
              "      <td>17.600373</td>\n",
              "      <td>-0.554162</td>\n",
              "      <td>131.257988</td>\n",
              "      <td>0.472919</td>\n",
              "      <td>1.615561</td>\n",
              "    </tr>\n",
              "    <tr>\n",
              "      <th>std</th>\n",
              "      <td>7.226620e+06</td>\n",
              "      <td>169.927170</td>\n",
              "      <td>1.125828</td>\n",
              "      <td>3.331646</td>\n",
              "      <td>17.597701</td>\n",
              "      <td>10.295807</td>\n",
              "      <td>124.721869</td>\n",
              "      <td>102.666562</td>\n",
              "      <td>0.499284</td>\n",
              "      <td>10.127139</td>\n",
              "    </tr>\n",
              "    <tr>\n",
              "      <th>min</th>\n",
              "      <td>2.090002e+07</td>\n",
              "      <td>2.000000</td>\n",
              "      <td>1.000000</td>\n",
              "      <td>0.000000</td>\n",
              "      <td>0.000000</td>\n",
              "      <td>0.000000</td>\n",
              "      <td>-250.000000</td>\n",
              "      <td>-41.000000</td>\n",
              "      <td>0.000000</td>\n",
              "      <td>-39.000000</td>\n",
              "    </tr>\n",
              "    <tr>\n",
              "      <th>25%</th>\n",
              "      <td>2.120091e+07</td>\n",
              "      <td>109.000000</td>\n",
              "      <td>1.000000</td>\n",
              "      <td>2.000000</td>\n",
              "      <td>13.000000</td>\n",
              "      <td>8.000000</td>\n",
              "      <td>-96.000000</td>\n",
              "      <td>23.000000</td>\n",
              "      <td>0.000000</td>\n",
              "      <td>-4.000000</td>\n",
              "    </tr>\n",
              "    <tr>\n",
              "      <th>50%</th>\n",
              "      <td>2.150026e+07</td>\n",
              "      <td>275.500000</td>\n",
              "      <td>2.000000</td>\n",
              "      <td>4.000000</td>\n",
              "      <td>29.000000</td>\n",
              "      <td>22.000000</td>\n",
              "      <td>1.000000</td>\n",
              "      <td>141.000000</td>\n",
              "      <td>0.000000</td>\n",
              "      <td>1.000000</td>\n",
              "    </tr>\n",
              "    <tr>\n",
              "      <th>75%</th>\n",
              "      <td>2.170096e+07</td>\n",
              "      <td>398.000000</td>\n",
              "      <td>3.000000</td>\n",
              "      <td>7.000000</td>\n",
              "      <td>44.000000</td>\n",
              "      <td>25.000000</td>\n",
              "      <td>95.000000</td>\n",
              "      <td>219.000000</td>\n",
              "      <td>1.000000</td>\n",
              "      <td>8.000000</td>\n",
              "    </tr>\n",
              "    <tr>\n",
              "      <th>max</th>\n",
              "      <td>4.180040e+07</td>\n",
              "      <td>752.000000</td>\n",
              "      <td>6.000000</td>\n",
              "      <td>11.000000</td>\n",
              "      <td>59.000000</td>\n",
              "      <td>83.000000</td>\n",
              "      <td>247.000000</td>\n",
              "      <td>811.000000</td>\n",
              "      <td>1.000000</td>\n",
              "      <td>43.000000</td>\n",
              "    </tr>\n",
              "  </tbody>\n",
              "</table>\n",
              "</div>"
            ],
            "text/plain": [
              "            game_id  game_event_id  ...  shot_made_flag  scoremargin_before_shot\n",
              "count  1.395800e+04   13958.000000  ...    13958.000000             13958.000000\n",
              "mean   2.442837e+07     270.438458  ...        0.472919                 1.615561\n",
              "std    7.226620e+06     169.927170  ...        0.499284                10.127139\n",
              "min    2.090002e+07       2.000000  ...        0.000000               -39.000000\n",
              "25%    2.120091e+07     109.000000  ...        0.000000                -4.000000\n",
              "50%    2.150026e+07     275.500000  ...        0.000000                 1.000000\n",
              "75%    2.170096e+07     398.000000  ...        1.000000                 8.000000\n",
              "max    4.180040e+07     752.000000  ...        1.000000                43.000000\n",
              "\n",
              "[8 rows x 10 columns]"
            ]
          },
          "metadata": {
            "tags": []
          },
          "execution_count": 12
        }
      ]
    },
    {
      "cell_type": "code",
      "metadata": {
        "id": "QrjThklx1WHD",
        "colab_type": "code",
        "colab": {}
      },
      "source": [
        "# The status_group column is the target\n",
        "target = 'shot_made_flag'\n",
        "\n",
        "# Get a dataframe with all train columns except the target\n",
        "train_features = train.drop(columns=[target])\n",
        "\n",
        "# Get a list of the numeric features\n",
        "numeric_features = train_features.select_dtypes(include='number').columns.tolist()\n",
        "\n",
        "# Get a series with the cardinality of the nonnumeric features\n",
        "cardinality = train_features.select_dtypes(exclude='number').nunique()\n",
        "\n",
        "# Get a list of all categorical features with cardinality <= 50\n",
        "categorical_features = cardinality[cardinality <= 54].index.tolist()\n",
        "\n",
        "# Combine the lists \n",
        "features = numeric_features + categorical_features"
      ],
      "execution_count": 0,
      "outputs": []
    },
    {
      "cell_type": "code",
      "metadata": {
        "colab_type": "code",
        "id": "X2S8mUuJy_CB",
        "colab": {}
      },
      "source": [
        "# Arrange data into X features matrix and y target vector\n",
        "X_train = train[features]\n",
        "y_train = train[target]\n",
        "\n",
        "X_val = val[features]\n",
        "y_val = val[target]\n",
        "\n",
        "X_test = test[features]\n",
        "y_test = test[target]"
      ],
      "execution_count": 0,
      "outputs": []
    },
    {
      "cell_type": "code",
      "metadata": {
        "id": "X_4w_6F84sXb",
        "colab_type": "code",
        "colab": {
          "base_uri": "https://localhost:8080/",
          "height": 408
        },
        "outputId": "034c455f-2eea-444f-86ae-0eb05ec31b26"
      },
      "source": [
        "\n",
        "# Make pipeline!\n",
        "pipeline = make_pipeline(\n",
        "    ce.OneHotEncoder(use_cat_names=True), \n",
        "    RandomForestClassifier(n_estimators=100, random_state=42, n_jobs=-1)\n",
        ")\n",
        "\n",
        "# Fit on train\n",
        "pipeline.fit(X_train, y_train)\n",
        "\n"
      ],
      "execution_count": 15,
      "outputs": [
        {
          "output_type": "execute_result",
          "data": {
            "text/plain": [
              "Pipeline(memory=None,\n",
              "         steps=[('onehotencoder',\n",
              "                 OneHotEncoder(cols=['player_name', 'action_type', 'shot_type',\n",
              "                                     'shot_zone_basic', 'shot_zone_area',\n",
              "                                     'shot_zone_range', 'htm', 'vtm',\n",
              "                                     'season_type', 'opponent'],\n",
              "                               drop_invariant=False, handle_missing='value',\n",
              "                               handle_unknown='value', return_df=True,\n",
              "                               use_cat_names=True, verbose=0)),\n",
              "                ('randomforestclassifier',\n",
              "                 RandomForestClassifier(bootstrap=True, class_weight=None,\n",
              "                                        criterion='gini', max_depth=None,\n",
              "                                        max_features='auto',\n",
              "                                        max_leaf_nodes=None,\n",
              "                                        min_impurity_decrease=0.0,\n",
              "                                        min_impurity_split=None,\n",
              "                                        min_samples_leaf=1, min_samples_split=2,\n",
              "                                        min_weight_fraction_leaf=0.0,\n",
              "                                        n_estimators=100, n_jobs=-1,\n",
              "                                        oob_score=False, random_state=42,\n",
              "                                        verbose=0, warm_start=False))],\n",
              "         verbose=False)"
            ]
          },
          "metadata": {
            "tags": []
          },
          "execution_count": 15
        }
      ]
    },
    {
      "cell_type": "markdown",
      "metadata": {
        "colab_type": "text",
        "id": "8kJXxFpty_CH"
      },
      "source": [
        "## 6.Get your model's validation accuracy\n",
        "\n",
        "> (Multiple times if you try multiple iterations.)"
      ]
    },
    {
      "cell_type": "code",
      "metadata": {
        "colab_type": "code",
        "id": "7560JKvxy_CJ",
        "colab": {
          "base_uri": "https://localhost:8080/",
          "height": 52
        },
        "outputId": "27234154-5b9b-41d2-a236-42e9dd19bebe"
      },
      "source": [
        "# score on val\n",
        "y_pred = pipeline.predict(X_val)\n",
        "print('Validation Accuracy', accuracy_score(y_val, y_pred))\n",
        "print ('Improvement vs Baseline', accuracy_score(y_val, y_pred)-baseline)"
      ],
      "execution_count": 16,
      "outputs": [
        {
          "output_type": "stream",
          "text": [
            "Validation Accuracy 0.5967465753424658\n",
            "Improvement vs Baseline 0.06966557534246576\n"
          ],
          "name": "stdout"
        }
      ]
    },
    {
      "cell_type": "code",
      "metadata": {
        "id": "M_AmiIU2AesN",
        "colab_type": "code",
        "colab": {}
      },
      "source": [
        "#new_baseline\n",
        "baseline=0.5967465753424658"
      ],
      "execution_count": 0,
      "outputs": []
    },
    {
      "cell_type": "markdown",
      "metadata": {
        "id": "uQaY7_IgASFS",
        "colab_type": "text"
      },
      "source": [
        "#Improvement"
      ]
    },
    {
      "cell_type": "code",
      "metadata": {
        "id": "7EhS30Qo_TMv",
        "colab_type": "code",
        "colab": {}
      },
      "source": [
        "#wrangling data\n",
        "def wrangle(X):\n",
        "    \"\"\"Wrangles train, validate, and test sets in the same way\"\"\"\n",
        "    X = X.copy()\n",
        "\n",
        "    # Convert date_recorded to datetime\n",
        "    X['game_date'] = pd.to_datetime(X['game_date'], infer_datetime_format=True)\n",
        "    \n",
        "    # Extract components from date_recorded, then drop the original column\n",
        "    X['year_recorded'] = X['game_date'].dt.year\n",
        "    X['month_recorded'] = X['game_date'].dt.month\n",
        "    X['day_recorded'] = X['game_date'].dt.day\n",
        "    X = X.drop(columns='game_date')\n",
        "        \n",
        "    # Drop recorded_by (never varies) and id (always varies, random)\n",
        "    unusable_variance = ['player_name']\n",
        "    X = X.drop(columns=unusable_variance)\n",
        "    \n",
        "    return X\n",
        "\n",
        "# Wrangle train, validate, and test sets in the same way\n",
        "train = wrangle(train)\n",
        "val = wrangle(val)\n",
        "test = wrangle(test)"
      ],
      "execution_count": 0,
      "outputs": []
    },
    {
      "cell_type": "code",
      "metadata": {
        "id": "JqD8Nco55tFm",
        "colab_type": "code",
        "colab": {
          "base_uri": "https://localhost:8080/",
          "height": 52
        },
        "outputId": "1ab364e6-cc8e-4265-d669-6b28a1613c25"
      },
      "source": [
        "# The status_group column is the target\n",
        "target = 'shot_made_flag'\n",
        "\n",
        "# Get a dataframe with all train columns except the target\n",
        "train_features = train.drop(columns=[target])\n",
        "\n",
        "# Get a list of the numeric features\n",
        "numeric_features = train_features.select_dtypes(include='number').columns.tolist()\n",
        "\n",
        "# Get a series with the cardinality of the nonnumeric features\n",
        "cardinality = train_features.select_dtypes(exclude='number').nunique()\n",
        "\n",
        "# Get a list of all categorical features with cardinality <= 50\n",
        "categorical_features = cardinality[cardinality <= 54].index.tolist()\n",
        "\n",
        "# Combine the lists \n",
        "features = numeric_features + categorical_features\n",
        "\n",
        "# Arrange data into X features matrix and y target vector\n",
        "X_train = train[features]\n",
        "y_train = train[target]\n",
        "\n",
        "X_val = val[features]\n",
        "y_val = val[target]\n",
        "\n",
        "X_test = test[features]\n",
        "y_test = test[target]\n",
        "# Make pipeline!\n",
        "pipeline = make_pipeline(\n",
        "    ce.OneHotEncoder(use_cat_names=True), \n",
        "    RandomForestClassifier(n_estimators=100, random_state=42, n_jobs=-1)\n",
        ")\n",
        "\n",
        "# Fit on train, score on val\n",
        "pipeline.fit(X_train, y_train)\n",
        "y_pred = pipeline.predict(X_val)\n",
        "print('Validation Accuracy', accuracy_score(y_val, y_pred))\n",
        "print ('Improvement vs Baseline', accuracy_score(y_val, y_pred)-baseline)"
      ],
      "execution_count": 19,
      "outputs": [
        {
          "output_type": "stream",
          "text": [
            "Validation Accuracy 0.5976027397260274\n",
            "Improvement vs Baseline 0.0008561643835616195\n"
          ],
          "name": "stdout"
        }
      ]
    },
    {
      "cell_type": "code",
      "metadata": {
        "id": "NXfjT3t4GB35",
        "colab_type": "code",
        "colab": {}
      },
      "source": [
        "#New Baseline\n",
        "baseline=0.5976027397260274"
      ],
      "execution_count": 0,
      "outputs": []
    },
    {
      "cell_type": "code",
      "metadata": {
        "id": "sPSKUfXEAZo7",
        "colab_type": "code",
        "colab": {
          "base_uri": "https://localhost:8080/",
          "height": 617
        },
        "outputId": "07c860c7-4cf1-4bd1-e36b-0e52539b6550"
      },
      "source": [
        "#graphing relationship between shots taken and location\n",
        "import plotly.express as px\n",
        "px.scatter(train, x='loc_x', y='loc_y', color='shot_made_flag', opacity=0.5, title='Shots Made by Location')\n"
      ],
      "execution_count": 21,
      "outputs": [
        {
          "output_type": "display_data",
          "data": {
            "text/html": [
              "<html>\n",
              "<head><meta charset=\"utf-8\" /></head>\n",
              "<body>\n",
              "    <div>\n",
              "            <script src=\"https://cdnjs.cloudflare.com/ajax/libs/mathjax/2.7.5/MathJax.js?config=TeX-AMS-MML_SVG\"></script><script type=\"text/javascript\">if (window.MathJax) {MathJax.Hub.Config({SVG: {font: \"STIX-Web\"}});}</script>\n",
              "                <script type=\"text/javascript\">window.PlotlyConfig = {MathJaxConfig: 'local'};</script>\n",
              "        <script src=\"https://cdn.plot.ly/plotly-latest.min.js\"></script>    \n",
              "            <div id=\"f6dd6d21-55fa-45ff-9d58-c1982adae6bd\" class=\"plotly-graph-div\" style=\"height:600px; width:100%;\"></div>\n",
              "            <script type=\"text/javascript\">\n",
              "                \n",
              "                    window.PLOTLYENV=window.PLOTLYENV || {};\n",
              "                    \n",
              "                if (document.getElementById(\"f6dd6d21-55fa-45ff-9d58-c1982adae6bd\")) {\n",
              "                    Plotly.newPlot(\n",
              "                        'f6dd6d21-55fa-45ff-9d58-c1982adae6bd',\n",
              "                        [{\"hoverlabel\": {\"namelength\": 0}, \"hovertemplate\": \"loc_x=%{x}<br>loc_y=%{y}<br>shot_made_flag=%{marker.color}\", \"legendgroup\": \"\", \"marker\": {\"color\": [0, 1, 0, 0, 0, 0, 1, 1, 1, 1, 1, 1, 0, 1, 1, 1, 0, 0, 0, 1, 1, 1, 0, 1, 0, 0, 1, 0, 0, 0, 1, 0, 1, 0, 0, 0, 1, 0, 1, 1, 0, 0, 1, 0, 0, 1, 0, 0, 1, 0, 1, 0, 0, 1, 0, 1, 1, 0, 0, 1, 1, 1, 1, 0, 1, 0, 1, 1, 0, 1, 1, 0, 1, 0, 0, 0, 1, 1, 1, 0, 0, 0, 1, 0, 0, 1, 0, 0, 1, 0, 1, 0, 0, 0, 1, 1, 0, 1, 0, 0, 0, 0, 1, 1, 1, 1, 0, 0, 0, 0, 0, 0, 0, 1, 0, 1, 0, 1, 0, 1, 0, 1, 0, 0, 1, 1, 0, 1, 0, 0, 0, 0, 0, 0, 0, 1, 0, 0, 0, 1, 1, 0, 0, 1, 0, 1, 1, 1, 0, 0, 0, 0, 0, 0, 0, 0, 1, 0, 0, 1, 0, 1, 1, 1, 1, 1, 1, 0, 0, 1, 0, 0, 1, 0, 0, 1, 0, 1, 0, 1, 1, 1, 0, 1, 0, 1, 1, 0, 1, 1, 1, 0, 0, 0, 1, 0, 1, 1, 0, 0, 1, 0, 0, 0, 1, 0, 1, 0, 0, 0, 1, 0, 0, 1, 0, 1, 1, 0, 0, 1, 1, 0, 0, 1, 1, 0, 0, 0, 0, 0, 0, 1, 1, 1, 1, 0, 1, 0, 0, 1, 0, 0, 0, 0, 1, 1, 1, 1, 1, 1, 0, 0, 0, 0, 1, 0, 1, 1, 0, 1, 0, 0, 1, 1, 0, 1, 1, 0, 0, 0, 0, 1, 0, 0, 1, 0, 0, 0, 1, 1, 0, 1, 1, 0, 1, 1, 0, 0, 0, 0, 1, 1, 0, 0, 1, 1, 0, 0, 0, 0, 0, 0, 0, 0, 1, 1, 0, 0, 1, 1, 0, 1, 0, 1, 0, 1, 1, 0, 1, 0, 0, 1, 0, 0, 1, 1, 1, 0, 0, 1, 1, 1, 1, 1, 1, 1, 0, 0, 1, 1, 0, 1, 1, 1, 1, 0, 0, 1, 1, 0, 1, 1, 0, 0, 1, 0, 0, 1, 0, 0, 1, 1, 0, 0, 1, 1, 1, 0, 0, 1, 1, 1, 0, 0, 0, 0, 1, 0, 0, 0, 1, 1, 0, 1, 1, 0, 0, 1, 0, 0, 1, 1, 0, 0, 1, 0, 1, 0, 0, 0, 1, 0, 0, 0, 0, 1, 0, 0, 0, 1, 1, 1, 1, 1, 0, 1, 1, 0, 1, 0, 0, 0, 0, 0, 0, 1, 1, 0, 0, 1, 0, 0, 0, 1, 1, 1, 1, 1, 1, 1, 0, 0, 0, 1, 1, 0, 1, 0, 0, 1, 0, 1, 0, 0, 1, 0, 1, 0, 1, 1, 0, 0, 0, 1, 0, 1, 1, 1, 0, 0, 0, 0, 0, 0, 0, 0, 1, 0, 1, 1, 0, 1, 0, 0, 1, 0, 0, 1, 1, 1, 0, 1, 0, 0, 0, 1, 1, 1, 0, 1, 0, 0, 0, 0, 0, 1, 0, 0, 0, 1, 1, 0, 1, 1, 1, 1, 1, 0, 1, 0, 1, 0, 1, 0, 0, 0, 0, 1, 1, 1, 1, 1, 1, 0, 0, 1, 0, 0, 0, 0, 1, 0, 1, 0, 0, 0, 1, 0, 0, 1, 0, 0, 0, 1, 1, 0, 0, 0, 1, 0, 0, 0, 1, 0, 0, 1, 1, 0, 1, 1, 0, 1, 1, 0, 1, 0, 0, 0, 1, 1, 0, 1, 1, 0, 0, 1, 1, 0, 1, 1, 1, 0, 0, 0, 1, 0, 1, 0, 0, 0, 1, 1, 1, 0, 1, 1, 0, 1, 0, 0, 0, 0, 0, 1, 1, 1, 1, 1, 0, 0, 0, 0, 0, 0, 0, 0, 0, 1, 1, 0, 0, 0, 0, 1, 0, 0, 1, 0, 0, 0, 0, 1, 0, 1, 1, 0, 1, 1, 0, 1, 1, 0, 0, 1, 1, 0, 1, 1, 1, 1, 1, 0, 0, 0, 0, 0, 1, 1, 1, 0, 1, 0, 0, 1, 0, 1, 1, 1, 1, 1, 0, 1, 1, 1, 1, 0, 0, 1, 0, 0, 1, 1, 1, 0, 0, 0, 0, 0, 0, 0, 0, 1, 1, 1, 1, 0, 0, 0, 1, 1, 1, 0, 0, 0, 1, 1, 1, 1, 0, 0, 0, 1, 1, 1, 0, 1, 0, 1, 0, 1, 0, 0, 1, 1, 1, 0, 0, 0, 0, 1, 1, 0, 0, 0, 1, 1, 1, 0, 1, 0, 0, 0, 1, 1, 0, 0, 1, 0, 0, 0, 0, 0, 1, 1, 1, 0, 0, 1, 0, 1, 0, 0, 0, 0, 0, 0, 0, 1, 0, 1, 0, 1, 1, 1, 1, 0, 1, 1, 1, 1, 0, 0, 1, 1, 0, 0, 0, 0, 1, 0, 0, 0, 1, 0, 1, 1, 1, 0, 1, 0, 0, 0, 0, 1, 0, 0, 1, 1, 0, 0, 0, 0, 1, 0, 0, 0, 0, 0, 1, 1, 0, 0, 1, 1, 0, 0, 1, 1, 0, 0, 0, 1, 0, 0, 1, 1, 0, 0, 1, 0, 1, 0, 0, 0, 0, 1, 1, 0, 1, 1, 1, 0, 1, 1, 0, 1, 1, 1, 1, 0, 1, 0, 0, 0, 1, 0, 1, 1, 1, 0, 1, 1, 1, 1, 1, 0, 0, 1, 1, 0, 0, 1, 1, 0, 1, 0, 1, 0, 0, 0, 1, 0, 0, 0, 0, 1, 1, 0, 0, 1, 1, 1, 0, 0, 0, 0, 1, 1, 1, 1, 0, 1, 1, 0, 1, 1, 0, 0, 1, 1, 1, 0, 1, 0, 0, 0, 0, 0, 0, 0, 1, 0, 1, 1, 0, 1, 1, 1, 0, 0, 0, 0, 1, 1, 1, 1, 1, 0, 1, 0, 1, 0, 1, 0, 0, 1, 0, 1, 0, 0, 0, 0, 0, 0, 0, 0, 1, 1, 0, 1, 1, 0, 0, 1, 1, 0, 0, 1, 1, 0, 0, 0, 0, 0, 0, 1, 0, 1, 0, 0, 1, 0, 1, 1, 0, 0, 0, 0, 0, 1, 0, 0, 1, 1, 1, 0, 0, 0, 1, 1, 1, 1, 0, 0, 0, 0, 0, 1, 1, 0, 1, 0, 1, 0, 0, 1, 0, 1, 1, 1, 1, 0, 0, 1, 0, 0, 0, 0, 1, 1, 1, 1, 0, 1, 1, 0, 1, 0, 1, 0, 1, 1, 0, 1, 1, 0, 0, 0, 1, 0, 0, 1, 1, 1, 0, 1, 1, 1, 0, 0, 1, 1, 0, 1, 0, 0, 0, 0, 0, 0, 1, 1, 0, 1, 1, 1, 1, 0, 0, 1, 1, 0, 1, 0, 0, 0, 1, 0, 1, 0, 0, 0, 0, 1, 1, 1, 0, 0, 1, 0, 1, 1, 0, 1, 0, 1, 0, 0, 1, 0, 0, 0, 0, 1, 0, 1, 0, 1, 1, 0, 1, 1, 1, 1, 0, 1, 1, 0, 0, 0, 0, 1, 1, 1, 1, 0, 1, 1, 0, 1, 0, 1, 1, 0, 1, 1, 1, 1, 0, 0, 0, 1, 1, 1, 0, 1, 0, 0, 0, 0, 1, 0, 1, 1, 0, 0, 0, 0, 0, 0, 1, 1, 0, 0, 0, 1, 0, 1, 1, 0, 0, 1, 0, 0, 1, 0, 1, 1, 0, 0, 0, 1, 1, 1, 1, 1, 1, 0, 0, 1, 1, 0, 0, 0, 1, 1, 1, 1, 0, 1, 0, 0, 0, 1, 1, 1, 1, 0, 1, 0, 1, 0, 0, 0, 0, 1, 0, 1, 0, 0, 1, 0, 0, 1, 1, 0, 1, 0, 0, 1, 0, 0, 0, 0, 0, 0, 0, 0, 1, 0, 0, 0, 1, 1, 1, 0, 1, 1, 0, 1, 0, 0, 1, 0, 0, 0, 0, 0, 0, 1, 1, 1, 1, 0, 0, 1, 1, 0, 1, 0, 0, 1, 0, 1, 0, 0, 0, 1, 1, 0, 0, 1, 1, 0, 1, 1, 0, 0, 0, 0, 1, 1, 0, 1, 0, 1, 1, 1, 0, 1, 0, 0, 0, 0, 0, 0, 0, 1, 1, 0, 1, 0, 1, 0, 0, 1, 0, 0, 1, 0, 0, 1, 1, 0, 0, 0, 1, 1, 0, 1, 1, 0, 1, 0, 1, 0, 1, 1, 0, 0, 1, 1, 0, 1, 1, 1, 0, 1, 1, 1, 0, 1, 1, 0, 1, 1, 0, 1, 0, 1, 0, 0, 0, 1, 1, 0, 1, 1, 0, 1, 0, 1, 0, 1, 0, 0, 0, 0, 1, 1, 0, 1, 0, 1, 1, 0, 1, 1, 1, 1, 1, 1, 1, 0, 0, 1, 1, 1, 1, 0, 0, 1, 1, 1, 0, 0, 1, 0, 1, 0, 1, 0, 0, 1, 1, 0, 0, 0, 0, 1, 0, 0, 0, 0, 0, 1, 0, 0, 0, 0, 0, 0, 0, 0, 1, 0, 0, 1, 0, 0, 0, 1, 1, 0, 1, 0, 1, 1, 0, 0, 0, 1, 0, 0, 0, 0, 1, 0, 0, 1, 1, 0, 0, 0, 0, 1, 1, 1, 1, 1, 0, 1, 0, 1, 0, 1, 1, 1, 1, 0, 1, 0, 0, 0, 0, 1, 1, 1, 0, 0, 0, 0, 1, 1, 0, 1, 0, 0, 1, 1, 0, 1, 0, 1, 0, 1, 0, 1, 1, 0, 1, 0, 1, 0, 0, 0, 1, 1, 1, 0, 0, 1, 1, 0, 0, 0, 0, 0, 0, 0, 0, 0, 1, 0, 0, 0, 0, 1, 0, 0, 1, 1, 1, 0, 1, 1, 1, 0, 1, 0, 1, 0, 1, 0, 0, 0, 0, 0, 1, 0, 1, 0, 0, 0, 0, 0, 1, 1, 1, 0, 1, 1, 0, 0, 1, 0, 0, 0, 1, 0, 0, 1, 1, 0, 0, 0, 0, 1, 0, 1, 1, 1, 1, 1, 1, 1, 1, 0, 0, 1, 1, 0, 0, 1, 0, 0, 1, 0, 0, 0, 1, 1, 1, 1, 1, 1, 0, 1, 0, 1, 1, 0, 0, 1, 0, 1, 0, 1, 1, 0, 0, 1, 0, 1, 0, 0, 0, 0, 1, 1, 1, 1, 0, 0, 1, 1, 0, 1, 0, 0, 1, 1, 1, 1, 1, 0, 0, 0, 1, 1, 1, 1, 0, 1, 0, 0, 1, 1, 0, 1, 1, 0, 1, 0, 0, 0, 1, 1, 1, 0, 1, 0, 0, 0, 1, 1, 1, 1, 0, 1, 1, 0, 0, 1, 0, 1, 1, 0, 0, 0, 1, 1, 1, 1, 1, 1, 0, 0, 0, 1, 0, 1, 1, 0, 1, 0, 1, 0, 1, 0, 0, 1, 0, 0, 0, 1, 0, 1, 1, 1, 0, 0, 1, 1, 0, 1, 0, 1, 1, 1, 0, 0, 0, 1, 0, 1, 0, 1, 1, 0, 1, 1, 0, 1, 0, 0, 1, 1, 1, 0, 1, 1, 1, 1, 1, 0, 0, 0, 0, 0, 0, 1, 0, 1, 1, 1, 1, 1, 0, 0, 1, 1, 1, 0, 0, 0, 0, 1, 0, 0, 1, 1, 1, 1, 0, 1, 1, 0, 1, 0, 0, 1, 1, 0, 0, 1, 1, 1, 1, 0, 0, 0, 0, 0, 0, 1, 1, 0, 1, 1, 0, 1, 1, 1, 0, 0, 0, 0, 0, 1, 1, 1, 1, 0, 1, 1, 1, 0, 0, 1, 0, 0, 1, 0, 0, 0, 1, 1, 0, 0, 0, 0, 1, 0, 0, 1, 1, 0, 0, 1, 0, 1, 1, 0, 0, 1, 0, 1, 1, 0, 1, 0, 0, 1, 1, 1, 0, 1, 1, 1, 0, 0, 1, 1, 0, 0, 1, 1, 0, 0, 0, 1, 0, 0, 1, 1, 1, 0, 1, 1, 0, 0, 0, 0, 0, 0, 0, 0, 1, 0, 1, 0, 1, 0, 0, 0, 0, 0, 1, 1, 1, 1, 0, 1, 0, 1, 1, 1, 0, 0, 0, 0, 0, 1, 1, 0, 1, 1, 1, 0, 1, 0, 0, 1, 1, 1, 0, 1, 0, 1, 1, 0, 0, 1, 0, 1, 1, 1, 0, 0, 0, 0, 0, 1, 1, 1, 0, 1, 0, 1, 0, 1, 0, 0, 0, 0, 1, 0, 0, 0, 0, 0, 0, 1, 1, 1, 0, 0, 0, 1, 0, 0, 0, 1, 1, 0, 1, 0, 0, 1, 0, 1, 0, 0, 0, 0, 1, 0, 1, 0, 1, 1, 1, 1, 1, 1, 0, 1, 0, 0, 1, 1, 0, 0, 0, 1, 0, 1, 0, 0, 1, 0, 0, 0, 0, 0, 1, 1, 1, 1, 0, 1, 0, 0, 1, 1, 0, 1, 1, 1, 1, 0, 0, 0, 1, 1, 0, 0, 0, 0, 0, 0, 0, 0, 1, 0, 0, 0, 1, 0, 0, 0, 0, 1, 0, 0, 1, 0, 0, 0, 1, 0, 1, 0, 0, 0, 0, 1, 1, 1, 0, 0, 1, 0, 1, 1, 0, 1, 0, 0, 1, 1, 0, 0, 0, 0, 0, 0, 0, 1, 1, 0, 1, 1, 1, 0, 0, 0, 0, 0, 1, 1, 0, 0, 1, 1, 1, 1, 1, 1, 0, 1, 1, 1, 0, 0, 1, 0, 0, 1, 0, 1, 1, 1, 1, 1, 1, 0, 0, 1, 1, 1, 0, 1, 1, 0, 1, 0, 1, 0, 1, 1, 1, 0, 1, 1, 1, 0, 0, 0, 0, 0, 0, 1, 0, 0, 0, 0, 0, 1, 1, 1, 1, 0, 1, 1, 1, 0, 0, 0, 0, 1, 1, 1, 1, 0, 1, 1, 0, 0, 1, 0, 1, 0, 1, 1, 0, 0, 1, 1, 0, 0, 1, 1, 1, 1, 1, 0, 1, 1, 0, 0, 0, 1, 0, 0, 0, 0, 1, 1, 0, 0, 0, 0, 1, 1, 1, 0, 0, 1, 1, 0, 0, 0, 0, 0, 1, 1, 0, 1, 1, 1, 0, 1, 0, 0, 0, 1, 0, 1, 1, 1, 0, 1, 0, 1, 0, 1, 1, 1, 1, 1, 0, 0, 1, 0, 0, 0, 0, 0, 0, 0, 1, 1, 0, 1, 0, 1, 0, 1, 1, 0, 0, 0, 0, 0, 0, 1, 0, 1, 1, 0, 1, 1, 1, 1, 0, 1, 0, 1, 1, 0, 1, 1, 1, 0, 0, 0, 0, 0, 0, 1, 0, 1, 0, 0, 0, 1, 1, 1, 1, 1, 1, 1, 0, 0, 1, 1, 0, 1, 1, 0, 0, 1, 1, 0, 1, 1, 1, 1, 1, 1, 1, 1, 0, 0, 0, 1, 0, 1, 0, 0, 0, 1, 0, 0, 1, 0, 1, 0, 1, 1, 0, 0, 0, 0, 0, 0, 1, 1, 1, 0, 0, 0, 0, 0, 0, 0, 0, 1, 0, 1, 0, 0, 0, 0, 0, 0, 1, 1, 0, 1, 1, 0, 1, 1, 0, 1, 1, 1, 1, 1, 1, 0, 0, 1, 0, 0, 1, 0, 1, 1, 0, 1, 0, 0, 1, 1, 0, 1, 1, 0, 0, 0, 1, 1, 0, 1, 0, 1, 1, 1, 1, 1, 1, 0, 1, 0, 0, 1, 0, 1, 1, 1, 1, 0, 1, 0, 0, 0, 0, 0, 0, 0, 0, 0, 0, 0, 0, 0, 0, 0, 1, 0, 0, 1, 0, 0, 1, 1, 1, 1, 1, 1, 1, 0, 0, 0, 0, 1, 0, 0, 1, 1, 0, 0, 0, 1, 1, 0, 0, 0, 1, 1, 0, 1, 0, 0, 0, 0, 0, 1, 0, 0, 0, 0, 0, 0, 0, 0, 1, 1, 0, 0, 0, 1, 0, 1, 1, 0, 1, 1, 1, 1, 0, 0, 0, 1, 0, 1, 0, 1, 1, 0, 0, 0, 1, 0, 0, 0, 0, 1, 1, 1, 0, 0, 0, 1, 1, 0, 0, 0, 1, 1, 0, 1, 0, 0, 1, 0, 0, 1, 0, 0, 0, 1, 0, 0, 0, 1, 0, 0, 0, 1, 1, 0, 1, 1, 0, 1, 0, 1, 1, 0, 0, 1, 0, 1, 0, 0, 1, 0, 1, 0, 0, 0, 0, 1, 1, 1, 1, 1, 1, 0, 1, 0, 0, 0, 1, 0, 1, 0, 0, 1, 1, 0, 0, 0, 1, 1, 1, 0, 1, 0, 1, 0, 0, 1, 1, 0, 0, 0, 1, 0, 1, 1, 0, 1, 1, 0, 0, 0, 1, 1, 0, 1, 1, 0, 1, 1, 1, 0, 0, 0, 0, 1, 0, 0, 0, 1, 0, 0, 0, 1, 1, 0, 0, 0, 0, 1, 0, 1, 0, 0, 1, 0, 1, 1, 0, 0, 1, 1, 0, 1, 1, 1, 0, 0, 0, 0, 0, 0, 1, 1, 1, 0, 0, 0, 0, 0, 1, 1, 1, 0, 1, 0, 0, 0, 0, 0, 1, 0, 1, 1, 1, 1, 1, 0, 0, 0, 0, 1, 1, 1, 0, 0, 0, 1, 0, 1, 1, 1, 0, 0, 1, 1, 1, 0, 1, 0, 1, 1, 0, 1, 1, 0, 0, 0, 0, 1, 1, 1, 1, 0, 0, 0, 0, 0, 1, 0, 0, 1, 1, 0, 0, 1, 1, 1, 0, 1, 0, 0, 1, 0, 0, 1, 1, 1, 1, 1, 0, 0, 0, 0, 0, 0, 1, 1, 0, 0, 0, 1, 0, 0, 0, 1, 1, 0, 0, 1, 1, 0, 1, 0, 0, 1, 1, 1, 1, 0, 0, 0, 0, 0, 0, 1, 1, 0, 0, 0, 0, 0, 0, 1, 1, 0, 1, 0, 0, 0, 0, 0, 0, 0, 1, 0, 0, 1, 0, 1, 0, 1, 0, 1, 0, 0, 0, 1, 1, 1, 0, 0, 0, 0, 0, 1, 0, 0, 1, 1, 0, 1, 1, 1, 0, 1, 0, 0, 1, 1, 0, 0, 1, 0, 1, 0, 1, 0, 1, 1, 0, 0, 0, 0, 0, 1, 1, 1, 1, 0, 1, 0, 0, 1, 0, 0, 1, 0, 0, 0, 1, 1, 1, 0, 1, 0, 0, 0, 0, 0, 1, 0, 1, 1, 1, 0, 1, 0, 0, 1, 0, 0, 0, 0, 0, 0, 0, 1, 1, 0, 0, 1, 1, 1, 0, 0, 0, 1, 1, 0, 0, 1, 1, 0, 1, 1, 1, 0, 1, 0, 0, 1, 1, 0, 0, 1, 1, 1, 1, 1, 1, 1, 1, 1, 0, 0, 0, 0, 1, 1, 0, 0, 0, 0, 0, 1, 1, 0, 1, 0, 1, 0, 0, 1, 1, 0, 0, 0, 1, 1, 0, 1, 1, 0, 0, 1, 0, 0, 1, 0, 1, 1, 0, 0, 1, 1, 0, 0, 1, 0, 0, 0, 1, 0, 0, 0, 0, 0, 1, 0, 1, 1, 0, 0, 0, 1, 0, 1, 1, 1, 1, 0, 1, 1, 1, 0, 1, 0, 0, 1, 1, 0, 0, 0, 0, 1, 0, 0, 0, 1, 1, 0, 0, 1, 0, 1, 0, 0, 0, 0, 1, 1, 0, 1, 1, 0, 0, 1, 0, 0, 1, 1, 1, 1, 1, 1, 1, 0, 0, 1, 1, 0, 0, 0, 1, 0, 0, 0, 1, 1, 1, 1, 0, 0, 0, 0, 0, 0, 1, 0, 0, 1, 0, 0, 1, 0, 0, 0, 1, 1, 0, 1, 0, 1, 0, 0, 1, 0, 0, 1, 0, 1, 1, 1, 0, 0, 1, 0, 1, 0, 0, 0, 0, 0, 0, 1, 0, 1, 0, 0, 1, 1, 1, 1, 0, 0, 1, 1, 1, 0, 1, 1, 0, 0, 1, 0, 0, 1, 0, 0, 1, 1, 1, 1, 0, 1, 0, 1, 1, 0, 0, 0, 0, 1, 1, 0, 0, 1, 0, 0, 0, 0, 0, 0, 1, 0, 1, 1, 0, 0, 0, 0, 0, 0, 1, 1, 0, 0, 0, 0, 0, 0, 0, 1, 1, 1, 0, 0, 1, 0, 1, 0, 1, 1, 0, 0, 1, 0, 1, 1, 0, 0, 0, 1, 1, 0, 0, 0, 0, 0, 0, 1, 0, 0, 0, 0, 1, 0, 0, 1, 1, 0, 1, 0, 1, 0, 1, 0, 1, 0, 0, 0, 1, 1, 1, 1, 0, 1, 1, 1, 0, 1, 0, 1, 0, 0, 0, 1, 0, 0, 1, 1, 1, 1, 1, 1, 1, 0, 1, 0, 0, 0, 1, 1, 0, 1, 0, 0, 1, 0, 0, 1, 1, 0, 0, 0, 0, 1, 1, 0, 0, 1, 1, 1, 1, 0, 1, 0, 0, 0, 0, 0, 0, 1, 0, 0, 1, 1, 0, 1, 0, 0, 0, 1, 0, 0, 0, 1, 0, 1, 1, 0, 0, 1, 0, 1, 1, 1, 1, 1, 1, 1, 0, 0, 1, 1, 1, 1, 1, 0, 0, 0, 1, 1, 0, 1, 0, 1, 0, 1, 0, 0, 0, 1, 1, 1, 1, 1, 0, 1, 0, 1, 1, 1, 1, 0, 1, 1, 0, 1, 1, 1, 1, 0, 0, 1, 1, 0, 0, 0, 0, 1, 0, 0, 0, 0, 0, 0, 0, 0, 1, 0, 0, 1, 1, 0, 1, 1, 1, 1, 0, 1, 1, 1, 0, 1, 0, 1, 0, 0, 1, 0, 1, 0, 0, 0, 1, 0, 0, 1, 1, 0, 0, 0, 1, 0, 0, 1, 1, 1, 0, 1, 0, 0, 1, 0, 0, 1, 0, 0, 0, 1, 0, 1, 1, 1, 1, 0, 0, 0, 0, 1, 1, 0, 0, 0, 1, 0, 0, 0, 0, 1, 0, 0, 0, 1, 0, 1, 1, 0, 0, 0, 0, 0, 0, 1, 1, 0, 1, 0, 1, 0, 0, 0, 1, 1, 1, 1, 0, 0, 1, 1, 0, 0, 1, 0, 0, 1, 0, 1, 1, 1, 1, 0, 1, 0, 0, 1, 1, 1, 0, 1, 1, 0, 0, 1, 1, 0, 0, 0, 0, 1, 1, 0, 0, 0, 0, 0, 0, 0, 0, 1, 0, 0, 0, 0, 1, 1, 1, 1, 1, 1, 0, 1, 0, 1, 1, 0, 0, 0, 1, 1, 1, 1, 1, 0, 0, 0, 1, 0, 1, 0, 1, 0, 1, 1, 0, 1, 0, 0, 1, 1, 0, 0, 0, 0, 0, 0, 1, 1, 1, 0, 0, 0, 1, 1, 0, 0, 1, 0, 1, 1, 0, 1, 1, 0, 1, 0, 1, 1, 1, 1, 0, 1, 1, 1, 0, 1, 1, 0, 0, 1, 0, 1, 0, 1, 0, 1, 1, 1, 0, 1, 0, 0, 0, 1, 0, 0, 0, 0, 1, 0, 0, 0, 0, 0, 0, 1, 0, 0, 0, 0, 1, 0, 0, 1, 0, 0, 0, 1, 1, 1, 1, 1, 1, 1, 0, 1, 0, 0, 0, 1, 0, 1, 0, 1, 1, 0, 1, 0, 1, 1, 1, 0, 0, 0, 0, 0, 1, 1, 1, 1, 0, 0, 1, 0, 1, 1, 1, 0, 0, 0, 1, 0, 1, 0, 1, 0, 0, 0, 1, 0, 1, 1, 1, 0, 1, 1, 0, 1, 0, 0, 0, 0, 0, 1, 0, 1, 0, 0, 0, 0, 0, 1, 0, 1, 0, 0, 0, 1, 0, 0, 1, 0, 1, 1, 1, 0, 1, 0, 0, 1, 1, 1, 0, 1, 1, 1, 0, 0, 1, 0, 0, 1, 0, 0, 1, 0, 1, 0, 0, 1, 1, 1, 1, 1, 1, 0, 1, 1, 0, 1, 0, 1, 0, 0, 1, 0, 0, 1, 0, 1, 1, 0, 1, 0, 0, 1, 1, 0, 0, 0, 1, 1, 1, 0, 0, 0, 1, 1, 1, 1, 1, 0, 0, 0, 0, 1, 0, 1, 1, 1, 1, 0, 0, 0, 0, 1, 0, 0, 0, 1, 0, 0, 0, 0, 1, 0, 1, 1, 0, 0, 0, 0, 0, 0, 0, 0, 0, 1, 1, 1, 1, 1, 0, 1, 0, 0, 0, 1, 0, 0, 1, 0, 0, 0, 1, 0, 1, 1, 1, 1, 1, 1, 0, 1, 1, 0, 1, 1, 1, 0, 0, 0, 1, 0, 1, 0, 0, 1, 1, 1, 1, 0, 0, 1, 1, 0, 0, 0, 0, 0, 1, 0, 1, 0, 1, 1, 1, 1, 1, 1, 1, 0, 1, 0, 0, 0, 1, 0, 0, 0, 1, 1, 0, 0, 0, 0, 1, 0, 1, 0, 1, 1, 0, 0, 0, 1, 0, 0, 0, 1, 1, 1, 0, 1, 0, 0, 1, 0, 0, 1, 0, 0, 1, 1, 1, 0, 0, 1, 1, 1, 0, 0, 1, 1, 1, 0, 1, 1, 1, 1, 0, 1, 1, 0, 0, 0, 0, 1, 0, 0, 0, 1, 1, 1, 0, 1, 1, 0, 0, 0, 0, 0, 1, 0, 0, 0, 0, 0, 1, 0, 1, 0, 1, 0, 0, 1, 1, 0, 0, 0, 0, 0, 1, 1, 0, 0, 0, 0, 0, 1, 1, 0, 1, 1, 0, 1, 0, 1, 0, 0, 0, 0, 0, 1, 0, 0, 0, 1, 0, 0, 1, 0, 1, 0, 1, 0, 0, 0, 0, 1, 1, 0, 0, 0, 1, 1, 1, 1, 0, 0, 0, 1, 1, 0, 1, 0, 0, 0, 1, 0, 0, 0, 0, 1, 0, 0, 1, 0, 0, 0, 1, 1, 0, 1, 0, 0, 1, 0, 1, 1, 1, 0, 0, 1, 1, 1, 0, 1, 1, 1, 1, 1, 0, 0, 0, 1, 0, 0, 1, 1, 1, 0, 1, 1, 1, 0, 0, 1, 1, 1, 1, 1, 0, 0, 0, 0, 0, 0, 1, 1, 1, 0, 1, 0, 0, 0, 0, 1, 0, 0, 1, 0, 0, 0, 1, 1, 0, 1, 1, 0, 1, 0, 0, 0, 0, 1, 0, 0, 1, 0, 0, 1, 0, 0, 1, 1, 1, 0, 1, 1, 1, 1, 1, 0, 0, 0, 1, 1, 0, 0, 0, 0, 1, 1, 1, 0, 1, 0, 0, 0, 0, 0, 0, 1, 1, 0, 1, 0, 1, 0, 0, 0, 0, 0, 0, 0, 1, 0, 0, 1, 0, 0, 1, 0, 0, 0, 0, 1, 1, 1, 0, 1, 0, 1, 0, 0, 1, 1, 0, 0, 0, 1, 0, 1, 0, 0, 1, 0, 1, 1, 1, 0, 1, 0, 0, 1, 0, 0, 0, 0, 0, 0, 1, 1, 1, 1, 0, 0, 0, 0, 0, 1, 0, 0, 1, 0, 1, 0, 0, 1, 0, 1, 0, 0, 0, 1, 1, 0, 0, 1, 0, 0, 1, 0, 0, 1, 1, 1, 1, 1, 1, 0, 0, 0, 1, 0, 0, 0, 1, 0, 1, 1, 1, 1, 0, 1, 0, 1, 0, 1, 1, 0, 0, 0, 0, 0, 1, 1, 1, 0, 0, 1, 1, 0, 1, 0, 1, 1, 1, 0, 1, 0, 1, 0, 1, 1, 1, 0, 1, 0, 1, 0, 0, 0, 0, 1, 1, 0, 1, 0, 1, 1, 1, 0, 0, 0, 1, 0, 0, 0, 1, 1, 0, 1, 1, 0, 0, 0, 0, 0, 0, 0, 0, 1, 1, 0, 1, 1, 0, 1, 0, 1, 1, 0, 0, 0, 1, 0, 0, 0, 0, 1, 1, 0, 1, 0, 0, 1, 0, 1, 1, 1, 0, 1, 0, 1, 1, 1, 0, 0, 0, 1, 1, 0, 0, 0, 0, 0, 1, 1, 1, 1, 1, 0, 1, 1, 0, 0, 0, 0, 1, 0, 0, 1, 1, 1, 0, 1, 0, 1, 1, 0, 0, 1, 0, 0, 1, 0, 1, 0, 1, 0, 1, 0, 0, 0, 0, 1, 1, 0, 1, 1, 0, 0, 0, 1, 1, 0, 1, 1, 1, 0, 1, 1, 1, 0, 0, 1, 1, 0, 0, 1, 1, 1, 1, 0, 0, 0, 1, 0, 1, 1, 0, 0, 0, 1, 0, 0, 0, 0, 1, 0, 1, 0, 1, 1, 0, 1, 0, 1, 1, 0, 0, 0, 1, 0, 0, 1, 1, 0, 0, 0, 0, 0, 0, 0, 1, 0, 0, 1, 1, 1, 1, 1, 0, 0, 0, 0, 0, 0, 0, 1, 1, 0, 0, 0, 0, 0, 0, 1, 0, 0, 1, 0, 0, 0, 0, 0, 1, 1, 1, 0, 1, 1, 1, 0, 0, 0, 0, 0, 1, 1, 0, 0, 0, 0, 0, 0, 0, 1, 1, 1, 0, 0, 1, 0, 1, 1, 1, 1, 0, 0, 1, 0, 0, 0, 0, 0, 0, 0, 0, 1, 0, 0, 1, 1, 1, 0, 1, 0, 0, 0, 1, 1, 1, 0, 1, 1, 0, 1, 1, 1, 1, 0, 0, 1, 0, 0, 0, 0, 1, 1, 0, 1, 1, 0, 0, 0, 1, 0, 0, 0, 1, 1, 1, 0, 1, 0, 1, 0, 1, 0, 1, 0, 0, 0, 0, 0, 1, 0, 0, 1, 1, 0, 0, 0, 0, 0, 1, 0, 1, 0, 0, 0, 1, 0, 1, 0, 0, 1, 0, 0, 0, 0, 1, 1, 1, 0, 0, 0, 1, 0, 0, 0, 1, 0, 0, 1, 0, 1, 0, 0, 1, 1, 0, 1, 0, 1, 0, 1, 0, 1, 1, 0, 0, 0, 1, 0, 1, 0, 1, 0, 0, 0, 0, 0, 1, 0, 1, 1, 1, 0, 0, 0, 1, 0, 1, 0, 1, 0, 0, 0, 1, 0, 0, 0, 1, 1, 0, 1, 1, 1, 0, 0, 1, 1, 1, 0, 0, 0, 1, 1, 0, 1, 0, 1, 1, 0, 0, 0, 0, 0, 1, 1, 1, 1, 1, 0, 0, 0, 1, 1, 1, 0, 0, 0, 1, 0, 0, 1, 0, 0, 0, 1, 1, 1, 1, 0, 0, 1, 0, 1, 1, 0, 0, 0, 1, 1, 0, 0, 1, 0, 1, 1, 1, 0, 0, 0, 1, 0, 1, 1, 1, 1, 0, 1, 0, 0, 1, 1, 0, 1, 1, 1, 0, 1, 1, 1, 1, 0, 1, 0, 0, 0, 0, 1, 0, 0, 1, 1, 0, 1, 1, 0, 1, 0, 1, 0, 1, 0, 0, 0, 0, 1, 1, 0, 0, 0, 0, 0, 1, 0, 0, 1, 1, 0, 1, 1, 1, 1, 0, 1, 1, 1, 1, 1, 0, 1, 0, 1, 0, 0, 0, 0, 0, 1, 1, 0, 0, 1, 1, 1, 1, 1, 0, 1, 0, 1, 0, 1, 0, 0, 1, 1, 0, 0, 0, 1, 1, 0, 0, 0, 1, 0, 1, 1, 0, 0, 1, 1, 0, 1, 1, 1, 1, 1, 0, 1, 1, 0, 1, 1, 0, 1, 0, 1, 1, 0, 0, 1, 1, 0, 1, 1, 1, 0, 1, 0, 1, 1, 0, 1, 0, 0, 0, 0, 1, 0, 0, 1, 1, 1, 1, 1, 0, 1, 0, 0, 1, 1, 0, 0, 1, 0, 1, 1, 1, 0, 0, 1, 1, 0, 1, 1, 1, 1, 0, 0, 0, 0, 0, 0, 1, 0, 0, 0, 0, 1, 1, 0, 1, 1, 0, 0, 0, 0, 1, 1, 1, 1, 1, 1, 1, 0, 0, 1, 0, 0, 1, 0, 0, 1, 1, 0, 1, 0, 1, 0, 0, 1, 0, 0, 0, 0, 0, 1, 1, 1, 1, 0, 0, 0, 0, 1, 0, 0, 0, 0, 0, 1, 1, 0, 1, 1, 0, 1, 1, 0, 1, 1, 0, 0, 0, 1, 0, 0, 0, 0, 1, 1, 1, 1, 0, 1, 0, 0, 0, 1, 0, 0, 0, 1, 1, 0, 1, 0, 1, 1, 0, 0, 1, 0, 0, 1, 0, 0, 1, 0, 1, 1, 0, 1, 0, 0, 1, 1, 0, 1, 0, 0, 0, 0, 1, 0, 1, 1, 0, 0, 1, 1, 0, 1, 1, 1, 1, 0, 1, 0, 0, 1, 0, 0, 0, 0, 1, 0, 1, 1, 1, 0, 0, 1, 0, 1, 0, 0, 1, 0, 0, 1, 0, 0, 0, 0, 1, 1, 0, 0, 0, 1, 0, 0, 1, 0, 1, 1, 0, 1, 1, 0, 0, 0, 1, 0, 1, 0, 0, 0, 1, 0, 1, 1, 1, 0, 0, 1, 0, 1, 0, 0, 0, 0, 0, 1, 0, 1, 1, 1, 0, 0, 1, 1, 0, 0, 1, 0, 1, 1, 1, 1, 0, 0, 0, 0, 1, 1, 1, 1, 1, 1, 1, 1, 1, 0, 0, 1, 1, 0, 1, 1, 0, 1, 0, 1, 1, 1, 1, 0, 0, 1, 1, 1, 0, 1, 1, 0, 0, 0, 0, 0, 0, 0, 1, 1, 0, 1, 0, 1, 1, 0, 1, 0, 0, 1, 1, 1, 1, 0, 0, 1, 0, 0, 1, 1, 1, 1, 0, 0, 0, 1, 1, 0, 1, 0, 1, 0, 1, 1, 1, 0, 0, 1, 0, 0, 0, 1, 1, 0, 1, 0, 0, 1, 1, 1, 1, 1, 0, 0, 0, 1, 0, 1, 1, 0, 0, 0, 1, 0, 1, 0, 0, 0, 0, 1, 1, 0, 0, 0, 1, 0, 0, 1, 1, 1, 0, 0, 0, 1, 0, 1, 1, 1, 1, 0, 1, 1, 0, 1, 0, 1, 1, 0, 1, 0, 1, 1, 0, 1, 0, 0, 1, 0, 0, 1, 1, 0, 0, 0, 1, 0, 1, 1, 0, 0, 1, 0, 1, 0, 0, 1, 1, 1, 0, 1, 0, 1, 0, 1, 1, 1, 0, 1, 0, 1, 0, 1, 1, 0, 0, 1, 1, 1, 1, 0, 0, 1, 1, 0, 1, 0, 1, 1, 1, 1, 1, 1, 0, 0, 1, 0, 0, 0, 1, 0, 0, 1, 1, 1, 1, 0, 0, 1, 1, 1, 0, 0, 0, 0, 1, 0, 0, 0, 0, 0, 1, 1, 0, 1, 1, 1, 1, 0, 1, 1, 0, 0, 0, 0, 0, 0, 0, 0, 0, 0, 0, 0, 1, 0, 0, 0, 1, 1, 1, 1, 1, 1, 1, 1, 0, 0, 0, 0, 0, 1, 1, 0, 1, 0, 1, 1, 0, 0, 1, 1, 1, 1, 1, 0, 0, 1, 0, 0, 0, 0, 0, 0, 1, 1, 1, 1, 0, 1, 1, 0, 0, 1, 1, 0, 1, 0, 0, 0, 0, 1, 1, 1, 0, 0, 1, 1, 0, 1, 0, 0, 0, 0, 0, 1, 0, 0, 1, 1, 0, 0, 0, 0, 1, 1, 0, 0, 1, 1, 0, 0, 0, 1, 0, 1, 0, 0, 0, 1, 1, 0, 1, 1, 0, 0, 0, 0, 0, 1, 0, 0, 1, 1, 0, 1, 0, 0, 1, 0, 0, 1, 1, 1, 1, 0, 1, 0, 0, 0, 1, 1, 0, 1, 0, 1, 0, 1, 1, 1, 0, 0, 1, 0, 0, 0, 0, 1, 0, 1, 0, 0, 0, 0, 0, 0, 1, 1, 1, 0, 1, 1, 0, 1, 0, 0, 0, 0, 1, 0, 1, 1, 1, 1, 1, 0, 1, 1, 0, 0, 0, 1, 0, 1, 1, 0, 1, 1, 1, 1, 1, 1, 1, 0, 0, 1, 0, 0, 1, 1, 1, 1, 0, 1, 0, 0, 1, 0, 1, 0, 0, 0, 1, 0, 1, 1, 0, 0, 1, 1, 0, 1, 1, 0, 0, 0, 0, 0, 0, 1, 0, 0, 1, 0, 1, 1, 0, 1, 0, 0, 1, 0, 0, 1, 1, 1, 0, 0, 1, 1, 1, 0, 0, 1, 0, 1, 0, 1, 0, 0, 0, 1, 1, 1, 0, 1, 0, 1, 1, 1, 1, 1, 0, 0, 0, 1, 0, 0, 1, 0, 1, 0, 0, 0, 1, 1, 0, 1, 1, 0, 0, 1, 0, 0, 0, 0, 0, 0, 0, 1, 1, 0, 0, 1, 1, 1, 0, 1, 1, 1, 0, 0, 1, 1, 0, 1, 0, 1, 1, 1, 0, 1, 1, 1, 1, 1, 1, 0, 1, 0, 0, 1, 0, 1, 0, 1, 0, 0, 1, 0, 1, 0, 1, 0, 0, 0, 0, 0, 1, 1, 1, 0, 0, 1, 1, 0, 1, 1, 1, 0, 0, 1, 0, 0, 1, 1, 1, 0, 0, 1, 1, 0, 0, 1, 0, 0, 1, 1, 0, 1, 0, 1, 0, 0, 1, 1, 0, 0, 0, 0, 1, 1, 1, 0, 0, 1, 0, 0, 1, 1, 0, 0, 1, 1, 0, 0, 0, 0, 1, 0, 0, 1, 1, 1, 0, 0, 1, 0, 0, 1, 1, 1, 0, 0, 1, 0, 1, 0, 0, 1, 0, 0, 0, 0, 1, 1, 1, 0, 1, 1, 1, 1, 0, 1, 0, 1, 1, 0, 0, 1, 1, 0, 0, 1, 0, 1, 0, 0, 0, 1, 0, 1, 0, 0, 0, 0, 1, 1, 0, 1, 1, 1, 1, 0, 0, 1, 0, 1, 0, 0, 0, 0, 1, 1, 1, 0, 1, 0, 1, 0, 1, 0, 1, 1, 0, 0, 1, 0, 0, 0, 0, 1, 0, 0, 1, 0, 0, 0, 1, 0, 0, 1, 0, 0, 1, 0, 1, 1, 0, 1, 1, 0, 1, 0, 1, 1, 0, 1, 1, 0, 0, 1, 1, 1, 0, 0, 0, 1, 1, 1, 1, 0, 0, 1, 0, 0, 0, 1, 1, 0, 1, 1, 1, 0, 1, 0, 1, 1, 1, 0, 1, 1, 1, 0, 0, 1, 1, 1, 0, 0, 0, 0, 0, 0, 0, 1, 1, 1, 1, 0, 0, 1, 0, 0, 0, 1, 1, 1, 0, 1, 0, 0, 1, 1, 0, 1, 0, 1, 1, 0, 1, 0, 0, 0, 1, 1, 0, 1, 0, 0, 1, 0, 1, 1, 1, 1, 1, 1, 1, 0, 0, 1, 1, 0, 0, 0, 0, 0, 1, 1, 1, 1, 0, 0, 0, 1, 0, 1, 1, 0, 0, 0, 1, 0, 1, 0, 1, 1, 0, 1, 1, 0, 1, 0, 0, 1, 0, 1, 0, 1, 0, 1, 1, 0, 1, 0, 1, 1, 1, 0, 0, 1, 1, 1, 0, 1, 1, 0, 0, 1, 1, 1, 0, 1, 1, 0, 1, 0, 1, 0, 1, 0, 1, 0, 0, 1, 1, 0, 1, 1, 0, 0, 0, 0, 1, 0, 1, 1, 0, 1, 0, 1, 0, 0, 0, 0, 0, 1, 1, 1, 0, 1, 1, 1, 1, 0, 1, 0, 0, 1, 1, 0, 1, 1, 0, 1, 0, 1, 1, 0, 0, 1, 1, 1, 1, 0, 1, 0, 0, 1, 1, 0, 0, 1, 0, 0, 1, 0, 1, 0, 0, 0, 0, 0, 0, 1, 0, 1, 0, 1, 0, 0, 1, 0, 1, 0, 0, 1, 0, 0, 1, 0, 0, 1, 1, 1, 0, 0, 0, 0, 1, 0, 0, 1, 0, 0, 0, 1, 0, 0, 0, 1, 1, 0, 1, 0, 1, 1, 0, 1, 1, 0, 0, 1, 0, 0, 0, 1, 1, 1, 0, 1, 0, 0, 0, 0, 0, 1, 0, 0, 0, 1, 1, 1, 1, 1, 0, 1, 0, 0, 0, 0, 1, 0, 0, 0, 1, 0, 1, 0, 0, 0, 1, 1, 0, 1, 0, 0, 0, 1, 0, 0, 1, 0, 0, 0, 1, 1, 0, 1, 1, 1, 0, 1, 1, 1, 1, 1, 1, 0, 0, 1, 0, 1, 1, 0, 1, 0, 1, 0, 0, 0, 0, 1, 0, 1, 0, 1, 0, 1, 0, 1, 1, 0, 0, 0, 1, 1, 1, 0, 0, 0, 0, 1, 1, 0, 0, 1, 1, 0, 0, 0, 1, 1, 0, 1, 0, 1, 0, 0, 1, 0, 0, 0, 1, 0, 1, 0, 1, 0, 1, 0, 0, 0, 1, 0, 0, 1, 1, 0, 1, 0, 0, 1, 1, 0, 0, 0, 1, 0, 0, 1, 1, 0, 0, 0, 0, 1, 0, 0, 1, 0, 0, 1, 0, 1, 1, 1, 1, 1, 0, 0, 0, 0, 0, 1, 0, 1, 1, 0, 1, 1, 1, 0, 1, 0, 1, 0, 0, 1, 1, 1, 0, 1, 1, 0, 1, 1, 0, 0, 1, 0, 0, 0, 1, 0, 0, 0, 0, 0, 0, 1, 1, 0, 0, 0, 1, 1, 0, 0, 1, 1, 1, 1, 1, 1, 0, 0, 1, 1, 1, 1, 0, 0, 0, 1, 1, 0, 1, 1, 1, 0, 1, 1, 0, 1, 0, 0, 1, 0, 0, 0, 1, 1, 1, 0, 0, 1, 1, 1, 0, 1, 0, 0, 1, 1, 0, 0, 0, 0, 0, 0, 1, 1, 1, 0, 0, 1, 1, 1, 1, 0, 1, 0, 1, 0, 0, 0, 1, 0, 0, 0, 0, 1, 0, 1, 1, 0, 1, 1, 0, 1, 0, 0, 1, 0, 1, 0, 0, 1, 1, 1, 0, 1, 0, 0, 1, 1, 1, 0, 1, 1, 0, 1, 1, 0, 0, 0, 0, 0, 0, 0, 1, 0, 1, 0, 0, 1, 1, 0, 0, 0, 0, 0, 1, 1, 1, 0, 0, 1, 1, 1, 0, 0, 1, 0, 0, 0, 0, 1, 1, 1, 1, 0, 0, 0, 0, 1, 1, 0, 0, 1, 0, 1, 0, 0, 0, 0, 1, 0, 0, 0, 0, 0, 0, 0, 0, 0, 0, 0, 1, 1, 1, 0, 0, 1, 0, 0, 0, 0, 1, 1, 1, 1, 0, 1, 1, 0, 1, 0, 0, 0, 0, 1, 1, 1, 1, 1, 0, 0, 0, 0, 1, 1, 1, 0, 0, 1, 0, 1, 0, 1, 1, 1, 0, 0, 1, 1, 0, 1, 1, 0, 1, 0, 1, 1, 1, 0, 1, 0, 0, 1, 1, 0, 0, 0, 1, 0, 1, 1, 1, 1, 1, 1, 0, 1, 0, 0, 1, 0, 1, 0, 0, 1, 1, 0, 1, 1, 0, 1, 0, 1, 1, 1, 0, 0, 0, 1, 1, 1, 0, 1, 1, 1, 1, 0, 0, 0, 0, 0, 0, 0, 1, 1, 0, 0, 1, 1, 1, 1, 0, 1, 0, 1, 0, 1, 0, 0, 0, 1, 1, 0, 1, 1, 0, 0, 0, 1, 0, 0, 0, 0, 0, 1, 0, 0, 1, 1, 1, 0, 0, 1, 1, 1, 1, 1, 0, 0, 0, 0, 1, 0, 1, 1, 0, 1, 1, 1, 0, 0, 0, 0, 1, 1, 1, 0, 0, 1, 1, 0, 1, 0, 0, 1, 0, 1, 1, 1, 1, 1, 0, 1, 0, 1, 1, 1, 1, 1, 1, 1, 1, 0, 1, 0, 0, 1, 0, 1, 1, 1, 1, 0, 0, 1, 0, 1, 0, 1, 0, 1, 0, 1, 1, 1, 1, 0, 0, 1, 0, 1, 0, 0, 1, 0, 0, 1, 1, 0, 0, 0, 1, 0, 1, 1, 0, 1, 0, 1, 0, 0, 1, 0, 1, 0, 1, 1, 0, 1, 1, 0, 1, 0, 1, 0, 0, 1, 1, 1, 0, 1, 0, 0, 0, 1, 1, 1, 0, 1, 1, 1, 0, 0, 0, 0, 0, 0, 0, 1, 1, 0, 0, 1, 0, 1, 0, 0, 0, 0, 0, 0, 1, 1, 0, 0, 1, 0, 0, 0, 0, 1, 0, 1, 1, 0, 0, 0, 0, 0, 1, 1, 1, 0, 1, 0, 1, 1, 1, 0, 0, 1, 0, 1, 0, 1, 1, 0, 1, 0, 1, 0, 0, 0, 1, 1, 1, 1, 0, 1, 0, 0, 0, 1, 0, 0, 1, 1, 0, 0, 1, 0, 0, 1, 0, 0, 0, 1, 1, 0, 0, 0, 1, 0, 0, 1, 0, 0, 1, 0, 0, 0, 0, 1, 1, 0, 1, 0, 0, 1, 1, 0, 0, 1, 0, 0, 1, 0, 0, 1, 0, 1, 0, 1, 1, 0, 1, 1, 1, 0, 0, 0, 1, 1, 0, 0, 0, 1, 1, 0, 1, 1, 0, 1, 0, 0, 1, 0, 0, 1, 0, 0, 0, 0, 1, 0, 1, 1, 1, 0, 0, 0, 1, 0, 1, 0, 0, 0, 0, 0, 1, 0, 1, 1, 1, 1, 0, 0, 0, 0, 1, 1, 1, 1, 0, 0, 0, 1, 1, 1, 1, 1, 0, 0, 1, 0, 1, 0, 1, 1, 0, 1, 0, 0, 0, 1, 1, 1, 1, 0, 1, 0, 1, 1, 1, 1, 0, 0, 1, 1, 0, 1, 1, 0, 0, 0, 1, 1, 1, 0, 0, 1, 1, 1, 1, 1, 0, 1, 1, 0, 1, 0, 0, 1, 1, 1, 0, 0, 0, 0, 0, 1, 0, 0, 1, 1, 0, 1, 0, 0, 0, 0, 1, 0, 1, 0, 0, 1, 0, 1, 0, 0, 0, 0, 1, 1, 0, 1, 0, 0, 0, 1, 1, 0, 0, 0, 1, 1, 1, 1, 0, 0, 1, 1, 0, 0, 1, 1, 0, 0, 0, 0, 1, 0, 0, 0, 0, 0, 1, 0, 0, 1, 0, 0, 0, 0, 1, 0, 1, 0, 0, 0, 0, 1, 0, 0, 0, 0, 0, 0, 1, 0, 1, 1, 1, 1, 0, 1, 1, 0, 0, 1, 1, 0, 1, 0, 1, 0, 0, 0, 0, 1, 1, 0, 1, 0, 1, 1, 0, 1, 1, 1, 1, 0, 1, 1, 1, 0, 0, 1, 0, 0, 0, 0, 1, 0, 1, 1, 0, 0, 1, 1, 1, 0, 1, 0, 1, 1, 1, 0, 0, 0, 0, 1, 0, 0, 1, 1, 0, 0, 1, 0, 1, 0, 0, 1, 1, 1, 1, 1, 1, 0, 1, 1, 0, 0, 1, 0, 0, 1, 1, 1, 0, 0, 0, 1, 0, 0, 0, 1, 1, 1, 0, 0, 0, 1, 1, 0, 1, 1, 1, 1, 0, 1, 0, 1, 1, 0, 0, 1, 0, 0, 1, 1, 1, 1, 0, 1, 1, 1, 1, 1, 1, 0, 1, 0, 1, 1, 0, 0, 1, 1, 0, 0, 0, 0, 0, 1, 1, 1, 0, 1, 1, 1, 1, 1, 1, 1, 1, 0, 0, 1, 0, 0, 0, 0, 0, 0, 1, 1, 0, 1, 1, 0, 0, 1, 0, 1, 1, 0, 0, 1, 0, 1, 1, 1, 0, 0, 1, 0, 1, 1, 1, 1, 0, 0, 0, 1, 0, 0, 0, 1, 1, 0, 1, 0, 0, 1, 1, 0, 0, 1, 1, 1, 0, 0, 0, 0, 1, 0, 1, 0, 1, 0, 0, 1, 0, 0, 0, 1, 1, 1, 0, 1, 0, 0, 0, 1, 0, 0, 0, 1, 0, 0, 0, 1, 1, 0, 1, 1, 0, 1, 1, 1, 0, 1, 1, 0, 1, 0, 1, 0, 1, 1, 0, 0, 1, 1, 1, 0, 0, 1, 1, 0, 0, 1, 1, 1, 0, 0, 0, 0, 1, 0, 0, 0, 1, 1, 0, 1, 1, 0, 1, 1, 1, 0, 0, 0, 1, 0, 0, 1, 1, 0, 0, 0, 1, 0, 0, 0, 1, 0, 1, 0, 0, 0, 1, 1, 1, 0, 1, 1, 1, 0, 1, 1, 1, 0, 1, 1, 0, 1, 0, 0, 0, 0, 1, 0, 1, 1, 0, 1, 1, 0, 1, 0, 1, 0, 0, 1, 1, 0, 1, 1, 0, 1, 0, 0, 1, 0, 0, 1, 1, 1, 0, 0, 1, 0, 0, 1, 0, 0, 1, 1, 0, 0, 1, 1, 0, 0, 1, 0, 0, 1, 1, 0, 1, 0, 1, 0, 1, 0, 1, 0, 0, 1, 0, 1, 0, 0, 1, 0, 1, 1, 0, 1, 0, 0, 1, 1, 1, 1, 1, 1, 0, 1, 0, 1, 1, 1, 0, 0, 1, 0, 0, 1, 0, 1, 0, 0, 0, 1, 0, 1, 1, 1, 0, 1, 1, 0, 1, 0, 0, 0, 0, 1, 0, 0, 0, 1, 1, 1, 0, 1, 0, 1, 0, 0, 1, 1, 0, 0, 1, 1, 1, 1, 0, 1, 1, 1, 1, 1, 1, 1, 1, 1, 1, 1, 1, 1, 0, 0, 1, 0, 1, 1, 0, 1, 0, 0, 1, 0, 1, 1, 0, 0, 1, 1, 0, 1, 0, 1, 1, 1, 1, 0, 1, 0, 1, 0, 1, 1, 0, 1, 1, 0, 0, 1, 0, 1, 0, 1, 1, 1, 0, 0, 0, 1, 0, 0, 0, 1, 1, 0, 1, 1, 0, 0, 1, 0, 1, 0, 0, 0, 0, 0, 1, 1, 1, 0, 0, 0, 1, 0, 0, 1, 1, 0, 0, 0, 0, 1, 0, 0, 1, 0, 0, 0, 1, 1, 1, 1, 0, 0, 0, 1, 0, 1, 0, 1, 0, 1, 0, 0, 1, 1, 0, 0, 0, 1, 0, 0, 1, 1, 1, 1, 0, 1, 1, 1, 1, 1, 1, 1, 0, 1, 1, 0, 0, 0, 0, 1, 0, 1, 1, 0, 1, 0, 1, 0, 0, 1, 0, 0, 1, 0, 0, 0, 0, 1, 0, 0, 0, 1, 1, 0, 0, 1, 0, 1, 0, 0, 1, 1, 0, 0, 0, 0, 0, 0, 0, 1, 1, 1, 1, 1, 1, 0, 0, 0, 1, 1, 0, 0, 1, 0, 0, 1, 1, 0, 1, 0, 1, 1, 0, 1, 0, 0, 1, 1, 1, 1, 1, 0, 0, 0, 1, 0, 0, 0, 1, 1, 0, 0, 0, 1, 0, 0, 1, 1, 1, 1, 0, 0, 0, 1, 1, 0, 0, 0, 0, 1, 0, 1, 1, 0, 0, 1, 0, 1, 0, 0, 1, 1, 0, 0, 1, 1, 1, 0, 0, 0, 1, 1, 1, 0, 1, 1, 1, 0, 1, 0, 0, 1, 1, 0, 0, 1, 0, 1, 0, 1, 0, 1, 1, 0, 0, 0, 0, 0, 0, 0, 0, 1, 1, 1, 0, 0, 1, 0, 0, 0, 0, 1, 1, 0, 1, 1, 0, 0, 0, 1, 0, 0, 1, 1, 1, 1, 1, 1, 1, 0, 0, 1, 1, 1, 0, 0, 1, 1, 0, 0, 1, 0, 1, 1, 0, 1, 0, 0, 0, 1, 1, 1, 1, 0, 1, 0, 1, 0, 0, 0, 1, 0, 0, 1, 1, 1, 0, 1, 0, 0, 1, 1, 0, 1, 1, 0, 1, 1, 1, 1, 1, 0, 1, 1, 0, 0, 1, 0, 1, 1, 0, 0, 1, 0, 0, 1, 1, 1, 0, 0, 0, 0, 1, 0, 0, 1, 1, 1, 0, 1, 0, 1, 0, 0, 0, 1, 1, 0, 1, 0, 1, 0, 0, 1, 1, 1, 1, 1, 0, 1, 1, 1, 0, 0, 1, 1, 1, 1, 0, 1, 1, 1, 0, 0, 1, 0, 0, 1, 0, 0, 0, 0, 1, 0, 0, 0, 1, 1, 1, 0, 0, 0, 1, 1, 1, 0, 1, 1, 1, 0, 0, 1, 0, 0, 0, 1, 0, 1, 0, 0, 0, 1, 0, 0, 1, 1, 0, 0, 1, 0, 0, 0, 0, 1, 0, 1, 1, 1, 1, 1, 1, 0, 1, 1, 1, 1, 1, 1, 1, 0, 0, 1, 0, 0, 1, 1, 0, 0, 0, 0, 1, 1, 1, 0, 0, 0, 1, 1, 0, 0, 0, 1, 1, 0, 1, 0, 1, 0, 0, 1, 0, 0, 0, 0, 0, 1, 0, 1, 1, 1, 1, 1, 1, 1, 1, 1, 0, 0, 1, 0, 1, 0, 0, 1, 0, 1, 0, 1, 0, 0, 0, 0, 0, 1, 1, 0, 1, 1, 0, 1, 1, 0, 0, 0, 1, 0, 1, 0, 0, 1, 1, 1, 0, 1, 0, 1, 1, 0, 0, 0, 1, 0, 0, 0, 1, 1, 1, 0, 1, 1, 0, 1, 0, 1, 0, 1, 1, 0, 0, 0, 0, 0, 0, 0, 1, 1, 0, 0, 1, 0, 1, 1, 1, 1, 1, 0, 1, 0, 1, 0, 1, 0, 1, 1, 0, 1, 0, 1, 1, 0, 1, 0, 1, 1, 0, 0, 0, 1, 0, 1, 1, 0, 1, 1, 1, 1, 0, 0, 1, 0, 0, 0, 1, 0, 0, 0, 0, 1, 1, 1, 1, 0, 1, 1, 0, 1, 1, 1, 1, 1, 0, 0, 1, 1, 0, 1, 1, 1, 0, 1, 1, 1, 1, 1, 0, 1, 1, 0, 1, 1, 1, 0, 0, 1, 0, 1, 1, 0, 1, 0, 0, 0, 1, 1, 1, 1, 1, 0, 0, 1, 0, 0, 1, 1, 0, 1, 1, 0, 1, 0, 1, 1, 1, 0, 0, 0, 0, 0, 1, 0, 0, 0, 1, 1, 1, 1, 0, 1, 1, 0, 1, 0, 0, 0, 0, 1, 0, 0, 0, 0, 0, 0, 1, 0, 0, 1, 1, 1, 0, 1, 0, 1, 1, 0, 1, 1, 1, 0, 1, 0, 0, 1, 1, 1, 0, 0, 0, 1, 0, 0, 0, 0, 0, 1, 1, 1, 0, 0, 1, 0, 0, 0, 0, 1, 1, 1, 1, 0, 1, 1, 1, 0, 0, 1, 1, 1, 0, 1, 1, 0, 0, 1, 0, 0, 0, 1, 1, 1, 0, 1, 1, 0, 0, 1, 1, 0, 0, 1, 0, 1, 0, 0, 1, 0, 1, 0, 1, 0, 0, 1, 1, 1, 1, 0, 0, 1, 0, 1, 0, 1, 1, 1, 1, 0, 1, 0, 1, 1, 1, 1, 1, 0, 1, 1, 0, 0, 1, 1, 0, 0, 0, 1, 1, 1, 1, 1, 0, 0, 0, 0, 1, 1, 0, 1, 0, 1, 1, 0, 0, 1, 1, 0, 0, 0, 0, 0, 1, 0, 1, 0, 0, 1, 0, 0, 0, 0, 1, 0, 0, 0, 1, 1, 0, 0, 0, 0, 0, 1, 0, 0, 0, 1, 0, 0, 0, 1, 1, 0, 0, 1, 1, 0, 0, 0, 1, 0, 0, 1, 1, 0, 1, 0, 1, 1, 0, 0, 1, 1, 0, 1, 0, 0, 0, 1, 0, 1, 1, 1, 0, 0, 1, 0, 0, 1, 1, 1, 1, 0, 0, 1, 0, 0, 0, 1, 1, 1, 0, 0, 0, 0, 0, 1, 1, 1, 0, 0, 1, 0, 1, 1, 0, 1, 0, 0, 0, 0, 0, 1, 1, 0, 0, 0, 1, 1, 1, 0, 0, 0, 1, 1, 1, 1, 0, 0, 0, 1, 0, 1, 1, 0, 0, 1, 0, 1, 1, 0, 0, 1, 1, 0, 0, 0, 1, 1, 0, 0, 0, 1, 0, 1, 1, 1, 0, 1, 0, 1, 1, 1, 0, 0, 1, 0, 0, 0, 1, 0, 1, 1, 0, 1, 1, 1, 1, 0, 0, 0, 1, 1, 1, 1, 1, 0, 0, 1, 0, 0, 0, 0, 0, 0, 0, 0, 1, 0, 1, 1, 1, 0, 1, 1, 0, 0, 0, 0, 0, 1, 0, 0, 0, 0, 0, 1, 0, 0, 1, 0, 1, 0, 1, 1, 1, 1, 0, 1, 1, 1, 0, 1, 1, 0, 0, 1, 1, 0, 0, 0, 0, 0, 1, 1, 0, 0, 0, 0, 0, 1, 1, 0, 0, 0, 1, 0, 0, 1, 1, 0, 0, 1, 0, 1, 1, 0, 1, 0, 1, 1, 1, 0, 1, 0, 1, 1, 0, 1, 1, 1, 1, 1, 0, 1, 0, 0, 1, 1, 0, 0, 1, 1, 1, 1, 0, 1, 0, 1, 0, 1, 0, 1, 0, 1, 0, 1, 1, 1, 0, 1, 1, 1, 0, 0, 0, 0, 1, 0, 0, 1, 0, 0, 0, 1, 0, 1, 0, 0, 0, 1, 0, 1, 0, 1, 0, 0, 0, 1, 0, 0, 1, 1, 1, 0, 1, 0, 0, 1, 1, 1, 1, 1, 1, 0, 0, 0, 1, 0, 1, 0, 0, 1, 0, 1, 0, 1, 0, 1, 1, 1, 0, 1, 0, 1, 0, 0, 0, 0, 1, 1, 1, 0, 1, 0, 1, 0, 1, 1, 1, 0, 0, 0, 1, 0, 0, 0, 0, 1, 1, 1, 0, 1, 0, 0, 0, 1, 1, 1, 1, 0, 1, 1, 0, 1, 0, 0, 1, 0, 1, 0, 0, 0, 0, 0, 1, 0, 1, 1, 0, 0, 1, 0, 0, 0, 0, 0, 0, 0, 1, 1, 1, 0, 0, 0, 0, 1, 0, 1, 1, 0, 0, 1, 1, 1, 0, 0, 1, 0, 1, 0, 0, 1, 0, 0, 1, 0, 0, 1, 0, 0, 0, 1, 0, 0, 1, 0, 1, 0, 1, 0, 1, 1, 0, 0, 0, 0, 1, 1, 0, 1, 0, 1, 1, 0, 1, 0, 0, 0, 1, 0, 1, 0, 1, 1, 1, 0, 0, 0, 1, 1, 1, 0, 1, 1, 1, 1, 0, 0, 0, 0, 0, 0, 0, 0, 0, 1, 0, 0, 1, 0, 0, 1, 0, 1, 0, 1, 1, 1, 1, 1, 0, 0, 0, 0, 1, 0, 1, 0, 1, 0, 1, 1, 1, 0, 0, 1, 1, 0, 1, 0, 0, 0, 1, 1, 1, 0, 0, 0, 1, 0, 0, 1, 0, 1, 0, 0, 1, 1, 1, 0, 1, 1, 0, 0, 0, 1, 1, 0, 0, 0, 0, 1, 0, 0, 1, 0, 1, 0, 0, 0, 0, 1, 1, 1, 1, 0, 0, 0, 0, 1, 0, 1, 0, 0, 1, 0, 0, 1, 0, 0, 1, 0, 1, 1, 0, 0, 0, 1, 1, 0, 0, 0, 1, 0, 0, 0, 0, 0, 0, 1, 0, 0, 1, 1, 1, 1, 0, 0, 0, 0, 0, 1, 1, 1, 1, 0, 1, 0, 0, 0, 1, 0, 1, 0, 0, 1, 1, 1, 0, 1, 0, 0, 0, 1, 0, 1, 1, 1, 1, 0, 0, 1, 0, 1, 1, 0, 0, 0, 1, 0, 0, 0, 0, 0, 1, 1, 0, 0, 0, 0, 1, 1, 1, 1, 0, 0, 1, 0, 1, 0, 1, 1, 1, 1, 0, 0, 0, 0, 0, 0, 1, 1, 0, 1, 1, 0, 0, 0, 1, 0, 1, 0, 1, 0, 0, 1, 0, 0, 0, 0, 0, 1, 0, 1, 1, 0, 1, 1, 0, 1, 1, 1, 0, 1, 0, 1, 1, 0, 0, 0, 1, 1, 0, 1, 0, 1, 1, 1, 0, 0, 0, 1, 1, 1, 0, 0, 1, 1, 1, 1, 1, 1, 1, 0, 1, 1, 0, 1, 0, 0, 1, 1, 0, 1, 1, 1, 0, 0, 1, 1, 0, 1, 1, 0, 1, 1, 0, 0, 0, 0, 1, 1, 1, 0, 0, 0, 1, 1, 1, 0, 1, 1, 0, 1, 1, 0, 0, 1, 1, 1, 0, 0, 0, 0, 0, 0, 1, 0, 0, 0, 1, 0, 1, 0, 0, 1, 1, 0, 0, 0, 0, 1, 1, 0, 0, 0, 1, 1, 0, 0, 0, 0, 1, 0, 1, 0, 0, 0, 1, 0, 0, 1, 0, 1, 0, 0, 0, 0, 0, 1, 1, 1, 1, 1, 1, 0, 1, 1, 0, 1, 1, 1, 0, 1, 1, 1, 0, 0, 1, 1, 0, 0, 1, 0, 0, 0, 0, 1, 1, 0, 0, 0, 0, 1, 1, 0, 1, 1, 0, 1, 1, 1, 1, 0, 1, 1, 0, 1, 0, 1, 1, 0, 1, 1, 1, 1, 1, 0, 1, 0, 1, 0, 0, 1, 0, 0, 0, 0, 1, 1, 0, 0, 0, 1, 1, 0, 0, 1, 0, 1, 0, 0, 0, 0, 1, 1, 1, 0, 0, 0, 1, 0, 1, 0, 1, 1, 0, 0, 0, 1, 1, 1, 0, 0, 1, 0, 1, 1, 1, 1, 0, 1, 1, 0, 1, 0, 0, 0, 0, 0, 1, 1, 1, 0, 0, 1, 1, 1, 1, 0, 1, 1, 0, 0, 0, 0, 1, 0, 0, 0, 1, 1, 1, 1, 0, 0, 0, 0, 1, 0, 0, 1, 0, 0, 0, 1, 0, 1, 0, 0, 1, 0, 0, 0, 1, 0, 0, 0, 1, 0, 0, 0, 0, 1, 0, 1, 0, 1, 1, 1, 0, 0, 1, 0, 0, 1, 1, 1, 0, 1, 1, 0, 1, 1, 1, 1, 0, 0, 0, 0, 0, 0, 0, 1, 1, 0, 0, 0, 0, 0, 0, 0, 1, 0, 1, 1, 0, 0, 0, 0, 1, 1, 1, 0, 1, 0, 0, 0, 1, 0, 1, 0, 0, 1, 1, 0, 1, 0, 0, 0, 1, 1, 0, 1, 1, 0, 0, 1, 0, 0, 1, 0, 0, 0, 1, 0, 0, 0, 1, 0, 0, 1, 0, 1, 0, 0, 0, 1, 1, 0, 1, 0, 0, 1, 0, 0, 0, 1, 0, 1, 0, 1, 1, 0, 0, 0, 1, 0, 0, 1, 0, 0, 0, 1, 1, 1, 1, 0, 0, 0, 1, 1, 0, 0, 1, 1, 1, 0, 0, 1, 0, 0, 1, 1, 0, 1, 1, 0, 0, 1, 0, 1, 0, 0, 0, 1, 0, 1, 0, 1, 1, 0, 0, 1, 0, 0, 0, 1, 0, 1, 1, 0, 0, 1, 0, 1, 0, 0, 0, 1, 0, 1, 0, 0, 0, 1, 0, 1, 1, 1, 0, 1, 1, 1, 0, 1, 0, 0, 1, 0, 1, 1, 1, 1, 0, 1, 1, 0, 0, 1, 1, 1, 1, 1, 0, 0, 1, 0, 1, 1, 0, 0, 0, 0, 0, 1, 0, 1, 0, 1, 0, 0, 0, 0, 1, 1, 0, 1, 1, 1, 0, 1, 0, 1, 0, 1, 0, 0, 1, 0, 0, 1, 1, 0, 1, 0, 0, 1, 1, 0, 0, 0, 0, 0, 0, 1, 0, 1, 1, 1, 1, 1, 1, 0, 1, 0, 1, 0, 1, 0, 0, 0, 0, 0, 1, 1, 0, 0, 0, 0, 1, 1, 0, 0, 1, 1, 1, 0, 0, 0, 1, 0, 0, 0, 0, 0, 1, 1, 1, 0, 1, 0, 0, 0, 1, 0, 1, 0, 1, 1, 0, 0, 0, 1, 0, 1, 1, 1, 0, 1, 0, 0, 1, 0, 1, 1, 0, 0, 0, 0, 0, 1, 0, 1, 1, 0, 0, 1, 1, 0, 1, 1, 0, 0, 1, 1, 0, 1, 0, 0, 0, 1, 0, 0, 1, 1, 0, 0, 0, 1, 1, 0, 0, 1, 0, 0, 0, 1, 1, 1, 1, 0, 1, 0, 0, 0, 0, 0, 0, 1, 1, 1, 0, 0, 1, 1, 0, 1, 0, 1, 1, 1, 0, 0, 0, 1, 1, 0, 0, 1, 1, 1, 1, 0, 1, 1, 1, 1, 1, 0, 1, 0, 1, 1, 1, 1, 0, 0, 1, 0, 1, 1, 1, 1, 0, 0, 1, 1, 0, 1, 1, 1, 0, 1, 0, 1, 0, 0, 0, 1, 1, 0, 1, 1, 0, 0, 1, 1, 0, 0, 1, 1, 1, 0, 0, 0, 1, 1, 0, 1, 1, 1, 0, 1, 0, 1, 1, 1, 0, 1, 0, 0, 1, 0, 0, 1, 0, 0, 0, 1, 0, 0, 0, 1, 1, 1, 0, 0, 0, 1, 1, 1, 0, 0, 1, 1, 1, 0, 0, 1, 0, 0, 1, 0, 1, 0, 1, 1, 0, 1, 1, 0, 1, 0, 0, 0, 0, 1, 1, 0, 1, 0, 0, 0, 1, 0, 0, 1, 0, 0, 0, 0, 0, 0, 0, 0, 0, 1, 1, 0, 0, 0, 0, 1, 0, 0, 0, 1, 0, 0, 1, 0, 1, 0, 1, 1, 0, 0, 1, 0, 1, 1, 0, 1, 1, 1, 0, 1, 1, 0, 1, 0, 0, 1, 0, 0, 0, 1, 0, 0, 0, 1, 1, 0, 0, 1, 1, 0, 1, 0, 0, 0, 0, 0, 0, 1, 0, 0, 1, 0, 0, 1, 0, 0, 0, 0, 1, 1, 0, 1, 0, 1, 0, 0, 0, 1, 0, 1, 1, 1, 0, 1, 0, 1, 1, 0, 0, 0, 1, 0, 0, 1, 1, 0, 0, 0, 1, 0, 1, 1, 0, 0, 0, 0, 1, 0, 1, 1, 0, 1, 0, 1, 0, 0, 0, 0, 0, 0, 0, 0, 0, 1, 0, 1, 0, 1, 0, 0, 1, 0, 1, 0, 0, 1, 1, 1, 1, 1, 0, 0, 1, 0, 0, 0, 1, 1, 0, 1, 0, 0, 1, 0, 0, 0, 0, 0, 1, 1, 1, 1, 0, 1, 1, 1, 0, 1, 0, 0, 0, 1, 0, 1, 0, 1, 0, 1, 0, 0, 0, 1, 0, 1, 0, 0, 1, 1, 0, 1, 0, 1, 1, 0, 0, 0, 0, 0, 0, 1, 0, 0, 1, 0, 1, 0, 0, 1, 0, 0, 1, 1, 0, 0, 0, 0, 0, 0, 1, 0, 0, 0, 0, 1, 1, 0, 0, 1, 1, 1, 0, 1, 1, 0, 0, 0, 1, 0, 1, 0, 1, 1, 1, 0, 0, 1, 1, 0, 0, 1, 1, 1, 1, 1, 1, 0, 1, 1, 0, 0, 1, 1, 1, 0, 0, 0, 0, 1, 0, 1, 0, 1, 0, 1, 0, 1, 1, 0, 0, 1, 1, 1, 1, 0, 0, 1, 0, 0, 1, 1, 0, 0, 1, 0, 0, 0, 1, 0, 1, 1, 0, 0, 1, 1, 1, 0, 0, 1, 0, 0, 0, 1, 0, 0, 1, 1, 0, 0, 0, 1, 1, 1, 1, 0, 1, 0, 0, 1, 1, 0, 1, 1, 0, 1, 0, 0, 0, 0, 0, 1, 0, 1, 1, 0, 1, 1, 0, 1, 0, 0, 0, 0, 0, 1, 1, 1, 1, 0, 1, 1, 0, 0, 1, 0, 0, 1, 1, 0, 0, 0, 1, 0, 0, 0, 0, 1, 1, 0, 0, 1, 1, 1, 0, 1, 1, 1, 1, 0, 1, 0, 0, 1, 1, 1, 1, 0, 1, 0, 1, 1, 1, 0, 1, 0, 1, 1, 0, 0, 0, 1, 1, 0, 0, 0, 0, 0, 1, 1, 1, 1, 0, 1, 0, 0, 1, 1, 1, 0, 1, 1, 1, 1, 0, 1, 0, 1, 1, 0, 1, 0, 0, 0, 1, 1, 0, 0, 1, 0, 1, 0, 1, 1, 1, 1, 1, 0, 1, 0, 1, 0, 0, 0, 1, 1, 0, 0, 1, 1, 1, 0, 0, 0, 0, 0, 0, 0, 1, 1, 0, 1, 0, 0, 1, 0, 0, 1, 0, 1, 0, 0, 0, 1, 1, 1, 1, 1, 1, 0, 0, 0, 0, 0, 0, 1, 0, 0, 0, 1, 0, 0, 1, 1, 0, 0, 0, 0, 1, 0, 1, 0, 1, 0, 0, 1, 0, 0, 1, 1, 0, 0, 0, 1, 0, 0, 0, 1, 0, 1, 0, 1, 0, 0, 1, 1, 1, 1, 1, 0, 0, 0, 1, 1, 0, 1, 0, 1, 1, 1, 0, 0, 1, 0, 1, 1, 0, 1, 1, 0, 1, 1, 1, 1, 0, 1, 0, 0, 1, 0, 0, 1, 1, 0, 0, 1, 0, 0, 1, 1, 1, 1, 0, 1, 0, 1, 0, 0, 0, 0, 0, 0, 0, 0, 0, 0, 1, 1, 0, 0, 1, 1, 1, 0, 1, 1, 0, 0, 1, 1, 0, 0, 1, 1, 0, 1, 1, 1, 0, 0, 0, 0, 1, 1, 1, 0, 0, 1, 1, 1, 1, 1, 0, 1, 1, 0, 0, 0, 0, 0, 1, 1, 1, 0, 1, 1, 1, 0, 1, 1, 0, 0, 1, 1, 1, 0, 1, 1, 0, 0, 1, 0, 0, 1, 0, 1, 0, 1, 1, 0, 1, 0, 1, 1, 1, 1, 0, 0, 1, 0, 1, 0, 1, 1, 0, 0, 1, 0, 1, 1, 0, 0, 1, 1, 1, 0, 0, 1, 0, 1, 0, 1, 1, 0, 0, 0, 1, 0, 1, 1, 1, 0, 1, 0, 1, 0, 1, 1, 0, 1, 0, 0, 0, 0, 0, 1, 1, 0, 0, 1, 0, 1, 0, 1, 0, 0, 1, 1, 0, 0, 0, 1, 1, 1, 0, 1, 0, 0, 0, 0, 0, 1, 1, 0, 0, 0, 0, 0, 1, 0, 1, 1, 0, 1, 0, 0, 0, 1, 1, 0, 1, 0, 1, 1, 0, 0, 0, 1, 1, 0, 1, 1, 0, 1, 0], \"coloraxis\": \"coloraxis\", \"opacity\": 0.5, \"symbol\": \"circle\"}, \"mode\": \"markers\", \"name\": \"\", \"showlegend\": false, \"type\": \"scattergl\", \"x\": [99, -122, -60, -172, -68, 39, -64, 118, 121, -125, -7, -5, 152, -81, 125, -76, -158, 0, 0, 95, 1, 127, -5, 154, 56, 0, -4, 179, -120, -86, -7, 190, -59, 138, -18, 130, 138, -49, -123, -65, -157, 34, 160, -7, 7, 187, 129, -166, 7, 84, -23, -174, 0, -212, -248, -67, 0, 129, 0, 225, 0, -15, -142, 0, -111, 154, 9, -11, 228, -7, 239, -166, -242, -37, 9, -2, -234, -5, 12, -138, 132, 113, 75, 15, 168, -155, 133, 83, -134, 59, 31, -106, -4, 72, -73, 0, -142, 196, 24, -226, -138, 0, -40, -182, 75, 176, 158, -158, -103, 40, -221, 2, -64, 6, -133, -37, 13, -205, -18, -111, 225, -136, 144, 103, -68, 0, -226, -37, 39, -114, 233, 157, 29, 37, -37, 95, 6, 34, 92, 132, 61, -205, -32, 88, 128, -40, 0, -154, -166, 85, -73, 0, 0, 154, 133, -97, -231, -49, -210, 20, -13, -34, 140, 72, 147, 20, 20, -169, -45, -123, 231, 31, -8, 181, -133, 86, 190, 29, 0, 0, 0, 119, 78, 88, -122, 0, 132, 130, 0, 0, 103, 64, 125, -43, 0, 168, 0, 147, 176, 0, 0, 0, 132, 0, -166, -67, 110, 105, -4, 64, 0, 0, -188, -232, 155, 0, 32, -112, 0, -239, 0, -146, -163, 0, -125, 12, -27, -64, 0, -179, 182, -226, 0, 0, -37, 152, -108, -224, 47, 54, 149, -114, -24, 18, 58, -117, 106, 239, 65, -204, -152, -11, 26, 65, -52, -166, 181, 7, -229, 9, 231, 81, 0, -196, -164, 0, 94, -23, 116, -122, 0, -122, 84, 0, -150, 130, 0, 1, -123, 0, 147, 154, 0, 53, -92, -237, 0, -136, 0, -193, -202, -202, -127, 32, 132, 122, -70, 39, -86, 18, 130, 10, 226, -133, 0, -95, 160, -117, 91, 0, 0, 129, -87, 0, 0, 209, 0, 189, 193, -24, 2, -105, 154, -116, 146, 174, -80, 156, 0, -161, -136, 232, 232, 146, -162, -177, -12, 206, 108, -198, -234, 0, 0, 110, 58, 56, -140, -34, 129, 2, 20, 105, -223, 159, 92, 207, -60, -27, -8, -8, 21, 18, 78, 18, 23, 4, 1, -2, 138, -78, 7, 24, 173, -134, -158, -174, -185, -93, 147, 10, 236, -125, 45, -90, -18, -92, -147, 18, 28, 2, -4, 77, -146, -24, 0, 113, 204, 135, -168, 53, -19, 54, 56, -127, -15, 155, -32, 1, 39, -109, 195, 226, -48, 198, 89, -125, -76, 45, 160, 159, 168, -187, 45, -158, -13, 233, 144, 177, -34, -166, -93, -7, 10, -229, -82, -101, -182, -40, 64, 176, 147, -209, -60, 111, -188, -73, 53, -196, -228, 1, -220, -7, -4, -86, 7, -8, 80, -79, 173, 0, 94, -169, 31, 0, -92, -2, 0, -180, 119, -125, 78, 48, -106, 0, 89, 4, 24, -187, 160, 0, 119, -19, -13, 99, 0, 0, -180, 12, 146, 47, -59, -87, -120, 4, 234, 0, 0, 144, 222, -226, 97, 0, -7, -237, 127, 9, 118, 198, 59, 48, 18, 111, 0, 2, 234, 23, -60, 111, 170, -182, -147, 114, 2, 23, -144, 92, 127, 24, -7, 10, -155, 54, 159, 91, 144, -5, 39, 140, 144, 102, 0, 0, 92, 0, 0, 118, -144, -32, 157, -119, -146, 0, 106, 0, -210, 29, -232, 144, -97, 59, -128, 155, 43, -155, 53, -234, -13, -119, 18, -168, -190, 116, -5, -175, 61, 136, 111, 146, -131, 20, -68, -86, 136, 21, 165, -127, -161, -161, -111, 144, 51, -98, 233, 103, 9, 89, -122, 159, 0, -13, -229, 62, -213, 95, -231, 136, -65, 15, 147, 24, -21, 73, -175, 61, 7, 62, -138, 7, -7, -119, 163, 36, 97, 0, 0, -166, -57, 62, 39, -152, 91, 0, -120, 84, -23, -166, 0, 15, 18, -240, -100, 0, 116, 140, 138, -57, -13, 7, -179, 236, -7, 124, 1, -84, 10, 193, -11, 7, 231, -212, -235, 84, 0, 75, 114, -179, -2, 141, 0, 105, -73, -116, 23, -81, 130, -10, 20, 129, 130, -106, -21, 17, 69, 12, 2, -221, 0, -10, -51, 113, 21, 18, -114, -114, 143, 165, 196, -5, -240, 94, 17, -27, -229, 18, -4, -82, 62, -204, -57, 118, 77, -64, -76, -122, -161, -49, -191, -146, 31, -157, 176, -180, 0, -49, 47, 15, -34, 100, 12, -51, -164, -161, -141, 0, -32, 53, -198, 65, -5, -52, -73, -48, 4, -103, 12, 21, -7, 4, 9, -90, -119, -175, 0, 7, 113, 143, 163, -141, -87, 0, 0, -158, 135, 152, 214, 118, -141, 4, -164, 0, -130, -228, 18, -153, 23, 0, 106, 225, -130, 0, 125, 0, -130, -37, 111, -15, 138, -127, -163, -95, -15, 201, 88, -163, -82, 21, 140, -183, 7, -108, 51, 165, 184, -4, 0, 239, 209, -59, 31, 0, -60, 53, -2, 130, 72, 234, -228, 138, 0, -89, 0, -68, 114, 195, -34, -52, -180, 125, 0, -24, 9, 135, -23, -171, -55, -185, 129, 0, -128, 17, -11, 73, -37, -59, 13, 157, 203, -231, 2, -30, -160, -128, -117, 77, 206, 65, 88, 9, -228, -16, -228, 0, -226, -92, -90, -98, 56, -117, 129, 168, 129, -4, -169, -147, 9, -11, 241, 13, 67, -23, -5, -190, 2, -64, 54, 7, -228, 171, 6, 203, 9, 0, 0, 17, -122, -26, 0, 12, -133, 146, -13, 12, -142, -174, 10, -71, -125, -13, 157, 7, 31, 236, 130, 141, -234, 1, 146, 143, -16, 130, -57, -73, -231, 100, 138, -98, -146, -179, -11, 0, 2, -157, 146, -49, 18, -23, 133, 17, -198, -64, -229, -194, -95, -75, 165, -153, 0, 6, -180, 233, 86, 0, 0, -139, 125, -62, -16, 140, -89, 0, 234, 36, 0, 0, -128, -106, 42, -198, 0, 0, -234, 0, 32, 0, 152, -234, 4, -169, -215, -106, 65, -97, -196, -7, 9, 147, -21, 24, -11, 43, 9, -152, -204, 174, -160, -32, 21, 146, -19, -109, -106, 51, 2, -117, 127, -92, 203, -228, -226, 174, -139, -120, 20, 135, 177, 43, 83, -46, 59, 72, -232, 0, 0, -2, 0, -161, 100, 184, -13, -51, -188, 54, -11, -62, 187, 195, 149, -171, 159, -8, 0, -163, 133, -229, -160, -40, 15, 0, -16, -76, 0, -23, -164, 13, -97, 195, -128, -128, 122, 0, 209, 231, 231, -101, -108, 0, 155, 18, -224, 223, -76, 0, 170, 103, -234, 193, -150, 236, 91, -237, -62, 223, -41, -237, 118, 189, -51, -226, 62, -75, -41, -106, -5, 10, -10, -27, -139, 29, 26, 201, 119, 119, -95, 103, -11, -10, 192, 185, -19, -114, 151, -105, -34, 0, 102, -13, -16, 113, 141, -103, -98, 163, -79, 187, 99, 0, -152, 47, 132, -62, 0, -109, 0, 97, 95, 0, -2, -127, 0, -117, -122, -49, 136, 13, 159, -86, 97, -152, -86, 0, -152, -215, 160, 166, 130, 237, -163, 201, -146, 4, -193, 204, -142, -82, 2, -4, 23, -5, 28, 4, -52, 9, 13, 42, -92, 86, 130, 174, 7, -171, 72, -139, -139, 17, 48, 1, 231, -5, 125, -228, 121, 53, 0, 173, 39, -34, 88, 151, -8, 6, 12, -65, 4, 99, 15, -228, 0, 20, 0, 20, -27, 121, -213, 18, -231, 24, 6, -26, -70, -8, 31, -152, 31, -60, 13, 10, 21, -4, 127, 144, 50, 18, 2, -48, 108, 18, -10, 58, 21, 151, 28, 152, 189, 61, 106, 31, 50, -235, -78, -62, 69, -172, 230, 1, 7, -60, -8, 133, -229, -3, 9, 108, 171, -10, 6, 59, 31, -23, 116, -202, 163, 7, -43, 9, 12, -127, -229, -220, 204, 100, -185, -68, 144, 78, -5, 24, -11, -93, 32, 12, -117, -141, 170, 108, 77, 0, -19, 138, 6, -232, 163, 173, -23, 125, -134, -172, -153, -60, -2, -125, -82, -2, -19, -37, 121, -164, 181, -111, -112, -221, -114, -229, -228, -122, -2, 138, 24, 77, -64, 106, -112, 155, -75, 7, 89, -8, 102, 34, -10, -158, -16, 72, -8, -48, 15, 9, 7, 147, -2, 61, 37, 23, 0, -108, -128, 182, -13, 233, -198, 58, 15, -193, 209, -38, -171, 7, -196, -26, 237, 162, 181, -78, -7, -4, 21, -32, -106, -35, 0, 13, 34, -93, 143, -226, -8, -182, 70, 121, -4, 18, -155, 163, 83, 43, -114, 15, -147, 138, 185, 15, 6, 59, -79, 92, 59, -100, -169, -18, 42, 20, 28, 20, -221, 129, -225, 10, -84, -147, 64, 168, 226, 147, -161, 12, 91, -179, 48, 157, -21, 121, 75, -34, 151, -182, 103, 24, 17, -26, 56, 118, -221, 61, 42, 130, -11, 72, 149, -134, -106, -205, -106, 54, 17, 103, 237, 17, -16, 236, 121, 0, 247, 0, 2, 59, -78, -18, 86, 241, 58, -11, -229, 21, -2, 149, 239, -182, 42, 15, 173, 10, -51, -164, -160, 236, 187, 7, -11, -18, 15, -21, -38, 10, -166, 170, -67, 171, -92, -90, 3, 171, -43, 220, 51, 17, -105, -138, -18, 2, -19, -65, 151, -81, 78, -23, -16, -155, -231, 24, -240, -147, -79, 12, -196, 143, -231, -232, 149, -105, -234, -19, -92, -190, -27, 163, 43, -199, -133, 125, -43, 184, -243, 171, -109, 127, -4, -64, -84, -89, 239, -10, -116, 17, -7, 23, 20, -122, -210, 166, -24, 195, -7, -54, -123, 94, -228, 143, 122, 114, 56, 160, -155, -122, -76, -234, 244, -27, -171, -125, -57, -108, 4, -5, 241, 10, 47, -128, -8, -160, -131, -196, -163, 80, -2, 220, -7, 17, 18, -95, 174, -155, 31, 132, 114, -172, 100, -158, 235, 116, 73, -149, 2, 39, 94, 51, 144, -168, -67, -4, 75, 6, -149, 234, -41, -4, 50, 73, -70, -5, -131, -109, 39, -32, 247, -19, 29, 40, -180, 78, -117, 176, -194, 67, -146, 45, 9, 19, 127, 122, 138, 78, -119, 1, -217, 6, 114, 12, 47, 154, 146, -163, -18, -228, 42, 12, 129, 234, -141, -13, 32, -202, -11, -90, -8, 160, 99, 176, -150, -7, 56, -172, -166, -5, -5, 132, 94, -103, 1, 1, -237, 144, 177, -105, 31, -146, -138, 201, 23, 138, 168, 116, 20, 4, 6, 226, -78, -232, 13, 78, 45, 103, -8, 73, 132, 100, 140, -7, -122, 80, -92, -97, -164, 40, -64, -48, -119, -98, -234, -190, -52, 20, -175, 64, 0, 64, 151, 154, 140, -79, -160, -174, 19, 97, 119, 157, -7, -224, 155, -56, 72, 239, -71, 48, -194, -168, 97, 12, 159, 160, -59, -130, -119, 241, -89, 106, 77, -93, -71, 7, 168, 160, 80, -139, -123, 99, -123, -54, 28, -234, -111, -123, 43, 20, 12, -133, -235, 193, -111, -117, -90, 236, 23, 20, -201, 233, 237, 184, 226, -108, -215, -15, 179, -24, 1, -174, 121, 20, -100, 237, 163, -131, 144, -11, 111, -78, 165, -187, -7, -13, 152, 12, 0, 110, -5, 189, -77, 133, -16, -150, 24, 0, -232, -239, -75, -164, 6, -119, 146, -119, -120, 67, 9, 124, -7, 177, 110, 114, 228, 141, 124, 0, 144, -111, 245, 146, -32, 18, 108, -163, -48, -224, 20, -146, 0, 7, 21, 108, 168, 152, 149, -161, 12, 26, 177, 114, 177, 209, 163, 4, 18, -21, 9, 50, 163, 140, -223, 13, 20, 166, -109, 102, -153, -4, -183, -56, 138, -123, -119, 118, -2, 151, 198, -106, -57, -235, -18, -243, -152, 0, -161, -7, 13, -37, 48, -188, -7, 75, -4, 130, -21, -5, -196, 23, -27, 1, 20, 18, 181, 83, -224, -19, -114, 40, -22, -164, -231, -187, 218, -49, 18, -185, -231, 200, 122, -11, 84, -37, -114, 132, -191, 215, -163, 10, 18, -26, 135, -163, -23, 20, 171, 0, -79, -84, 247, -90, 10, 214, 181, 9, 204, -21, -133, 54, -223, -232, -8, -221, -86, -240, 39, 225, -71, 59, -2, 9, 15, -224, -34, 50, 62, 24, -11, -59, -92, 206, 136, -23, -89, 125, -97, 207, -155, 97, -226, 127, 100, -106, 70, 67, -209, -127, 48, -112, 32, 78, -57, -224, 42, -49, -7, -87, 4, -103, 14, -152, 13, -168, 31, 26, -79, 155, -144, -16, 6, -24, -62, 9, -16, -92, -62, 198, 23, -229, 10, 236, 0, -171, -62, -226, 13, -4, 244, 12, 50, 135, -228, -226, -183, -172, -37, -18, 155, -229, 69, -67, 168, -1, 29, -228, -169, -2, -65, 88, 114, 32, 225, 159, 15, 13, -16, 17, -56, 159, 159, 0, -224, -223, 163, 103, -21, 47, -232, -26, 72, 140, 170, -158, 236, 105, 20, 171, -19, -16, 113, 100, 83, 7, -123, -7, -26, -180, -111, -196, -229, 136, -62, 0, 89, 195, 111, -103, 32, 187, 10, -185, -11, 129, -196, -100, -119, -160, 75, 13, -5, 13, -125, -24, 13, 177, -175, 24, 10, 36, 214, 231, 20, -136, 48, -9, 100, -95, 102, 13, 130, 32, 4, 1, -86, 155, 34, 231, -175, 146, -7, -8, -98, 171, -97, -98, -81, 73, 162, 200, 198, -133, 236, 174, 121, -128, -223, -16, 21, 48, -193, 61, 160, 136, 114, -160, -2, 15, -171, 6, 26, -4, 81, -199, 70, -234, -8, -171, 1, -16, 6, 4, -136, 84, 129, -64, 56, -232, -13, -67, -7, -157, -127, -130, 95, -21, -78, -16, 102, -226, -182, 12, 103, -149, -128, -177, 94, 24, 124, -171, -4, 132, 182, 166, -49, -86, 4, -234, 193, 124, -123, 149, 61, 133, -209, -179, -237, 228, -71, 176, 130, 42, 187, 17, 13, 40, -158, 78, -8, 81, 34, 83, -139, -97, 106, 99, -166, -179, 9, -152, -114, -34, -56, -68, -23, 165, 181, -67, 119, 95, -8, -122, 37, -130, -32, 155, 72, 217, -2, -231, -11, 58, 61, 234, 65, -112, 207, 147, 168, 37, 2, 56, 162, 9, -78, -26, -5, -131, 10, -235, 166, 4, 152, -240, -11, 108, -43, 225, -2, 47, -103, -10, 20, -187, -175, -157, -5, 34, 61, 17, -30, 239, -5, 143, -4, -16, -231, 1, -23, -40, -82, -73, 138, 24, -163, -152, -169, -32, -226, 95, 37, 241, 174, -223, -152, -112, 151, -171, 95, 136, 100, 12, -193, 132, -150, 237, 181, 212, -160, -224, 165, 127, 110, -4, -146, 54, -161, 45, -23, 189, 177, -239, 28, 54, 4, 67, 9, -217, 116, 100, -52, 15, -213, 1, -5, -149, 184, -48, -106, 189, -187, -86, 1, 234, -98, -7, 94, 1, -67, 151, 0, 121, 6, 154, -90, 92, -194, 168, 21, 196, -106, 4, -19, 141, 31, 106, 32, 39, 6, -202, 110, -78, 225, 198, -43, -111, -78, 43, -194, -5, -34, 56, -62, 160, -177, 162, -65, -164, -228, 228, 230, -100, -32, -54, -120, -131, -163, 40, 234, 72, -57, -15, 12, 43, -218, -7, 133, 13, -87, -29, -10, -133, -43, 53, 114, -131, -142, 136, -4, 12, 32, 84, -177, -5, 9, -7, 203, 127, -4, 4, -45, -188, -237, 157, -226, -18, -48, -10, 136, 65, 84, 81, 32, 21, -198, -84, -234, 80, -142, 17, 127, -228, -209, 129, 185, 6, 124, 110, 135, -2, 154, 138, 138, -119, 34, 24, -168, 184, -97, 163, -7, 119, 4, -142, 143, -142, -182, -23, -8, 9, 23, -76, 86, -240, -65, 39, 122, -111, -125, 143, 140, -15, 54, 9, 0, 124, -201, -231, -4, 37, -21, -15, 154, 23, 113, -24, 9, 140, 198, 228, 20, -95, -142, -21, 21, -67, -24, -198, -100, -128, 18, -131, 106, -90, 17, -45, 17, 144, 0, 65, 114, 127, -123, -232, 67, 78, -87, -26, 6, 118, -19, 170, -89, 184, 26, -169, -10, 21, 141, 124, 176, -68, -16, -67, 100, 83, 23, 9, 81, 0, 54, 152, -190, 2, 133, -93, 2, -199, -122, -144, 106, 108, 42, -90, 100, -153, -207, 97, 9, -46, -37, -147, -7, 13, -24, -212, 83, 13, -89, 214, 10, 24, 174, -109, 69, -149, -10, -141, -87, -149, 15, -87, 94, 2, -59, 132, -125, -103, 122, -183, 170, -41, -5, 127, -51, 75, -7, 83, 176, 31, -213, 162, 132, 86, -24, 70, -142, -2, -150, -136, -155, -190, 67, -93, 15, 198, -86, -119, 181, 116, -7, 6, -226, -223, 9, -90, 37, 1, 190, -122, 24, -130, 6, -7, 92, -105, 102, 133, -155, -198, -16, 114, 9, -73, 20, 15, 17, -202, 144, 45, 152, -71, -185, -10, 0, -199, 146, -120, 108, -24, 69, -8, 13, -169, 108, -105, -21, 133, 88, -114, -100, 143, -27, 6, -217, -93, 31, 0, 122, -158, 181, -67, 130, 89, -75, 226, -100, 163, 185, -78, 185, 17, -175, 198, -18, 140, 0, 53, -239, 95, 15, 103, -128, -242, 4, -108, -90, 141, 231, 198, -218, -204, -245, 12, 155, -226, -177, -161, 200, -73, -2, -4, -7, -196, -7, 2, 166, -27, -111, 231, -168, -19, 13, -160, -86, 113, -242, -166, 13, 163, -239, -161, 28, 114, -172, 189, 4, -87, 47, -131, 54, 173, 146, 78, -138, -163, -21, 9, -142, -95, 37, -128, 184, 177, -150, 127, -71, -4, -172, 215, -226, 141, 130, -86, 94, -109, -134, -98, -191, 17, -111, -2, 78, 15, 17, 201, -98, 32, -101, 1, 43, 239, 9, -141, -146, -146, -127, -95, -90, -228, -5, -13, -13, 77, 207, 168, -5, 95, -8, -19, 36, -108, 97, -235, -122, 84, 206, 1, -48, 108, 0, -57, 234, 192, 7, 154, -49, -79, -125, -116, -228, -10, 177, 17, 32, -193, -161, 0, -62, 149, 13, 236, 0, -199, 106, 163, 138, -163, 236, -223, 7, 4, -5, -4, 170, 6, -41, -101, 13, -231, -13, 50, 45, -224, 4, -32, 187, 97, 95, -45, -100, 105, -18, 132, -65, 36, 223, 157, -68, 75, 122, 88, -37, 54, 138, 23, -199, 133, -27, -2, -122, 15, -201, 185, 189, 61, 70, -92, -119, -120, -116, -229, -201, -57, -117, 36, 131, 0, 6, 144, 185, -117, -163, -65, -16, 230, -98, -213, 7, -82, 13, -116, -76, -73, 13, 157, 237, -234, 21, -2, -52, 58, -119, 1, -149, 6, 234, -43, -101, -13, -161, -190, 108, -64, 95, 108, 1, -228, 17, -8, 146, 230, 64, 4, 39, 95, -35, 154, 217, 154, 4, 1, -40, 0, 9, -155, -224, -11, -70, -8, 94, -136, -4, 0, 144, 56, 37, -120, -27, 147, 67, -119, -90, 237, 34, 1, 174, -150, -242, 206, 220, -193, 91, 144, 65, -67, -48, 237, 159, 10, 15, 129, 200, -101, 36, 234, -103, 36, 113, 157, 31, 84, -153, -128, -59, 6, 83, -172, 1, 130, 94, 121, 154, 12, 236, 10, -161, -13, 203, 230, 182, 190, -11, 2, -13, -127, 75, -201, 239, -2, 4, -5, -139, 159, 118, -158, 29, 122, -52, 116, 193, 182, -150, -235, -8, -166, 7, 61, 24, 72, -23, -224, 233, 13, 176, -190, 141, -2, 15, 170, 42, 176, -123, 185, 54, -7, 43, -169, 136, 6, 236, 193, -155, -133, 4, 13, -231, 108, -48, 7, -2, 0, -215, -217, 159, -223, 42, 58, 32, -19, -2, 51, 231, 131, 4, 1, 18, -5, 102, -153, -134, 106, -8, -34, 114, -103, -95, 50, 17, -68, -19, -7, 12, -240, -89, 154, 13, 209, -193, -131, -234, 106, 0, 114, 1, 192, 113, 43, -37, 9, -136, -158, 100, -4, 36, 45, 23, -169, -150, -234, 67, 26, -229, -117, -38, -27, 7, -16, 119, 70, -101, 39, 26, -97, -41, 29, -152, -13, 4, 225, 132, -139, -153, 45, 18, -38, 189, 162, -45, -144, -13, 118, 75, 185, 61, 81, 129, 72, 168, 20, -15, 83, 65, -150, -8, 138, -117, -21, 7, 67, 159, -75, -10, 124, 6, 12, -183, 92, 102, 91, -60, 2, -141, -5, -229, 154, 15, 155, -7, 192, -82, -89, 1, 21, -93, 179, 154, 9, 7, -120, -89, 83, -35, 58, 99, 118, 154, 2, -196, -7, -79, -82, -193, 135, -172, 198, 84, 0, -134, -67, -2, 152, 1, -196, -52, -164, 0, 233, 102, -106, -79, 106, 223, 190, 83, 231, 40, -11, 17, -201, -4, 9, -13, 17, -136, -209, -190, -82, -168, -45, 78, 13, -2, 119, 97, 77, -191, 138, -8, -112, -152, 26, -40, 162, 193, 190, -37, 138, -157, 2, -8, 94, 185, 12, -106, -139, 135, -56, 97, -246, 141, 6, 133, 118, -183, -2, 174, 12, 152, -198, 18, -16, 230, 201, 234, 110, 200, 29, 159, 106, -229, 177, -16, 129, 132, 196, -19, 12, 212, 185, 207, 193, 6, 168, 230, -235, -59, 81, 61, 0, 4, 36, 47, -117, -198, -242, -213, 53, -32, 119, -98, -111, -70, -128, -166, -5, -18, -11, -236, 9, 40, 110, -177, -3, -100, -23, 121, 0, 1, -41, 13, -52, -147, 6, 9, -4, 17, -231, 130, 61, 141, 187, 0, 0, 0, 189, -108, -127, 141, 113, -190, -5, -105, -38, -210, 103, 91, 119, 77, 48, 176, 10, -193, -26, 4, -98, 99, -46, -103, -2, 125, -86, -45, 193, 190, -101, -95, -4, 12, -98, 2, -133, 6, 177, 4, -29, 144, 140, -86, -182, -35, -16, 192, 39, 12, -234, 7, 171, 72, 113, -117, 0, -105, -64, -229, -43, -108, 65, 220, -116, -193, -103, 125, 45, 54, 228, 7, -54, -234, 122, 155, -146, -199, -2, -111, -150, 86, 149, 40, 39, 42, 201, -114, 6, 65, -131, -108, 32, 26, 40, 4, 214, -231, -8, 121, 17, -116, 209, 32, -87, -182, -73, -40, 4, 177, -13, 187, 72, -234, 102, -41, 88, 97, 230, -158, 12, -30, 1, -26, 151, 135, 155, 154, 78, 12, -139, 2, 20, 9, -138, 165, -125, -48, -168, 86, -100, -24, 58, 223, -185, 121, 10, 116, -174, 1, 151, -51, -183, 234, -131, 17, -108, 18, 174, 28, 160, -101, 207, -226, -139, -224, -24, 89, 114, -11, 75, -119, -114, 168, 122, -231, 13, 54, -101, 168, -8, 119, 114, 146, -231, -187, -79, -169, 209, -24, 54, 1, -57, -111, 179, 65, -78, 190, 157, -131, -119, -16, -52, 143, 140, 166, 119, 26, 21, 165, -146, -117, 157, 2, -221, -166, -226, -212, 237, -232, 119, 69, -10, 17, -16, -15, -30, -196, -218, -231, -158, -190, 21, -62, -11, -185, 92, 125, 23, 81, -169, 62, -105, -46, -119, 140, 163, 18, 211, 141, 231, -7, -10, 149, -168, 233, -64, -65, -46, 17, 179, 53, -68, -70, -226, 1, 140, 174, -127, 228, 23, -171, 95, -45, 1, 121, 163, -100, 176, 222, -146, 166, -174, 50, 0, -70, -95, 23, -164, 138, 13, -183, -2, 119, 105, -81, 17, 129, -125, -127, -11, 130, 24, -30, 37, 26, 10, -97, 17, -11, 0, 163, 24, 0, 6, 12, -133, -152, 6, -183, -210, 132, 15, -27, -10, 119, -127, 108, -122, 88, -2, -67, 29, -161, -86, 91, 31, 4, 89, 18, 133, 176, -212, 10, 118, -234, 37, 113, -65, 143, -223, -103, 78, -40, -15, 0, 103, 119, 185, 13, 155, -164, 125, -182, 204, -35, 195, 160, 2, -168, -144, 7, -59, -67, -169, -232, -109, -150, -228, 18, -204, -166, 10, 234, -136, -90, 160, 111, 84, -65, 50, 206, 118, -46, 209, -123, 1, 239, -116, -75, -224, 0, 233, -161, -139, 225, 237, -34, -158, -234, 18, 43, -229, -209, 138, -21, 187, 48, -8, 37, 160, 207, -228, 173, -11, 179, 36, -163, 121, -157, 10, 184, 84, -204, 225, -8, 70, 12, -108, 135, -64, 241, 242, -4, -138, -205, 100, -237, 105, 51, -179, 136, 124, 113, 127, -160, -123, -138, -16, 4, 170, 15, 163, 86, -16, 111, 129, -234, -139, -16, 12, 159, -157, -5, 0, -226, 4, 0, 80, 176, -2, -157, 192, 132, -23, 69, 20, -18, 135, 15, -76, -43, -164, 102, 48, 28, 121, 171, 103, -205, 40, -193, -16, -21, -90, -131, 135, 198, 187, -4, -114, -2, 24, 9, -68, 67, 89, 114, 136, 181, 42, 0, -158, -210, 201, -231, -23, -46, 80, 7, 4, 21, 110, 69, 20, -68, 24, -23, -182, -183, 12, -73, -21, 162, -157, -60, 2, 149, 102, -221, 83, 179, 36, 228, 28, -103, -139, 24, 21, -134, 7, 18, 121, 26, 0, 2, 1, 147, -13, -138, -234, -70, 168, 61, -100, -152, -153, 6, 154, 151, 54, 231, -89, -185, 165, -161, -160, -161, -204, -153, -98, 154, 234, -45, 15, -116, 106, 1, 13, 207, 116, 91, -23, 114, 149, -16, 187, -226, 135, -19, 24, 61, -239, 21, -59, 17, 146, 163, 6, 40, -8, 231, 17, -57, -21, -171, 7, -109, -172, 141, 0, -205, 138, 65, 0, -130, -70, 32, -52, -65, -144, -86, -130, 45, 72, -67, 100, 15, 147, 12, -112, -150, 32, 108, 39, 103, 111, -153, -134, 151, 198, -112, -232, -169, 155, -24, 193, -111, 192, 0, -73, -190, -235, -237, -11, 187, 67, -168, -174, 193, -49, -21, -106, 88, -193, -35, 28, -232, -237, 36, -112, 12, -207, 138, 7, -11, 152, 23, -8, 211, -226, -224, 12, -52, 43, 18, 95, -119, -35, -4, -152, 111, 231, 124, -202, -18, -158, 228, 40, 127, -196, 204, 214, -139, -87, -19, -168, -232, -2, -231, -59, -122, -16, -2, -18, 209, -180, 65, -19, 80, -8, 81, 24, 105, -127, 124, -122, 26, -13, 24, -127, -196, -2, -37, -81, -64, 185, -84, -193, 23, 195, 12, 144, 133, 6, 12, -46, 144, 231, -2, 18, -54, 58, 99, 6, 231, -138, -4, 17, -23, -59, -112, 80, 176, 18, 0, -205, -133, -127, 24, -204, 84, 73, -188, 215, 6, -111, -114, -157, -172, -229, -7, 9, -111, 151, -117, 129, -123, 182, 7, 4, 114, 228, -11, 133, -75, -224, 18, 154, -226, 103, 102, 61, -24, 7, -100, -5, -150, -175, 77, 15, 65, 21, -19, 36, -228, -52, 0, 37, -223, -26, 26, 0, 7, -179, 114, -210, 106, 47, -177, 190, 1, -131, -90, -5, -86, -11, -19, 1, 136, 192, 29, 62, 196, 149, 29, 157, 212, 12, 67, 13, 1, -54, 223, -123, 21, 64, 185, -67, 28, -155, 59, 67, -161, 7, -81, -51, 42, -138, 132, 2, -68, -21, 99, 147, -97, 20, 51, 23, -97, 4, 119, -79, -57, -169, -111, -116, 65, -21, -60, -103, -234, 171, 0, 155, 12, -125, -169, 215, 125, 147, 192, 6, -71, 230, 113, 2, -40, 67, -136, 1, 65, 166, -153, -128, 65, 20, 127, 166, 159, -95, 9, 9, -35, 9, 21, 65, 13, -40, 233, -116, 136, 105, 15, -70, 157, 24, 37, -93, -232, 61, -125, 12, -16, -7, 108, -38, -142, -19, 70, -172, 13, -218, 2, 18, 233, -10, -84, -166, 176, 4, -4, -40, 80, -2, 233, -2, -4, 58, -59, 45, 1, 129, -76, -235, 106, 119, 88, 236, -71, -68, 187, -15, -15, 119, -141, -235, -114, -37, -23, 2, -45, 91, 80, 182, 17, -13, 0, -155, -34, 147, 179, 13, 211, 0, -153, -223, 54, 174, -103, -239, 114, -81, 37, -15, 80, 173, -109, -19, 182, -160, 162, -5, -183, 149, -2, 15, 91, -144, 124, 54, 7, 118, 125, -32, -112, 62, 162, 78, 36, 32, -134, -158, 147, -232, -171, 23, -45, -164, -2, -100, -106, 81, -71, 13, -10, -78, -13, -2, -101, -196, 0, 64, -138, 162, 116, -239, -19, -130, 217, -180, 106, -179, 147, 129, -240, -15, 215, 217, 7, -138, 45, 225, -136, 54, -7, 29, -183, -11, 9, 56, -73, 84, -21, -16, 102, -84, -8, -116, 181, -10, 0, -100, 18, -51, -2, -125, -92, -191, 132, -97, 21, -207, -8, 45, 77, 20, 36, -11, -57, 228, -11, 7, -15, 176, -134, 121, -111, -213, -144, 84, -142, -117, 23, 91, 103, 2, 0, -144, 84, -13, -4, -16, 162, 4, 0, -190, 7, 129, -149, 118, -163, -149, 69, 196, -65, -199, 133, 181, -201, 154, 2, -155, 7, 118, 111, 193, 204, -169, 217, 236, 94, -232, 54, 28, 6, 34, -131, -207, 125, 207, 218, 69, 0, 234, -89, -73, 192, -10, 122, 28, 9, 23, -38, 34, -62, 171, -10, 42, 211, 15, -78, 163, 4, 127, 65, -4, -150, -46, -134, -15, 206, 133, 103, 217, -134, -128, -243, 50, -180, 89, -250, 228, -15, -19, 110, -13, -32, -246, -15, -67, -224, 12, 100, -136, -23, -54, 28, 118, -5, -158, -105, -41, -41, 1, 13, -23, -106, -23, 48, 64, 108, -112, 165, 2, 26, -11, -127, -26, 9, 204, 24, 236, -231, 2, 62, -182, -150, 18, 233, -185, -86, 177, 15, 48, 129, 122, -51, -87, 10, 23, 28, 61, -43, -155, 105, -16, -60, 151, -34, 242, 215, 59, 26, 20, 15, -229, 29, 204, -149, -65, 6, 61, 23, 149, -19, 190, -8, 84, 133, 152, -16, 166, 157, -7, -117, -7, 108, -10, -8, 21, 7, -70, 102, 118, -15, -54, 20, 77, -100, -228, -101, -169, 84, -127, 225, -29, -16, 7, 67, -228, -133, 42, -8, 39, 97, -237, -108, -117, 99, -183, -7, 116, -114, 6, -90, -232, 0, -23, -144, 165, -194, 17, 113, 48, -19, 121, -29, 133, 10, -114, -158, 4, 0, 124, -101, -138, 130, -64, 95, 6, -161, -15, -161, 94, 67, -15, -30, -41, -4, -2, 89, 95, -10, 228, -11, -11, 77, -123, -4, -100, -196, -204, -106, -188, 119, -48, -149, -122, 15, -138, 94, 171, -171, 121, -149, -134, 132, -67, -183, -123, -64, 12, -95, -229, 1, -27, 165, 146, 91, -40, 89, 222, -52, 13, 12, 29, -32, 173, 59, 70, 6, -169, 2, 31, 89, -2, 143, -131, 0, -122, -179, 56, 65, -130, 67, 36, -168, -142, -229, -201, -60, -4, -106, -43, -185, 23, 113, 143, 228, -41, 110, 99, 146, -139, -131, -52, 58, 37, 13, 6, -131, -131, 114, 7, 173, -13, 174, 143, 103, 83, -59, 138, -11, 135, -57, 13, -103, 99, -237, 17, 190, -153, -15, -73, 62, -82, 65, 48, 102, 59, 157, -38, -92, -78, -235, -29, 13, 193, -19, -237, -158, 0, -168, -201, 2, -2, 127, 70, 0, -7, 7, -18, -5, -67, 51, -155, -29, 174, 184, -136, 31, -127, 92, -68, 163, -29, 12, -226, 0, -23, -48, 7, -60, 129, -114, 193, -108, -234, -185, -26, 6, 1, -26, 179, 159, 141, -172, 18, 72, 77, 0, -123, 6, -68, -59, 0, -161, 125, 31, 88, -166, -213, -73, 192, 130, 29, 233, 119, 187, -103, -45, 28, 88, 50, -29, 95, 13, -8, 18, -10, -15, 106, 127, -30, 83, -226, 2, 209, -147, 233, -103, -16, 2, 80, 21, -229, 78, -180, -160, 1, 26, 157, -30, 1, 0, -117, 192, 138, -155, 124, 51, 0, -153, 50, 24, 1, 2, -10, 144, 4, -15, -11, -2, -123, -16, 1, 119, 6, 53, 174, 2, -48, 106, -100, 103, 0, 119, -174, 121, 152, -8, 65, -125, -57, 2, 147, 1, 6, 10, 136, 144, 160, -29, -133, 113, -207, -62, -10, 53, -26, 125, -15, 140, 2, 190, -125, -237, -82, 108, 28, 75, -11, 9, -18, -112, 129, -105, 21, -13, 132, 119, -81, -57, -108, -54, 140, -171, -24, -4, 15, 133, -7, 12, 159, 138, -100, 0, 181, 130, 70, -212, -11, -138, -109, -106, -21, 84, -10, 12, -16, -210, 157, 129, 185, 122, 231, -111, 121, -19, 75, -19, 2, -153, 10, 7, 1, 58, 45, 160, 12, 149, -164, 162, 15, 24, -231, 0, 23, 56, 198, -5, 192, -171, -226, -73, 21, 6, -164, -5, -15, 61, -166, 108, 0, -232, 1, -237, 170, 160, 88, -191, 10, -16, -196, -199, -11, 166, -5, -120, -160, -38, 228, -10, 97, -229, -15, -240, -93, -120, -13, -108, -177, 4, -172, 6, 6, 111, 168, 59, 53, 138, 50, 10, 130, 10, 125, 9, 127, -160, 20, 2, -237, 77, 105, 174, -43, 80, 12, -43, 1, -220, 92, 18, 108, -51, -172, -95, -109, 61, 176, 141, 144, 201, 42, -125, 231, 179, 170, 34, 23, 147, 151, 1, 136, 166, -229, 15, -213, -164, 4, -127, 84, 113, -128, 43, -169, -199, -187, -108, -196, 75, 28, -15, -43, 147, 146, -228, -2, 97, -10, -123, 154, -136, -164, 110, -234, -25, -199, -100, 130, -205, 149, -128, -125, 149, -202, -45, 21, -8, 88, 31, -8, -19, 80, -175, -177, 204, -185, -155, 1, -188, -191, -188, -174, 7, 2, -239, 114, -10, 114, 69, 136, -68, 75, 13, 92, 223, -128, -7, 160, 23, -202, 9, 24, 17, 111, -10, -250, -97, 72, -18, -46, 184, -127, -194, -108, 177, 125, -4, 155, -67, -52, 225, 179, 127, 13, 144, 113, 28, -232, -26, -120, -38, -119, 28, -116, -4, 58, 86, 2, -217, 1, -7, 39, -40, -130, 141, -177, -136, 36, -123, 138, -155, 111, -232, -23, 176, -155, -168, -190, -108, -213, 2, -35, -2, -204, -21, -49, -7, 179, 2, -108, -15, 15, 20, -7, -62, 189, 114, -180, -164, 151, 10, -21, -8, 135, -231, 110, -26, 237, -65, 127, -49, 168, 10, 20, 15, -45, 12, 26, 15, 12, -168, 95, 53, 121, -231, 1, -95, 146, 9, -57, -75, -89, -43, 7, -183, -26, -64, -185, 234, -232, 173, 138, -111, 39, 136, -2, -11, -93, 24, 15, 1, 230, -30, 91, 21, 114, -67, 10, 122, 97, -146, -232, -128, 56, 12, 162, -138, 13, 15, 234, 81, -127, -52, -131, -144, 1, -232, 9, 149, 7, -237, -37, 2, 2, -13, -112, 1, -30, -15, -105, 86, -16, 20, 157, -153, 204, 12, 10, -152, 45, 15, -11, 177, 45, -81, 65, 23, -11, -164, -4, -78, -229, -54, -18, 18, 37, 34, -26, -164, 225, 209, -23, -138, 0, 62, -123, -153, -37, -123, -76, 48, 140, 177, 18, 15, 159, 91, 0, 144, 121, 157, -51, -15, 21, 124, -103, -16, -82, -15, -194, 9, -142, -109, 83, -109, -232, 48, 190, 59, -19, -199, 18, -2, 13, -95, 166, 31, -231, 226, -101, 37, -4, 176, 192, 165, 122, -10, 20, -8, -127, 146, -2, 105, 6, 10, -155, -131, 226, 122, 100, -87, -2, 236, 6, 0, 21, 29, -105, -101, 233, -128, -86, -231, 28, -84, 1, 17, -7, 6, -73, -30, 54, 29, 42, 124, 17, 88, 26, -8, 10, 152, -237, -10, -109, 182, 6, -92, -15, 0, 91, 34, -108, -182, 94, -232, 154, 222, -166, 2, 237, 177, 10, 193, -64, 163, 89, -166, -158, -166, -136, -183, 0, -10, -224, -166, 135, 141, 13, -210, -32, -119, 15, -111, 236, 15, 138, 13, -188, 72, -171, 59, -21, 15, 17, 125, 7, 174, 146, 40, 121, 157, -108, 10, 94, -109, -207, -106, -209, 4, -157, -204, 9, -158, 173, 18, 0, -5, -11, 17, -175, 32, -138, 140, -136, -59, 141, 62, -29, -201, 9, -127, -15, 160, 242, 4, -168, 23, 51, 236, -174, -10, 9, -64, -71, 1, -175, 233, 72, 103, -30, -82, 24, 18, 151, -119, 206, 157, 1, -101, 108, -26, 174, -64, -127, -15, 146, 53, 0, 239, 147, 173, -10, 0, 7, -8, 118, -29, 6, 1, -18, -79, -19, 13, 200, 230, 18, 9, 9, -95, 24, -60, -175, -46, 12, -103, -194, 200, -171, 239, 189, 174, -15, -2, -38, -2, -11, 103, 119, -16, 187, 209, -127, -18, 4, 64, 10, -231, 157, -79, -196, -109, -10, 15, 18, 6, 102, -152, -87, 86, -169, -235, -119, 0, 1, 163, -134, -13, -4, -10, 12, -97, 127, -71, -133, 6, 65, 9, 147, -157, 15, 75, 24, -196, -175, 125, 23, 20, -111, -234, -38, -40, -160, 20, -87, -8, -52, 18, 26, 108, 204, 203, -149, 100, -5, 226, -168, -232, -4, 193, -56, 168, -210, -149, 0, -105, 50, -4, -67, 65, -11, 83, -155, 171, -27, 146, 32, -75, 24, -27, -84, -7, -18, -68, 106, -32, -89, 47, 88, -163, -24, -150, 77, -11, 151, 9, 113, -2, 9, 220, -183, 26, -2, -78, 203, -11, -89, 64, 12, -122, 218, -207, -11, 7, -119, -128, 64, -70, 0, -172, 174, 6, 204, -41, -205, 13, -40, 23, 62, -2, -7, -133, 163, -13, -89, -228, 43, -89, 15, 195, -168, 95, 13, -60, 9, -127, -7, -123, -70, -123, 212, -231, 43, -117, 111, 2, -10, -30, 103, 1, -101, -81, 99, -4, -136, 83, 1, 152, 141, -175, -174, -23, -103, -122, -7, -16, 163, -155, -4, 24, 218, -15, -123, -191, 191, 7, -18, 77, 207, 111, 230, -10, -117, -112, 236, -19, -201, -157, -201, -213, 124, 0, -86, -175, -18, 9, -120, -152, 230, 168, -8, -13, 0, -34, 124, 181, -130, 7, 14, -234, 176, 12, -95, -15, -188, -10, 6, -8, 0, 179, 141, -4, 88, -146, 0, 62, -169, -147, -86, -8, 174, 116, 2, 108, 157, 89, -188, 13, -51, -177, 91, 1, -108, -221, 13, -2, 13, -209, -152, -10, 130, -82, 110, 24, -108, -70, 13, 121, 170, 0, 110, -10, 26, 0, -79, -187, 108, 31, 234, 239, 64, 53, 47, 7, -73, 230, -134, -18, -120, 133, -18, -2, -188, -5, 2, -101, -10, -240, 113, -205, -4, -239, 2, -51, 73, 0, -75, 28, 77, -166, -43, 230, 13, -205, -10, 189, 58, 165, -144, 13, 211, 231, -133, -21, -35, 9, -79, -86, 9, -38, -201, -166, -16, 15, -209, -127, -35, -73, 24, 141, -116, 15, 176, -15, 105, 189, -78, -229, -11, 13, 129, -40, -2, -82, 13, 113, 0, 20, 7, -56, 29, -114, -11, -29, 181, 4, 114, -100, -164, 162, 149, -10, -52, -21, -4, -209, 233, 10, -141, 0, 140, -150, 15, -29, 1, -147, -79, 91, 0, 61, 75, -183, -130, -5, -134, 9, -134, 201, -2, 94, 0, 132, 100, 28, -105, 176, 13, 21, 20, 209, -86, 28, -43, 106, 209, 114, 122, -98, 12, -103, 9, -185, -10, 89, 61, 75, 132, 152, 23, 147, -157, -149, 4, 113, -182, 6, 7, 163, 200, -68, -224, 103, -196, -136, -164, 125, -23, 121, 122, 18, -15, 47, -68, 32, 1, 50, -172, 45, 23, 168, -16, -37, -111, -21, -15, 24, 147, 13, -4, 7, 72, -116, 114, -112, -198, 151, -160, -93, 0, 10, 97, -81, -92, 146, 144, -15, -32, 65, 124, -98, 99, 105, 152, -71, -202, 233, 144, 45, 211, 177, 4, -8, -10, -21, -19, 62, 20, 121, -8, -29, -111, 13, -18, -127, -243, -95, -185, -4, 12, -52, -82, -73, 7, 17, -5, 32, -199, -199, -100, 147, 17, -163, -15, 4, -130, -29, 124, 18, 146, 15, 168, -228, -70, -4, -149, -5, 116, 176, -210, 13, -128, 37, -41, -62, 124, 102, -16, 223, -119, -229, -136, 31, -157, 159, -27, 84, 15, 6, -34, 0, 119, 237, 116, 102, -207, 18, -114, 6, -16, -147, -193, 163, 1, 26, -18, -210, -16, 207, -229, 10, 236, 86, -71, 0, -5, -116, 32, 54, -56, -231, -48, 179, -24, 125, -15, 173, 45, -97, 62, 193, 47, 233, 10, -128, 108, -2, 78, -133, -29, -5, -174, -4, -152, 2, 0, 185, 51, 17, 89, 28, 61, 54, 59, 0, -35, 21, -19, 105, -202, -2, 7, 10, 59, -51, -2, 86, -40, -89, -131, 225, -21, -125, 26, 15, -10, -23, -15, 135, -112, 64, -108, 234, 113, 226, 9, 73, 65, 116, 92, -11, -229, 228, -235, -11, -201, -213, 64, 58, 163, -212, -82, -193, -146, -8, -105, 177, 163, -183, -130, -142, -228, 21, -177, -127, 9, 233, -100, 86, -7, 209, 234, -209, -89, 154, 39, -177, -146, -43, -141, 103, 196, 0, 15, -8, 152, -130, 214, -116, -130, -24, 173, 12, -98, 203, -18, 4, 165, 28, -218, 105, 110, 135, 24, -10, -144, 34, -235, -127, 133, -160, -191, -144, -182, -16, 118, 157, 1, 2, 185, 59, 110, 185, -207, -193, -29, 28, -205, 28, -43, 122, -234, -190, -11, -52, -11, 113, -10, 99, 125, -16, 75, 116, 124, 132, 42, 23, 149, -149, 103, -120, 147, 110, 197, 210, -213, 237, -100, -134, -2, 54, -144, -193, 1, -105, 163, -5, 203, 181, 152, 129, 144, -120, -122, -97, -209, 97, 20, -210, -109, 129, -15, 143, 1, 9, 157, -86, 36, -157, 6, 6, -232, -185, -45, -11, 2, -78, -4, -205, 69, 108, -155, 110, 17, -46, 28, 192, 72, 0, 143, 218, 149, 9, -207, 26, -56, 114, 6, -234, 2, -8, -38, 0, -5, -70, -232, -4, 1, -239, 18, 177, 61, 0, -35, 127, 171, 89, -235, 149, 129, 42, 10, 228, -147, 7, -100, -223, 163, 1, -21, -97, 234, 135, 124, 103, -163, 214, -5, 237, -2, 143, 212, 116, -229, 102, 230, 0, 4, -217, -232, 125, 10, 125, 72, 226, -103, 75, 18, 185, -75, 214, 231, -65, 151, 92, 234, -52, -16, 136, -46, 195, 2, 233, 12, 2, 233, 32, -141, -18, 64, 203, 121, 121, 206, 48, 228, 47, 45, -5, 226, 119, 6, -169, -21, 56, -24, -13, 95, -171, 40, 13, 173, 92, 21, 6, 17, -60, -242, 28, 84, 6, 26, 61, 165, -202, 94, 129, 122, 0, 144, -10, 21, 91, 147, 9, -166, 0, -34, 39, 0, -125, -27, 146, -109, -193, -52, 125, -190, -117, 10, -223, -15, -127, -194, 7, -11, -232, 18, 12, 94, 138, 136, -16, 173, -15, 132, 77, -92, -232, 21, -23, -202, -41, 102, 10, 237, -160, -157, 231, -5, -5, 99, -6, 7, 89, 17, 99, 116, 13, 179, 138, 113, -202, 114, 47, 225, 21, 4, 48, 53, 56, -93, -10, -146, -190, 135, 129, 160, -127, 185, 230, 10, -155, 6, 129, 4, 13, 103, -7, 51, -5, -11, -146, 7, 122, 144, -11, 177, 110, -210, 127, 23, -144, -171, 73, -157, 124, -139, 125, 133, -35, 136, 225, -86, -11, 185, -86, -90, 1, 59, 0, 32, -13, 231, 231, -209, -228, -21, 50, 26, 6, 160, 94, 94, 36, 28, -204, 86, 21, 165, 119, 129, -202, -11, 97, 12, -223, -242, -209, -16, 114, -187, 143, -199, 193, -18, 18, 0, -38, 13, 168, -52, -15, 106, -18, 23, -125, 100, 70, 91, 198, 58, -13, -152, 6, 77, -67, -7, -185, -202, -21, 133, -150, 166, -18, 119, 236, -171, 54, -205, -114, -199, 65, -51, 10, -220, -56, -13, 2, -172, -116, 203, 15, 171, 17, -161, 1, -160, 17, -10, 155, -221, -56, -116, 64, 177, -193, 157, -175, 40, -149, -158, -209, 31, -224, 21, -59, -196, 203, 211, 39, 140, -49, 0, -223, -56, -109, -76, 0, -114, 43, 13, -116, 21, 154, 201, 207, -92, -163, 75, 6, 179, 102, 226, -231, -21, -201, -210, 102, 95, -234, -2, 231, -78, -15, 225, -149, -5, -97, 127, -232, -229, 236, 91, 10, -207, -90, 88, 155, 2, -4, 36, -133, 121, -45, 69, 236, 231, 168, -199, 154, 62, -48, -29, -116, -201, -226, 53, 31, -215, 122, -183, 61, -207, -234, 231, 233, 192, 15, 2, 21, -205, -75, 15, -8, -35, -179, -153, 4, -187, -232, 234, -64, -100, -185, -18, 18, -10, 28, 6, 230, 28, 7, -105, 113, -114, 233, -71, 231, 7, 18, 4, -78, 207, -60, -231, -41, 2, -232, 121, -23, 43, -229, 36, -180, -98, 143, -133, -229, 166, 9, 223, 106, -152, -16, -136, 6, -155, -207, 39, -160, 88, 1, 50, -16, -160, -11, -139, 168, 64, -187, -4, 21, -228, 81, 144, -54, 165, 10, -177, 125, -16, -16, 34, 73, -116, 18, 32, -92, -70, -68, -228, 140, -19, 212, 62, 61, -5, 17, 193, -11, 59, 12, -202, -196, 2, 21, 0, -106, 15, 234, -231, 89, 36, -177, 18, -171, 201, -60, -231, 193, -229, 4, 80, -187, 7, -193, 212, 32, 230, 76, 166, 155, 10, 29, -38, 189, 39, -8, -11, 166, 116, 0, -207, -13, 234, -239, 110, -108, -76, 160, -2, -10, 116, -68, 6, -2, 146, -188, -133, -43, -234, -147, -10, -16, 0, 124, -13, -54, -18, -23, 97, -98, 108, -23, -24, 233, -169, -190, 129, 95, 160, 21, 69, -15, 203, 152, -27, 2, -179, 9, -228, 0, 136, 184, -142, 42, 1, 88, -224, 105, 154, 225, 6, 0, 230, 12, -176, 20, -197, -4, -11, -117, -179, 89, -156, -19, 12, -186, 164, -96, 166, 204, -9, 10, -7, 42, 161, 20, 184, -122, 6, -109, 209, 228, -52, -129, 222, -235, -240, 14, -115, 35, -43, 10, -25, 87, 197, 76, -22, 181, 122, -73, 19, 236, -78, -142, -225, -181, 137, -119, -1, 187, 2, 17, 10, 194, 38, -158, -25, 123, -145, 222, -96, -210, -160, -20, -202, 69, 28, 163, -7, 164, -143, -9, -6, 9, 232, 228, 12, -43, -151, -122, 101, -235, 43, 53, 128, -3, -56, -4, 163, -91, 101, 120, -194, -74, 195, 10, 212, 213, -196, -81, 87, 233, 138, -212, -12, 159, -212, -66, 236, 227, -232, 10, 227, 12, 17, 55, -158, -171, 24, -166, -237, 104, -176, -38, 123, -2, 227, 227, 14, 2, 130, 92, 71, -235, -19, -1, 156, 96, -232, -214, -79, -7, 137, -7, -22, -228, 150, 192, 1, 117, 10, -6, 25, -166, -235, -142, 159, 110, -7, 20, 46, -96, 0, -107, 151, -16, 9, -89, 158, 12, -199, -228, 9, -145, -235, -25, -240, 130, 230, 4, 27, 91, -153, -1, 2, -214, -6, 86, 112, 192, -58, -45, 76, 123, 151, -174, 151, 51, -14, -223, 227, -63, 19, -179, 35, 127, -196, -68, -133, -163, -1, 110, -178, 92, -194, 2, 120, 91, 10, -209, -6, 141, -235, 10, -156, -2, -165, 0, -125, -232, -22, 9, -20, 64, -178, -233, 163, 109, 10, -4, -27, -30, 55, -19, -122, 96, -147, -32, 66, -4, 130, 43, -202, -58, 163, 32, 22, 236, -70, -29, -148, -156, 109, -1, -120, 15, 48, 28, 71, 87, -125, 176, 145, -47, -127, -24, 14, 228, 163, 79, 150, 114, 10, 9, 2, -156, -219, 87, -129, 140, -29, -65, -4, 9, 0, 195, 182, 240, 14, 169, 177, 4, 164, 6, -160, -217, 32, 30, 14, 225, 150, -233, 4, -6, -184, 115, 99, 115, 24, -79, 163, 64, -169, 232, 1, -76, -1, -148, 9, 143, 10, -235, -117, 204, 174, 171, 182, -17, -138, 27, -142, 48, -101, 2, -97, -17, 217, -227, -197, -102, -212, 9, -12, 51, -202, 158, 82, -66, 212, 156, 164, 32, 28, 38, -24, -47, 25, -192, -204, -20, -173, 19, 119, -20, -125, 2, -205, 120, -238, 218, 19, 104, 12, 9, 232, 14, -11, -29, -9, -235, -9, -63, 143, 9, -101, 158, 153, 4, 228, 69, 50, 99, -2, 48, 10, -215, -2, 6, -30, -66, -104, -238, 184, 71, 176, -84, -210, 4, 2, -45, -232, -192, -24, 25, 84, -106, 0, 24, -220, -230, 233, 66, 173, 25, 27, -207, -24, 135, 1, 163, 9, -199, 187, 14, -187, -140, 92, 209, 218, -12, 210, -22, -14, -25, 197, 159, 76, 168, 27, -34, 148, 140, 20, 143, 6, 53, 30, 12, -196, 182, 210, 128, -79, 20, -14, 163, 9, 42, -20, 145, 19, -5, -24, -147, -145, 10, 176, -74, 213, 10, -11, 222, -16, -7, -34, -237, 168, 1, 159, -13, -9, 86, -7, -191, 60, 153, -2, -112, 3, -4, 78, 114, -107, 42, -92, -16, 153, -66, 53, 9, 0, 0, 120, 148, -22, -17, -37, -194, -204, -30, 42, -194, -212, -12, 6, -4, 217, 46, 155, -14, -92, -228, -96, 10, 158, 82, -171, -233, -241, -9, -238, 4, 184, -1, 4, -204, 2, 0, -12, 69, 17, -92, -7, 4, 1, 171, 22, 186, -61, -52, 209, 22, -197, -225, -55, -22, -6, -117, -169, -12, 235, -142, -7, 230, -237, -176, -225, -204, -186, -6, -207, -16, 225, 12, 19, -34, 89, -106, 168, 158, 12, 204, 12, -92, 186, -16, -22, -6, 187, 143, 4, 5, -194, 186, 9, 235, 141, 164, -60, 4, -237, 227, -88, 207, 227, -135, 9, 19, 204, 12, -151, -153, -7, 63, 12, 120, 12, -191, -187, 46, 225, 220, -84, -176, 4, 97, -43, 24, 46, -148, 213, -24, -19, -225, 12, 189, 37, -232, -205, -24, -2, -233, -4, -1, -4, -9, -9, 107, -7, -2, 68, 99, -202, -19, -6, 1, 186, 166, 22, -114, 227, 133, -6, 222, -140, 127, -117, -17, -117, 143, 0, 186, 181, 150, -14, 164, -86, -143, 6, 128, 135, -101, 9, 9, 19, 17, -196, -12, -7, 150, 19, -138, 2, -207, -7, 43, -187, 192, -42, -215, -99, -197, -235, 197, 184, 145, -238, 169, 0, 176, -158, 115, -40, -9, -97, -163, -60, -147, -191, -1, 71, 64, 82, -2, 143, -2, 213, -151, -114, 89, 125, -238, 61, 94, -73, 233, -125, -16, -191, 210, -7, -50, 213, -9, -9, 2, 133, -217, -215, -245, -132, -7, 63, 91, -142, 43, 92, -19, -6, -99, -196, -156, 109, 112, -20, -86, -120, 17, 137, 0, 40, 173, 114, 137, -16, -151, 97, 127, 99, 117, 84, 105, 228, -228, 82, -153, 20, 1, 114, -233, 1, -238, 40, 0, -169, -1, 17, 227, 2, -25, 181, -20, 2, 14, -40, 89, -11, 24, -124, 25, 230, 101, -109, -227, -233, 10, 109, -237, 109, 186, 22, 153, -94, 232, -235, -178, 42, -237, 48, -84, -14, 4, 10, -2, -16, -19, -10, 50, -73, 10, 6, 119, -150, -55, 2, -238, -232, -106, 91, -45, -133, -94, -24, 109, -7, -137, -168, 43, 151, -219, 195, -122, 9, -48, -233, -148, -16, 112, -7, 4, -1, 151, 142, -16, 14, 68, 122, -209, 207, -9, 122, 119, -143, -212, -4, -24, -186, 128, -178, 32, 0, 12, 74, -12, -5, -142, 27, -7, -63, 4, 110, -11, -4, -96, -4, -25, -96, -6, 14, 186, -7, 133, -156, 12, 2, -184, -70, -228, -209, 137, 12, -24, 9, -20, -30, -240, 0, 55, 22, 191, -45, -99, 210, 87, 207, 10, 127, 238, 141, -68, -238, -17, 119, 174, 137, 14, 0, 217, -230, 0, -6, -7, 6, 19, -96, -89, -110, -235, -227, -27, -61, 25, 10, -155, 110, -1, 9, 17, 153, 135, 195, -127, 25, 69, -17, -196, 74, 14, 20, 9, 10, 63, 82, -68, -199, 10, 151, -120, 177, -84, -30, -202, -148, 38, -11, 9, 228, 73, 9, 202, -160, 10, 120, 2, -140, -97, -6, 207, -235, 141, 1, 14, 28, -205, -145, -14, -19, 20, -27, -235, 48, -40, 50, -155, 127, -4, 166, 2, 84, 22, -209, -58, 74, -207, -24, 186, -150, 15, 166, 14, 9, 12, 4, -12, 128, -204, -20, 94, -176, 22, 53, 141, 24, 78, -25, 38, 150, -88, 209, -20, -89, 174, -155, 155, 12, -186, 73, -155, 15, -91, -114, 33, 230, -173, 78, 173, -17, -119, 143, 184, -48, -66, -79, 183, -29, 10, 78, 60, -9, 117, 158, 132, -180, 186, -52, -9, 19, -20, -209, -207, -99, 15, -222, 20, -178, 92, -2, 148, 210, 169, -160, -16, 128, 98, 232, 17, 45, 187, -158, -147, 1, -20, 30, 1, -11, 42, 159, -142, -6, 10, -68, 0, 20, 156, -155, 4, 4, 1, -207, 9, 148, -232, -17, 205, -147, -4, 6, -97, 0, 22, 101, -129, 217, 209, 0, 0, -153, 1, -32, 30, -6, 215, -117, -12, -115, -227, 173, 199, 151, 112, -12, -20, -210, 1, -9, -52, -214, -230, -204, -68, 81, -22, -138, 24, 156, -24, -2, -153, 158, 102, -2, -233, 228, 17, 213, -171, -99, 58, -112, -25, -7, 230, -65, -6, 151, -201, 17, -155, 2, -238, -205, -24, -9, -35, 10, 87, -207, -42, -176, 15, -207, -4, 14, 230, 10, -11, -43, -78, 20, -155, -17, -120, 12, 150, 235, -89, 84, -11, -179, 92, -11, -158, -45, -186, -209, 79, 96, 130, 138, -11, 202, 225, 27, 20, 207, 236, -223, -132, 30, 174, -25, -24, -6, -217, 163, -225, 19, 60, 235, 4, -135, 2, -6, 17, 182, 74, -4, -219, 60, 17, 38, -230, -204, 177, -6, -19, -143, 207, -7, 1, -1, 177, -140, -2, 182, -2, 171, 1, 197, 238, 171, 82, -192, 6, 86, 48, -140, 105, 9, -4, -210, -106, -107, -17, 173, -81, -179, 15, -27, -110, 232, 4, 220, 0, 40, -4, -210, 119, 122, 12, -168, 158, -2, -12, -148, -12, 120, 236, 2, 12, -232, -71, 2, -145, 227, -4, -205, 9, 81, -220, 9, 125, 235, 64, 66, -179, 0, 9, -84, -145, -9, 191, -186, 230, -166, 9, 163, -70, -5, -19, 192, 138, -173, -140, 42, 138, 235, 25, -71, 209, 230, 0, -171, 45, 0, 232, -14, 24, -17, 135, 15, 155, -1, 1, -27, 184, 27, 130, -138, -30, -22, 195, -29, 30, -153, -179, 230, 109, -191, -32, 184, 19, -6, -20, 223, -24, 35, -156, 150, -219, 223, 163, 51, -189, -227, 104, 0, 8, 163, -55, -230, -166, -96, 15, 235, -173, 50, 228, 32, 6, 12, 117, 86, 9, -173, -215, -58, -199, 4, 64, -166, -205, 0, 192, 17, 181, 140, -43, 140, -192, -199, 168, 20, 27, -204, -11, 9, 200, 186, -1, 127, -19, -7, 200, -7, 148, -7, -99, -2, 186, -9, -171, 122, -124, -9, 114, -16, 17, -129, -158, -156, 48, 0, -169, -4, -7, 10, -1, -9, 133, 186, -155, 79, 56, 15, -14, 235, -32, 63, 159, 184, 32, 9, 179, 35, 222, 17, -217, 218, 14, 19, 35, 227, 20, 174, 79, 171, 10, 155, -140, -94, -179, 9, 163, 236, 4, -156, 220, -78, -12, 168, 125, -165, 17, 27, -178, 123, 82, 0, -89, -142, -22, 171, -68, -25, 84, 0, 86, 181, 233, 10, 1, -2, 240, 20, 4, 10, 209, 235, -227, 240, -20, 40, -40, -199, -9, -16, -4, 122, 9, 109, 109, 92, 159, 191, 25, -110, 96, -130, -232, 89, 47, 119, 174, 71, 166, 32, 173, 101, 232, 9, -86, 24, -20, 161, -86, 0, 230, -137, 24, -205, 236, 182, 17, -106, 104, -104, -156, -2, 1, 0, 158, -17, -227, -7, -19, -217, -228, -109, -2, -2, 30, 137, -102, 163, -24, 168, -20, -53, 4, 53, 146, 63, -153, 30, 119, -232, 148, -25, -14, 58, -179, 9, -161, 12, 159, 101, -104, -138, 42, 30, 235, -2, 173, 12, -174, -6, 1, 120, -196, 9, 9, 58, 82, -201, -147, -9, -173, 156, 10, -109, -135, 6, 24, -25, 225, 132, -53, -145, 45, -6, -228, -187, 132, 27, -30, -129, -137, 1, 35, -19, -187, 37, 187, 6, -124, -12, -179, -14, 27, -6, -60, 232, 166, 84, -1, 10, -47, 137, -143, -1, 25, -11, -199, -17, -233, -143, 4, -16, 117, 207, -99, -1, 6, -24, 200, 12, -16, -109, 89, 35, 3, -91, 115, 97, -222, 17, -91, 220, -197, -2, -219, 55, 230, 235, 12, -107, 4, 76, -16, 128, -204, -133, 1, -43, 96, -9, 4, 15, -37, -215, 135, 155, -161, -34, 71, 148, 176, 4, -6, 212, 6, 166, -204, -215, -232, 168, -165, 173, 25, -114, -2, -17, -150, 24, 176, -17, -147, -138, 163, -20, -19, -56, -16, -65, -143, 0, 194, 191, 24, 161, -145, 92, -96, -129, -32, 105, -228, -187, -9, -240, -2, 156, -183, 191, -42, -140, -237, 45, -11, -140, -70, -166, 205, -153, 141, 45, -243, -161, -78, 1, -194, 15, 24, 15, 6, 9, 195, -114, -183, 2, 76, -22, 76, -189, -125, -215, 150, 68, 150, -161, 4, 10, -16, 189, 0, 127, -233, -179, 1, 220, 223, 99, 191, -202, 204, -245, -12, -246, -245, -7, 2, 159, 122, -1, 99, 1, 1, -25, -183, 15, 230, 9, -17, -202, 12, 4, -52, 1, -17, -156, -6, 89, 177, 1, 114, -61, 130, 189, 159, 163, -9, -16, -1, 114, 130, -169, -73, -2, 225, 8, 9, -214, 2, -232, -107, -22, -156, 19, 105, -171, 9, -14, -178, -228, 17, -138, 64, -6, -20, 135, 19, 4, -55, -169, 1, 58, -147, 19, -232, 235, -129, -35, -91, 151, -16, -2, -56, -232, -169, -230, -99, 51, -22, 10, 82, -125, -53, 6, -210, 81, 12, -2, 64, 66, 228, 17, -22, 102, 9, 104, -6, -4, 151, -227, -34, 17, 82, 17, 32, 218, -34, 230, -9, -7, -196, -232, 1, -227, -18, -202, -160, -246, -116, -18, -170, -21, -85, -245, 37, -10, -122, 1, -196, -53, -184, -233, -163, -201, -207, -16, 4, -1, -153, 19, -142, 40, -222, 128, -120, -91, 2, -196, 127, -194, -89, 71, -1, -207, -233, 10, -137, 182, -35, -237, -14, 0, 163, 89, 127, 25, -147, -37, -148, -156, -147, -17, -243, 207, -12, 68, -237, -201, -176, -205, 107, 155, -9, -232, -7, 46, -70, 114, 0, -94, -6, -192, 53, -150, 28, 15, -1, 33, 9, 207, -29, -34, -97, -6, 192, -1, 150, -19, 35, 0, -147, -143, 168, 143, 155, 55, -97, 232, 9, 1, -27, 138, -145, 135, -66, -14, -25, -181, 135, 10, 9, -204, -102, 235, -7, 233, -9, 89, 79, -197, 74, 2, 50, -148, -3, 37, 230, 14, 0, -214, -227, -1, -212, 45, -202, 2, -30, 15, -9, -4, -115, -237, 209, 179, 71, 215, -1, -110, -99, -6, -215, 94, -22, -169, -34, -187, 127, -38, -199, 10, -196, 38, 9, 232, -176, 17, 1, 153, 150, -2, -180, -237, -131, -95, 147, 0, 158, 13, 0, 205, 122, 5, 111, 8, -16, -238, -73, -165, 96, 12, -187, 87, 9, -142, 78, 148, 4, 0, 9, 225, -106, -78, 6, -30, -196, 82, 191, -169, -24, 156, 205, 4, 119, 104, 2, 4, -93, -4, -163, 25, -104, -45, -66, -179, -9, 151, 0, -115, 2, 9, -84, 232, 145, 9, 184, 230, 110, 89, -14, 227, 128, 79, -16, 97, -168, -228, 4, 69, 10, -112, 0, -204, -209, 92, -29, 115, -7, 93, 145, -27, 40, 76, -191, 232, -9, -233, 0, 81, -47, 25, -6, -165, -7, -230, 20, 6, -132, 164, 240, 141, 6, -160, -1, -94, 115, 232, -217, -102, -73, 220, 194, -81, 22, -91, -232, 125, 232, 102, -225, 19, -53, -14, 42, 4, 125, 105, 205, 64, 105, 68, 30, -24, 137, -106, -166, 99, 133, 6, 24, -11, 12, 128, -127, 0, 138, 140, 14, -165, 130, -163, -233, 6, 194, -22, 24, -9, 12, -209, 89, 146, 115, -20, 148, 150, 15, -14, 97, -200, -24, -178, -197, -194, 24, -97, 9, -1, -186, -161, 230, 25, -2, -215, -155, 6, -169, -219, 223, -220, -1, -9, -6, 9, 132, 161, -142, 127, 230, -74, -2, -127, 2, -9, -63, 92, -1, 128, 73, -1, 32, -199, -7, 169, 99, -125, -140, -232, 150, -222, 227, 9, 86, -22, -104, -233, 48, 94, 184, -209, 114, -240, 94, -179, 27, -56, -237, -2, -192, -227, -132, -7, 220, 236, 213, 225, 141, -1, -132, 156, -235, -238, -240, -47, -233, 19, 138, -102, 195, 1, -228, 60, -29, 74, -91, -20, -2, -147, -124, -16, -235, -9, -92, 115, -19, -12, 207, 6, 0, 225, -181, 2, 151, 50, -20, -214, -4, 205, 10, 69, 153, -166, 17, 1, -181, 115, -61, -53, 4, 120, 140, 56, -9, 1, 27, 4, 141, 61, 236, -29, 22, -7, 63, -109, 140, 102, 37, -14, -61, -119, -142, -4, 87, 148, 9, -1, 223, 228, -11, 1, -7, 228, 17, 37, 27, 91, 4, 10, 10, 14, 73, -16, -106, 187, -38, 101, 213, 207, 120, 1, 166, 2, 59, 166, -6, -43, 97, 177, 120, -9, 176, -140, 204, -205, 66, 168, 143, 235, 176, 48, 4, 15, 148, -34, 137, -2, -227, 24, -78, 16, -168, -225, 2, -233, -4, -217, 10, -210, -117, 15, -74, 97, -19, 58, 61, -142, 110, -166, 19, -11, 199, -176, 182, 12, -83, 56, -78, -73, -210, -207, 0, -35, 9, -17, 2, 14, -160, 179, 9, -143, -107, -20, -19, -228, -201, -1, -202, 6, 96, 4, -187, 117, 168, 130, 17, 230, 107, 96, 195, 22, -150, -14, -6, -1, -4, -138, -11, -117, 4, -19, -1, -43, 14, -19, 15, -2, -7, 1, -14, -2, 10, 15, 4, -161, -187, 164, 169, 141, -81, -176, 14, 132, 17, 7, 204, -187, 184, -233, 184, -97, 28, 132, -12, 10, -230, 236, 238, 145, 200, -17, -222, 177, -65, 9, -210, 22, 0, -133, 22, 17, 22, -89, 164, 9, 0, 50, -63, 58, -189, 9, -145, -219, 63, -102, 69, -14, 155, 127, 145, -70, -63, 9, -12, 74, 78, 69, -89, -7, 125, -102, -12, 233, -1, 123, 181, -7, 63, -7, 117, -37, 112, -237, -4, 127, 20, -212, -102, -19, 9, -66, 32, 168, -168, -7, 143, 230, 168, 33, -196, -204, 25, -210, 127, 4, -196, 112, -179, 150, 9, -61, -204, 138, -132, -7, 204, -110, -214, 163, -9, 6, -147, -52, -230, -60, 84, 128, 1, 14, 76, 171, 25, 133, -1, 94, -38, 10, 60, 22, 212, -202, -191, 2, -19, 89, -76, -171, -20, -212, 94, 28, 1, -101, 120, 135, -140, 222, 187, -27, -114, 11, 68, -232, -110, -69, 43, -142, 0, 0, -9, -6, 87, -55, 153, 112, -99, -53, 24, 230, 63, 94, -232, -7, 4, -14, 61, 79, -230, 82, 10, 174, -25, 64, 148, -186, 225, -225, 28, -20, 0, 156, -76, 91, 25, 119, 30, 204, -127, 204, 125, 45, 146, 225, 51, 132, -191, -179, -168, -233, -114, -6, -29, -125, -37, 6, 88, 94, 0, 155, -14, -192, 109, 133, -11, -122, -222, -30, -174, -106, -173, 4, -99, -32, -14, 182, -156, 163, 230, 177, -192, -12, -199, 171, 159, 94, -125, 4, -102, -14, 146, -71, -2, -6, 0, -160, 2, 50, 22, 20, -215, 2, 137, 20, -19, 78, -7, -135, -210, 236, -192, 56, 30, 10, 114, -135, -6, 166, 19, -9, -2, 151, 169, -232, 0, 12, -138, -9, 173, 81, 223, 58, 232, 30, 207, -215, -163, 0, 122, -6, -225, 15, -176, -155, 17, -19, -20, 10, -17, 120, 4, 146, -161, 110, 8, -132, -233, 9, 73, 166, 24, 110, 122, 127, 12, -14, -6, 14, -60, -186, -135, 135, 9, 55, -194, 186, -174, 19, -240, -127, 27, -29, 232, -88, 240, 19, 145, -155, 163, 28, 146, -12, 19, -6, -228, -137, -20, -155, -147, 232, 197, 64, 20, 125, -109, -219, 155, 9, 105, -86, 45, -233, 187, -71, 217, -233, 197, 19, 140, 1, -158, 14, 168, 99, 99, -228, -47, -6, -11, -134, 102, 15, -220, 42, -37, 94, -219, -19, 158, -148, 107, 10, 1, -17, 13, -24, -1, 9, 104, 56, 11, 212, 56, 150, 28, 4, 128, 4, 15, -9, 99, -133, 37, 102, 46, 17, 10, -232, 140, -179, 2, -11, 2, -11, 2, -10, 9, -1, 230, 73, -47, -94, 176, -158, -227, -12, -201, 71, -4, -220, -173, 97, 112, 110, 0, 22, 35, -7, 19, 0, 9, -19, -207, 94, 120, 4, -223, -63, 1, -143, -163, -11, 138, -178, -169, -91, 51, 0, -228, -42, 132, -4, 1, -225, -84, 110, 150, -9, 227, -25, -38, 12, 24, 146, 169, -227, -37, -124, 15, -225, 233, -135, -201, 191, -184, -17, -142, 73, 55, -40, -228, 155, -110, -9, -22, 184, 6, -201, -197, -192, -48, -187, -117, -235, -11, -22, -176, -209, 155, -205, 225, 2, -63, 9, 104, -35, -19, 151, 137, 133, 233, 1, 73, -2, 12, 120, -16, -161, 86, -2, -60, -237, 133, -20, 0, -174, 61, 135, -4, 110, 9, -53, -97, -225, 117, -2, -22, 114, -2, 28, -19, 173, 197, 43, 194, 9, -34, 28, 0, 30, 97, -6, 42, 110, -16, 2, -119, 87, 51, -214, -129, 12, 230, 171, -4, -1, 207, 161, 76, -91, 182, -217, -237, -225, 151, -39, 173, 204, 63, -1, -1, 130, 189, -107, 15, 0, 151, 51, 63, 163, 151, 140, 22, 119, -232, 1, 0, 107, -178, 9, -205, 20, 0, -169, -2, -147, -156, 1, -225, -20, 245, -237, 53, 119, 2, -1, -151, -65, -199, 40, 233, -124, 24, 10, 24, -86, 27, -4, 223, 99, 69, -125, 9, 123, 0, -122, 10, 10, 176, -1, 218, 94, 207, 86, -11, -1, -132, -9, 22, -183, -160, -153, 78, -212, -202, -232, -35, 87, -233, 0, 122, -60, 227, 184, 122, -16, -232, -1, 30, 137, 17, -152, -137, 110, -92, -209, -38, 1, 10, 99, 2, -4, -233, 12, -45, -135, 1, -106, -119, -76, 125, 220, -2, 6, 6, -168, -65, 10, 84, -50, 22, 19, -148, -191, -204, -160, 81, 1, 128, 24, -138, 1, 117, 35, 78, 24, 195, -158, -83, 230, 2, -238, 15, -6, -22, -163, -163, -178, -1, -78, -225, 148, 141, 22, -22, -73, 17, -165, 171, 155, 207, -84, 19, -17, 0, 12, 209, 164, -120, 6, 163, -189, 94, 171, -101, 14, -4, -11, 6, 1, -109, 112, -227, -148, 119, -9, 2, 181, 89, 91, -66, 2, -158, 74, 91, 232, 122, -22, -107, -155, -237, 78, 135, -106, -30, 145, 24, 123, 76, 132, -1, 184, 230, -122, 192, -230, -230, 28, 233, -32, -230, -138, 1, 1, 40, -204, -1, -30, -228, -223, 12, -210, 22, 130, 97, 174, 9, 236, -160, -2, -73, -1, 74, -209, 107, 71, -189, 110, 9, 68, -202, -63, 141, 182, 155, 9, 12, 143, -137, 133, -197, 10, 173, 138, 0, 19, 2, -4, -71, -135, 230, 105, -1, 179, -7, -60, -127, -114, 0, 115, 230, 6, 63, 184, 81, -61, 42, 79, 12, -24, -91, -232, 195, 115, -4, 169, -50, 61, -155, -119, -20, 112, 217, 137, 48, 9, -235, -133, 43, -55, 9, 138, 9, -130, -19, 228, -7, 1, 205, 0, -9, -181, 12, -150, 215, 177, 17, 12, -25, 130, 120, -232, 53, 86, -235, 86, 164, -212, 63, -53, 10, 156, 96, -161, 132, -81, 133, 22, -42, -143, -161, -237, -99, -7, -6, 205, -107, -12, 120, -174, 243, 9, 1, -196, -37, -45, 1, 128, -222, 37, -174, 151, -227, 84, -86, -7, -106, 163, 112, -212, -153, 2, -10, -53, 6, -1, 27, -52, -155, 192, 176, 15, 9, 109, 0, -7, 1, -166, 235], \"xaxis\": \"x\", \"y\": [249, 145, 129, 82, 148, 15, 149, 123, 162, 134, 1, 15, 195, 205, 162, 250, -6, 0, 0, 48, 247, 216, 7, 108, 14, 258, 15, 44, 146, 134, 23, 214, 242, 50, 252, 1, 113, 50, 145, 164, 19, 265, 25, 12, 30, 225, 131, 1, -2, 175, 225, 194, 3, -14, -13, 123, 0, 19, 0, -2, 0, 137, 257, 0, 137, 200, 1, 1, 83, 11, 7, 312, 78, 247, 190, 9, 99, 7, 176, 208, 213, 205, 48, 250, 209, 220, 89, 162, 235, 183, 189, 124, 74, 238, 89, 0, 89, 162, 192, 36, 110, 0, 186, 159, 56, 178, 213, -14, 132, 11, 25, 162, 33, 14, 88, 183, 164, 0, 17, 112, 129, 113, 20, 239, 261, 61, 56, 156, 178, 22, -5, 214, 184, 34, 36, 143, 63, 187, 242, 159, 263, 139, 178, 187, 216, 248, 0, 185, 122, 73, 248, 0, 0, 193, 175, 129, 1, 86, 123, 72, 261, 30, 94, 187, 131, 220, 15, 9, 170, 1, -16, 209, 17, 205, 102, 153, 153, 173, 0, 0, 0, 214, 220, 195, 96, 0, 201, 208, 0, 0, 132, 236, 99, 246, 0, 187, 0, 187, 129, 0, 0, 0, 213, 0, 151, 249, 0, 222, 233, 205, 0, 0, 181, 47, 17, 0, 257, 167, 0, 33, 0, 156, 206, 0, 126, 190, 246, 48, 0, 181, 4, -22, 0, 0, 186, 39, 132, 50, 36, 198, 241, -2, 0, 78, 86, 192, 179, 0, 15, 145, 219, 15, 93, 164, 254, 143, 121, 279, 0, 269, 42, 255, 0, 58, 211, 0, 123, 269, 160, 137, 0, 219, 252, 0, 189, 228, 0, 269, 176, 0, 89, 203, 0, 88, 249, 25, 0, 67, 0, 172, 148, 151, -5, 6, 75, 235, 194, 56, 242, 53, 178, 34, 157, 1, 0, 160, -13, 228, 26, 0, 0, 153, 216, 0, 0, 126, 0, 22, 6, 263, 225, 11, 88, 194, 206, 180, 122, 154, 0, 89, 124, 22, 70, 170, 187, 185, 114, 86, 165, -3, 88, 0, 0, 145, 55, 246, 139, 138, 41, 203, 20, 167, 9, 66, 157, 6, 194, 258, 108, 22, 17, 19, 178, 17, 23, 154, 178, 22, 121, 176, 268, 11, 296, 26, 214, 192, 178, 176, 124, 20, 0, 230, 15, 7, 3, 179, 206, 15, 6, 140, 140, 190, 309, 9, 0, 14, 143, 102, 14, 258, 12, 23, 272, 118, 15, 217, 214, 261, 104, 242, -5, 6, 71, 184, 167, 126, 255, 265, 140, 115, 224, 0, 263, 216, 30, -6, 7, 6, 255, -11, 176, 7, 255, 42, 257, 172, 0, 39, 238, 211, 142, 450, 20, 0, 192, 170, 37, 197, 19, 31, 159, -8, 156, 156, 15, 1, 250, 209, 187, 0, 50, 173, 80, 0, 190, 93, 201, 113, -16, 261, 146, 124, 56, 244, 56, 183, 250, 170, 194, 0, 216, 154, 261, 194, 0, 0, 159, 252, 115, 0, 254, 231, 94, 175, 67, 0, 184, 110, 135, 39, 238, 0, 252, 1, 123, 17, 140, -2, 176, 61, 4, 482, 173, 175, -2, 6, 184, 31, 213, 192, 224, 134, 80, 37, 26, 78, 242, 12, 14, 3, 12, 148, 86, 19, 3, 242, 28, 6, 22, 149, 242, 0, 160, 0, 0, 220, 17, 197, 151, 126, 157, 0, 233, 0, 116, 198, 9, 28, 233, 179, 137, 203, 176, 189, 53, 26, 9, 127, 0, 211, 173, 151, 20, 203, 77, 555, 250, 104, 269, 17, 241, 187, 6, 48, 6, 145, 238, 231, 101, 149, 112, 254, -1, 138, 6, 162, 175, -10, 42, 22, 48, 258, 157, 271, 42, 242, 293, 6, 250, 3, 19, 206, 63, 165, 0, 258, 105, 266, 258, 129, 113, 33, 189, 0, 0, 201, 61, 266, 170, 233, 116, 0, 233, 149, 99, 219, 0, 258, 277, 37, 265, 0, 239, 112, 1, 260, 4, 22, 235, 1, 39, 124, 41, 39, 12, 197, 3, 6, 3, 140, -2, 272, 265, 190, 157, 187, 11, 162, 0, 91, 201, 258, 23, 129, 239, 12, 7, 165, 145, 170, 11, 17, 209, 257, 6, 104, 23, 4, 250, 157, 64, 22, 124, 113, 34, 131, 189, 52, 6, 258, 12, 4, 44, 20, 12, 249, 254, 176, 186, 127, 60, 201, 162, 149, 228, 205, 7, 225, 85, 14, 205, -8, 26, 31, 261, 4, 0, 183, 4, 194, 48, 612, 222, 0, 63, 30, 160, 186, 61, 246, 197, 165, 34, 23, 12, -5, -13, -11, 257, 239, 140, 181, 0, 183, 61, 205, 192, 119, 126, 0, 239, 192, 146, 213, 113, 85, 216, 168, 127, 0, 96, 44, 143, 131, 178, 0, 61, 72, 91, 0, 132, 0, 220, 88, 242, 167, 129, 216, 206, 168, -3, 173, 126, 203, 126, 268, 222, 159, -5, 239, 88, 64, 19, 189, 0, 14, 135, 164, 170, 0, 165, 244, 93, 222, 194, 33, -5, 107, 0, 238, 0, 197, 112, 33, 167, 60, 66, 50, 0, 220, 102, 203, 258, 203, 620, 206, 14, 3, 269, 22, 22, 88, 162, 165, 6, 227, 192, 4, 269, 263, 143, 224, 28, 154, 135, 178, 198, 26, 23, 6, 20, 0, 28, 175, 132, 198, 146, 225, 58, 187, 290, 71, 197, 19, 131, 254, -10, 25, 252, 184, 19, 195, 9, 94, 265, 219, 105, 205, 26, 172, 45, 0, 0, 255, 220, 249, 0, 129, 162, 123, 244, 4, 61, 197, 156, 209, 154, 0, 20, 146, 55, 25, 224, 113, 22, 99, 173, 222, 1, 134, 149, 176, 0, 31, 127, 247, 211, 61, 260, 53, 123, 192, 140, 104, 230, 41, 123, 4, 151, 184, 28, 47, 143, 250, 14, 6, 254, 12, -2, 80, 94, 0, 0, 108, 1, 211, 258, 173, 11, 0, 17, 61, 0, 0, 115, 167, 6, -10, 0, 0, 67, 0, 162, 0, 112, 4, 148, 157, 132, 217, 137, 157, 162, 37, 19, 208, 19, 186, 14, 116, 11, 332, 176, 129, 0, 156, 11, 219, 26, 183, 135, 213, 249, 224, 17, 134, -3, -2, 0, 1, 201, 170, 181, 145, 107, 200, 249, 705, 239, 238, 3, 0, 0, 260, 231, 75, 233, 97, 0, 30, 176, 252, 129, 179, -6, 4, 203, 42, 198, -11, -2, 83, -30, 124, 113, 159, 135, 0, 160, 154, 0, 252, 134, 225, 104, 164, 168, 39, 143, 0, 159, 30, 44, 116, 170, 0, 145, 201, 15, 15, 198, 0, 94, 198, -2, 172, 56, 4, 149, 0, 12, 110, 157, -2, 183, 173, 258, 25, 48, 252, 94, 260, 246, 25, 23, 85, 224, 3, 82, 160, 12, 134, 160, 173, 9, 116, 203, 107, 19, 134, 217, 250, 80, 6, 164, 23, 22, 242, 105, 52, 168, 201, 140, 170, 230, 0, 205, 89, 89, 190, 0, 4, 0, 183, 200, 0, 235, 216, 0, 34, 31, 242, 45, 167, 14, 135, 153, 214, 201, 15, 217, 143, 137, 217, 1, 19, 159, 194, 75, 157, 153, 7, 231, 246, 61, 176, 0, 17, 203, 82, 242, 86, 156, 255, 246, 176, 143, 94, 99, 115, 102, 123, 112, 14, 266, 1, 71, 149, 19, 58, 102, 167, 3, 86, 15, 88, 242, 6, 3, 113, 15, 140, -2, 80, 6, -2, 19, 3, 12, 9, 11, 58, 113, 1, 1, 7, 190, 272, 192, 1, 7, -10, 28, 83, 9, 3, 6, 7, -5, 78, 11, 0, 34, 12, 225, 6, 31, 4, 17, 19, 17, 3, 162, 186, 230, 164, 1, 0, 181, 41, 167, 149, -3, 265, 7, 11, 4, 77, -2, 12, 269, 134, -14, 14, 17, 80, 3, 203, -2, 146, 22, 201, 77, 153, 9, 140, 15, 118, 178, 37, 11, 184, 129, 203, 116, 197, 26, 19, 162, 22, 247, 124, 121, 247, 156, 23, 20, 153, 258, 23, 126, 195, 255, 162, 104, 201, 198, 249, 30, 99, 129, 36, 67, 108, 179, 30, 200, 102, 48, 36, 153, 1, 6, 172, 258, 118, 67, 50, 89, 31, 187, 222, 151, 30, 64, 23, 47, 19, 0, 3, 6, 4, 9, 250, 112, 7, 11, 102, 20, 165, 28, 9, 22, 63, 214, 127, 0, 0, 30, 238, 23, 159, 132, 17, 190, 233, 112, 20, 72, 88, 170, 238, 86, 11, 17, 187, 181, 170, 263, 200, 60, 145, 110, 34, 165, 228, 39, 181, 23, 7, 0, 225, 159, 34, 17, 83, 206, 101, 184, 20, 108, 19, 261, 241, 88, 153, 178, 6, 151, 14, 7, -3, 105, 159, 12, 23, 162, 83, 164, 186, 47, 9, 105, 4, 228, 167, 189, 88, 4, 222, 126, 145, 200, 17, 168, 12, 146, 15, 6, 228, 115, 11, 179, 206, 6, 250, 89, 124, 69, 4, 238, 187, 181, 151, 1, 20, 9, -10, 351, 167, 11, 75, 30, 39, 247, 115, 179, -2, 67, 25, 20, 17, 252, 135, 4, 175, 192, 0, 17, -2, 252, 119, 89, 37, 123, 162, 6, 257, 6, 198, 194, 121, 137, 19, 179, 190, 238, 246, 9, 31, 83, 116, 255, 6, 137, 151, 12, 53, 12, 250, 165, 154, 153, 15, 23, 123, 36, 14, 26, 56, 123, 33, 168, 74, 1, 23, 198, 64, 0, 15, 132, 1, 7, 140, 22, 20, 145, 143, 6, 184, 4, 222, 235, 175, 11, 249, 246, 176, 28, 246, 148, 15, 118, 250, 15, 214, -10, 184, 203, 145, 135, 255, 217, 241, 33, 443, 230, 146, 197, 123, -6, 135, 37, 4, 12, 254, 187, 134, 15, 239, 50, 0, 3, 23, 30, 329, 7, 45, 214, 178, 99, 250, 48, 129, 23, 17, 261, 137, 179, 110, 22, 20, 101, 173, 145, 192, 8, 74, 17, 47, 28, 198, 168, 249, 168, 446, 168, 3, 4, 135, 201, 42, 220, -2, 156, 252, 25, 263, 219, 119, 176, 30, -28, 4, 179, 12, 187, 261, 131, 321, 1, 216, 227, 31, 19, 16, 168, 34, 235, 247, 173, 260, 110, 12, 227, 260, 217, 80, 115, 225, 89, 31, 91, 156, 116, 63, 11, 14, 187, 31, 78, 15, 157, 1, 176, 17, 64, 64, 250, 337, 183, 63, 3, 123, 242, 228, 6, 213, 6, 82, 214, 241, 41, 148, 170, 160, 263, 118, 195, 227, 7, 7, 14, 124, 242, -11, 3, 246, 19, 101, 9, 244, 15, 197, 94, 4, 228, 107, 235, 239, 33, 28, 183, 200, 121, 154, 17, 154, 75, 19, 173, 23, 14, 34, 82, 113, 236, 170, 217, -2, 12, 183, 181, 22, 3, 25, 129, 201, 25, 23, 255, 47, 170, 205, 179, 17, 192, 201, 37, 64, 115, -8, 148, 61, 15, 179, 33, 12, 190, 186, 17, 222, 138, 12, 162, 116, 7, 7, 6, 235, 94, 269, 7, 78, 7, 23, 129, 126, 127, 61, 9, 0, 153, 113, 12, -16, -10, 214, 9, 0, 176, 0, 4, 134, 159, 20, 162, 47, 201, 127, 135, 0, 162, 249, 56, 183, 123, 19, 3, 146, -2, 231, 17, 56, 6, 23, 11, 170, 183, 526, 6, 25, 195, 132, 86, 209, 48, 213, 219, 60, 205, 246, 184, 209, 201, 241, 131, 148, 225, 58, 63, 61, 1, 36, 254, -5, 236, 203, 104, 55, 11, -10, -13, 14, 52, 242, 194, 201, 4, 52, 134, -3, 0, 241, 213, 61, 85, 244, 249, 64, 118, 216, -10, 201, 110, 0, -13, 67, 53, 200, 48, -5, 30, 127, -25, 77, 230, 113, 0, 153, 154, 227, 246, 69, 53, 60, 30, 1, 12, 9, 23, 203, 50, 22, 20, 241, 69, 42, 80, 310, 131, 17, 7, 127, 266, 15, -5, 206, -6, 9, 219, 104, 14, 82, -11, 154, 137, 44, 172, 176, 34, 149, 241, 0, 146, 249, 244, 132, 108, 145, 203, 19, 222, 15, 146, 198, 242, -3, 45, 89, 131, 148, 19, 186, 64, 230, 184, 261, 45, 252, 154, 244, 47, 22, 64, 107, 189, 28, 20, 48, 250, 14, 25, 3, 71, 22, 254, 195, 181, 37, 7, 261, 265, -11, 39, 19, 227, 214, 153, 72, -8, 228, -17, 153, 159, 228, 187, 36, 20, 211, 242, 23, 187, 167, 211, 99, 17, 208, 1, 189, 206, 28, 3, 201, 186, 173, 157, 6, 3, 0, 93, 11, 91, 17, 242, 48, 250, 170, 28, 89, 12, 108, 123, 6, 6, 197, 28, -10, 17, 45, 0, 153, 249, 151, 0, 6, 186, 15, 119, 153, 121, 45, 121, 252, 17, -1, 48, 45, 7, -2, 56, 0, 224, 7, 23, 184, 197, -11, 7, -2, 224, 39, -2, 20, 6, 22, 187, 217, 0, 23, 12, 9, 91, 167, 190, 198, 14, 23, 3, 203, 1, -3, 225, 148, 241, 72, 143, 22, 15, 175, 236, 1, 33, 186, 134, 134, 67, -3, 222, 164, 6, 19, 1, 86, -2, 206, 156, 184, 135, 225, 6, 213, 167, 12, 135, 162, 55, 214, 184, 192, 20, 197, 30, 138, 86, 116, 37, 17, 160, 242, 254, 11, 129, 271, 47, 19, 132, 126, 208, 19, 195, 208, 4, -11, 55, 184, 167, 175, 249, 127, 3, 216, 7, 208, -3, 52, 113, 170, 48, 4, -6, 30, 108, 198, 205, 225, 238, 88, 0, 55, 208, 12, 15, 476, 186, -8, 181, 52, 216, 195, 36, 261, 162, 183, 222, 146, 140, 179, 148, -10, -5, 132, 0, 198, 9, 131, 138, 89, 242, 36, 228, 124, 22, 25, 249, 254, 138, 203, 254, 254, 148, 219, 25, 156, 31, 134, 104, 17, 252, 33, -2, 214, 37, 75, 156, 99, 154, 170, 55, -5, -2, 0, 135, 178, 160, 127, 11, 254, 126, 250, 17, 178, 228, 52, 135, 165, 231, 238, 239, 19, 260, 7, 119, 39, 260, 265, 0, 134, 189, 195, 235, 201, 11, 183, 214, 227, 265, 119, 127, 119, 4, 1, 271, 213, 126, 28, 127, 195, 143, 64, 184, 265, 15, 246, 123, 9, 247, 31, 4, 225, 89, -3, 20, 1, 9, 7, 37, 178, 258, 119, 7, 269, 146, 265, 50, 220, 190, 124, 6, 41, 183, 257, 85, 7, 181, 97, 211, 9, 14, 9, 255, 274, 179, 235, 225, 219, 173, 190, 26, 52, 20, 58, 15, 41, 181, 19, 77, 142, 104, 211, 34, 127, 168, 7, 190, 148, 77, 42, 30, 134, 195, 4, 201, 140, 129, 257, 69, 145, 129, 244, 9, 156, 176, 23, 272, 105, 11, 260, 1, 145, 242, 154, 162, 224, 142, 115, 12, 108, 11, 113, 140, 206, 179, 252, 58, 39, 167, 126, 165, 15, 214, 17, 7, 149, 0, 219, 246, 25, 80, 3, 146, 148, 3, 238, 77, 3, 192, 220, 239, 239, 63, 22, 153, 187, 66, 148, 4, 222, 142, 242, 184, 11, 3, 82, 25, 156, 194, 214, 189, 197, -3, 74, 33, 258, 266, 55, 247, 74, 194, 17, -11, 146, 257, 1, 261, 17, 137, 3, 135, 93, 258, 58, 219, 124, 255, 168, 124, 113, 214, 153, 15, 4, 31, 258, 178, 293, 12, 12, 172, 222, 159, 50, 246, 102, 99, 148, -17, 31, 17, 39, 208, 242, 183, 20, 249, 7, 160, 36, -3, 146, 118, 39, 183, 48, 142, 105, 12, 23, 129, 239, 238, 287, 222, 238, 242, 39, 272, 190, 213, 17, 41, 200, 75, 131, 489, 241, 227, 227, 12, 195, 116, 123, 9, 74, 181, 42, 238, 194, 154, 11, 153, 211, 134, 247, 220, 246, 279, 242, 143, -2, 9, 45, 198, 14, 113, 258, 235, 45, 99, 126, 201, 9, 184, 233, 135, 39, 14, 250, 69, 168, 235, 181, 17, 217, 189, 15, 82, 160, 148, 148, 126, 71, 239, 247, 162, 7, 176, 170, 167, 255, 269, 154, 22, 258, 159, 14, 265, 179, 19, 112, 222, 140, 209, 187, 15, 254, 167, 220, 246, 4, 170, 22, 110, 205, 154, 213, 118, 175, 145, 148, -6, 195, 220, 36, 187, 228, 189, 7, 138, 14, -5, 238, 241, 192, 71, 145, 31, 45, 233, 26, 242, 33, 187, 34, 209, 137, 235, 216, 9, 129, 216, 205, 164, 277, 102, 77, 205, 118, 124, 123, 129, 3, 225, 252, 274, 101, 266, 186, 6, 178, 6, 197, 142, 200, 93, 146, 274, 66, 233, 271, 228, 145, 217, 317, 249, 145, 206, 115, 167, 228, 190, 244, 9, 149, 0, 67, 23, 131, 80, 168, 178, 227, 26, 129, 268, 12, 159, 254, 266, 154, 157, 153, 265, 142, 3, 172, 17, 167, 12, 167, 116, 159, 227, 261, 187, 167, 164, 179, 108, 149, 159, 261, 154, 12, 219, 179, 176, 145, 104, 138, 238, 238, 94, 165, 198, -5, 134, 108, 36, 184, 97, 217, 55, 254, 220, 25, 260, 119, 143, 88, 187, 172, 165, 20, 105, 86, 7, 235, 257, 47, 19, 244, 14, 173, 224, 58, 156, 235, 34, 146, 115, 83, 119, 173, 67, 208, 200, 135, 67, 194, 187, 36, -3, 20, 0, 66, 4, 15, 134, 44, 162, 11, 197, 173, 3, 74, 291, 151, 3, 227, 1, 30, 23, 121, 214, 230, 178, 89, 230, 197, 42, 134, 148, 170, 219, 135, 140, 99, 255, 7, 222, 138, 194, 37, 17, 181, 167, 124, 205, 197, 1, 146, 39, 187, 74, 238, 242, 227, 126, 168, 165, 165, 168, 71, 239, 6, 52, 168, 236, 269, 231, 74, 258, 25, 0, 116, 127, 112, 127, 99, 151, -5, 80, 4, 257, 164, 156, 1, 250, 238, 179, 242, 44, 192, 227, 20, 148, 528, 142, 36, 15, 74, 110, 247, 33, 36, 44, 149, 244, 233, 104, 236, 6, 15, 216, 192, 276, 181, 233, 250, 258, 209, 31, 53, 260, 214, 181, 201, 225, 211, 31, 19, 197, 45, 187, 156, -3, 39, 91, 3, 19, 34, 14, 258, 64, 667, 164, 263, 183, 129, 238, 250, 225, 227, 9, 37, 91, 72, 105, 190, 160, 187, 164, 206, 254, 194, 186, 19, 134, 201, 17, 254, 104, 17, 156, 197, 1, 190, 126, 143, 228, 148, 165, 72, 189, 173, 255, 31, 22, 85, 78, 216, 190, 154, 197, 194, 6, 60, 143, 153, 261, 257, 93, 50, 260, 132, 78, 102, 45, 45, 272, 11, 104, 257, 533, 31, 85, 268, 63, 77, 164, 94, 206, 45, 148, 156, 181, 86, 168, 15, 265, 14, 216, 36, 34, 9, 30, 94, 208, 209, 138, 222, 64, 201, 132, 274, 257, 220, 47, 146, 205, 194, 77, 227, 41, 19, 88, 214, 197, 132, 209, 206, 108, 231, 265, 25, 156, 3, 179, 53, -13, 135, 126, 127, 250, 220, 116, 82, 225, -5, 200, -3, 1, 216, 154, 230, 183, 23, 123, 181, 189, 186, 255, 157, 137, 219, 198, 119, 184, 165, 60, 238, 179, 239, 94, 20, 22, 172, 214, 19, 198, 74, 213, 190, 9, 1, 12, 148, 269, 160, 23, 265, 12, 11, 216, 205, 170, 213, 190, 154, 105, 31, 181, 209, 224, 30, 72, 206, 0, 260, 252, 189, 123, -14, -16, 1, 99, 83, 157, 183, 246, 192, 205, 172, 213, 170, 143, 72, 82, -6, 113, 187, 63, 172, 216, 60, 0, 268, 9, 85, 4, 6, 15, 132, 116, 140, 200, 50, 192, 28, 222, 11, 7, 112, 9, 215, 186, 285, -10, 165, 175, 217, 146, 257, 131, 268, 242, 242, 176, 28, 36, 26, 265, 268, 25, 19, 172, 225, 9, 181, 164, 82, 0, 83, 7, 123, 7, 389, 219, 236, 153, 12, 69, 186, 61, 146, 238, 4, -5, 186, -8, 17, 15, 9, 0, 33, 187, 0, 246, 238, 153, 209, 69, 118, 247, 97, 36, 126, 48, 266, 22, 7, 181, 201, 201, 247, 3, 0, 173, 178, 186, -6, 257, 58, 26, 25, 143, 209, 179, 58, 45, -5, 3, 48, 86, 187, 7, 213, 67, 102, 11, 39, 224, 56, 4, 143, 140, 23, 173, 30, 75, 48, 124, 30, 132, 7, -3, 22, 164, 107, 52, 200, 261, 42, 165, 260, 149, -30, 116, 134, 115, 179, 225, 156, 53, 244, 151, 220, 195, 47, 157, 33, 194, 71, 151, 205, 190, 154, 254, 22, 236, 118, 55, 225, 124, 388, 69, 50, 149, 12, 135, 67, 247, 55, 145, 205, 255, -2, 41, 72, 101, 156, 104, 47, 258, 25, 77, 200, 201, 190, 216, 246, 168, -11, 200, 222, 74, 0, 179, 198, 44, 129, 194, 78, 14, 143, 64, 181, 184, 220, 15, 260, 157, 140, 172, 44, 72, 33, 132, 271, 186, 30, 213, 247, 228, 236, 164, 115, 14, 31, 1, 69, 36, 3, -41, 197, 78, 225, 149, 48, 162, 148, -8, 175, 6, 178, 238, 162, 36, 0, 119, 173, 140, 33, 149, 192, 102, 6, 69, 233, 239, 219, 4, 214, 63, 140, 183, 7, 145, 22, 7, 208, 74, 187, 246, 235, 178, -3, 9, 17, 27, 3, 239, 222, 138, 42, 231, 1, 217, 15, 1, 132, 0, 268, 222, 269, 67, 14, 14, 30, 159, 260, 134, 189, 23, 78, 61, 187, 33, 148, 217, 154, 170, 15, 254, 44, 151, 131, 165, 126, 203, 266, 197, 12, 186, 71, 64, 44, 145, 258, 173, 66, 121, 242, 56, 189, 201, 239, 149, 96, 19, 241, 26, 239, 48, 213, 44, 175, 124, 137, 255, 236, 178, 56, -2, 154, 15, -13, 36, 197, 266, 127, 160, 112, 239, 127, 6, 255, 244, 67, 129, 247, 176, 252, 119, 37, 260, -14, 194, 88, 7, 249, 17, 235, 181, 110, 15, 217, 186, 134, 113, 39, 269, 179, 17, 85, 124, 0, 249, 94, 17, 195, 86, 140, 25, 20, 74, 19, 236, 165, 140, 28, 173, 238, 257, 246, 17, 9, 170, 121, 6, 33, 247, 167, 233, 9, 198, 197, 9, 190, 194, 197, 121, 201, 219, 244, 211, 6, 25, 12, 172, 200, 11, 140, 258, 187, 241, 277, 6, 0, 11, 77, 230, 187, 131, 217, 1, 58, 104, 168, 45, 230, 41, 126, 7, 189, 9, 140, 91, 146, 7, 126, 105, 15, 167, 132, 276, 260, 157, 138, 208, 246, 6, 217, 260, 242, 227, 15, 241, 157, 123, 4, 186, 183, 209, 153, 31, 195, 20, 213, 268, 181, 209, 173, 167, 116, 236, 124, 23, 170, 123, 138, 228, 25, 15, 23, 205, 142, 257, 227, 23, 119, 201, 23, 14, 0, 3, 280, 131, 4, 9, 23, 143, 263, 160, 113, 25, 190, 23, 25, 187, 15, 181, 149, 242, 19, 261, 213, 250, 255, 183, 165, 238, 214, 260, 137, 126, -2, 255, 20, 220, 189, 1, 53, 260, 271, 4, 190, 119, 247, 44, 110, 9, 216, 183, 252, 45, 1, 490, 162, 69, 224, 160, 45, 231, 1, 113, 156, 148, 203, 266, 83, 249, 148, 15, 15, 137, 249, 201, 276, 268, 242, 172, 19, 167, 145, 148, 269, 225, 276, 261, 69, 160, 258, 241, 112, 19, 102, 14, 277, 260, 12, 12, 129, 201, 41, 168, 146, 140, 47, 214, 50, 236, 242, 131, 131, 31, 101, 157, 268, 75, 41, 44, 255, 181, 236, 12, 224, 181, 137, 20, 138, 6, 249, -3, 108, 200, 127, 143, 116, 272, 195, 175, 15, 219, 165, 3, 190, 187, 129, 626, 137, 28, 195, 52, 260, 194, 140, 74, 168, 249, 127, 9, 239, 6, -3, 25, 176, 11, 17, -3, 233, 263, 231, 242, 244, 197, 254, 165, 176, 247, 154, 227, 176, 52, 93, 244, 20, 11, 30, 42, 75, 131, 107, 168, 44, 7, 274, 25, 58, 126, 88, 34, 176, 86, 19, 23, 194, 148, 14, 222, 11, 107, 261, 186, 172, 110, 7, 71, 162, -5, 11, 6, 164, 7, 160, 137, 260, 22, 39, 257, 250, 154, 108, 19, 142, 272, 201, 148, 244, 151, 183, 195, 183, 233, 53, 23, 209, 14, 149, 250, 31, 285, 236, 42, 214, 254, 20, 77, 241, 48, 272, 52, 443, 91, 254, 201, 228, 131, 186, 153, 11, 157, 3, 186, 224, 6, 22, 39, 216, 142, 7, 7, 227, 222, 127, 30, 94, 160, 186, 265, 244, 219, 213, 157, 170, 50, 222, 60, 187, 249, 181, 25, 129, 123, 208, 168, 238, 131, 190, -19, 156, -21, 208, 17, 216, 269, 274, 6, 37, 282, -5, 258, 0, 4, 156, 9, 148, 181, 4, 197, 203, 20, 31, 198, 222, 63, 60, -13, 39, 96, 44, 162, 85, 0, 30, 216, 247, -10, 44, 14, 34, 227, 17, 225, 56, 37, 0, 85, 231, 50, 162, 217, 214, 26, 222, 165, 37, 9, 250, 195, 236, 230, 201, 219, 178, 239, 94, 222, 6, 250, 11, 236, 148, 45, 20, 138, 64, 31, 15, 214, 45, 4, 156, 50, 244, 1, 173, 235, -13, 52, 252, 17, 154, 213, 23, 45, 15, 34, 22, 209, 6, 30, 11, 28, 205, 28, 88, 160, 309, 172, 195, 119, 257, 261, 26, 121, 228, 244, 153, 265, 75, 247, 175, 252, 194, 101, 222, 190, 1, 172, 186, 241, 235, 113, 96, 198, 197, 225, 1, 178, 192, 11, 156, 231, 165, 48, 134, 173, 15, 12, 12, 165, 183, 203, 224, 181, 274, 11, 151, 34, -10, 186, -10, 0, -19, 260, 257, 244, 151, 124, 249, 1, 113, 257, 7, 140, 12, 123, -2, 175, 39, 219, 233, 58, 184, 257, 34, 238, -13, 3, 164, 246, 102, 184, 7, 233, 154, 140, 512, 154, 75, 22, 12, 26, 94, 53, 86, 175, 266, 30, 6, 162, 205, 236, 19, 153, 164, 183, 268, 160, 173, 156, 154, 28, 9, 75, 241, 179, 276, 211, 269, 206, 178, 197, 7, 41, 187, 22, 126, 142, 165, 33, 247, 131, 20, 175, 74, 219, 41, 164, 123, 25, 269, 28, 6, 28, 222, 217, 156, 173, 249, 244, 127, 216, 165, 4, 26, 214, 241, 235, 134, 77, 121, 142, 146, 203, 7, 11, 37, 228, 225, 149, 227, 12, 19, 261, 126, 159, 63, 59, 58, 230, 28, 15, 17, 14, 39, 53, 34, 19, 197, 162, 39, 86, 96, 242, 255, 197, 198, 14, 241, 6, 162, 219, 9, 3, 244, 250, 1, 77, 168, 190, 157, 219, 31, 164, 146, 1, 167, 85, 241, 246, 42, 22, 186, 205, 153, 61, 157, 66, 200, 132, 41, 14, 249, 42, -3, 239, 184, 0, 78, 26, 249, 172, 33, 15, 145, 241, 165, 179, 78, 247, 241, 14, 211, 131, 146, 249, 252, 135, 170, 64, 192, 203, 246, 60, 36, 148, 63, 154, 198, 85, 135, 265, 41, 173, 19, 63, 211, 63, 211, 36, 222, 206, 142, 145, -10, 146, 9, 37, 3, 157, 23, 247, 6, 129, 45, 239, 187, 93, 228, 113, 3, 231, 198, 209, 239, 17, 123, 206, 183, 250, 78, 3, 247, 86, 113, 112, 235, 45, 157, 137, 1, 206, 231, 9, 246, 101, 7, 7, 254, 227, 15, 239, 7, 246, 102, 4, 138, 279, 0, 33, 9, 268, 181, 359, 184, 148, 206, 173, 83, 39, 19, 230, 254, 252, 250, 6, 219, 184, 56, 47, 233, 97, 26, 257, 119, 183, 244, 22, 151, 83, 37, 131, 219, 225, 25, 176, 254, 254, 208, 6, 268, 6, 72, 9, 82, 160, -2, 148, 252, 28, 113, 14, 61, 233, 96, 220, 159, 222, 14, 156, 201, 173, 9, 203, 214, 219, 11, 7, 230, 97, 17, 172, 112, 224, 249, 37, 176, 249, 268, 129, 183, 94, 160, 91, 260, 235, 225, 112, 39, 138, 260, 266, 200, 101, 244, 244, 257, 254, 12, 168, 290, 30, 85, 250, 258, 41, 252, 236, 220, 225, 26, 67, 146, 386, 126, 151, 181, 151, 239, 15, 6, 134, 132, 33, 11, 178, 121, 154, 30, 11, 58, 118, 9, 192, 156, 263, 176, 268, 260, 23, 249, 19, 55, 37, 247, 19, 165, 7, 252, 11, 124, 137, 220, 119, 238, 247, 167, 17, 66, 198, 15, 260, 77, 53, 3, 17, 23, 42, 181, 211, 187, 17, -10, 238, 162, 15, 173, 261, 236, 241, 228, 3, 216, 241, 258, 82, 80, 201, 9, 20, 126, 246, 211, 55, 173, 205, 582, 110, 85, 246, 6, 211, 183, 135, 205, 12, 192, 15, 156, 146, 164, 159, 168, 143, 52, 9, 39, 291, 291, 3, 189, 211, 127, 91, 148, 126, 175, 53, 6, 252, 1, 101, 0, 219, 247, 0, 271, 26, 268, 28, 12, 0, 14, 142, 17, 137, 146, 4, 244, 206, -5, 220, 4, 250, 11, 146, 104, 37, 137, 220, 236, 39, 383, -2, 246, 28, -2, -2, 0, 227, -2, 187, -14, 4, 265, 42, 153, 452, 214, 15, 249, 209, 153, 31, 7, 236, 58, 242, 28, 255, 12, 175, 3, 183, 44, 224, 200, 247, 17, 96, 7, 153, 28, 14, 154, 282, 83, 4, 14, 272, 203, 209, 167, 7, 30, 213, 189, 22, 241, 176, 227, 266, 183, 104, 132, 261, 250, 247, 197, 239, 9, 266, 224, 265, 37, 126, 241, 239, 83, 246, 7, 227, 132, 4, 235, 37, 238, 195, 189, -8, 167, -3, 53, 231, 53, 15, 213, 206, 19, 181, 20, 238, 12, 17, 20, 12, 241, 37, 241, 7, 257, 12, 268, 195, 45, 137, 208, 195, 148, 126, 22, 265, 7, 183, 14, 137, 252, 12, 255, 246, 7, 142, 244, 274, 190, 88, 238, 4, -5, 153, 77, 4, 19, 269, 115, 230, 7, 15, 265, 22, 225, 258, 252, 15, 241, 205, 53, 6, 175, 45, 124, 238, 66, 246, 11, 206, 14, 224, 160, 263, 20, 257, 69, 11, 19, 244, 135, 195, 41, 14, 6, 149, 156, 102, 142, 197, 178, 115, 75, 157, 107, 222, 160, 20, 160, 154, 36, 203, 162, 209, 222, 233, 112, 190, 143, 242, 19, 82, 33, 41, 30, 198, 124, 254, 247, 238, 116, 241, 4, 252, 14, 178, -14, 149, 162, 249, 170, 60, 11, 231, 146, 198, 208, 34, 227, 167, 44, 219, 131, 244, 91, 121, 115, 30, 165, 30, 206, 126, 261, 189, 107, 172, 227, -2, 28, 151, 190, 20, 33, 246, 75, 123, 261, 19, 201, 235, 124, 268, 20, 198, 4, 129, 211, 170, 143, 119, 149, 3, 213, 173, 271, 160, 225, 11, 9, 93, 201, 0, 203, 250, 175, 236, 241, 224, 239, 205, 266, 198, 258, 44, 265, 12, 159, 265, 47, 200, 20, 233, 173, 45, 20, 153, 89, 254, 260, -2, 12, 15, 129, 39, 1, 151, 181, 115, 149, 34, 225, 25, 34, 198, 23, 20, 52, 71, 20, 75, 15, 250, 315, 241, 170, 157, 22, 198, 39, 266, 105, 30, 195, 78, 224, 186, 19, 254, 184, 94, 176, 11, 31, 173, 64, 214, 231, 263, 247, 205, 142, 3, 178, 113, 263, 9, 154, 178, 153, 145, 156, 235, 242, 119, 235, 12, 11, 242, 173, 9, 222, 165, 23, 184, 30, 52, 143, 198, 22, 236, 242, 75, 244, 3, 78, 213, 159, 187, 277, 208, 228, 201, 190, 157, 217, 181, 208, 198, 142, 140, 14, 124, 138, 9, 14, 39, 7, 203, 241, 3, 9, 258, 214, 11, 175, 224, 246, 112, 138, 14, 242, 37, 228, 151, 164, 12, 11, 113, 201, 162, 19, 23, 160, 250, 209, 4, 4, 7, 153, 209, 181, 153, 118, 227, 145, 41, 15, 119, 257, 224, 269, 129, 12, 197, 132, 9, 176, 140, 246, 172, 6, 11, 254, 148, 246, 194, 7, 157, 227, 142, 168, 184, 102, 107, 211, 224, 254, 69, 12, 129, 252, 23, 219, 129, 129, 214, 187, 216, 162, 132, 15, 208, 227, 183, 222, 236, 7, 11, 19, 135, 216, 224, 208, 236, 12, 129, 154, 261, 255, 255, 7, 159, 250, 3, 246, 34, 209, 187, 148, 198, 48, 184, 12, -6, 82, 203, 12, 241, 443, 242, 0, 205, 83, 238, 153, 258, 200, 159, 156, 247, 108, 160, 157, 25, 23, 3, 214, 132, 148, 153, 14, 4, 175, 101, 12, 492, 11, 225, 149, 33, 3, 17, 67, 4, 14, 0, 170, 160, 12, 31, 203, 14, 189, 15, 19, 231, 23, 108, 183, 149, 36, 173, 170, 12, 231, 115, 246, 206, 11, 255, 26, 266, 170, 3, 119, 252, 33, 260, 255, 127, 194, 102, 146, 34, 184, 154, 231, 255, 214, 140, 206, 159, 34, 149, 1, 197, 17, 258, 7, 131, 217, 1, 222, 197, 53, 0, 110, 179, 7, 205, 238, 197, 88, 220, 119, 64, 69, 134, -19, 30, 4, 170, 244, 203, 52, 172, 192, 239, 115, 140, 209, 110, 129, 230, 48, 114, 164, 168, 246, 12, 119, 132, 242, 228, 173, 246, 271, 1, 45, 64, 7, 272, 164, 260, 244, 22, 189, 85, 19, 231, 179, 239, 137, 12, 276, 12, 244, 14, 189, 214, 127, 131, 175, 4, 170, 129, 39, 56, 250, 137, -2, 36, 160, 19, 159, 14, 50, 140, 183, 266, 86, 23, 231, 17, 244, 58, 236, 41, 170, 236, 247, 88, 1, 153, -2, 203, 236, -6, 26, 44, 216, 172, 149, 17, 101, 249, 236, 228, 89, 105, 201, 12, 242, 11, 192, 194, 184, 110, 254, 236, 233, 213, 222, 9, 20, 194, 244, 33, 244, 74, 138, 7, 261, 102, 30, 167, 263, 12, 189, 131, 146, 260, 34, 258, 22, 127, 7, 214, 47, 219, 206, 42, 258, 67, 175, 1, 230, 116, 14, 194, 209, 36, 189, 246, 3, 3, 20, 6, 7, 7, 19, 181, 238, 249, 167, 14, 1, 206, 227, 255, 31, 263, 254, 250, 23, 179, 250, 247, 203, 7, 23, 506, -30, 235, 261, 231, 3, 261, 97, 198, 246, 3, 60, 255, 242, 254, 236, 143, 208, 241, 137, 214, 34, 233, 249, 19, 200, 135, 12, 0, 14, 254, 74, 159, 17, 233, 22, 41, 42, 224, 7, 26, 159, 11, 7, 20, 151, 96, 75, 7, 164, 236, 9, 269, 197, 209, -24, 154, 19, 217, 23, 33, 33, 184, 268, 72, 246, 15, 7, 187, 102, 34, 26, 246, 246, 19, 247, 22, 17, 200, 99, 126, 36, 132, 254, 37, 230, 108, 108, 230, 257, 45, 26, 173, 22, 9, 224, 252, 37, 228, 14, 93, 242, 3, 148, 235, 173, 211, 179, -2, 41, 0, 121, 220, 192, 219, 6, 1, 83, 241, 33, 148, 12, 4, 67, 151, 203, 258, 74, 9, 146, 28, 34, 34, 197, 220, 104, 6, -2, 255, 53, 170, -10, 246, 6, 195, 189, 205, 42, 211, 225, 58, 3, 91, 30, 252, 272, 15, 238, 189, -10, 217, 4, 22, 14, 230, 3, 242, 3, 251, 157, 112, 241, 12, 242, 157, 260, 80, 22, 7, 39, 242, 6, 20, 143, 219, 4, 36, 272, 37, 42, 254, 154, 252, 187, 26, 71, 108, 206, 9, 15, 217, 17, 105, 255, 217, 246, 206, 86, 83, 142, 205, 107, 4, 129, 230, 129, 140, 17, 31, 266, 190, 260, -11, 6, 17, 211, 15, 214, 203, 224, 66, 26, 33, 19, 220, 14, 201, 222, 518, 258, 217, 140, 9, 258, 228, 31, 249, 156, 244, 118, 146, 9, 187, 172, 0, 30, 6, 149, 22, 173, 116, 205, 172, 203, 241, 209, 121, 15, 138, 26, 170, 246, 194, 31, 6, 179, -3, 247, 44, 172, 7, 4, 75, 272, 26, 176, 47, 258, 183, 290, 175, 135, 277, 209, 233, 165, 244, 28, 242, 135, 30, 189, 22, 219, 1, 222, 110, 88, 26, 203, 198, 247, 12, 11, 4, 241, 19, 7, 11, 217, 23, 268, 175, 164, 36, 22, 272, 25, 280, 9, 30, 88, 28, 3, 77, 184, 167, 220, 72, 186, 209, 7, 96, 266, 33, 14, 28, 31, 4, 206, 165, 252, 15, 31, 127, 14, 50, 230, 227, 60, 170, 99, 20, 3, 17, 53, 41, 239, 241, 138, 25, 222, 1, 252, 89, 154, 124, 3, -2, 247, 138, 214, 235, 137, 3, 124, 1, 189, 195, 241, 181, 216, 203, 25, 236, 6, 172, 151, 19, 53, 279, 168, 19, 50, 7, 268, 15, 127, 230, 137, 209, 197, 26, -2, 23, 192, 3, -10, 140, 52, 181, 42, 208, 14, 159, 12, 244, 159, 37, 11, 143, 198, 183, 11, 200, 257, 205, 37, 183, 241, 271, 1, 189, 225, 257, 7, 36, 242, 206, 9, 138, 285, 12, 91, 3, 233, -3, 3, 124, 159, 108, 9, 246, 41, 4, 242, 246, 7, 75, 138, -14, -3, 4, 227, 217, 238, 244, 126, 213, 195, 7, 181, 288, 189, 15, 279, 4, 41, 15, 149, 134, 197, 4, 246, 25, 153, 58, 26, 201, 242, 52, 20, 45, 9, 255, 17, 255, 105, 143, 154, 4, 4, 224, 231, 1, 1, 17, 235, 107, 72, 170, 134, 257, 246, 138, 165, 222, 213, 181, 119, -3, 173, 228, 4, 154, 201, 162, 260, 159, 129, 3, 129, 184, 418, 9, 6, 252, 165, 146, -14, 20, 186, 236, 53, 15, 190, 216, 190, 148, 132, 265, 247, 209, 15, 3, 274, 233, 107, 200, 4, 261, 1, 272, 225, 225, 55, 9, 17, 37, 211, 1, 30, 11, 119, 160, 22, 0, 12, 192, 236, 121, 252, 277, 22, 194, 205, 154, 110, 96, 257, 250, 0, 260, 233, 183, 186, 64, 17, 172, 265, 14, 175, 135, 14, 19, 269, 156, 241, 37, 235, 263, 230, 69, 132, 246, 30, 224, 190, 176, 222, 0, 0, 257, 246, 758, 217, 7, 85, 64, 189, 50, 20, 7, 126, 48, 285, 258, 250, 247, 14, 149, 186, 15, 209, 238, 30, -5, 116, 149, 80, 15, 246, 52, 183, 23, 239, 238, 231, 178, 187, 37, 1, 82, -5, 113, 37, 194, 213, 244, 129, -11, 228, 6, 9, 142, 85, 33, 33, 189, 148, 179, 0, 14, 189, 45, 257, 126, 17, 299, 41, 25, 216, 4, 20, 201, 189, 34, -2, 11, 242, 192, 17, 260, 260, 247, 224, 102, 4, 250, 260, 247, 22, 263, 183, 258, 239, 67, 0, 246, 39, 250, 263, 6, 162, 47, 34, 183, 137, 1, 233, 104, 1, 30, 20, 236, 266, 31, 23, 175, 257, 197, 127, 20, 534, 17, 209, 153, 104, 140, 33, 146, 37, 255, 179, 187, 17, 12, 4, 94, 238, 31, 11, 205, 138, 235, 222, 236, 28, 238, 12, 28, 112, 238, 238, 258, 201, 154, 11, 189, 28, 160, 64, 228, 181, 6, 3, 33, 157, 255, 52, 15, 156, 252, 512, 247, 6, 86, 189, 99, 53, 159, 205, 3, 36, 1, 175, 6, 255, 4, 4, 48, 244, 255, 107, 254, 164, 280, 274, 33, 254, 236, 138, 192, 164, 209, 45, 238, 17, 19, 246, 249, 236, 227, 236, 26, 261, 104, 252, 189, 249, 60, 242, 269, 149, 56, 201, 208, 172, 208, 14, 11, 1, 12, 246, 19, 266, 236, 9, 247, 190, 1, 4, 236, 0, 53, 127, 7, 4, 255, 496, 246, 7, 260, -2, 105, -3, 145, 233, 213, 9, 116, -3, 250, 97, 0, 236, 252, 208, 249, 187, 1, 246, 250, 119, -2, 242, 175, 145, -6, 140, 242, 56, 138, 216, 34, 249, 31, 131, 26, 138, 134, 31, 112, 272, 233, 239, 4, 257, 19, 146, 19, 34, 189, 143, 101, 153, 25, 257, 213, 183, 224, 12, 36, 50, 162, 19, 61, 52, 53, 72, 244, 263, 1, 17, 142, 261, 268, 252, 86, 295, 19, 33, 227, 260, 126, 9, 192, 12, 156, 263, 0, 252, 205, 184, 7, 230, 20, 175, -2, 170, 0, 56, 20, 242, 183, 0, 3, 173, 1, 198, 247, 132, 99, 283, 19, 9, 233, 167, -8, 258, 12, 260, 7, 9, 236, 26, 192, 220, 0, 36, 228, 19, 0, -8, 252, 205, 220, 53, 224, 149, 25, 102, -3, 246, 233, 60, 224, 228, 3, 67, 14, 12, 241, 131, 121, 192, 61, 205, 118, 272, 225, 216, 89, 250, 183, 187, 172, 228, 228, 25, 19, 187, 228, 15, 36, 239, 244, 28, 138, 26, 167, 39, 227, 30, 89, 86, 107, 101, 63, 187, 255, 17, -2, 82, 247, 137, 225, 123, 3, 189, 15, 235, 173, 247, -3, 143, 0, 113, 165, 115, 213, 246, 4, 203, 263, -10, 233, 224, 124, 170, 36, 190, 47, 247, 156, 201, 127, 184, 178, 162, 178, 149, 148, 265, 17, 151, 74, 257, 233, 6, 200, 115, 246, 6, 224, 12, 203, 217, 6, 206, 235, 239, 23, 195, 12, 211, 222, 124, 241, 160, 159, 144, 54, 91, -17, 244, 184, 26, 244, 211, 205, 254, 190, 157, 22, 162, 214, 23, 146, 244, 266, 137, 252, 140, 261, 45, 190, 484, 118, 11, 230, 52, 15, 279, 45, 247, 203, 91, 50, 9, 135, 45, 7, 96, 249, 15, 164, 257, 242, 31, 164, 19, 22, 258, 224, 124, 254, 231, 190, 132, 258, -10, -3, 183, 154, 19, -3, 266, -3, 170, 1, -5, 260, -17, 119, 258, 42, 186, 173, 22, 15, 255, 176, 198, 28, 14, 214, 172, 61, 1, 20, 146, 0, 36, 34, 228, 1, 260, 233, 33, 242, 115, 239, 213, 137, 255, -6, 0, 219, 239, 217, 89, 75, 22, 3, 14, 134, 6, 235, 0, 156, 242, 71, -2, 61, 1, 82, 213, 153, -3, 140, 53, 15, 66, 254, 17, 235, 96, 20, 104, 4, 12, 145, 82, 159, 167, 88, 254, 167, 225, 230, 145, 26, 110, 6, 121, 0, 6, 236, 44, 178, 0, 4, 22, 52, 225, 63, 6, 1, 183, 233, 246, 12, 190, 242, -8, 206, 231, 1, 252, 260, 235, 353, 216, 183, 116, 1, 213, 151, 255, 247, 209, 9, 186, 12, 287, 91, -5, 255, 80, 241, 246, 206, 252, 233, 194, 236, 6, 55, 254, 246, 164, 22, 12, 14, 15, 23, 75, 227, 129, 9, 56, 17, 249, 242, 266, 26, 228, 44, 145, 258, 170, 22, 4, 4, 219, 44, 14, 48, 250, 22, 60, 238, 12, 260, 181, 11, 192, 159, 241, 42, 258, 261, 123, 455, 56, 108, 214, 250, 260, 14, 167, 225, 168, 225, 241, 89, 201, 93, 26, 206, 20, 108, 37, 20, 271, 11, 261, 50, 11, 244, 249, 224, 224, 12, 175, 227, 151, 148, 11, 17, 206, 279, 216, 167, 19, 173, 140, 28, 233, 17, 20, 15, 15, 250, 30, 66, 241, 261, 228, 263, 99, 107, 0, 99, 9, 277, 4, 15, 14, 42, 238, 246, 20, 137, 238, 258, 197, 145, 219, 138, 12, 252, 244, 110, 26, 151, 11, 230, 116, -13, 19, 183, -2, 0, 280, 255, 6, 203, 255, 255, 28, 19, 1, 116, 231, 238, 154, 94, 198, 0, 213, 37, 247, 31, 23, 200, 145, 6, 142, 150, 205, 55, 224, 4, 194, 101, -2, 194, 192, 170, 47, 15, 151, 254, 11, 61, 525, 235, 148, 23, 206, 255, 197, 41, 224, 250, -3, 162, -17, 42, 216, 244, 123, 142, 44, 168, 0, 61, 124, 140, 9, -10, 247, 216, 55, 194, 126, 159, 200, 23, 1, 135, 268, 0, 52, 1, 214, 241, 126, 131, 25, 64, 156, 131, 233, 85, 12, 250, 137, 230, 42, 60, 249, 162, 143, 52, 231, 0, 30, 53, 239, 254, 50, 206, 75, 198, 214, -3, 88, -3, 239, 217, 154, 192, 48, 209, 3, 0, 149, 173, 63, 619, 52, 82, -6, 198, 14, 149, 246, 241, 96, 119, 164, 123, 239, 261, 30, 230, 86, 146, 71, 37, 61, 19, 213, 12, 30, 15, 165, 249, 15, 17, 37, 172, 233, 20, 206, 31, 28, 257, 241, 118, 242, 96, 1, 263, 3, 28, 9, 12, 201, 235, 183, 91, 242, 129, 41, 7, 290, 22, 4, 72, 25, 9, 71, 7, 220, 19, 11, 1, 9, 165, 228, 206, 214, 26, 184, 257, 108, 190, 197, 108, 216, -5, 203, 138, 249, 184, 44, -3, 47, 34, 119, 50, 244, 214, 261, 190, 44, 48, 36, 291, 216, 55, 206, 25, 205, 249, 96, 274, 55, 225, 135, 7, 56, 75, 255, 129, 15, 222, 14, 56, 244, 159, 11, 83, 176, 178, 192, 25, 178, 220, 247, 20, 154, 233, 14, 48, 48, 244, 283, 186, 17, 198, 157, 116, 1, 187, 53, 25, 247, 176, 15, 22, 138, 36, 113, 129, 198, 211, 88, 181, 74, 209, 82, 250, 6, 190, 227, 290, 269, 254, -6, 159, 74, 242, 189, 201, 41, 313, 233, 118, 6, 55, 47, 160, 37, 47, 89, 235, -2, 20, 22, 233, 17, 250, 272, 12, 247, 29, 145, 7, 23, 9, 211, 200, 261, 178, 206, 265, 250, 15, 173, 247, 208, 1, 187, -3, -3, 4, 227, 293, 198, 61, -8, 244, 126, 230, 203, 17, 15, 6, 9, 31, 195, 9, 193, 8, 259, 188, 228, 239, 232, 21, 18, 345, 185, 85, 174, 151, 8, 11, 13, 61, 203, 23, 170, 43, 7, 154, 124, 87, 288, 214, 106, -16, 100, -1, 224, 75, 110, 2, 13, 229, 244, 264, 188, 232, 239, 80, 90, -11, 249, 247, 120, 188, 61, 180, 16, 170, 23, 8, 8, 185, 267, 31, 139, 11, 259, 100, 2, 188, 120, 247, 183, 237, 21, 203, 62, 41, 210, 7, 26, 26, 95, -5, 97, 247, 223, 264, 154, 3, 247, 154, 272, 4, 247, 85, 203, 228, 249, 111, 111, 257, 159, 2, 139, 149, 183, 252, 134, -1, 228, 439, 21, 200, 134, 262, 8, 11, 7, 111, 106, 13, 18, 252, 223, 92, 11, 204, 70, 234, 136, 65, 205, 23, 46, 90, 23, 8, 213, 124, 264, 21, 95, 46, 31, 80, 31, 134, 141, 23, 208, 23, 26, 2, 213, 160, 23, 149, 8, 259, 2, 198, 33, 228, 106, 232, 8, -6, 264, 46, 16, 232, 154, 214, 11, 272, 232, -5, 342, -15, 2, 234, 75, 13, 16, 124, 26, -1, 61, 224, 224, 110, 23, 11, 2, 139, 232, 159, 247, 87, 252, 121, 213, 213, 115, 257, 65, 134, 8, 259, 11, 190, 65, 219, 8, 242, 121, 198, 21, 174, 214, 56, 170, 43, 232, 242, 262, 141, 85, 200, 47, 2, 85, 21, 185, 1, 129, 46, 43, 18, 26, 252, 185, 11, 131, 232, 8, 56, 252, 252, 193, 16, 239, 110, 205, 82, 90, 257, 106, 36, 178, 272, 214, 23, 23, 21, 252, 11, 232, 213, 178, 36, 232, 41, 259, 13, 237, 134, 218, 178, 213, 242, 213, 21, 85, 116, 218, 249, 219, 223, 11, 16, 61, 213, 134, 164, 87, 208, 252, 252, 8, 3, 8, 160, 175, -5, 2, 205, 2, 56, 213, 0, 3, 70, 249, 254, 11, 90, 205, 47, 267, 11, 180, 144, 239, 228, 164, 106, 517, 26, 203, 23, 7, 252, 26, 229, 21, 237, 7, 7, 223, 149, 175, 188, 170, -1, 213, 2, 229, 249, 249, 21, 219, 7, 110, -11, 160, 232, 382, 247, 16, 257, 149, 193, 242, 254, 149, 46, 175, 7, 11, 0, 0, 257, -6, -11, 156, 13, 178, -6, 208, 254, 175, 7, 165, 198, 11, 116, 301, 291, 252, 26, 18, 13, 11, 129, 3, 16, 16, 242, 262, 8, 267, 257, 190, 242, 26, 136, 242, 237, 242, 115, 13, 115, 41, 242, 31, 72, 110, 8, 156, 46, 180, 57, 198, 252, 249, 252, 95, 160, 3, 7, 129, 269, 249, 2, 110, 31, -21, 56, 213, 110, 7, 129, -10, 218, -5, 110, 8, 193, 188, 2, 193, 203, 164, 154, 120, -6, 144, 7, -5, 77, 208, 106, 169, 208, 36, 7, 146, 223, 7, 232, 267, 8, 70, 3, 149, 228, 164, 237, 208, 247, 16, 134, 2, 247, 13, 129, 262, 14, 288, 95, 214, 2, 195, 282, 139, 7, 8, -11, 3, 139, 18, -11, -21, 90, 62, 14, 3, 257, 7, 3, 239, 214, 2, 242, 245, 21, 154, 247, 224, 85, 237, 7, 208, 264, 95, 16, 11, 26, 165, 190, 11, 85, 97, 175, 183, 85, 252, 159, 8, 11, 41, 16, 120, 244, 129, 11, 242, 38, 28, 21, 190, 188, 218, 26, 11, 31, 43, 16, 11, 85, 7, 213, 16, 712, 21, 183, 28, 247, 26, 11, 21, 200, 252, 2, 242, 259, 134, 254, 169, -1, 262, 277, 26, 257, 193, 26, 28, 223, 11, 100, 46, 213, 129, 154, 180, 11, 175, 23, -1, 13, 272, 267, 21, 43, 85, 213, 16, 139, 257, 70, 198, 11, 13, 26, 183, 193, 26, 21, 178, 178, 16, -15, 214, 188, -6, 26, -21, 8, 105, 3, 7, 205, 7, 2, 134, 7, 200, 203, 7, 237, 242, 213, 2, 180, 214, 244, 16, 131, 239, 169, 90, 11, 249, 21, 278, 228, 174, 65, 247, 120, 70, 174, 11, 16, 169, 224, 223, 11, 65, 21, 21, 13, 16, 242, 75, 41, 154, 228, 188, 41, 8, 149, 234, 213, 18, 65, -19, 496, 66, 149, 218, 134, 232, -1, 232, 208, 2, 178, 47, 208, 0, 210, 237, 75, 47, 218, 208, 247, -1, 3, 7, 3, 198, 8, 16, 190, 13, 303, 16, 178, 259, 267, 190, 178, 611, 159, 242, 159, 47, 144, 164, 223, 56, 190, 1, 247, 208, 239, 151, -6, 282, 213, 269, 67, 198, 2, 267, 26, 134, -1, 110, 62, 141, 213, 234, 242, 234, 41, 36, 252, 141, 100, 254, -1, 160, 115, -10, 267, 115, 2, 41, -6, 203, 134, 151, 13, 257, 2, 249, 234, 210, 237, 232, 2, 2, 159, 111, 203, 180, 38, 4, 0, 232, 249, 203, 1, 252, 183, 213, 232, 259, 129, 237, 210, 269, 467, 232, 228, 41, 18, 254, 229, 7, 131, 228, 18, 13, 31, 277, 11, 205, 26, 41, 33, 26, 97, 110, 9, 124, 257, 273, 239, 16, 31, 259, 31, -1, 165, 267, 51, 23, 16, 131, 3, 180, 169, 262, 242, 46, 90, 14, 174, -6, 31, 252, 239, -11, 26, 269, 259, 257, -11, 5, 41, 242, 278, 0, 252, 200, 178, 11, 51, -19, 214, 247, 33, 203, 82, 13, 228, 0, 203, 218, 257, 218, 124, 198, 228, -16, 239, 3, 205, 252, 174, 0, -16, 3, 218, 176, 13, 95, 121, 229, 169, 203, -1, 257, 26, 229, 188, 2, 0, 175, 115, 262, 257, 21, 21, 242, 257, 217, 90, 165, 11, 77, 16, 232, 2, 38, 232, 11, 26, 237, 85, 11, 203, 28, 111, 259, 16, 11, 174, 242, 2, 170, 264, 16, 311, 52, 3, 254, 7, 16, 252, 16, 170, 262, 249, 169, 67, 169, 252, -1, 26, 205, 36, 33, 242, 264, 234, 232, 46, 252, 105, 105, -1, 49, 23, -1, 2, 223, 242, 218, 33, 7, 2, 237, -1, 41, 185, 131, 154, 41, 2, 193, 228, 149, 210, 224, 234, 7, 178, 252, 23, 8, 16, 21, 247, 134, 262, -11, 18, 203, 237, 188, 249, 259, 144, 208, 242, 41, -6, 85, 229, 21, 72, 193, -1, 213, -1, 205, 41, 7, 41, 31, 213, 1, 2, 267, 174, 203, 2, 11, 16, 2, 38, 139, 213, 213, 370, 218, 11, 200, 75, 139, 8, 61, 124, 144, 139, 16, 159, 198, 18, 185, 136, 267, 262, -6, -11, 237, 154, 254, 237, 26, 7, 237, 164, 11, 257, -6, 198, 208, 172, 121, 11, 239, 177, 195, 210, 11, 400, 264, 208, -1, 221, 257, 242, 3, 214, 218, 149, 2, 105, 234, 164, 262, 229, 234, 56, 7, 3, 249, 257, 254, 223, 185, 120, 326, 175, 262, 26, 8, 19, 151, 164, 267, 11, 120, 11, 272, 41, 16, 242, 134, 208, 252, 8, 287, 34, 61, 16, 257, 193, 208, 213, 7, 2, 11, 7, 244, 7, 2, 218, 16, 11, 237, 273, 21, 234, 188, -6, 249, 26, 178, 13, 208, 26, 262, -6, 203, 61, 350, 228, 16, 7, 249, 244, 124, 668, 65, 11, 237, 257, 11, 11, 11, 146, 224, 26, 239, 7, 183, 164, 527, 257, 8, 21, 183, 7, 2, 257, 159, 2, 160, 249, 237, 16, 170, 11, 210, 262, 51, 100, 200, 242, 21, 31, 0, 3, 139, 208, 228, 247, 223, 70, 249, 65, 259, 11, 195, 3, 16, 228, 56, 2, 169, 247, 13, 277, 52, 242, 154, 249, 200, 26, 160, 272, 11, 28, 7, 11, 264, 288, 11, 56, 2, 242, 13, 203, 7, 316, 237, 257, 272, 41, 16, 218, 264, 237, 203, 244, 61, 242, 115, 8, 151, 46, 26, 16, 154, 7, 100, 214, -1, 174, 2, 205, -6, 110, 264, 2, -1, 21, 7, -5, 223, 2, 85, 0, 169, 242, 82, 106, 62, 2, 7, 8, 188, 205, -1, 242, 198, 160, 0, 43, 8, 341, 213, 2, 210, 11, 198, 282, 164, 115, 144, 232, 165, 23, 232, 11, 134, 228, 7, 16, 203, 154, 237, 16, 213, 244, 190, 13, 278, 149, 13, 18, 146, 1, 257, 7, 136, 228, 190, 8, 200, 203, 21, 26, 134, 16, 244, 23, 8, 7, 7, 257, 61, 247, 2, 21, 159, 21, 214, 247, 267, 257, -6, 252, 249, 183, 1, 21, 208, 259, 170, 164, 228, 57, 198, 13, 164, 188, 667, 21, 156, 115, 193, 224, 247, 26, 26, 13, 111, 11, 7, 1, 283, 106, 23, 56, 11, 272, 26, 139, 16, 228, 278, 21, -6, 169, 2, 36, 205, 7, 156, 193, 21, 11, 195, 178, 124, 239, 203, 62, 56, 3, 262, 7, 124, 2, 36, 193, 18, 141, 120, 229, 272, 188, 0, 124, 252, 14, 213, 337, 62, 239, 85, 18, 43, 218, 61, 41, 26, 23, 11, 223, 185, 247, 282, 139, 293, 56, 262, 111, 208, 156, 262, 228, 264, 56, 239, 262, 208, 11, 188, 195, 11, 16, 224, 249, 52, 144, 214, 273, 257, 80, 21, 146, 257, 16, 33, 203, 11, 178, 16, 232, 151, 129, 7, 77, 21, 23, 675, 203, 193, 126, 13, 13, 269, 252, 16, 11, 21, 228, 174, 75, 237, 239, -6, 7, 26, 0, 252, 604, 87, 16, 242, 195, 269, 193, 31, 124, 120, 257, 16, 252, 61, 205, 185, 139, 174, -1, 203, 8, 26, 185, 252, 180, 21, 85, 2, 131, 110, -6, 134, 129, 219, 11, 0, 213, 242, 242, 313, 252, 237, 291, 183, 311, 273, 252, 21, 291, 188, 51, 23, 308, 82, 0, 16, 303, 21, 183, 67, 28, 7, 21, 244, 252, 200, 11, 11, 28, 218, 16, 239, 51, 242, 203, 159, 21, 43, 234, 237, -6, 237, 5, 95, 267, 165, 188, 581, 120, 8, -11, -6, 272, -6, 2, 198, 239, 2, -5, 272, -6, 90, 75, 183, 287, 282, 26, 41, 214, 13, -6, 257, 198, 0, 11, 51, 174, 254, 11, 257, 229, 13, 252, 170, 237, 195, 267, 213, 26, 95, 23, 277, 159, 257, 21, 252, 144, 2, 164, 52, 11, 247, 203, 7, 249, 247, 228, 301, 229, 228, 47, 298, 51, 16, 203, 267, 183, 254, 57, 228, 174, 11, 33, 120, 159, 178, 210, 223, 190, 257, 11, 75, 218, 239, 252, 244, 16, 213, 159, 214, 219, 51, 16, 811, 136, 278, 247, 149, 252, 13, 242, 252, 164, 0, 110, 3, 228, 7, 121, 18, 247, 560, 239, 36, 188, 56, 18, 7, 214, 218, 287, 70, 262, 2, 185, 8, 7, 115, 21, 3, 70, 134, 237, 18, 26, 11, 183, 8, 240, 100, 229, 257, -1, 232, 244, 228, 72, 62, 247, 110, 2, 8, 0, 234, 13, 16, 247, 232, 13, 7, 47, 257, 139, 110, 3, 283, 164, 28, 169, 18, 61, 7, 244, 214, 193, 262, 257, 326, 213, 156, 11, 154, 18, 208, 164, 129, 2, 16, 242, 97, 33, 242, 47, 26, 223, 41, 326, 16, 223, 252, 205, 273, 259, 52, 254, 115, 237, 16, 178, 229, 97, 198, 228, 232, 21, 219, 257, 229, -1, 198, 2, 2, -5, 198, 23, 156, 242, 26, -5, 36, 13, 214, 129, 198, 139, 244, 198, 46, 33, 223, 21, -6, 237, -1, 51, -5, 242, 2, 164, 229, 193, 62, 242, 31, 283, 175, 244, 168, 210, 237, 198, 203, 247, 31, 21, 169, 124, 170, 7, 174, 149, 144, 149, 234, 254, 242, 149, 13, -1, 100, 41, 7, 7, 195, 218, 2, 242, -5, -1, 247, 178, 252, 36, 13, 21, 169, 273, 8, 254, 247, 7, 193, 272, 43, 203, 262, 237, 252, 257, 174, 229, 141, 267, 70, 7, 247, 252, 262, 288, 7, 36, 5, 13, 56, 41, 26, 228, 16, 203, 247, 242, 90, 26, 7, 200, -1, 7, 262, 306, 205, 8, 218, 7, 8, 257, 61, 252, 47, 214, 7, -1, 120, 43, 36, 252, 232, 72, 18, 185, -21, 21, 3, 252, 134, 2, 3, 264, 174, 149, 404, 203, 232, 2, 288, 252, 13, 11, 2, 7, 198, 2, 229, 11, 16, 200, 126, 82, 26, 244, 21, 178, 144, 36, 26, 16, 313, 168, 114, 1, 60, 1, 41, 140, -6, 223, 1, 194, 0, 243, 94, 238, 3, 223, 11, 228, 272, 203, 31, 164, 165, 183, 259, 75, 11, 535, 262, 16, 115, 121, 144, 228, 252, 57, 154, 224, 159, 237, 252, 57, 195, 2, 16, 277, 178, 264, 2, 267, 28, 129, 105, 301, 7, 208, 267, 205, 198, 208, 2, -11, 11, -6, 242, -11, 149, 232, 195, 321, 247, 3, 18, 21, 252, 85, 228, 21, 249, 288, 170, 146, 242, 247, 272, 21, 101, 43, 151, 11, 8, 205, 257, 156, 3, 203, 2, -6, 9, 219, 82, 205, 208, 82, 262, 169, 121, 8, 16, 56, 218, 18, 218, 218, 262, 7, 395, 223, 257, -5, 193, 170, 21, 3, 57, 16, 287, 244, 178, 62, 0, 7, 210, -6, 262, 41, 288, 7, 156, 31, 2, -11, 82, 178, 7, 269, 7, 272, 198, 232, 2, 134, 178, 3, 139, 2, 36, 190, 262, 146, 252, 262, 203, 36, 188, 185, 262, 164, 16, 174, 591, 16, 65, 183, 21, 11, 203, 192, 11, 163, 1, 214, 305, 153, 1, 187, 6, 1, 129, 241, 246, 232, -2, 8, 70, 129, 267, 21, 31, 200, 31, 23, 249, 180, 11, 85, 26, 18, 26, 272, 259, 16, 262, 170, 242, 188, 213, 190, 228, 169, 36, 120, 228, 252, 7, 49, 46, 229, 264, 249, 115, 249, 223, 121, 247, 21, 228, 7, 16, 262, 57, 124, 269, 164, 16, 169, 252, 18, 75, 218, 237, 13, 159, 193, 61, 126, 267, 13, 237, 11, 154, 154, 41, 80, 237, 51, 34, 218, 36, 254, 247, 516, 65, 16, 21, 8, 257, 321, 2, 11, 111, 21, 3, 18, 21, 210, 626, 3, 223, 8, 223, 116, 247, 223, 21, 90, 178, 228, 115, 208, 11, 0, 185, 3, 213, 13, 169, 80, 2, 252, -1, 249, 717, 223, 232, 159, 242, 244, 242, 7, -6, 214, 234, 183, 169, 131, 21, 31, 16, 7, 144, 214, 252, 213, 213, 7, 190, 8, 203, 41, 267, 183, 3, 7, 414, 8, 165, 249, 169, 111, 8, 16, 56, 7, 2, 239, 19, 7, 105, 195, 183, 43, 154, 8, 2, 169, 244, 16, 21, 262, 62, 218, 272, 229, 144, 87, 139, 23, 70, 247, 16, 282, 210, 239, 149, 2, 244, 7, 232, 21, 28, 178, 70, 16, 219, 247, 2, 262, 144, 7, 183, 242, 213, 36, -19, 205, 77, -1, 478, 144, -6, 100, 41, 442, 223, 159, 21, 26, -6, 228, 203, 165, 252, 8, -1, 159, 129, 223, 100, 129, 80, 141, 139, 101, 3, 228, 75, 90, 115, 2, 87, 120, 51, 213, 121, 159, -5, 116, 115, 272, 267, 244, 80, 2, 229, 154, 183, 56, 8, 51, 139, 18, 11, 159, 21, 16, 65, 237, 7, 218, 257, 19, 33, 23, 149, 23, 248, 31, 193, 11, 11, 203, 174, 332, 273, 26, 151, 134, 288, 264, 18, 298, 156, 259, 188, 56, 252, 282, 26, 239, 244, 704, 228, 200, 61, 85, 239, 219, 26, 159, 254, 2, 82, 21, 46, 97, 129, 282, 28, 198, 234, 31, 234, 11, 11, 18, 23, 116, 262, 139, 170, 164, 237, 151, 183, 232, 8, 234, 7, 121, 214, 106, 46, 242, 301, 228, 18, 232, 219, 156, 144, 65, -1, 3, 7, 38, 237, 2, 11, 144, 244, 223, 21, 18, 8, 156, 222, 178, 11, 257, 8, 208, 126, 23, 164, 287, 16, 237, 257, 38, 178, 174, 218, 154, 21, 272, 26, 154, 228, 193, 13, 178, 203, 252, 203, 190, 165, 164, 254, 11, 244, 16, 13, 214, 193, 13, 218, 232, 16, 301, 33, 154, 26, 193, 262, 239, 2, 120, 244, 193, 139, 26, 11, 223, 136, 165, 26, 210, 77, 291, 26, 2, 232, 26, 193, -5, 13, 21, 283, 7, 522, 277, 3, 11, 16, 269, 13, 264, 11, 16, 192, 178, 110, 208, 136, 232, 203, 283, 203, 11, 273, 141, 31, 36, 36, 178, 244, 7, 218, 8, 282, 11, 11, 95, 234, 165, 252, -11, 239, 282, 247, 126, 8, 11, 203, 169, 247, 252, 2, 193, 2, 16, 26, 169, 239, 159, 8, 213, -6, 8, 121, 232, 7, 219, 75, 272, 303, 247, 7, 2, 144, 237, 237, 203, 0, 287, 665, 3, 31, 23, 213, 277, 16, 287, 8, 224, 252, 164, 13, 2, 232, 16, 174, 503, 141, 7, 259, 257, 252, 223, 11, 257, 38, 193, 570, 183, 154, 298, 151, 244, 7, 169, 237, 234, 223, 11, 306, -5, 228, 232, 11, 144, 174, 141, 237, 282, 18, 208, 18, -16, 262, 198, 214, 18, 92, 44, 210, 7, 223, 28, 120, 267, 21, 110, 16, 164, 164, 7, 203, 257, 175, 252, 193, 28, 141, 232, 2, 267, 228, 237, 267, 224, 115, 188, 277, 254, 36, 13, 7, 232, 19, 296, 165, 154, 21, 252, 178, 144, 120, 139, 175, 237, 100, 7, -16, 242, 239, 11, 2, 2, 7, 247, 141, 51, 232, 7, 174, 257, 439, 188, 26, 31, 52, 0, 61, 7, 126, 228, 442, 21, 213, 159, 139, 174, 144, 174, 252, 129, 87, 70, 229, 164, 193, 190, -24, 219, 242, -1, 105, 70, 16, 44, 149, 242, 208, 21, 170, 272, 262, 8, 283, 156, 287, 16, 242, 139, 16, 175, 269, 65, 174, 213, 205, 11, 174, 165, 16, 188, 259, 232, 232, 219, 31, 237, 75, 223, 170, 7, 36, 267, 203, 203, 242, 18, 7, 26, 31, 219, 23, 259, 242, -6, 229, 174, -15, 169, 16, 264, 11, 72, 219, 16, 210, 2, 7, 18, 195, 151, -21, 16, 7, 228, 16, 129, 169, 124, 115, 139, 21, 193, 134, 101, -1, 269, 8, 18, 7, 198, 239, -15, 2, -6, 313, 8, 188, 38, -1, 214, 214, 5, 380, -21, 3, 237, 355, 11, 174, 223, 190, 149, 2, 267, 3, 13, -1, 213, 208, 21, 249, 18, 178, 174, 7, -36, 90, 11, 0, -36, 222, -19, -1, 203, 594, 208, 11, 198, 3, -5, 3, -11, 213, -11, 195, 165, 31, 85, 252, 7, 208, 249, 134, 190, 247, 223, 26, 247, 18, 95, 242, 141, 0, 164, 2, 213, 28, 208, 11, 208, 80, 252, 56, 264, 16, 80, 182, 237, 7, 146, 257, 264, 36, 110, -6, 190, 149, 219, 16, -1, 28, 9, 193, 247, -6, 232, 242, 0, 13, 11, 205, 11, 8, 210, 0, 51, 183, 139, 116, 249, 100, 264, 18, 16, 47, 169, 267, 205, 257, 249, 51, 272, 24, 7, 97, 31, 254, 185, 242, 190, 223, 11, 2, 193, 38, 11, 129, 203, 244, 244, 188, 51, 18, 257, 13, 18, 639, 21, 7, 156, 252, 228, 16, 139, 257, 13, 298, 193, 7, 229, 190, 174, 126, 234, 1, 8, 257, 203, 3, 41, 8, 213, 224, 213, 239, 56, 249, 203, -1, 193, 228, 198, 2, 72, 237, 7, 41, 3, 213, 139, 452, 174, 159, 224, 237, 262, 100, 11, 208, 105, 301, 18, 124, 51, 11, 180, 178, 277, 244, 267, 8, 21, 272, 200, 185, 208, 26, 16, 18, 267, 21, 244, 115, 247, 223, 100, 262, 100, 80, 237, -11, -6, 208, -5, 144, 234, 2, 242, 41, 213, 254, 3, 178, 129, 3, -5, 219, 259, 174, 190, 115, 26, 8, 2, 262, -11, 0, 2, 203, 165, 277, 165, -5, 282, -5, 1, 385, 31, 8, 249, 129, 149, 18, 154, 249, 116, 149, 141, 7, 65, 213, 291, 21, 144, 232, 282, 61, 183, 164, 11, 146, 219, 9, 193, 160, 259, 28, 7, 214, 190, 149, 26, 16, 228, 249, 97, 193, 223, 13, 26, 232, 61, 267, 3, 164, 228, 26, 169, 57, 1, 7, 262, 214, 143, 26, 16, 75, -6, 101, 249, 8, 249, 11, 124, 242, 169, 11, 36, 228, 2, 7, 7, 242, 3, 7, 120, 164, 252, 141, 259, 154, 2, 90, 252, 264, 16, 23, 116, 26, 154, 257, 277, 18, 62, -6, 13, 193, 267, 203, 239, 141, 178, 80, 296, 239, -1, 61, 708, 65, 82, 185, 224, 8, 23, 267, 259, 219, 13, 141, 242, 51, 139, 139, 247, 16, 16, 232, 11, 46, 31, 8, 282, 36, 26, 228, 232, 247, 213, 124, 28, 16, 13, 210, 257, 8, 247, 164, 262, 11, 311, 252, 144, 203, 139, 269, 219, 36, 228, 16, 228, 11, 185, 7, 170, 213, 195, -6, 115, -15, 257, -5, 7, 198, 198, 228, 254, 38, 11, 247, 198, 28, 2, 247, 183, 198, 237, 198, 139, 97, 262, 2, 26, 11, 3, 178, 282, 13, 185, 178, 116, 178, 65, 13, 3, 0, 252, 169, 80, 120, 0, 259, 232, 164, 254, 208, 26, 46, 56, 33, 242, 257, 154, 41, 8, -1, 228, 141, -11, 52, 0, 218, 7, 208, 237, 121, 232, 82, 247, 90, 7, 634, 170, 85, 75, 237, 85, 2, 33, 213, 159, 16, 247, 139, 36, 3, 80, 110, 254, 11, 13, 242, 306, 590, 13, -11, 218, 16, 316, 105, 237, 149, 242, 247, 174, 193, 105, 115, 159, 257, 229, 169, 234, 11, 131, 219, 219, 234, 165, 26, 198, 218, 688, 82, 11, 21, 291, 257, -21, 224, 7, 159, 7, 223, 224, 87, 3, 16, 11, -1, 169, 264, 242, 247, 13, 23, 16, 16, 229, 21, 154, 213, 21, 178, 247, 41, 8, 223, 11, 229, 105, 205, 257, 21, 7, 175, 23, 262, 257, 101, 26, 277, 33, -11, 16, 23, 11, 26, 13, 188, 174, 224, 154, 188, 259, 11, 282, 609, 77, 56, 267, 85, 61, 31, 619, 141, 264, 247, 7, 237, 277, 239, 47, 247, 120, 26, 70, 203, 208, 80, 242, -11, 8, 124, 232, 2, 120, 183, -19, 149, 7, 190, 61, 57, 0, 218, 124, 31, 205, 575, 7, 47, 110, 16, 232, 210, 282, 46, 115, 7, 14, 254, 72, 77, 264, 106, 228, 624, 193, 11, 13, 252, 8, 11, 283, 205, 7], \"yaxis\": \"y\"}],\n",
              "                        {\"coloraxis\": {\"colorbar\": {\"title\": {\"text\": \"shot_made_flag\"}}, \"colorscale\": [[0.0, \"#0d0887\"], [0.1111111111111111, \"#46039f\"], [0.2222222222222222, \"#7201a8\"], [0.3333333333333333, \"#9c179e\"], [0.4444444444444444, \"#bd3786\"], [0.5555555555555556, \"#d8576b\"], [0.6666666666666666, \"#ed7953\"], [0.7777777777777778, \"#fb9f3a\"], [0.8888888888888888, \"#fdca26\"], [1.0, \"#f0f921\"]]}, \"height\": 600, \"legend\": {\"tracegroupgap\": 0}, \"template\": {\"data\": {\"bar\": [{\"error_x\": {\"color\": \"#2a3f5f\"}, \"error_y\": {\"color\": \"#2a3f5f\"}, \"marker\": {\"line\": {\"color\": \"#E5ECF6\", \"width\": 0.5}}, \"type\": \"bar\"}], \"barpolar\": [{\"marker\": {\"line\": {\"color\": \"#E5ECF6\", \"width\": 0.5}}, \"type\": \"barpolar\"}], \"carpet\": [{\"aaxis\": {\"endlinecolor\": \"#2a3f5f\", \"gridcolor\": \"white\", \"linecolor\": \"white\", \"minorgridcolor\": \"white\", \"startlinecolor\": \"#2a3f5f\"}, \"baxis\": {\"endlinecolor\": \"#2a3f5f\", \"gridcolor\": \"white\", \"linecolor\": \"white\", \"minorgridcolor\": \"white\", \"startlinecolor\": \"#2a3f5f\"}, \"type\": \"carpet\"}], \"choropleth\": [{\"colorbar\": {\"outlinewidth\": 0, \"ticks\": \"\"}, \"type\": \"choropleth\"}], \"contour\": [{\"colorbar\": {\"outlinewidth\": 0, \"ticks\": \"\"}, \"colorscale\": [[0.0, \"#0d0887\"], [0.1111111111111111, \"#46039f\"], [0.2222222222222222, \"#7201a8\"], [0.3333333333333333, \"#9c179e\"], [0.4444444444444444, \"#bd3786\"], [0.5555555555555556, \"#d8576b\"], [0.6666666666666666, \"#ed7953\"], [0.7777777777777778, \"#fb9f3a\"], [0.8888888888888888, \"#fdca26\"], [1.0, \"#f0f921\"]], \"type\": \"contour\"}], \"contourcarpet\": [{\"colorbar\": {\"outlinewidth\": 0, \"ticks\": \"\"}, \"type\": \"contourcarpet\"}], \"heatmap\": [{\"colorbar\": {\"outlinewidth\": 0, \"ticks\": \"\"}, \"colorscale\": [[0.0, \"#0d0887\"], [0.1111111111111111, \"#46039f\"], [0.2222222222222222, \"#7201a8\"], [0.3333333333333333, \"#9c179e\"], [0.4444444444444444, \"#bd3786\"], [0.5555555555555556, \"#d8576b\"], [0.6666666666666666, \"#ed7953\"], [0.7777777777777778, \"#fb9f3a\"], [0.8888888888888888, \"#fdca26\"], [1.0, \"#f0f921\"]], \"type\": \"heatmap\"}], \"heatmapgl\": [{\"colorbar\": {\"outlinewidth\": 0, \"ticks\": \"\"}, \"colorscale\": [[0.0, \"#0d0887\"], [0.1111111111111111, \"#46039f\"], [0.2222222222222222, \"#7201a8\"], [0.3333333333333333, \"#9c179e\"], [0.4444444444444444, \"#bd3786\"], [0.5555555555555556, \"#d8576b\"], [0.6666666666666666, \"#ed7953\"], [0.7777777777777778, \"#fb9f3a\"], [0.8888888888888888, \"#fdca26\"], [1.0, \"#f0f921\"]], \"type\": \"heatmapgl\"}], \"histogram\": [{\"marker\": {\"colorbar\": {\"outlinewidth\": 0, \"ticks\": \"\"}}, \"type\": \"histogram\"}], \"histogram2d\": [{\"colorbar\": {\"outlinewidth\": 0, \"ticks\": \"\"}, \"colorscale\": [[0.0, \"#0d0887\"], [0.1111111111111111, \"#46039f\"], [0.2222222222222222, \"#7201a8\"], [0.3333333333333333, \"#9c179e\"], [0.4444444444444444, \"#bd3786\"], [0.5555555555555556, \"#d8576b\"], [0.6666666666666666, \"#ed7953\"], [0.7777777777777778, \"#fb9f3a\"], [0.8888888888888888, \"#fdca26\"], [1.0, \"#f0f921\"]], \"type\": \"histogram2d\"}], \"histogram2dcontour\": [{\"colorbar\": {\"outlinewidth\": 0, \"ticks\": \"\"}, \"colorscale\": [[0.0, \"#0d0887\"], [0.1111111111111111, \"#46039f\"], [0.2222222222222222, \"#7201a8\"], [0.3333333333333333, \"#9c179e\"], [0.4444444444444444, \"#bd3786\"], [0.5555555555555556, \"#d8576b\"], [0.6666666666666666, \"#ed7953\"], [0.7777777777777778, \"#fb9f3a\"], [0.8888888888888888, \"#fdca26\"], [1.0, \"#f0f921\"]], \"type\": \"histogram2dcontour\"}], \"mesh3d\": [{\"colorbar\": {\"outlinewidth\": 0, \"ticks\": \"\"}, \"type\": \"mesh3d\"}], \"parcoords\": [{\"line\": {\"colorbar\": {\"outlinewidth\": 0, \"ticks\": \"\"}}, \"type\": \"parcoords\"}], \"scatter\": [{\"marker\": {\"colorbar\": {\"outlinewidth\": 0, \"ticks\": \"\"}}, \"type\": \"scatter\"}], \"scatter3d\": [{\"line\": {\"colorbar\": {\"outlinewidth\": 0, \"ticks\": \"\"}}, \"marker\": {\"colorbar\": {\"outlinewidth\": 0, \"ticks\": \"\"}}, \"type\": \"scatter3d\"}], \"scattercarpet\": [{\"marker\": {\"colorbar\": {\"outlinewidth\": 0, \"ticks\": \"\"}}, \"type\": \"scattercarpet\"}], \"scattergeo\": [{\"marker\": {\"colorbar\": {\"outlinewidth\": 0, \"ticks\": \"\"}}, \"type\": \"scattergeo\"}], \"scattergl\": [{\"marker\": {\"colorbar\": {\"outlinewidth\": 0, \"ticks\": \"\"}}, \"type\": \"scattergl\"}], \"scattermapbox\": [{\"marker\": {\"colorbar\": {\"outlinewidth\": 0, \"ticks\": \"\"}}, \"type\": \"scattermapbox\"}], \"scatterpolar\": [{\"marker\": {\"colorbar\": {\"outlinewidth\": 0, \"ticks\": \"\"}}, \"type\": \"scatterpolar\"}], \"scatterpolargl\": [{\"marker\": {\"colorbar\": {\"outlinewidth\": 0, \"ticks\": \"\"}}, \"type\": \"scatterpolargl\"}], \"scatterternary\": [{\"marker\": {\"colorbar\": {\"outlinewidth\": 0, \"ticks\": \"\"}}, \"type\": \"scatterternary\"}], \"surface\": [{\"colorbar\": {\"outlinewidth\": 0, \"ticks\": \"\"}, \"colorscale\": [[0.0, \"#0d0887\"], [0.1111111111111111, \"#46039f\"], [0.2222222222222222, \"#7201a8\"], [0.3333333333333333, \"#9c179e\"], [0.4444444444444444, \"#bd3786\"], [0.5555555555555556, \"#d8576b\"], [0.6666666666666666, \"#ed7953\"], [0.7777777777777778, \"#fb9f3a\"], [0.8888888888888888, \"#fdca26\"], [1.0, \"#f0f921\"]], \"type\": \"surface\"}], \"table\": [{\"cells\": {\"fill\": {\"color\": \"#EBF0F8\"}, \"line\": {\"color\": \"white\"}}, \"header\": {\"fill\": {\"color\": \"#C8D4E3\"}, \"line\": {\"color\": \"white\"}}, \"type\": \"table\"}]}, \"layout\": {\"annotationdefaults\": {\"arrowcolor\": \"#2a3f5f\", \"arrowhead\": 0, \"arrowwidth\": 1}, \"colorscale\": {\"diverging\": [[0, \"#8e0152\"], [0.1, \"#c51b7d\"], [0.2, \"#de77ae\"], [0.3, \"#f1b6da\"], [0.4, \"#fde0ef\"], [0.5, \"#f7f7f7\"], [0.6, \"#e6f5d0\"], [0.7, \"#b8e186\"], [0.8, \"#7fbc41\"], [0.9, \"#4d9221\"], [1, \"#276419\"]], \"sequential\": [[0.0, \"#0d0887\"], [0.1111111111111111, \"#46039f\"], [0.2222222222222222, \"#7201a8\"], [0.3333333333333333, \"#9c179e\"], [0.4444444444444444, \"#bd3786\"], [0.5555555555555556, \"#d8576b\"], [0.6666666666666666, \"#ed7953\"], [0.7777777777777778, \"#fb9f3a\"], [0.8888888888888888, \"#fdca26\"], [1.0, \"#f0f921\"]], \"sequentialminus\": [[0.0, \"#0d0887\"], [0.1111111111111111, \"#46039f\"], [0.2222222222222222, \"#7201a8\"], [0.3333333333333333, \"#9c179e\"], [0.4444444444444444, \"#bd3786\"], [0.5555555555555556, \"#d8576b\"], [0.6666666666666666, \"#ed7953\"], [0.7777777777777778, \"#fb9f3a\"], [0.8888888888888888, \"#fdca26\"], [1.0, \"#f0f921\"]]}, \"colorway\": [\"#636efa\", \"#EF553B\", \"#00cc96\", \"#ab63fa\", \"#FFA15A\", \"#19d3f3\", \"#FF6692\", \"#B6E880\", \"#FF97FF\", \"#FECB52\"], \"font\": {\"color\": \"#2a3f5f\"}, \"geo\": {\"bgcolor\": \"white\", \"lakecolor\": \"white\", \"landcolor\": \"#E5ECF6\", \"showlakes\": true, \"showland\": true, \"subunitcolor\": \"white\"}, \"hoverlabel\": {\"align\": \"left\"}, \"hovermode\": \"closest\", \"mapbox\": {\"style\": \"light\"}, \"paper_bgcolor\": \"white\", \"plot_bgcolor\": \"#E5ECF6\", \"polar\": {\"angularaxis\": {\"gridcolor\": \"white\", \"linecolor\": \"white\", \"ticks\": \"\"}, \"bgcolor\": \"#E5ECF6\", \"radialaxis\": {\"gridcolor\": \"white\", \"linecolor\": \"white\", \"ticks\": \"\"}}, \"scene\": {\"xaxis\": {\"backgroundcolor\": \"#E5ECF6\", \"gridcolor\": \"white\", \"gridwidth\": 2, \"linecolor\": \"white\", \"showbackground\": true, \"ticks\": \"\", \"zerolinecolor\": \"white\"}, \"yaxis\": {\"backgroundcolor\": \"#E5ECF6\", \"gridcolor\": \"white\", \"gridwidth\": 2, \"linecolor\": \"white\", \"showbackground\": true, \"ticks\": \"\", \"zerolinecolor\": \"white\"}, \"zaxis\": {\"backgroundcolor\": \"#E5ECF6\", \"gridcolor\": \"white\", \"gridwidth\": 2, \"linecolor\": \"white\", \"showbackground\": true, \"ticks\": \"\", \"zerolinecolor\": \"white\"}}, \"shapedefaults\": {\"line\": {\"color\": \"#2a3f5f\"}}, \"ternary\": {\"aaxis\": {\"gridcolor\": \"white\", \"linecolor\": \"white\", \"ticks\": \"\"}, \"baxis\": {\"gridcolor\": \"white\", \"linecolor\": \"white\", \"ticks\": \"\"}, \"bgcolor\": \"#E5ECF6\", \"caxis\": {\"gridcolor\": \"white\", \"linecolor\": \"white\", \"ticks\": \"\"}}, \"title\": {\"x\": 0.05}, \"xaxis\": {\"automargin\": true, \"gridcolor\": \"white\", \"linecolor\": \"white\", \"ticks\": \"\", \"zerolinecolor\": \"white\", \"zerolinewidth\": 2}, \"yaxis\": {\"automargin\": true, \"gridcolor\": \"white\", \"linecolor\": \"white\", \"ticks\": \"\", \"zerolinecolor\": \"white\", \"zerolinewidth\": 2}}}, \"title\": {\"text\": \"Shots Made by Location\"}, \"xaxis\": {\"anchor\": \"y\", \"domain\": [0.0, 0.98], \"title\": {\"text\": \"loc_x\"}}, \"yaxis\": {\"anchor\": \"x\", \"domain\": [0.0, 1.0], \"title\": {\"text\": \"loc_y\"}}},\n",
              "                        {\"responsive\": true}\n",
              "                    ).then(function(){\n",
              "                            \n",
              "var gd = document.getElementById('f6dd6d21-55fa-45ff-9d58-c1982adae6bd');\n",
              "var x = new MutationObserver(function (mutations, observer) {{\n",
              "        var display = window.getComputedStyle(gd).display;\n",
              "        if (!display || display === 'none') {{\n",
              "            console.log([gd, 'removed!']);\n",
              "            Plotly.purge(gd);\n",
              "            observer.disconnect();\n",
              "        }}\n",
              "}});\n",
              "\n",
              "// Listen for the removal of the full notebook cells\n",
              "var notebookContainer = gd.closest('#notebook-container');\n",
              "if (notebookContainer) {{\n",
              "    x.observe(notebookContainer, {childList: true});\n",
              "}}\n",
              "\n",
              "// Listen for the clearing of the current output cell\n",
              "var outputEl = gd.closest('.output');\n",
              "if (outputEl) {{\n",
              "    x.observe(outputEl, {childList: true});\n",
              "}}\n",
              "\n",
              "                        })\n",
              "                };\n",
              "                \n",
              "            </script>\n",
              "        </div>\n",
              "</body>\n",
              "</html>"
            ]
          },
          "metadata": {
            "tags": []
          }
        }
      ]
    },
    {
      "cell_type": "code",
      "metadata": {
        "id": "eh-xZf5xIhU8",
        "colab_type": "code",
        "colab": {}
      },
      "source": [
        "#no noticeable preferred spot."
      ],
      "execution_count": 0,
      "outputs": []
    },
    {
      "cell_type": "code",
      "metadata": {
        "id": "NNqJYUtcPaPA",
        "colab_type": "code",
        "colab": {
          "base_uri": "https://localhost:8080/",
          "height": 305
        },
        "outputId": "3a50b3d4-3ee5-4e45-d8ed-26a9ee4f2f0d"
      },
      "source": [
        "train.head()"
      ],
      "execution_count": 49,
      "outputs": [
        {
          "output_type": "execute_result",
          "data": {
            "text/html": [
              "<div>\n",
              "<style scoped>\n",
              "    .dataframe tbody tr th:only-of-type {\n",
              "        vertical-align: middle;\n",
              "    }\n",
              "\n",
              "    .dataframe tbody tr th {\n",
              "        vertical-align: top;\n",
              "    }\n",
              "\n",
              "    .dataframe thead th {\n",
              "        text-align: right;\n",
              "    }\n",
              "</style>\n",
              "<table border=\"1\" class=\"dataframe\">\n",
              "  <thead>\n",
              "    <tr style=\"text-align: right;\">\n",
              "      <th></th>\n",
              "      <th>game_id</th>\n",
              "      <th>game_event_id</th>\n",
              "      <th>period</th>\n",
              "      <th>minutes_remaining</th>\n",
              "      <th>seconds_remaining</th>\n",
              "      <th>action_type</th>\n",
              "      <th>shot_type</th>\n",
              "      <th>shot_zone_basic</th>\n",
              "      <th>shot_zone_area</th>\n",
              "      <th>shot_zone_range</th>\n",
              "      <th>shot_distance</th>\n",
              "      <th>loc_x</th>\n",
              "      <th>loc_y</th>\n",
              "      <th>shot_made_flag</th>\n",
              "      <th>htm</th>\n",
              "      <th>vtm</th>\n",
              "      <th>season_type</th>\n",
              "      <th>scoremargin_before_shot</th>\n",
              "      <th>homecourt_adv</th>\n",
              "      <th>opponent</th>\n",
              "      <th>secs_in_period</th>\n",
              "      <th>secs_in_game</th>\n",
              "      <th>year_recorded</th>\n",
              "      <th>month_recorded</th>\n",
              "      <th>day_recorded</th>\n",
              "    </tr>\n",
              "  </thead>\n",
              "  <tbody>\n",
              "    <tr>\n",
              "      <th>0</th>\n",
              "      <td>20900015</td>\n",
              "      <td>4</td>\n",
              "      <td>1</td>\n",
              "      <td>11</td>\n",
              "      <td>25</td>\n",
              "      <td>Jump Shot</td>\n",
              "      <td>3PT Field Goal</td>\n",
              "      <td>Above the Break 3</td>\n",
              "      <td>Right Side Center(RC)</td>\n",
              "      <td>24+ ft.</td>\n",
              "      <td>26</td>\n",
              "      <td>99</td>\n",
              "      <td>249</td>\n",
              "      <td>0</td>\n",
              "      <td>GSW</td>\n",
              "      <td>HOU</td>\n",
              "      <td>Regular Season</td>\n",
              "      <td>2.0</td>\n",
              "      <td>1</td>\n",
              "      <td>HOU</td>\n",
              "      <td>685</td>\n",
              "      <td>2845</td>\n",
              "      <td>2009</td>\n",
              "      <td>10</td>\n",
              "      <td>28</td>\n",
              "    </tr>\n",
              "    <tr>\n",
              "      <th>1</th>\n",
              "      <td>20900015</td>\n",
              "      <td>17</td>\n",
              "      <td>1</td>\n",
              "      <td>9</td>\n",
              "      <td>31</td>\n",
              "      <td>Step Back Jump shot</td>\n",
              "      <td>2PT Field Goal</td>\n",
              "      <td>Mid-Range</td>\n",
              "      <td>Left Side Center(LC)</td>\n",
              "      <td>16-24 ft.</td>\n",
              "      <td>18</td>\n",
              "      <td>-122</td>\n",
              "      <td>145</td>\n",
              "      <td>1</td>\n",
              "      <td>GSW</td>\n",
              "      <td>HOU</td>\n",
              "      <td>Regular Season</td>\n",
              "      <td>0.0</td>\n",
              "      <td>1</td>\n",
              "      <td>HOU</td>\n",
              "      <td>571</td>\n",
              "      <td>2731</td>\n",
              "      <td>2009</td>\n",
              "      <td>10</td>\n",
              "      <td>28</td>\n",
              "    </tr>\n",
              "    <tr>\n",
              "      <th>2</th>\n",
              "      <td>20900015</td>\n",
              "      <td>53</td>\n",
              "      <td>1</td>\n",
              "      <td>6</td>\n",
              "      <td>2</td>\n",
              "      <td>Jump Shot</td>\n",
              "      <td>2PT Field Goal</td>\n",
              "      <td>In The Paint (Non-RA)</td>\n",
              "      <td>Center(C)</td>\n",
              "      <td>8-16 ft.</td>\n",
              "      <td>14</td>\n",
              "      <td>-60</td>\n",
              "      <td>129</td>\n",
              "      <td>0</td>\n",
              "      <td>GSW</td>\n",
              "      <td>HOU</td>\n",
              "      <td>Regular Season</td>\n",
              "      <td>-4.0</td>\n",
              "      <td>1</td>\n",
              "      <td>HOU</td>\n",
              "      <td>362</td>\n",
              "      <td>2522</td>\n",
              "      <td>2009</td>\n",
              "      <td>10</td>\n",
              "      <td>28</td>\n",
              "    </tr>\n",
              "    <tr>\n",
              "      <th>3</th>\n",
              "      <td>20900015</td>\n",
              "      <td>141</td>\n",
              "      <td>2</td>\n",
              "      <td>9</td>\n",
              "      <td>49</td>\n",
              "      <td>Jump Shot</td>\n",
              "      <td>2PT Field Goal</td>\n",
              "      <td>Mid-Range</td>\n",
              "      <td>Left Side(L)</td>\n",
              "      <td>16-24 ft.</td>\n",
              "      <td>19</td>\n",
              "      <td>-172</td>\n",
              "      <td>82</td>\n",
              "      <td>0</td>\n",
              "      <td>GSW</td>\n",
              "      <td>HOU</td>\n",
              "      <td>Regular Season</td>\n",
              "      <td>-4.0</td>\n",
              "      <td>1</td>\n",
              "      <td>HOU</td>\n",
              "      <td>589</td>\n",
              "      <td>2029</td>\n",
              "      <td>2009</td>\n",
              "      <td>10</td>\n",
              "      <td>28</td>\n",
              "    </tr>\n",
              "    <tr>\n",
              "      <th>4</th>\n",
              "      <td>20900015</td>\n",
              "      <td>249</td>\n",
              "      <td>2</td>\n",
              "      <td>2</td>\n",
              "      <td>19</td>\n",
              "      <td>Jump Shot</td>\n",
              "      <td>2PT Field Goal</td>\n",
              "      <td>Mid-Range</td>\n",
              "      <td>Left Side Center(LC)</td>\n",
              "      <td>16-24 ft.</td>\n",
              "      <td>16</td>\n",
              "      <td>-68</td>\n",
              "      <td>148</td>\n",
              "      <td>0</td>\n",
              "      <td>GSW</td>\n",
              "      <td>HOU</td>\n",
              "      <td>Regular Season</td>\n",
              "      <td>0.0</td>\n",
              "      <td>1</td>\n",
              "      <td>HOU</td>\n",
              "      <td>139</td>\n",
              "      <td>1579</td>\n",
              "      <td>2009</td>\n",
              "      <td>10</td>\n",
              "      <td>28</td>\n",
              "    </tr>\n",
              "  </tbody>\n",
              "</table>\n",
              "</div>"
            ],
            "text/plain": [
              "    game_id  game_event_id  period  ...  year_recorded  month_recorded day_recorded\n",
              "0  20900015              4       1  ...           2009              10           28\n",
              "1  20900015             17       1  ...           2009              10           28\n",
              "2  20900015             53       1  ...           2009              10           28\n",
              "3  20900015            141       2  ...           2009              10           28\n",
              "4  20900015            249       2  ...           2009              10           28\n",
              "\n",
              "[5 rows x 25 columns]"
            ]
          },
          "metadata": {
            "tags": []
          },
          "execution_count": 49
        }
      ]
    },
    {
      "cell_type": "code",
      "metadata": {
        "id": "thu9gcwOPNhB",
        "colab_type": "code",
        "colab": {
          "base_uri": "https://localhost:8080/",
          "height": 1000
        },
        "outputId": "49642834-b99b-45d7-e63c-1ee586694c30"
      },
      "source": [
        "pd.crosstab(train['action_type'], train['shot_made_flag'],normalize=True,margins=True)\n"
      ],
      "execution_count": 53,
      "outputs": [
        {
          "output_type": "execute_result",
          "data": {
            "text/html": [
              "<div>\n",
              "<style scoped>\n",
              "    .dataframe tbody tr th:only-of-type {\n",
              "        vertical-align: middle;\n",
              "    }\n",
              "\n",
              "    .dataframe tbody tr th {\n",
              "        vertical-align: top;\n",
              "    }\n",
              "\n",
              "    .dataframe thead th {\n",
              "        text-align: right;\n",
              "    }\n",
              "</style>\n",
              "<table border=\"1\" class=\"dataframe\">\n",
              "  <thead>\n",
              "    <tr style=\"text-align: right;\">\n",
              "      <th>shot_made_flag</th>\n",
              "      <th>0</th>\n",
              "      <th>1</th>\n",
              "      <th>All</th>\n",
              "    </tr>\n",
              "    <tr>\n",
              "      <th>action_type</th>\n",
              "      <th></th>\n",
              "      <th></th>\n",
              "      <th></th>\n",
              "    </tr>\n",
              "  </thead>\n",
              "  <tbody>\n",
              "    <tr>\n",
              "      <th>Alley Oop Layup shot</th>\n",
              "      <td>0.000000</td>\n",
              "      <td>0.000090</td>\n",
              "      <td>0.000090</td>\n",
              "    </tr>\n",
              "    <tr>\n",
              "      <th>Cutting Finger Roll Layup Shot</th>\n",
              "      <td>0.000271</td>\n",
              "      <td>0.001715</td>\n",
              "      <td>0.001985</td>\n",
              "    </tr>\n",
              "    <tr>\n",
              "      <th>Cutting Layup Shot</th>\n",
              "      <td>0.000902</td>\n",
              "      <td>0.005234</td>\n",
              "      <td>0.006137</td>\n",
              "    </tr>\n",
              "    <tr>\n",
              "      <th>Driving Bank Hook Shot</th>\n",
              "      <td>0.000000</td>\n",
              "      <td>0.000090</td>\n",
              "      <td>0.000090</td>\n",
              "    </tr>\n",
              "    <tr>\n",
              "      <th>Driving Bank shot</th>\n",
              "      <td>0.000993</td>\n",
              "      <td>0.003068</td>\n",
              "      <td>0.004061</td>\n",
              "    </tr>\n",
              "    <tr>\n",
              "      <th>Driving Dunk Shot</th>\n",
              "      <td>0.000090</td>\n",
              "      <td>0.000541</td>\n",
              "      <td>0.000632</td>\n",
              "    </tr>\n",
              "    <tr>\n",
              "      <th>Driving Finger Roll Layup Shot</th>\n",
              "      <td>0.004873</td>\n",
              "      <td>0.021117</td>\n",
              "      <td>0.025990</td>\n",
              "    </tr>\n",
              "    <tr>\n",
              "      <th>Driving Floating Bank Jump Shot</th>\n",
              "      <td>0.000271</td>\n",
              "      <td>0.001173</td>\n",
              "      <td>0.001444</td>\n",
              "    </tr>\n",
              "    <tr>\n",
              "      <th>Driving Floating Jump Shot</th>\n",
              "      <td>0.001895</td>\n",
              "      <td>0.002617</td>\n",
              "      <td>0.004512</td>\n",
              "    </tr>\n",
              "    <tr>\n",
              "      <th>Driving Hook Shot</th>\n",
              "      <td>0.000361</td>\n",
              "      <td>0.000271</td>\n",
              "      <td>0.000632</td>\n",
              "    </tr>\n",
              "    <tr>\n",
              "      <th>Driving Jump shot</th>\n",
              "      <td>0.002076</td>\n",
              "      <td>0.001173</td>\n",
              "      <td>0.003249</td>\n",
              "    </tr>\n",
              "    <tr>\n",
              "      <th>Driving Layup Shot</th>\n",
              "      <td>0.015522</td>\n",
              "      <td>0.039076</td>\n",
              "      <td>0.054598</td>\n",
              "    </tr>\n",
              "    <tr>\n",
              "      <th>Driving Reverse Layup Shot</th>\n",
              "      <td>0.002437</td>\n",
              "      <td>0.011371</td>\n",
              "      <td>0.013807</td>\n",
              "    </tr>\n",
              "    <tr>\n",
              "      <th>Driving Slam Dunk Shot</th>\n",
              "      <td>0.000000</td>\n",
              "      <td>0.000180</td>\n",
              "      <td>0.000180</td>\n",
              "    </tr>\n",
              "    <tr>\n",
              "      <th>Dunk Shot</th>\n",
              "      <td>0.000090</td>\n",
              "      <td>0.000541</td>\n",
              "      <td>0.000632</td>\n",
              "    </tr>\n",
              "    <tr>\n",
              "      <th>Fadeaway Bank shot</th>\n",
              "      <td>0.000271</td>\n",
              "      <td>0.000271</td>\n",
              "      <td>0.000541</td>\n",
              "    </tr>\n",
              "    <tr>\n",
              "      <th>Fadeaway Jump Shot</th>\n",
              "      <td>0.003068</td>\n",
              "      <td>0.004693</td>\n",
              "      <td>0.007761</td>\n",
              "    </tr>\n",
              "    <tr>\n",
              "      <th>Finger Roll Layup Shot</th>\n",
              "      <td>0.000993</td>\n",
              "      <td>0.002527</td>\n",
              "      <td>0.003520</td>\n",
              "    </tr>\n",
              "    <tr>\n",
              "      <th>Floating Jump shot</th>\n",
              "      <td>0.018681</td>\n",
              "      <td>0.018771</td>\n",
              "      <td>0.037451</td>\n",
              "    </tr>\n",
              "    <tr>\n",
              "      <th>Hook Bank Shot</th>\n",
              "      <td>0.000000</td>\n",
              "      <td>0.000090</td>\n",
              "      <td>0.000090</td>\n",
              "    </tr>\n",
              "    <tr>\n",
              "      <th>Hook Shot</th>\n",
              "      <td>0.000541</td>\n",
              "      <td>0.000000</td>\n",
              "      <td>0.000541</td>\n",
              "    </tr>\n",
              "    <tr>\n",
              "      <th>Jump Bank Shot</th>\n",
              "      <td>0.003971</td>\n",
              "      <td>0.006407</td>\n",
              "      <td>0.010378</td>\n",
              "    </tr>\n",
              "    <tr>\n",
              "      <th>Jump Hook Shot</th>\n",
              "      <td>0.000180</td>\n",
              "      <td>0.000000</td>\n",
              "      <td>0.000180</td>\n",
              "    </tr>\n",
              "    <tr>\n",
              "      <th>Jump Shot</th>\n",
              "      <td>0.330927</td>\n",
              "      <td>0.154138</td>\n",
              "      <td>0.485065</td>\n",
              "    </tr>\n",
              "    <tr>\n",
              "      <th>Layup Shot</th>\n",
              "      <td>0.031766</td>\n",
              "      <td>0.014259</td>\n",
              "      <td>0.046025</td>\n",
              "    </tr>\n",
              "    <tr>\n",
              "      <th>No Shot</th>\n",
              "      <td>0.000271</td>\n",
              "      <td>0.000271</td>\n",
              "      <td>0.000541</td>\n",
              "    </tr>\n",
              "    <tr>\n",
              "      <th>Pullup Bank shot</th>\n",
              "      <td>0.000451</td>\n",
              "      <td>0.001534</td>\n",
              "      <td>0.001985</td>\n",
              "    </tr>\n",
              "    <tr>\n",
              "      <th>Pullup Jump shot</th>\n",
              "      <td>0.054959</td>\n",
              "      <td>0.097915</td>\n",
              "      <td>0.152874</td>\n",
              "    </tr>\n",
              "    <tr>\n",
              "      <th>Putback Layup Shot</th>\n",
              "      <td>0.000271</td>\n",
              "      <td>0.000632</td>\n",
              "      <td>0.000902</td>\n",
              "    </tr>\n",
              "    <tr>\n",
              "      <th>Reverse Layup Shot</th>\n",
              "      <td>0.003068</td>\n",
              "      <td>0.006137</td>\n",
              "      <td>0.009205</td>\n",
              "    </tr>\n",
              "    <tr>\n",
              "      <th>Running Bank Hook Shot</th>\n",
              "      <td>0.000000</td>\n",
              "      <td>0.000090</td>\n",
              "      <td>0.000090</td>\n",
              "    </tr>\n",
              "    <tr>\n",
              "      <th>Running Bank shot</th>\n",
              "      <td>0.001354</td>\n",
              "      <td>0.005415</td>\n",
              "      <td>0.006768</td>\n",
              "    </tr>\n",
              "    <tr>\n",
              "      <th>Running Dunk Shot</th>\n",
              "      <td>0.000090</td>\n",
              "      <td>0.000451</td>\n",
              "      <td>0.000541</td>\n",
              "    </tr>\n",
              "    <tr>\n",
              "      <th>Running Finger Roll Layup Shot</th>\n",
              "      <td>0.000541</td>\n",
              "      <td>0.003068</td>\n",
              "      <td>0.003610</td>\n",
              "    </tr>\n",
              "    <tr>\n",
              "      <th>Running Hook Shot</th>\n",
              "      <td>0.000180</td>\n",
              "      <td>0.000722</td>\n",
              "      <td>0.000902</td>\n",
              "    </tr>\n",
              "    <tr>\n",
              "      <th>Running Jump Shot</th>\n",
              "      <td>0.008844</td>\n",
              "      <td>0.010739</td>\n",
              "      <td>0.019583</td>\n",
              "    </tr>\n",
              "    <tr>\n",
              "      <th>Running Layup Shot</th>\n",
              "      <td>0.003610</td>\n",
              "      <td>0.006859</td>\n",
              "      <td>0.010468</td>\n",
              "    </tr>\n",
              "    <tr>\n",
              "      <th>Running Pull-Up Jump Shot</th>\n",
              "      <td>0.000902</td>\n",
              "      <td>0.000541</td>\n",
              "      <td>0.001444</td>\n",
              "    </tr>\n",
              "    <tr>\n",
              "      <th>Running Reverse Layup Shot</th>\n",
              "      <td>0.000722</td>\n",
              "      <td>0.001985</td>\n",
              "      <td>0.002707</td>\n",
              "    </tr>\n",
              "    <tr>\n",
              "      <th>Running Slam Dunk Shot</th>\n",
              "      <td>0.000000</td>\n",
              "      <td>0.000090</td>\n",
              "      <td>0.000090</td>\n",
              "    </tr>\n",
              "    <tr>\n",
              "      <th>Slam Dunk Shot</th>\n",
              "      <td>0.000000</td>\n",
              "      <td>0.000632</td>\n",
              "      <td>0.000632</td>\n",
              "    </tr>\n",
              "    <tr>\n",
              "      <th>Step Back Bank Jump Shot</th>\n",
              "      <td>0.000090</td>\n",
              "      <td>0.000180</td>\n",
              "      <td>0.000271</td>\n",
              "    </tr>\n",
              "    <tr>\n",
              "      <th>Step Back Jump shot</th>\n",
              "      <td>0.024907</td>\n",
              "      <td>0.039617</td>\n",
              "      <td>0.064525</td>\n",
              "    </tr>\n",
              "    <tr>\n",
              "      <th>Tip Layup Shot</th>\n",
              "      <td>0.000361</td>\n",
              "      <td>0.000090</td>\n",
              "      <td>0.000451</td>\n",
              "    </tr>\n",
              "    <tr>\n",
              "      <th>Tip Shot</th>\n",
              "      <td>0.000271</td>\n",
              "      <td>0.000361</td>\n",
              "      <td>0.000632</td>\n",
              "    </tr>\n",
              "    <tr>\n",
              "      <th>Turnaround Bank Hook Shot</th>\n",
              "      <td>0.000090</td>\n",
              "      <td>0.000000</td>\n",
              "      <td>0.000090</td>\n",
              "    </tr>\n",
              "    <tr>\n",
              "      <th>Turnaround Bank shot</th>\n",
              "      <td>0.000722</td>\n",
              "      <td>0.001354</td>\n",
              "      <td>0.002076</td>\n",
              "    </tr>\n",
              "    <tr>\n",
              "      <th>Turnaround Fadeaway Bank Jump Shot</th>\n",
              "      <td>0.000000</td>\n",
              "      <td>0.000090</td>\n",
              "      <td>0.000090</td>\n",
              "    </tr>\n",
              "    <tr>\n",
              "      <th>Turnaround Fadeaway shot</th>\n",
              "      <td>0.001263</td>\n",
              "      <td>0.000632</td>\n",
              "      <td>0.001895</td>\n",
              "    </tr>\n",
              "    <tr>\n",
              "      <th>Turnaround Hook Shot</th>\n",
              "      <td>0.000090</td>\n",
              "      <td>0.000090</td>\n",
              "      <td>0.000180</td>\n",
              "    </tr>\n",
              "    <tr>\n",
              "      <th>Turnaround Jump Shot</th>\n",
              "      <td>0.003971</td>\n",
              "      <td>0.003881</td>\n",
              "      <td>0.007851</td>\n",
              "    </tr>\n",
              "    <tr>\n",
              "      <th>All</th>\n",
              "      <td>0.527209</td>\n",
              "      <td>0.472791</td>\n",
              "      <td>1.000000</td>\n",
              "    </tr>\n",
              "  </tbody>\n",
              "</table>\n",
              "</div>"
            ],
            "text/plain": [
              "shot_made_flag                             0         1       All\n",
              "action_type                                                     \n",
              "Alley Oop Layup shot                0.000000  0.000090  0.000090\n",
              "Cutting Finger Roll Layup Shot      0.000271  0.001715  0.001985\n",
              "Cutting Layup Shot                  0.000902  0.005234  0.006137\n",
              "Driving Bank Hook Shot              0.000000  0.000090  0.000090\n",
              "Driving Bank shot                   0.000993  0.003068  0.004061\n",
              "Driving Dunk Shot                   0.000090  0.000541  0.000632\n",
              "Driving Finger Roll Layup Shot      0.004873  0.021117  0.025990\n",
              "Driving Floating Bank Jump Shot     0.000271  0.001173  0.001444\n",
              "Driving Floating Jump Shot          0.001895  0.002617  0.004512\n",
              "Driving Hook Shot                   0.000361  0.000271  0.000632\n",
              "Driving Jump shot                   0.002076  0.001173  0.003249\n",
              "Driving Layup Shot                  0.015522  0.039076  0.054598\n",
              "Driving Reverse Layup Shot          0.002437  0.011371  0.013807\n",
              "Driving Slam Dunk Shot              0.000000  0.000180  0.000180\n",
              "Dunk Shot                           0.000090  0.000541  0.000632\n",
              "Fadeaway Bank shot                  0.000271  0.000271  0.000541\n",
              "Fadeaway Jump Shot                  0.003068  0.004693  0.007761\n",
              "Finger Roll Layup Shot              0.000993  0.002527  0.003520\n",
              "Floating Jump shot                  0.018681  0.018771  0.037451\n",
              "Hook Bank Shot                      0.000000  0.000090  0.000090\n",
              "Hook Shot                           0.000541  0.000000  0.000541\n",
              "Jump Bank Shot                      0.003971  0.006407  0.010378\n",
              "Jump Hook Shot                      0.000180  0.000000  0.000180\n",
              "Jump Shot                           0.330927  0.154138  0.485065\n",
              "Layup Shot                          0.031766  0.014259  0.046025\n",
              "No Shot                             0.000271  0.000271  0.000541\n",
              "Pullup Bank shot                    0.000451  0.001534  0.001985\n",
              "Pullup Jump shot                    0.054959  0.097915  0.152874\n",
              "Putback Layup Shot                  0.000271  0.000632  0.000902\n",
              "Reverse Layup Shot                  0.003068  0.006137  0.009205\n",
              "Running Bank Hook Shot              0.000000  0.000090  0.000090\n",
              "Running Bank shot                   0.001354  0.005415  0.006768\n",
              "Running Dunk Shot                   0.000090  0.000451  0.000541\n",
              "Running Finger Roll Layup Shot      0.000541  0.003068  0.003610\n",
              "Running Hook Shot                   0.000180  0.000722  0.000902\n",
              "Running Jump Shot                   0.008844  0.010739  0.019583\n",
              "Running Layup Shot                  0.003610  0.006859  0.010468\n",
              "Running Pull-Up Jump Shot           0.000902  0.000541  0.001444\n",
              "Running Reverse Layup Shot          0.000722  0.001985  0.002707\n",
              "Running Slam Dunk Shot              0.000000  0.000090  0.000090\n",
              "Slam Dunk Shot                      0.000000  0.000632  0.000632\n",
              "Step Back Bank Jump Shot            0.000090  0.000180  0.000271\n",
              "Step Back Jump shot                 0.024907  0.039617  0.064525\n",
              "Tip Layup Shot                      0.000361  0.000090  0.000451\n",
              "Tip Shot                            0.000271  0.000361  0.000632\n",
              "Turnaround Bank Hook Shot           0.000090  0.000000  0.000090\n",
              "Turnaround Bank shot                0.000722  0.001354  0.002076\n",
              "Turnaround Fadeaway Bank Jump Shot  0.000000  0.000090  0.000090\n",
              "Turnaround Fadeaway shot            0.001263  0.000632  0.001895\n",
              "Turnaround Hook Shot                0.000090  0.000090  0.000180\n",
              "Turnaround Jump Shot                0.003971  0.003881  0.007851\n",
              "All                                 0.527209  0.472791  1.000000"
            ]
          },
          "metadata": {
            "tags": []
          },
          "execution_count": 53
        }
      ]
    },
    {
      "cell_type": "code",
      "metadata": {
        "id": "OJ_ZNdp0GIUC",
        "colab_type": "code",
        "colab": {
          "base_uri": "https://localhost:8080/",
          "height": 52
        },
        "outputId": "31c0c808-fd71-480e-88cf-d3c575e3804c"
      },
      "source": [
        "#changing encoding\n",
        "# Make pipeline!\n",
        "pipeline = make_pipeline(\n",
        "    ce.OrdinalEncoder(), \n",
        "    RandomForestClassifier(n_estimators=100, random_state=32, n_jobs=-1)\n",
        ")\n",
        "\n",
        "# Fit on train, score on val\n",
        "pipeline.fit(X_train, y_train)\n",
        "y_pred = pipeline.predict(X_val)\n",
        "print('Validation Accuracy', accuracy_score(y_val, y_pred))\n",
        "print ('Improvement vs Baseline', accuracy_score(y_val, y_pred)-baseline)"
      ],
      "execution_count": 34,
      "outputs": [
        {
          "output_type": "stream",
          "text": [
            "Validation Accuracy 0.6001712328767124\n",
            "Improvement vs Baseline 0.0025684931506849695\n"
          ],
          "name": "stdout"
        }
      ]
    },
    {
      "cell_type": "code",
      "metadata": {
        "id": "gB1GIqTYMHzs",
        "colab_type": "code",
        "colab": {}
      },
      "source": [
        "#New Baseline\n",
        "baseline=0.6001712328767124"
      ],
      "execution_count": 0,
      "outputs": []
    },
    {
      "cell_type": "code",
      "metadata": {
        "id": "QaV0Qj1kElxi",
        "colab_type": "code",
        "colab": {
          "base_uri": "https://localhost:8080/",
          "height": 230
        },
        "outputId": "fc5fbc1f-4373-4112-943b-6ddcfd61f508"
      },
      "source": [
        "#Optimize 3+ hyperparameters by trying 10+ \"candidates\" (possible combinations of hyperparameters). You can use RandomizedSearchCV or do it manually\n",
        "pipeline = make_pipeline(\n",
        "    ce.OrdinalEncoder(), \n",
        "    RandomForestClassifier(random_state=32)\n",
        ")\n",
        "\n",
        "param_distributions = {\n",
        "    'randomforestclassifier__min_samples_leaf': randint(1, 5),\n",
        "    'randomforestclassifier__n_estimators': randint(30, 500), \n",
        "    'randomforestclassifier__max_depth': [ 10, 20,30,40,50,60, None], \n",
        "    'randomforestclassifier__max_features': uniform(0, 1), \n",
        "}\n",
        "\n",
        "search = RandomizedSearchCV(\n",
        "    pipeline, \n",
        "    param_distributions=param_distributions, \n",
        "    n_iter=10, \n",
        "    cv=3, \n",
        "    scoring='accuracy', \n",
        "    verbose=10, \n",
        "    return_train_score=True, \n",
        "    n_jobs=-1\n",
        ")\n",
        "\n",
        "search.fit(X_train, y_train);"
      ],
      "execution_count": 38,
      "outputs": [
        {
          "output_type": "stream",
          "text": [
            "Fitting 3 folds for each of 10 candidates, totalling 30 fits\n"
          ],
          "name": "stdout"
        },
        {
          "output_type": "stream",
          "text": [
            "[Parallel(n_jobs=-1)]: Using backend LokyBackend with 2 concurrent workers.\n",
            "[Parallel(n_jobs=-1)]: Done   1 tasks      | elapsed:   11.9s\n",
            "[Parallel(n_jobs=-1)]: Done   4 tasks      | elapsed:   16.8s\n",
            "[Parallel(n_jobs=-1)]: Done   9 tasks      | elapsed:   28.5s\n",
            "[Parallel(n_jobs=-1)]: Done  14 tasks      | elapsed:   50.4s\n",
            "/usr/local/lib/python3.6/dist-packages/joblib/externals/loky/process_executor.py:706: UserWarning:\n",
            "\n",
            "A worker stopped while some jobs were given to the executor. This can be caused by a too short worker timeout or by a memory leak.\n",
            "\n",
            "[Parallel(n_jobs=-1)]: Done  21 tasks      | elapsed:  1.2min\n",
            "[Parallel(n_jobs=-1)]: Done  30 out of  30 | elapsed:  2.4min finished\n"
          ],
          "name": "stderr"
        }
      ]
    },
    {
      "cell_type": "code",
      "metadata": {
        "id": "OPlYzlwaJ7M6",
        "colab_type": "code",
        "colab": {
          "base_uri": "https://localhost:8080/",
          "height": 72
        },
        "outputId": "35e0ae35-5c15-4fda-d534-45d4425ecbb6"
      },
      "source": [
        "print('Best hyperparameters', search.best_params_)\n",
        "print('Cross-validation Accuracy', -search.best_score_)"
      ],
      "execution_count": 39,
      "outputs": [
        {
          "output_type": "stream",
          "text": [
            "Best hyperparameters {'randomforestclassifier__max_depth': 10, 'randomforestclassifier__max_features': 0.6088939595613413, 'randomforestclassifier__min_samples_leaf': 3, 'randomforestclassifier__n_estimators': 174}\n",
            "Cross-validation Accuracy -0.6179045212525945\n"
          ],
          "name": "stdout"
        }
      ]
    },
    {
      "cell_type": "code",
      "metadata": {
        "id": "N53GEkOfL4Hl",
        "colab_type": "code",
        "colab": {
          "base_uri": "https://localhost:8080/",
          "height": 52
        },
        "outputId": "9fafc9fc-63bb-4021-8f80-101dc6f63068"
      },
      "source": [
        "# Make pipeline!\n",
        "pipeline = make_pipeline(\n",
        "    ce.OneHotEncoder(use_cat_names=True), \n",
        "    RandomForestClassifier(n_estimators=174,\n",
        "                           max_depth=10,\n",
        "                           max_features= 0.6088939595613413,\n",
        "                           min_samples_leaf= 3,\n",
        "                           random_state=32, n_jobs=-1)\n",
        ")\n",
        "\n",
        "# Fit on train, score on val\n",
        "pipeline.fit(X_train, y_train)\n",
        "y_pred = pipeline.predict(X_val)\n",
        "print('Validation Accuracy', accuracy_score(y_val, y_pred))\n",
        "print ('Improvement vs Baseline', accuracy_score(y_val, y_pred)-baseline)"
      ],
      "execution_count": 44,
      "outputs": [
        {
          "output_type": "stream",
          "text": [
            "Validation Accuracy 0.6147260273972602\n",
            "Improvement vs Baseline 0.0\n"
          ],
          "name": "stdout"
        }
      ]
    },
    {
      "cell_type": "code",
      "metadata": {
        "id": "vLwaXdC7NmzI",
        "colab_type": "code",
        "colab": {}
      },
      "source": [
        "#new baseline\n",
        "baseline=0.6147260273972602"
      ],
      "execution_count": 0,
      "outputs": []
    },
    {
      "cell_type": "code",
      "metadata": {
        "id": "aA2oDwHbN0dV",
        "colab_type": "code",
        "colab": {
          "base_uri": "https://localhost:8080/",
          "height": 607
        },
        "outputId": "afa0c631-2059-4986-9b0a-685c6992466b"
      },
      "source": [
        "#Get and plot your model's feature importances.\n",
        "\n",
        "rf = pipeline.named_steps['randomforestclassifier']\n",
        "encoder = pipeline.named_steps['onehotencoder']\n",
        "encoded = encoder.transform(X_train)\n",
        "\n",
        "importances = pd.Series(rf.feature_importances_, encoded.columns)\n",
        "\n",
        "\n",
        "n = 20\n",
        "plt.figure(figsize=(10, 10))\n",
        "plt.title('Feature Importance')\n",
        "importances.sort_values()[-n:].plot.barh(color='grey');\n"
      ],
      "execution_count": 47,
      "outputs": [
        {
          "output_type": "display_data",
          "data": {
            "image/png": "[encoded data removed]",
            "text/plain": [
              "<Figure size 720x720 with 1 Axes>"
            ]
          },
          "metadata": {
            "tags": []
          }
        }
      ]
    },
    {
      "cell_type": "markdown",
      "metadata": {
        "colab_type": "text",
        "id": "YvyYY9tfy_CL"
      },
      "source": [
        "## 7. Get your model's test accuracy\n",
        "\n",
        "> (One time, at the end.)"
      ]
    },
    {
      "cell_type": "code",
      "metadata": {
        "colab_type": "code",
        "id": "wjV2dfl6y_CL",
        "colab": {
          "base_uri": "https://localhost:8080/",
          "height": 52
        },
        "outputId": "91851f25-bfb7-4807-863d-6d7e4ddbcb71"
      },
      "source": [
        "y_pred = pipeline.predict(X_test)\n",
        "print('Validation Accuracy', accuracy_score(y_test, y_pred))\n",
        "print ('Improvement vs Validation', accuracy_score(y_test, y_pred)-baseline)"
      ],
      "execution_count": 48,
      "outputs": [
        {
          "output_type": "stream",
          "text": [
            "Validation Accuracy 0.620245757753072\n",
            "Improvement vs Validation 0.005519730355811769\n"
          ],
          "name": "stdout"
        }
      ]
    },
    {
      "cell_type": "markdown",
      "metadata": {
        "id": "xGL5stLvJCn1",
        "colab_type": "text"
      },
      "source": [
        "## 8. Given a confusion matrix, calculate accuracy, precision, and recall.\n",
        "\n",
        "Imagine this is the confusion matrix for a binary classification model. Use the confusion matrix to calculate the model's accuracy, precision, and recall.\n",
        "\n",
        "<table>\n",
        "  <tr>\n",
        "    <td colspan=\"2\" rowspan=\"2\"></td>\n",
        "    <td colspan=\"2\">Predicted</td>\n",
        "  </tr>\n",
        "  <tr>\n",
        "    <td>Negative</td>\n",
        "    <td>Positive</td>\n",
        "  </tr>\n",
        "  <tr>\n",
        "    <td rowspan=\"2\">Actual</td>\n",
        "    <td>Negative</td>\n",
        "    <td style=\"border: solid\">85</td>\n",
        "    <td style=\"border: solid\">58</td>\n",
        "  </tr>\n",
        "  <tr>\n",
        "    <td>Positive</td>\n",
        "    <td style=\"border: solid\">8</td>\n",
        "    <td style=\"border: solid\"> 36</td>\n",
        "  </tr>\n",
        "</table>"
      ]
    },
    {
      "cell_type": "markdown",
      "metadata": {
        "id": "nEvt7NkUJNao",
        "colab_type": "text"
      },
      "source": [
        "### Calculate accuracy "
      ]
    },
    {
      "cell_type": "code",
      "metadata": {
        "id": "FFszS2A5JJmv",
        "colab_type": "code",
        "colab": {
          "base_uri": "https://localhost:8080/",
          "height": 35
        },
        "outputId": "0a78f3b2-a196-429c-90c9-283da60ca73e"
      },
      "source": [
        "Correct_Predictions=85+36\n",
        "Total_Predictions=85+58+8+36\n",
        "accuracy = Correct_Predictions / Total_Predictions\n",
        "print(accuracy)"
      ],
      "execution_count": 24,
      "outputs": [
        {
          "output_type": "stream",
          "text": [
            "0.6470588235294118\n"
          ],
          "name": "stdout"
        }
      ]
    },
    {
      "cell_type": "markdown",
      "metadata": {
        "id": "XjHTmk8sJO4v",
        "colab_type": "text"
      },
      "source": [
        "### Calculate precision"
      ]
    },
    {
      "cell_type": "code",
      "metadata": {
        "id": "7qX1gbcMJQS_",
        "colab_type": "code",
        "colab": {
          "base_uri": "https://localhost:8080/",
          "height": 35
        },
        "outputId": "da998d8a-9574-4514-93f9-b3130608796b"
      },
      "source": [
        "#Precision for positives\n",
        "true_positives=36\n",
        "selected_items=58+36\n",
        "precision = true_positives/selected_items\n",
        "print(precision)"
      ],
      "execution_count": 25,
      "outputs": [
        {
          "output_type": "stream",
          "text": [
            "0.3829787234042553\n"
          ],
          "name": "stdout"
        }
      ]
    },
    {
      "cell_type": "markdown",
      "metadata": {
        "id": "pFug3ZKaJQ7A",
        "colab_type": "text"
      },
      "source": [
        "### Calculate recall"
      ]
    },
    {
      "cell_type": "code",
      "metadata": {
        "id": "L0OKc3JxJR4r",
        "colab_type": "code",
        "colab": {
          "base_uri": "https://localhost:8080/",
          "height": 35
        },
        "outputId": "6e9240bd-4cd9-4a7f-aaa2-4374bcbd8398"
      },
      "source": [
        "relevant_elements=36+8\n",
        "recall= true_positives/relevant_elements\n",
        "print(recall)"
      ],
      "execution_count": 26,
      "outputs": [
        {
          "output_type": "stream",
          "text": [
            "0.8181818181818182\n"
          ],
          "name": "stdout"
        }
      ]
    },
    {
      "cell_type": "markdown",
      "metadata": {
        "id": "hOWTPCFbz_uh",
        "colab_type": "text"
      },
      "source": [
        "### Stretch Goals\n",
        "- Engineer 4+ new features total, either from the list above, or your own ideas.\n",
        "- Make 2+ visualizations to explore relationships between features and target.\n",
        "- Optimize 3+ hyperparameters by trying 10+ \"candidates\" (possible combinations of hyperparameters). You can use `RandomizedSearchCV` or do it manually.\n",
        "- Get and plot your model's feature importances.\n"
      ]
    }
  ]
}